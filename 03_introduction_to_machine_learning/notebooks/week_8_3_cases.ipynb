{
 "cells": [
  {
   "cell_type": "markdown",
   "metadata": {},
   "source": [
    "# **Machine Learning Week 8 - Cases**\n",
    "---\n",
    "> Introduction to Machine Learning <br>\n",
    "> Sekolah Data, Pacmann"
   ]
  },
  {
   "cell_type": "markdown",
   "metadata": {},
   "source": [
    "# GOAL\n",
    "\n",
    "- Kita ingin clusterkan data client bank\n",
    "- Harapannya dapat **memahami karakter client bank** yang ada terhadap **campaign** yang dilakukan"
   ]
  },
  {
   "cell_type": "markdown",
   "metadata": {},
   "source": [
    "---\n",
    "# Dataset Information"
   ]
  },
  {
   "cell_type": "markdown",
   "metadata": {},
   "source": [
    "- The data is related with direct marketing campaigns of a Portuguese banking institution. \n",
    "- The marketing campaigns were based on phone calls. Often, more than one contact to the same client was required, on order to access if the product (bank term deposit) would be (or not) subscribed. \n",
    "- Dataset `bank.csv` ordered by date (from May 2008 to November 2010). \n",
    "- The **exercise goal** is to discover interesting things about the measurement."
   ]
  },
  {
   "cell_type": "markdown",
   "metadata": {},
   "source": [
    "**Variables**\n",
    "\n",
    "<u>Numeric</u>\n",
    "- `age`\n",
    "- `balance`: average yearly balance, in euros\n",
    "- `duration`: last coontact duration, in seconds\n",
    "- `campaign`: number of contacts performed during this campaign and for this client (numeric, includes last contact)\n",
    "- `pdays`: number of days that passed by after the client was last contacted from a previous campaign (numeric, -1 means client was not previously contacted)\n",
    "- `previous`: number of contacts performed before this campaign and for this client\n",
    "\n",
    "<u>Categoric</u>\n",
    "- `job` : type of job (categorical) \n",
    "- `marital` : marital status (categorical)\n",
    "- `education` (categorical)\n",
    "- `default`: has credit in default? (binary: \"yes\",\"no\")\n",
    "- `housing`: has housing loan? (binary: \"yes\",\"no\")\n",
    "- `loan`: has personal loan? (binary: \"yes\",\"no\")\n",
    "- `contact`: contact communication type (categorical) \n",
    "- `day`: last contact day of the month \n",
    "- `month`: last contact month of year (categorical)\n",
    "- `poutcome`: outcome of the previous marketing campaign (categorical)"
   ]
  },
  {
   "cell_type": "markdown",
   "metadata": {},
   "source": [
    "Source :  S. Moro, R. Laureano and P. Cortez. Using Data Mining for Bank Direct Marketing: An Application of the CRISP-DM Methodology. <br>\n",
    "  In P. Novais et al. (Eds.), Proceedings of the European Simulation and Modelling Conference - ESM'2011, pp. 117-121, Guimarães, Portugal, October, 2011. EUROSIS."
   ]
  },
  {
   "cell_type": "markdown",
   "metadata": {},
   "source": [
    "---\n",
    "# Import Data"
   ]
  },
  {
   "cell_type": "code",
   "execution_count": 1,
   "metadata": {},
   "outputs": [],
   "source": [
    "import numpy as np\n",
    "import pandas as pd"
   ]
  },
  {
   "cell_type": "code",
   "execution_count": 2,
   "metadata": {},
   "outputs": [],
   "source": [
    "def importData(path, col_to_drop):\n",
    "    # Read Data\n",
    "    data = pd.read_csv(path)\n",
    "    print(f\"Data awal                  : {data.shape}, (#observasi, #fitur)\")\n",
    "\n",
    "    # Drop kolom\n",
    "    data = data.drop(columns = col_to_drop)\n",
    "    print(f\"Data setelah drop kolom    : {data.shape}, (#observasi, #fitur)\")\n",
    "\n",
    "    # Drop duplikat\n",
    "    print(f\"Ada {data.duplicated().sum()} data duplikat\")\n",
    "    data = data.drop_duplicates()\n",
    "    print(f\"Data setelah drop duplikat : {data.shape}, (#observasi, #fitur)\")\n",
    "\n",
    "    return data\n"
   ]
  },
  {
   "cell_type": "code",
   "execution_count": 3,
   "metadata": {},
   "outputs": [
    {
     "name": "stdout",
     "output_type": "stream",
     "text": [
      "Data awal                  : (45211, 17), (#observasi, #fitur)\n",
      "Data setelah drop kolom    : (45211, 16), (#observasi, #fitur)\n",
      "Ada 0 data duplikat\n",
      "Data setelah drop duplikat : (45211, 16), (#observasi, #fitur)\n"
     ]
    }
   ],
   "source": [
    "filepath = \"dataset/w8-2-bank.csv\"\n",
    "col_to_drop = \"Unnamed: 0\"\n",
    "\n",
    "data = importData(path = filepath,\n",
    "                  col_to_drop = col_to_drop)"
   ]
  },
  {
   "cell_type": "code",
   "execution_count": 4,
   "metadata": {},
   "outputs": [
    {
     "data": {
      "text/html": [
       "<div>\n",
       "<style scoped>\n",
       "    .dataframe tbody tr th:only-of-type {\n",
       "        vertical-align: middle;\n",
       "    }\n",
       "\n",
       "    .dataframe tbody tr th {\n",
       "        vertical-align: top;\n",
       "    }\n",
       "\n",
       "    .dataframe thead th {\n",
       "        text-align: right;\n",
       "    }\n",
       "</style>\n",
       "<table border=\"1\" class=\"dataframe\">\n",
       "  <thead>\n",
       "    <tr style=\"text-align: right;\">\n",
       "      <th></th>\n",
       "      <th>age</th>\n",
       "      <th>job</th>\n",
       "      <th>marital</th>\n",
       "      <th>education</th>\n",
       "      <th>default</th>\n",
       "      <th>balance</th>\n",
       "      <th>housing</th>\n",
       "      <th>loan</th>\n",
       "      <th>contact</th>\n",
       "      <th>day</th>\n",
       "      <th>month</th>\n",
       "      <th>duration</th>\n",
       "      <th>campaign</th>\n",
       "      <th>pdays</th>\n",
       "      <th>previous</th>\n",
       "      <th>poutcome</th>\n",
       "    </tr>\n",
       "  </thead>\n",
       "  <tbody>\n",
       "    <tr>\n",
       "      <th>0</th>\n",
       "      <td>58</td>\n",
       "      <td>management</td>\n",
       "      <td>married</td>\n",
       "      <td>tertiary</td>\n",
       "      <td>no</td>\n",
       "      <td>2143</td>\n",
       "      <td>yes</td>\n",
       "      <td>no</td>\n",
       "      <td>unknown</td>\n",
       "      <td>5</td>\n",
       "      <td>may</td>\n",
       "      <td>261</td>\n",
       "      <td>1</td>\n",
       "      <td>-1</td>\n",
       "      <td>0</td>\n",
       "      <td>unknown</td>\n",
       "    </tr>\n",
       "    <tr>\n",
       "      <th>1</th>\n",
       "      <td>44</td>\n",
       "      <td>technician</td>\n",
       "      <td>single</td>\n",
       "      <td>secondary</td>\n",
       "      <td>no</td>\n",
       "      <td>29</td>\n",
       "      <td>yes</td>\n",
       "      <td>no</td>\n",
       "      <td>unknown</td>\n",
       "      <td>5</td>\n",
       "      <td>may</td>\n",
       "      <td>151</td>\n",
       "      <td>1</td>\n",
       "      <td>-1</td>\n",
       "      <td>0</td>\n",
       "      <td>unknown</td>\n",
       "    </tr>\n",
       "    <tr>\n",
       "      <th>2</th>\n",
       "      <td>33</td>\n",
       "      <td>entrepreneur</td>\n",
       "      <td>married</td>\n",
       "      <td>secondary</td>\n",
       "      <td>no</td>\n",
       "      <td>2</td>\n",
       "      <td>yes</td>\n",
       "      <td>yes</td>\n",
       "      <td>unknown</td>\n",
       "      <td>5</td>\n",
       "      <td>may</td>\n",
       "      <td>76</td>\n",
       "      <td>1</td>\n",
       "      <td>-1</td>\n",
       "      <td>0</td>\n",
       "      <td>unknown</td>\n",
       "    </tr>\n",
       "    <tr>\n",
       "      <th>3</th>\n",
       "      <td>47</td>\n",
       "      <td>blue-collar</td>\n",
       "      <td>married</td>\n",
       "      <td>unknown</td>\n",
       "      <td>no</td>\n",
       "      <td>1506</td>\n",
       "      <td>yes</td>\n",
       "      <td>no</td>\n",
       "      <td>unknown</td>\n",
       "      <td>5</td>\n",
       "      <td>may</td>\n",
       "      <td>92</td>\n",
       "      <td>1</td>\n",
       "      <td>-1</td>\n",
       "      <td>0</td>\n",
       "      <td>unknown</td>\n",
       "    </tr>\n",
       "    <tr>\n",
       "      <th>4</th>\n",
       "      <td>33</td>\n",
       "      <td>unknown</td>\n",
       "      <td>single</td>\n",
       "      <td>unknown</td>\n",
       "      <td>no</td>\n",
       "      <td>1</td>\n",
       "      <td>no</td>\n",
       "      <td>no</td>\n",
       "      <td>unknown</td>\n",
       "      <td>5</td>\n",
       "      <td>may</td>\n",
       "      <td>198</td>\n",
       "      <td>1</td>\n",
       "      <td>-1</td>\n",
       "      <td>0</td>\n",
       "      <td>unknown</td>\n",
       "    </tr>\n",
       "  </tbody>\n",
       "</table>\n",
       "</div>"
      ],
      "text/plain": [
       "   age           job  marital  education default  balance housing loan  \\\n",
       "0   58    management  married   tertiary      no     2143     yes   no   \n",
       "1   44    technician   single  secondary      no       29     yes   no   \n",
       "2   33  entrepreneur  married  secondary      no        2     yes  yes   \n",
       "3   47   blue-collar  married    unknown      no     1506     yes   no   \n",
       "4   33       unknown   single    unknown      no        1      no   no   \n",
       "\n",
       "   contact  day month  duration  campaign  pdays  previous poutcome  \n",
       "0  unknown    5   may       261         1     -1         0  unknown  \n",
       "1  unknown    5   may       151         1     -1         0  unknown  \n",
       "2  unknown    5   may        76         1     -1         0  unknown  \n",
       "3  unknown    5   may        92         1     -1         0  unknown  \n",
       "4  unknown    5   may       198         1     -1         0  unknown  "
      ]
     },
     "execution_count": 4,
     "metadata": {},
     "output_type": "execute_result"
    }
   ],
   "source": [
    "data.head()"
   ]
  },
  {
   "cell_type": "markdown",
   "metadata": {},
   "source": [
    "---\n",
    "# Data Preprocessing"
   ]
  },
  {
   "cell_type": "markdown",
   "metadata": {},
   "source": [
    "## Train-Test Split\n",
    "\n",
    "- Kita tidak pisahkan input-output, karena akan menganalisa struktur data"
   ]
  },
  {
   "cell_type": "code",
   "execution_count": 5,
   "metadata": {},
   "outputs": [],
   "source": [
    "from sklearn.model_selection import train_test_split"
   ]
  },
  {
   "cell_type": "code",
   "execution_count": 6,
   "metadata": {},
   "outputs": [],
   "source": [
    "data_train, data_test = train_test_split(data,\n",
    "                                         test_size = 0.25,\n",
    "                                         random_state = 123)"
   ]
  },
  {
   "cell_type": "code",
   "execution_count": 7,
   "metadata": {},
   "outputs": [
    {
     "name": "stdout",
     "output_type": "stream",
     "text": [
      "(33908, 16)\n",
      "(11303, 16)\n"
     ]
    }
   ],
   "source": [
    "print(data_train.shape)\n",
    "print(data_test.shape)"
   ]
  },
  {
   "cell_type": "code",
   "execution_count": 8,
   "metadata": {},
   "outputs": [
    {
     "data": {
      "text/html": [
       "<div>\n",
       "<style scoped>\n",
       "    .dataframe tbody tr th:only-of-type {\n",
       "        vertical-align: middle;\n",
       "    }\n",
       "\n",
       "    .dataframe tbody tr th {\n",
       "        vertical-align: top;\n",
       "    }\n",
       "\n",
       "    .dataframe thead th {\n",
       "        text-align: right;\n",
       "    }\n",
       "</style>\n",
       "<table border=\"1\" class=\"dataframe\">\n",
       "  <thead>\n",
       "    <tr style=\"text-align: right;\">\n",
       "      <th></th>\n",
       "      <th>age</th>\n",
       "      <th>job</th>\n",
       "      <th>marital</th>\n",
       "      <th>education</th>\n",
       "      <th>default</th>\n",
       "      <th>balance</th>\n",
       "      <th>housing</th>\n",
       "      <th>loan</th>\n",
       "      <th>contact</th>\n",
       "      <th>day</th>\n",
       "      <th>month</th>\n",
       "      <th>duration</th>\n",
       "      <th>campaign</th>\n",
       "      <th>pdays</th>\n",
       "      <th>previous</th>\n",
       "      <th>poutcome</th>\n",
       "    </tr>\n",
       "  </thead>\n",
       "  <tbody>\n",
       "    <tr>\n",
       "      <th>26999</th>\n",
       "      <td>32</td>\n",
       "      <td>unemployed</td>\n",
       "      <td>single</td>\n",
       "      <td>secondary</td>\n",
       "      <td>no</td>\n",
       "      <td>2706</td>\n",
       "      <td>no</td>\n",
       "      <td>no</td>\n",
       "      <td>cellular</td>\n",
       "      <td>21</td>\n",
       "      <td>nov</td>\n",
       "      <td>462</td>\n",
       "      <td>3</td>\n",
       "      <td>-1</td>\n",
       "      <td>0</td>\n",
       "      <td>unknown</td>\n",
       "    </tr>\n",
       "    <tr>\n",
       "      <th>16168</th>\n",
       "      <td>37</td>\n",
       "      <td>admin.</td>\n",
       "      <td>married</td>\n",
       "      <td>secondary</td>\n",
       "      <td>no</td>\n",
       "      <td>1396</td>\n",
       "      <td>yes</td>\n",
       "      <td>no</td>\n",
       "      <td>cellular</td>\n",
       "      <td>22</td>\n",
       "      <td>jul</td>\n",
       "      <td>199</td>\n",
       "      <td>2</td>\n",
       "      <td>-1</td>\n",
       "      <td>0</td>\n",
       "      <td>unknown</td>\n",
       "    </tr>\n",
       "    <tr>\n",
       "      <th>12338</th>\n",
       "      <td>22</td>\n",
       "      <td>blue-collar</td>\n",
       "      <td>married</td>\n",
       "      <td>secondary</td>\n",
       "      <td>no</td>\n",
       "      <td>-295</td>\n",
       "      <td>yes</td>\n",
       "      <td>no</td>\n",
       "      <td>unknown</td>\n",
       "      <td>26</td>\n",
       "      <td>jun</td>\n",
       "      <td>150</td>\n",
       "      <td>2</td>\n",
       "      <td>-1</td>\n",
       "      <td>0</td>\n",
       "      <td>unknown</td>\n",
       "    </tr>\n",
       "    <tr>\n",
       "      <th>6074</th>\n",
       "      <td>36</td>\n",
       "      <td>blue-collar</td>\n",
       "      <td>married</td>\n",
       "      <td>secondary</td>\n",
       "      <td>no</td>\n",
       "      <td>-870</td>\n",
       "      <td>yes</td>\n",
       "      <td>no</td>\n",
       "      <td>unknown</td>\n",
       "      <td>26</td>\n",
       "      <td>may</td>\n",
       "      <td>102</td>\n",
       "      <td>2</td>\n",
       "      <td>-1</td>\n",
       "      <td>0</td>\n",
       "      <td>unknown</td>\n",
       "    </tr>\n",
       "    <tr>\n",
       "      <th>7385</th>\n",
       "      <td>50</td>\n",
       "      <td>admin.</td>\n",
       "      <td>married</td>\n",
       "      <td>primary</td>\n",
       "      <td>no</td>\n",
       "      <td>429</td>\n",
       "      <td>no</td>\n",
       "      <td>no</td>\n",
       "      <td>unknown</td>\n",
       "      <td>29</td>\n",
       "      <td>may</td>\n",
       "      <td>60</td>\n",
       "      <td>2</td>\n",
       "      <td>-1</td>\n",
       "      <td>0</td>\n",
       "      <td>unknown</td>\n",
       "    </tr>\n",
       "  </tbody>\n",
       "</table>\n",
       "</div>"
      ],
      "text/plain": [
       "       age          job  marital  education default  balance housing loan  \\\n",
       "26999   32   unemployed   single  secondary      no     2706      no   no   \n",
       "16168   37       admin.  married  secondary      no     1396     yes   no   \n",
       "12338   22  blue-collar  married  secondary      no     -295     yes   no   \n",
       "6074    36  blue-collar  married  secondary      no     -870     yes   no   \n",
       "7385    50       admin.  married    primary      no      429      no   no   \n",
       "\n",
       "        contact  day month  duration  campaign  pdays  previous poutcome  \n",
       "26999  cellular   21   nov       462         3     -1         0  unknown  \n",
       "16168  cellular   22   jul       199         2     -1         0  unknown  \n",
       "12338   unknown   26   jun       150         2     -1         0  unknown  \n",
       "6074    unknown   26   may       102         2     -1         0  unknown  \n",
       "7385    unknown   29   may        60         2     -1         0  unknown  "
      ]
     },
     "execution_count": 8,
     "metadata": {},
     "output_type": "execute_result"
    }
   ],
   "source": [
    "data_train.head()"
   ]
  },
  {
   "cell_type": "code",
   "execution_count": 9,
   "metadata": {},
   "outputs": [
    {
     "data": {
      "text/html": [
       "<div>\n",
       "<style scoped>\n",
       "    .dataframe tbody tr th:only-of-type {\n",
       "        vertical-align: middle;\n",
       "    }\n",
       "\n",
       "    .dataframe tbody tr th {\n",
       "        vertical-align: top;\n",
       "    }\n",
       "\n",
       "    .dataframe thead th {\n",
       "        text-align: right;\n",
       "    }\n",
       "</style>\n",
       "<table border=\"1\" class=\"dataframe\">\n",
       "  <thead>\n",
       "    <tr style=\"text-align: right;\">\n",
       "      <th></th>\n",
       "      <th>age</th>\n",
       "      <th>job</th>\n",
       "      <th>marital</th>\n",
       "      <th>education</th>\n",
       "      <th>default</th>\n",
       "      <th>balance</th>\n",
       "      <th>housing</th>\n",
       "      <th>loan</th>\n",
       "      <th>contact</th>\n",
       "      <th>day</th>\n",
       "      <th>month</th>\n",
       "      <th>duration</th>\n",
       "      <th>campaign</th>\n",
       "      <th>pdays</th>\n",
       "      <th>previous</th>\n",
       "      <th>poutcome</th>\n",
       "    </tr>\n",
       "  </thead>\n",
       "  <tbody>\n",
       "    <tr>\n",
       "      <th>7281</th>\n",
       "      <td>56</td>\n",
       "      <td>technician</td>\n",
       "      <td>married</td>\n",
       "      <td>secondary</td>\n",
       "      <td>no</td>\n",
       "      <td>589</td>\n",
       "      <td>yes</td>\n",
       "      <td>no</td>\n",
       "      <td>unknown</td>\n",
       "      <td>29</td>\n",
       "      <td>may</td>\n",
       "      <td>535</td>\n",
       "      <td>2</td>\n",
       "      <td>-1</td>\n",
       "      <td>0</td>\n",
       "      <td>unknown</td>\n",
       "    </tr>\n",
       "    <tr>\n",
       "      <th>19469</th>\n",
       "      <td>37</td>\n",
       "      <td>management</td>\n",
       "      <td>married</td>\n",
       "      <td>tertiary</td>\n",
       "      <td>no</td>\n",
       "      <td>649</td>\n",
       "      <td>no</td>\n",
       "      <td>no</td>\n",
       "      <td>cellular</td>\n",
       "      <td>7</td>\n",
       "      <td>aug</td>\n",
       "      <td>64</td>\n",
       "      <td>2</td>\n",
       "      <td>-1</td>\n",
       "      <td>0</td>\n",
       "      <td>unknown</td>\n",
       "    </tr>\n",
       "    <tr>\n",
       "      <th>31637</th>\n",
       "      <td>27</td>\n",
       "      <td>unemployed</td>\n",
       "      <td>single</td>\n",
       "      <td>secondary</td>\n",
       "      <td>no</td>\n",
       "      <td>1972</td>\n",
       "      <td>no</td>\n",
       "      <td>no</td>\n",
       "      <td>cellular</td>\n",
       "      <td>6</td>\n",
       "      <td>apr</td>\n",
       "      <td>97</td>\n",
       "      <td>1</td>\n",
       "      <td>-1</td>\n",
       "      <td>0</td>\n",
       "      <td>unknown</td>\n",
       "    </tr>\n",
       "    <tr>\n",
       "      <th>22484</th>\n",
       "      <td>43</td>\n",
       "      <td>management</td>\n",
       "      <td>married</td>\n",
       "      <td>tertiary</td>\n",
       "      <td>no</td>\n",
       "      <td>1</td>\n",
       "      <td>no</td>\n",
       "      <td>no</td>\n",
       "      <td>cellular</td>\n",
       "      <td>22</td>\n",
       "      <td>aug</td>\n",
       "      <td>239</td>\n",
       "      <td>4</td>\n",
       "      <td>-1</td>\n",
       "      <td>0</td>\n",
       "      <td>unknown</td>\n",
       "    </tr>\n",
       "    <tr>\n",
       "      <th>35919</th>\n",
       "      <td>58</td>\n",
       "      <td>retired</td>\n",
       "      <td>divorced</td>\n",
       "      <td>secondary</td>\n",
       "      <td>no</td>\n",
       "      <td>-808</td>\n",
       "      <td>yes</td>\n",
       "      <td>no</td>\n",
       "      <td>cellular</td>\n",
       "      <td>8</td>\n",
       "      <td>may</td>\n",
       "      <td>75</td>\n",
       "      <td>4</td>\n",
       "      <td>-1</td>\n",
       "      <td>0</td>\n",
       "      <td>unknown</td>\n",
       "    </tr>\n",
       "  </tbody>\n",
       "</table>\n",
       "</div>"
      ],
      "text/plain": [
       "       age         job   marital  education default  balance housing loan  \\\n",
       "7281    56  technician   married  secondary      no      589     yes   no   \n",
       "19469   37  management   married   tertiary      no      649      no   no   \n",
       "31637   27  unemployed    single  secondary      no     1972      no   no   \n",
       "22484   43  management   married   tertiary      no        1      no   no   \n",
       "35919   58     retired  divorced  secondary      no     -808     yes   no   \n",
       "\n",
       "        contact  day month  duration  campaign  pdays  previous poutcome  \n",
       "7281    unknown   29   may       535         2     -1         0  unknown  \n",
       "19469  cellular    7   aug        64         2     -1         0  unknown  \n",
       "31637  cellular    6   apr        97         1     -1         0  unknown  \n",
       "22484  cellular   22   aug       239         4     -1         0  unknown  \n",
       "35919  cellular    8   may        75         4     -1         0  unknown  "
      ]
     },
     "execution_count": 9,
     "metadata": {},
     "output_type": "execute_result"
    }
   ],
   "source": [
    "data_test.head()"
   ]
  },
  {
   "cell_type": "markdown",
   "metadata": {},
   "source": [
    "## Numerical & Categorical Split"
   ]
  },
  {
   "cell_type": "markdown",
   "metadata": {},
   "source": [
    "- Cek unique value untuk setiap kolom"
   ]
  },
  {
   "cell_type": "code",
   "execution_count": 10,
   "metadata": {},
   "outputs": [
    {
     "name": "stdout",
     "output_type": "stream",
     "text": [
      "col: age, #unique: 76\n",
      "col: job, #unique: 12\n",
      "col: marital, #unique: 3\n",
      "col: education, #unique: 4\n",
      "col: default, #unique: 2\n",
      "col: balance, #unique: 6464\n",
      "col: housing, #unique: 2\n",
      "col: loan, #unique: 2\n",
      "col: contact, #unique: 3\n",
      "col: day, #unique: 31\n",
      "col: month, #unique: 12\n",
      "col: duration, #unique: 1481\n",
      "col: campaign, #unique: 45\n",
      "col: pdays, #unique: 521\n",
      "col: previous, #unique: 37\n",
      "col: poutcome, #unique: 4\n"
     ]
    }
   ],
   "source": [
    "for col in data_train.columns:\n",
    "    print(f\"col: {col}, #unique: {len(data_train[col].unique())}\")"
   ]
  },
  {
   "cell_type": "markdown",
   "metadata": {},
   "source": [
    "- Kita anggap `day` dan `month` sebagai numerik dalam latihan ini\n",
    "- karena jumlah unique valuenya besar."
   ]
  },
  {
   "cell_type": "code",
   "execution_count": 11,
   "metadata": {},
   "outputs": [
    {
     "name": "stdout",
     "output_type": "stream",
     "text": [
      "['age', 'day', 'month', 'balance', 'duration', 'campaign', 'pdays', 'previous']\n",
      "['education', 'loan', 'contact', 'marital', 'poutcome', 'default', 'job', 'housing']\n"
     ]
    }
   ],
   "source": [
    "num_col = [\"age\", \"day\", \"month\", \"balance\", \n",
    "           \"duration\", \"campaign\", \"pdays\", \"previous\"]\n",
    "cat_col = list(set(data_train.columns) - set(num_col))\n",
    "\n",
    "print(num_col)\n",
    "print(cat_col)"
   ]
  },
  {
   "cell_type": "code",
   "execution_count": 12,
   "metadata": {},
   "outputs": [],
   "source": [
    "def splitNumCat(data, num_col, cat_col):\n",
    "    data_num = data[num_col]\n",
    "    data_cat = data[cat_col]\n",
    "\n",
    "    return data_num, data_cat\n"
   ]
  },
  {
   "cell_type": "code",
   "execution_count": 13,
   "metadata": {},
   "outputs": [],
   "source": [
    "data_train_num, data_train_cat = splitNumCat(data = data_train,\n",
    "                                             num_col = num_col,\n",
    "                                             cat_col = cat_col)"
   ]
  },
  {
   "cell_type": "code",
   "execution_count": 14,
   "metadata": {},
   "outputs": [
    {
     "data": {
      "text/html": [
       "<div>\n",
       "<style scoped>\n",
       "    .dataframe tbody tr th:only-of-type {\n",
       "        vertical-align: middle;\n",
       "    }\n",
       "\n",
       "    .dataframe tbody tr th {\n",
       "        vertical-align: top;\n",
       "    }\n",
       "\n",
       "    .dataframe thead th {\n",
       "        text-align: right;\n",
       "    }\n",
       "</style>\n",
       "<table border=\"1\" class=\"dataframe\">\n",
       "  <thead>\n",
       "    <tr style=\"text-align: right;\">\n",
       "      <th></th>\n",
       "      <th>age</th>\n",
       "      <th>day</th>\n",
       "      <th>month</th>\n",
       "      <th>balance</th>\n",
       "      <th>duration</th>\n",
       "      <th>campaign</th>\n",
       "      <th>pdays</th>\n",
       "      <th>previous</th>\n",
       "    </tr>\n",
       "  </thead>\n",
       "  <tbody>\n",
       "    <tr>\n",
       "      <th>26999</th>\n",
       "      <td>32</td>\n",
       "      <td>21</td>\n",
       "      <td>nov</td>\n",
       "      <td>2706</td>\n",
       "      <td>462</td>\n",
       "      <td>3</td>\n",
       "      <td>-1</td>\n",
       "      <td>0</td>\n",
       "    </tr>\n",
       "    <tr>\n",
       "      <th>16168</th>\n",
       "      <td>37</td>\n",
       "      <td>22</td>\n",
       "      <td>jul</td>\n",
       "      <td>1396</td>\n",
       "      <td>199</td>\n",
       "      <td>2</td>\n",
       "      <td>-1</td>\n",
       "      <td>0</td>\n",
       "    </tr>\n",
       "    <tr>\n",
       "      <th>12338</th>\n",
       "      <td>22</td>\n",
       "      <td>26</td>\n",
       "      <td>jun</td>\n",
       "      <td>-295</td>\n",
       "      <td>150</td>\n",
       "      <td>2</td>\n",
       "      <td>-1</td>\n",
       "      <td>0</td>\n",
       "    </tr>\n",
       "    <tr>\n",
       "      <th>6074</th>\n",
       "      <td>36</td>\n",
       "      <td>26</td>\n",
       "      <td>may</td>\n",
       "      <td>-870</td>\n",
       "      <td>102</td>\n",
       "      <td>2</td>\n",
       "      <td>-1</td>\n",
       "      <td>0</td>\n",
       "    </tr>\n",
       "    <tr>\n",
       "      <th>7385</th>\n",
       "      <td>50</td>\n",
       "      <td>29</td>\n",
       "      <td>may</td>\n",
       "      <td>429</td>\n",
       "      <td>60</td>\n",
       "      <td>2</td>\n",
       "      <td>-1</td>\n",
       "      <td>0</td>\n",
       "    </tr>\n",
       "  </tbody>\n",
       "</table>\n",
       "</div>"
      ],
      "text/plain": [
       "       age  day month  balance  duration  campaign  pdays  previous\n",
       "26999   32   21   nov     2706       462         3     -1         0\n",
       "16168   37   22   jul     1396       199         2     -1         0\n",
       "12338   22   26   jun     -295       150         2     -1         0\n",
       "6074    36   26   may     -870       102         2     -1         0\n",
       "7385    50   29   may      429        60         2     -1         0"
      ]
     },
     "execution_count": 14,
     "metadata": {},
     "output_type": "execute_result"
    }
   ],
   "source": [
    "data_train_num.head()"
   ]
  },
  {
   "cell_type": "markdown",
   "metadata": {},
   "source": [
    "- fitur `month` perlu di-transform jadi angka"
   ]
  },
  {
   "cell_type": "code",
   "execution_count": 15,
   "metadata": {},
   "outputs": [
    {
     "data": {
      "text/html": [
       "<div>\n",
       "<style scoped>\n",
       "    .dataframe tbody tr th:only-of-type {\n",
       "        vertical-align: middle;\n",
       "    }\n",
       "\n",
       "    .dataframe tbody tr th {\n",
       "        vertical-align: top;\n",
       "    }\n",
       "\n",
       "    .dataframe thead th {\n",
       "        text-align: right;\n",
       "    }\n",
       "</style>\n",
       "<table border=\"1\" class=\"dataframe\">\n",
       "  <thead>\n",
       "    <tr style=\"text-align: right;\">\n",
       "      <th></th>\n",
       "      <th>education</th>\n",
       "      <th>loan</th>\n",
       "      <th>contact</th>\n",
       "      <th>marital</th>\n",
       "      <th>poutcome</th>\n",
       "      <th>default</th>\n",
       "      <th>job</th>\n",
       "      <th>housing</th>\n",
       "    </tr>\n",
       "  </thead>\n",
       "  <tbody>\n",
       "    <tr>\n",
       "      <th>26999</th>\n",
       "      <td>secondary</td>\n",
       "      <td>no</td>\n",
       "      <td>cellular</td>\n",
       "      <td>single</td>\n",
       "      <td>unknown</td>\n",
       "      <td>no</td>\n",
       "      <td>unemployed</td>\n",
       "      <td>no</td>\n",
       "    </tr>\n",
       "    <tr>\n",
       "      <th>16168</th>\n",
       "      <td>secondary</td>\n",
       "      <td>no</td>\n",
       "      <td>cellular</td>\n",
       "      <td>married</td>\n",
       "      <td>unknown</td>\n",
       "      <td>no</td>\n",
       "      <td>admin.</td>\n",
       "      <td>yes</td>\n",
       "    </tr>\n",
       "    <tr>\n",
       "      <th>12338</th>\n",
       "      <td>secondary</td>\n",
       "      <td>no</td>\n",
       "      <td>unknown</td>\n",
       "      <td>married</td>\n",
       "      <td>unknown</td>\n",
       "      <td>no</td>\n",
       "      <td>blue-collar</td>\n",
       "      <td>yes</td>\n",
       "    </tr>\n",
       "    <tr>\n",
       "      <th>6074</th>\n",
       "      <td>secondary</td>\n",
       "      <td>no</td>\n",
       "      <td>unknown</td>\n",
       "      <td>married</td>\n",
       "      <td>unknown</td>\n",
       "      <td>no</td>\n",
       "      <td>blue-collar</td>\n",
       "      <td>yes</td>\n",
       "    </tr>\n",
       "    <tr>\n",
       "      <th>7385</th>\n",
       "      <td>primary</td>\n",
       "      <td>no</td>\n",
       "      <td>unknown</td>\n",
       "      <td>married</td>\n",
       "      <td>unknown</td>\n",
       "      <td>no</td>\n",
       "      <td>admin.</td>\n",
       "      <td>no</td>\n",
       "    </tr>\n",
       "  </tbody>\n",
       "</table>\n",
       "</div>"
      ],
      "text/plain": [
       "       education loan   contact  marital poutcome default          job housing\n",
       "26999  secondary   no  cellular   single  unknown      no   unemployed      no\n",
       "16168  secondary   no  cellular  married  unknown      no       admin.     yes\n",
       "12338  secondary   no   unknown  married  unknown      no  blue-collar     yes\n",
       "6074   secondary   no   unknown  married  unknown      no  blue-collar     yes\n",
       "7385     primary   no   unknown  married  unknown      no       admin.      no"
      ]
     },
     "execution_count": 15,
     "metadata": {},
     "output_type": "execute_result"
    }
   ],
   "source": [
    "data_train_cat.head()"
   ]
  },
  {
   "cell_type": "markdown",
   "metadata": {},
   "source": [
    "## Handling Data - Impute & Standardize"
   ]
  },
  {
   "cell_type": "markdown",
   "metadata": {},
   "source": [
    "**Transform** - fitur `month`"
   ]
  },
  {
   "cell_type": "code",
   "execution_count": 16,
   "metadata": {},
   "outputs": [],
   "source": [
    "def transformMonth(data):\n",
    "    month_list = [\"jan\", \"feb\", \"mar\", \"apr\", \"may\", \"jun\",\n",
    "                  \"jul\", \"aug\", \"sep\", \"oct\", \"nov\", \"dec\"]\n",
    "    number_list = [i+1 for i in range(len(month_list))]\n",
    "\n",
    "    data[\"month\"] = data[\"month\"].replace(month_list, number_list)\n",
    "\n",
    "    return data\n"
   ]
  },
  {
   "cell_type": "code",
   "execution_count": 17,
   "metadata": {},
   "outputs": [
    {
     "name": "stderr",
     "output_type": "stream",
     "text": [
      "C:\\Users\\farha\\AppData\\Local\\Temp\\ipykernel_13884\\3308027142.py:6: FutureWarning: Downcasting behavior in `replace` is deprecated and will be removed in a future version. To retain the old behavior, explicitly call `result.infer_objects(copy=False)`. To opt-in to the future behavior, set `pd.set_option('future.no_silent_downcasting', True)`\n",
      "  data[\"month\"] = data[\"month\"].replace(month_list, number_list)\n",
      "C:\\Users\\farha\\AppData\\Local\\Temp\\ipykernel_13884\\3308027142.py:6: SettingWithCopyWarning: \n",
      "A value is trying to be set on a copy of a slice from a DataFrame.\n",
      "Try using .loc[row_indexer,col_indexer] = value instead\n",
      "\n",
      "See the caveats in the documentation: https://pandas.pydata.org/pandas-docs/stable/user_guide/indexing.html#returning-a-view-versus-a-copy\n",
      "  data[\"month\"] = data[\"month\"].replace(month_list, number_list)\n"
     ]
    }
   ],
   "source": [
    "data_train_num = transformMonth(data = data_train_num)"
   ]
  },
  {
   "cell_type": "code",
   "execution_count": 18,
   "metadata": {},
   "outputs": [
    {
     "data": {
      "text/html": [
       "<div>\n",
       "<style scoped>\n",
       "    .dataframe tbody tr th:only-of-type {\n",
       "        vertical-align: middle;\n",
       "    }\n",
       "\n",
       "    .dataframe tbody tr th {\n",
       "        vertical-align: top;\n",
       "    }\n",
       "\n",
       "    .dataframe thead th {\n",
       "        text-align: right;\n",
       "    }\n",
       "</style>\n",
       "<table border=\"1\" class=\"dataframe\">\n",
       "  <thead>\n",
       "    <tr style=\"text-align: right;\">\n",
       "      <th></th>\n",
       "      <th>age</th>\n",
       "      <th>day</th>\n",
       "      <th>month</th>\n",
       "      <th>balance</th>\n",
       "      <th>duration</th>\n",
       "      <th>campaign</th>\n",
       "      <th>pdays</th>\n",
       "      <th>previous</th>\n",
       "    </tr>\n",
       "  </thead>\n",
       "  <tbody>\n",
       "    <tr>\n",
       "      <th>26999</th>\n",
       "      <td>32</td>\n",
       "      <td>21</td>\n",
       "      <td>11</td>\n",
       "      <td>2706</td>\n",
       "      <td>462</td>\n",
       "      <td>3</td>\n",
       "      <td>-1</td>\n",
       "      <td>0</td>\n",
       "    </tr>\n",
       "    <tr>\n",
       "      <th>16168</th>\n",
       "      <td>37</td>\n",
       "      <td>22</td>\n",
       "      <td>7</td>\n",
       "      <td>1396</td>\n",
       "      <td>199</td>\n",
       "      <td>2</td>\n",
       "      <td>-1</td>\n",
       "      <td>0</td>\n",
       "    </tr>\n",
       "    <tr>\n",
       "      <th>12338</th>\n",
       "      <td>22</td>\n",
       "      <td>26</td>\n",
       "      <td>6</td>\n",
       "      <td>-295</td>\n",
       "      <td>150</td>\n",
       "      <td>2</td>\n",
       "      <td>-1</td>\n",
       "      <td>0</td>\n",
       "    </tr>\n",
       "    <tr>\n",
       "      <th>6074</th>\n",
       "      <td>36</td>\n",
       "      <td>26</td>\n",
       "      <td>5</td>\n",
       "      <td>-870</td>\n",
       "      <td>102</td>\n",
       "      <td>2</td>\n",
       "      <td>-1</td>\n",
       "      <td>0</td>\n",
       "    </tr>\n",
       "    <tr>\n",
       "      <th>7385</th>\n",
       "      <td>50</td>\n",
       "      <td>29</td>\n",
       "      <td>5</td>\n",
       "      <td>429</td>\n",
       "      <td>60</td>\n",
       "      <td>2</td>\n",
       "      <td>-1</td>\n",
       "      <td>0</td>\n",
       "    </tr>\n",
       "  </tbody>\n",
       "</table>\n",
       "</div>"
      ],
      "text/plain": [
       "       age  day  month  balance  duration  campaign  pdays  previous\n",
       "26999   32   21     11     2706       462         3     -1         0\n",
       "16168   37   22      7     1396       199         2     -1         0\n",
       "12338   22   26      6     -295       150         2     -1         0\n",
       "6074    36   26      5     -870       102         2     -1         0\n",
       "7385    50   29      5      429        60         2     -1         0"
      ]
     },
     "execution_count": 18,
     "metadata": {},
     "output_type": "execute_result"
    }
   ],
   "source": [
    "data_train_num.head()"
   ]
  },
  {
   "cell_type": "markdown",
   "metadata": {},
   "source": [
    "**Missing Values** - Numerical"
   ]
  },
  {
   "cell_type": "code",
   "execution_count": 19,
   "metadata": {},
   "outputs": [
    {
     "data": {
      "text/plain": [
       "age         False\n",
       "day         False\n",
       "month       False\n",
       "balance     False\n",
       "duration    False\n",
       "campaign    False\n",
       "pdays       False\n",
       "previous    False\n",
       "dtype: bool"
      ]
     },
     "execution_count": 19,
     "metadata": {},
     "output_type": "execute_result"
    }
   ],
   "source": [
    "# Cek missing value\n",
    "data_train_num.isna().any()"
   ]
  },
  {
   "cell_type": "code",
   "execution_count": 20,
   "metadata": {},
   "outputs": [],
   "source": [
    "# Buat imputer, kalau-kalau ada yang butuh di data test\n",
    "from sklearn.impute import SimpleImputer\n",
    "\n",
    "def imputerNumeric(data, imputer = None):\n",
    "    if imputer == None:\n",
    "        # Buat imputer\n",
    "        imputer = SimpleImputer(missing_values = np.nan,\n",
    "                                strategy = \"median\")\n",
    "        imputer.fit(data)\n",
    "\n",
    "    # Transform data\n",
    "    data_imputed = imputer.transform(data)\n",
    "    data_imputed = pd.DataFrame(data = data_imputed,\n",
    "                                columns = data.columns,\n",
    "                                index = data.index)\n",
    "    \n",
    "    return data_imputed, imputer\n"
   ]
  },
  {
   "cell_type": "code",
   "execution_count": 21,
   "metadata": {},
   "outputs": [],
   "source": [
    "data_train_num_imputed, num_imputer = imputerNumeric(data = data_train_num)"
   ]
  },
  {
   "cell_type": "code",
   "execution_count": 22,
   "metadata": {},
   "outputs": [
    {
     "data": {
      "text/html": [
       "<div>\n",
       "<style scoped>\n",
       "    .dataframe tbody tr th:only-of-type {\n",
       "        vertical-align: middle;\n",
       "    }\n",
       "\n",
       "    .dataframe tbody tr th {\n",
       "        vertical-align: top;\n",
       "    }\n",
       "\n",
       "    .dataframe thead th {\n",
       "        text-align: right;\n",
       "    }\n",
       "</style>\n",
       "<table border=\"1\" class=\"dataframe\">\n",
       "  <thead>\n",
       "    <tr style=\"text-align: right;\">\n",
       "      <th></th>\n",
       "      <th>age</th>\n",
       "      <th>day</th>\n",
       "      <th>month</th>\n",
       "      <th>balance</th>\n",
       "      <th>duration</th>\n",
       "      <th>campaign</th>\n",
       "      <th>pdays</th>\n",
       "      <th>previous</th>\n",
       "    </tr>\n",
       "  </thead>\n",
       "  <tbody>\n",
       "    <tr>\n",
       "      <th>26999</th>\n",
       "      <td>32.0</td>\n",
       "      <td>21.0</td>\n",
       "      <td>11.0</td>\n",
       "      <td>2706.0</td>\n",
       "      <td>462.0</td>\n",
       "      <td>3.0</td>\n",
       "      <td>-1.0</td>\n",
       "      <td>0.0</td>\n",
       "    </tr>\n",
       "    <tr>\n",
       "      <th>16168</th>\n",
       "      <td>37.0</td>\n",
       "      <td>22.0</td>\n",
       "      <td>7.0</td>\n",
       "      <td>1396.0</td>\n",
       "      <td>199.0</td>\n",
       "      <td>2.0</td>\n",
       "      <td>-1.0</td>\n",
       "      <td>0.0</td>\n",
       "    </tr>\n",
       "    <tr>\n",
       "      <th>12338</th>\n",
       "      <td>22.0</td>\n",
       "      <td>26.0</td>\n",
       "      <td>6.0</td>\n",
       "      <td>-295.0</td>\n",
       "      <td>150.0</td>\n",
       "      <td>2.0</td>\n",
       "      <td>-1.0</td>\n",
       "      <td>0.0</td>\n",
       "    </tr>\n",
       "    <tr>\n",
       "      <th>6074</th>\n",
       "      <td>36.0</td>\n",
       "      <td>26.0</td>\n",
       "      <td>5.0</td>\n",
       "      <td>-870.0</td>\n",
       "      <td>102.0</td>\n",
       "      <td>2.0</td>\n",
       "      <td>-1.0</td>\n",
       "      <td>0.0</td>\n",
       "    </tr>\n",
       "    <tr>\n",
       "      <th>7385</th>\n",
       "      <td>50.0</td>\n",
       "      <td>29.0</td>\n",
       "      <td>5.0</td>\n",
       "      <td>429.0</td>\n",
       "      <td>60.0</td>\n",
       "      <td>2.0</td>\n",
       "      <td>-1.0</td>\n",
       "      <td>0.0</td>\n",
       "    </tr>\n",
       "  </tbody>\n",
       "</table>\n",
       "</div>"
      ],
      "text/plain": [
       "        age   day  month  balance  duration  campaign  pdays  previous\n",
       "26999  32.0  21.0   11.0   2706.0     462.0       3.0   -1.0       0.0\n",
       "16168  37.0  22.0    7.0   1396.0     199.0       2.0   -1.0       0.0\n",
       "12338  22.0  26.0    6.0   -295.0     150.0       2.0   -1.0       0.0\n",
       "6074   36.0  26.0    5.0   -870.0     102.0       2.0   -1.0       0.0\n",
       "7385   50.0  29.0    5.0    429.0      60.0       2.0   -1.0       0.0"
      ]
     },
     "execution_count": 22,
     "metadata": {},
     "output_type": "execute_result"
    }
   ],
   "source": [
    "data_train_num_imputed.head()"
   ]
  },
  {
   "cell_type": "markdown",
   "metadata": {},
   "source": [
    "**Standardizing** - Numerical"
   ]
  },
  {
   "cell_type": "code",
   "execution_count": 23,
   "metadata": {},
   "outputs": [],
   "source": [
    "from sklearn.preprocessing import StandardScaler\n",
    "\n",
    "# Buat scaler\n",
    "def fitStandardize(data):\n",
    "    scaler = StandardScaler()\n",
    "    scaler.fit(data)\n",
    "\n",
    "    return scaler\n",
    "\n",
    "# Transform scaler\n",
    "def transformStandardize(data, scaler):\n",
    "    data_scaled = scaler.transform(data)\n",
    "    data_scaled = pd.DataFrame(data = data_scaled,\n",
    "                               columns = data.columns,\n",
    "                               index = data.index)\n",
    "    \n",
    "    return data_scaled\n"
   ]
  },
  {
   "cell_type": "code",
   "execution_count": 24,
   "metadata": {},
   "outputs": [],
   "source": [
    "# Cari scaler\n",
    "num_scaler = fitStandardize(data = data_train_num_imputed)\n",
    "\n",
    "# Transform data\n",
    "data_train_num_clean = transformStandardize(data = data_train_num_imputed,\n",
    "                                            scaler = num_scaler)"
   ]
  },
  {
   "cell_type": "code",
   "execution_count": 25,
   "metadata": {},
   "outputs": [
    {
     "data": {
      "text/html": [
       "<div>\n",
       "<style scoped>\n",
       "    .dataframe tbody tr th:only-of-type {\n",
       "        vertical-align: middle;\n",
       "    }\n",
       "\n",
       "    .dataframe tbody tr th {\n",
       "        vertical-align: top;\n",
       "    }\n",
       "\n",
       "    .dataframe thead th {\n",
       "        text-align: right;\n",
       "    }\n",
       "</style>\n",
       "<table border=\"1\" class=\"dataframe\">\n",
       "  <thead>\n",
       "    <tr style=\"text-align: right;\">\n",
       "      <th></th>\n",
       "      <th>age</th>\n",
       "      <th>day</th>\n",
       "      <th>month</th>\n",
       "      <th>balance</th>\n",
       "      <th>duration</th>\n",
       "      <th>campaign</th>\n",
       "      <th>pdays</th>\n",
       "      <th>previous</th>\n",
       "    </tr>\n",
       "  </thead>\n",
       "  <tbody>\n",
       "    <tr>\n",
       "      <th>26999</th>\n",
       "      <td>-0.844906</td>\n",
       "      <td>0.626379</td>\n",
       "      <td>2.024176</td>\n",
       "      <td>0.440092</td>\n",
       "      <td>0.779886</td>\n",
       "      <td>0.077638</td>\n",
       "      <td>-0.411528</td>\n",
       "      <td>-0.242719</td>\n",
       "    </tr>\n",
       "    <tr>\n",
       "      <th>16168</th>\n",
       "      <td>-0.373530</td>\n",
       "      <td>0.746689</td>\n",
       "      <td>0.358937</td>\n",
       "      <td>0.006577</td>\n",
       "      <td>-0.231883</td>\n",
       "      <td>-0.246209</td>\n",
       "      <td>-0.411528</td>\n",
       "      <td>-0.242719</td>\n",
       "    </tr>\n",
       "    <tr>\n",
       "      <th>12338</th>\n",
       "      <td>-1.787657</td>\n",
       "      <td>1.227931</td>\n",
       "      <td>-0.057373</td>\n",
       "      <td>-0.553021</td>\n",
       "      <td>-0.420387</td>\n",
       "      <td>-0.246209</td>\n",
       "      <td>-0.411528</td>\n",
       "      <td>-0.242719</td>\n",
       "    </tr>\n",
       "    <tr>\n",
       "      <th>6074</th>\n",
       "      <td>-0.467806</td>\n",
       "      <td>1.227931</td>\n",
       "      <td>-0.473683</td>\n",
       "      <td>-0.743304</td>\n",
       "      <td>-0.605045</td>\n",
       "      <td>-0.246209</td>\n",
       "      <td>-0.411528</td>\n",
       "      <td>-0.242719</td>\n",
       "    </tr>\n",
       "    <tr>\n",
       "      <th>7385</th>\n",
       "      <td>0.852046</td>\n",
       "      <td>1.588862</td>\n",
       "      <td>-0.473683</td>\n",
       "      <td>-0.313430</td>\n",
       "      <td>-0.766620</td>\n",
       "      <td>-0.246209</td>\n",
       "      <td>-0.411528</td>\n",
       "      <td>-0.242719</td>\n",
       "    </tr>\n",
       "  </tbody>\n",
       "</table>\n",
       "</div>"
      ],
      "text/plain": [
       "            age       day     month   balance  duration  campaign     pdays  \\\n",
       "26999 -0.844906  0.626379  2.024176  0.440092  0.779886  0.077638 -0.411528   \n",
       "16168 -0.373530  0.746689  0.358937  0.006577 -0.231883 -0.246209 -0.411528   \n",
       "12338 -1.787657  1.227931 -0.057373 -0.553021 -0.420387 -0.246209 -0.411528   \n",
       "6074  -0.467806  1.227931 -0.473683 -0.743304 -0.605045 -0.246209 -0.411528   \n",
       "7385   0.852046  1.588862 -0.473683 -0.313430 -0.766620 -0.246209 -0.411528   \n",
       "\n",
       "       previous  \n",
       "26999 -0.242719  \n",
       "16168 -0.242719  \n",
       "12338 -0.242719  \n",
       "6074  -0.242719  \n",
       "7385  -0.242719  "
      ]
     },
     "execution_count": 25,
     "metadata": {},
     "output_type": "execute_result"
    }
   ],
   "source": [
    "data_train_num_clean.head()"
   ]
  },
  {
   "cell_type": "markdown",
   "metadata": {},
   "source": [
    "## Handling Data 2 - PCA (Dimensionality Reduction)"
   ]
  },
  {
   "cell_type": "markdown",
   "metadata": {},
   "source": [
    "**Goal**: represent data in fewer dimensions"
   ]
  },
  {
   "cell_type": "code",
   "execution_count": 26,
   "metadata": {},
   "outputs": [],
   "source": [
    "# Import package PCA - Sklearn\n",
    "from sklearn.decomposition import PCA"
   ]
  },
  {
   "cell_type": "code",
   "execution_count": 27,
   "metadata": {},
   "outputs": [],
   "source": [
    "# Define PCA with random state\n",
    "pca_obj = PCA(random_state = 123)"
   ]
  },
  {
   "cell_type": "code",
   "execution_count": 28,
   "metadata": {},
   "outputs": [
    {
     "data": {
      "text/html": [
       "<style>#sk-container-id-1 {\n",
       "  /* Definition of color scheme common for light and dark mode */\n",
       "  --sklearn-color-text: black;\n",
       "  --sklearn-color-line: gray;\n",
       "  /* Definition of color scheme for unfitted estimators */\n",
       "  --sklearn-color-unfitted-level-0: #fff5e6;\n",
       "  --sklearn-color-unfitted-level-1: #f6e4d2;\n",
       "  --sklearn-color-unfitted-level-2: #ffe0b3;\n",
       "  --sklearn-color-unfitted-level-3: chocolate;\n",
       "  /* Definition of color scheme for fitted estimators */\n",
       "  --sklearn-color-fitted-level-0: #f0f8ff;\n",
       "  --sklearn-color-fitted-level-1: #d4ebff;\n",
       "  --sklearn-color-fitted-level-2: #b3dbfd;\n",
       "  --sklearn-color-fitted-level-3: cornflowerblue;\n",
       "\n",
       "  /* Specific color for light theme */\n",
       "  --sklearn-color-text-on-default-background: var(--sg-text-color, var(--theme-code-foreground, var(--jp-content-font-color1, black)));\n",
       "  --sklearn-color-background: var(--sg-background-color, var(--theme-background, var(--jp-layout-color0, white)));\n",
       "  --sklearn-color-border-box: var(--sg-text-color, var(--theme-code-foreground, var(--jp-content-font-color1, black)));\n",
       "  --sklearn-color-icon: #696969;\n",
       "\n",
       "  @media (prefers-color-scheme: dark) {\n",
       "    /* Redefinition of color scheme for dark theme */\n",
       "    --sklearn-color-text-on-default-background: var(--sg-text-color, var(--theme-code-foreground, var(--jp-content-font-color1, white)));\n",
       "    --sklearn-color-background: var(--sg-background-color, var(--theme-background, var(--jp-layout-color0, #111)));\n",
       "    --sklearn-color-border-box: var(--sg-text-color, var(--theme-code-foreground, var(--jp-content-font-color1, white)));\n",
       "    --sklearn-color-icon: #878787;\n",
       "  }\n",
       "}\n",
       "\n",
       "#sk-container-id-1 {\n",
       "  color: var(--sklearn-color-text);\n",
       "}\n",
       "\n",
       "#sk-container-id-1 pre {\n",
       "  padding: 0;\n",
       "}\n",
       "\n",
       "#sk-container-id-1 input.sk-hidden--visually {\n",
       "  border: 0;\n",
       "  clip: rect(1px 1px 1px 1px);\n",
       "  clip: rect(1px, 1px, 1px, 1px);\n",
       "  height: 1px;\n",
       "  margin: -1px;\n",
       "  overflow: hidden;\n",
       "  padding: 0;\n",
       "  position: absolute;\n",
       "  width: 1px;\n",
       "}\n",
       "\n",
       "#sk-container-id-1 div.sk-dashed-wrapped {\n",
       "  border: 1px dashed var(--sklearn-color-line);\n",
       "  margin: 0 0.4em 0.5em 0.4em;\n",
       "  box-sizing: border-box;\n",
       "  padding-bottom: 0.4em;\n",
       "  background-color: var(--sklearn-color-background);\n",
       "}\n",
       "\n",
       "#sk-container-id-1 div.sk-container {\n",
       "  /* jupyter's `normalize.less` sets `[hidden] { display: none; }`\n",
       "     but bootstrap.min.css set `[hidden] { display: none !important; }`\n",
       "     so we also need the `!important` here to be able to override the\n",
       "     default hidden behavior on the sphinx rendered scikit-learn.org.\n",
       "     See: https://github.com/scikit-learn/scikit-learn/issues/21755 */\n",
       "  display: inline-block !important;\n",
       "  position: relative;\n",
       "}\n",
       "\n",
       "#sk-container-id-1 div.sk-text-repr-fallback {\n",
       "  display: none;\n",
       "}\n",
       "\n",
       "div.sk-parallel-item,\n",
       "div.sk-serial,\n",
       "div.sk-item {\n",
       "  /* draw centered vertical line to link estimators */\n",
       "  background-image: linear-gradient(var(--sklearn-color-text-on-default-background), var(--sklearn-color-text-on-default-background));\n",
       "  background-size: 2px 100%;\n",
       "  background-repeat: no-repeat;\n",
       "  background-position: center center;\n",
       "}\n",
       "\n",
       "/* Parallel-specific style estimator block */\n",
       "\n",
       "#sk-container-id-1 div.sk-parallel-item::after {\n",
       "  content: \"\";\n",
       "  width: 100%;\n",
       "  border-bottom: 2px solid var(--sklearn-color-text-on-default-background);\n",
       "  flex-grow: 1;\n",
       "}\n",
       "\n",
       "#sk-container-id-1 div.sk-parallel {\n",
       "  display: flex;\n",
       "  align-items: stretch;\n",
       "  justify-content: center;\n",
       "  background-color: var(--sklearn-color-background);\n",
       "  position: relative;\n",
       "}\n",
       "\n",
       "#sk-container-id-1 div.sk-parallel-item {\n",
       "  display: flex;\n",
       "  flex-direction: column;\n",
       "}\n",
       "\n",
       "#sk-container-id-1 div.sk-parallel-item:first-child::after {\n",
       "  align-self: flex-end;\n",
       "  width: 50%;\n",
       "}\n",
       "\n",
       "#sk-container-id-1 div.sk-parallel-item:last-child::after {\n",
       "  align-self: flex-start;\n",
       "  width: 50%;\n",
       "}\n",
       "\n",
       "#sk-container-id-1 div.sk-parallel-item:only-child::after {\n",
       "  width: 0;\n",
       "}\n",
       "\n",
       "/* Serial-specific style estimator block */\n",
       "\n",
       "#sk-container-id-1 div.sk-serial {\n",
       "  display: flex;\n",
       "  flex-direction: column;\n",
       "  align-items: center;\n",
       "  background-color: var(--sklearn-color-background);\n",
       "  padding-right: 1em;\n",
       "  padding-left: 1em;\n",
       "}\n",
       "\n",
       "\n",
       "/* Toggleable style: style used for estimator/Pipeline/ColumnTransformer box that is\n",
       "clickable and can be expanded/collapsed.\n",
       "- Pipeline and ColumnTransformer use this feature and define the default style\n",
       "- Estimators will overwrite some part of the style using the `sk-estimator` class\n",
       "*/\n",
       "\n",
       "/* Pipeline and ColumnTransformer style (default) */\n",
       "\n",
       "#sk-container-id-1 div.sk-toggleable {\n",
       "  /* Default theme specific background. It is overwritten whether we have a\n",
       "  specific estimator or a Pipeline/ColumnTransformer */\n",
       "  background-color: var(--sklearn-color-background);\n",
       "}\n",
       "\n",
       "/* Toggleable label */\n",
       "#sk-container-id-1 label.sk-toggleable__label {\n",
       "  cursor: pointer;\n",
       "  display: block;\n",
       "  width: 100%;\n",
       "  margin-bottom: 0;\n",
       "  padding: 0.5em;\n",
       "  box-sizing: border-box;\n",
       "  text-align: center;\n",
       "}\n",
       "\n",
       "#sk-container-id-1 label.sk-toggleable__label-arrow:before {\n",
       "  /* Arrow on the left of the label */\n",
       "  content: \"▸\";\n",
       "  float: left;\n",
       "  margin-right: 0.25em;\n",
       "  color: var(--sklearn-color-icon);\n",
       "}\n",
       "\n",
       "#sk-container-id-1 label.sk-toggleable__label-arrow:hover:before {\n",
       "  color: var(--sklearn-color-text);\n",
       "}\n",
       "\n",
       "/* Toggleable content - dropdown */\n",
       "\n",
       "#sk-container-id-1 div.sk-toggleable__content {\n",
       "  max-height: 0;\n",
       "  max-width: 0;\n",
       "  overflow: hidden;\n",
       "  text-align: left;\n",
       "  /* unfitted */\n",
       "  background-color: var(--sklearn-color-unfitted-level-0);\n",
       "}\n",
       "\n",
       "#sk-container-id-1 div.sk-toggleable__content.fitted {\n",
       "  /* fitted */\n",
       "  background-color: var(--sklearn-color-fitted-level-0);\n",
       "}\n",
       "\n",
       "#sk-container-id-1 div.sk-toggleable__content pre {\n",
       "  margin: 0.2em;\n",
       "  border-radius: 0.25em;\n",
       "  color: var(--sklearn-color-text);\n",
       "  /* unfitted */\n",
       "  background-color: var(--sklearn-color-unfitted-level-0);\n",
       "}\n",
       "\n",
       "#sk-container-id-1 div.sk-toggleable__content.fitted pre {\n",
       "  /* unfitted */\n",
       "  background-color: var(--sklearn-color-fitted-level-0);\n",
       "}\n",
       "\n",
       "#sk-container-id-1 input.sk-toggleable__control:checked~div.sk-toggleable__content {\n",
       "  /* Expand drop-down */\n",
       "  max-height: 200px;\n",
       "  max-width: 100%;\n",
       "  overflow: auto;\n",
       "}\n",
       "\n",
       "#sk-container-id-1 input.sk-toggleable__control:checked~label.sk-toggleable__label-arrow:before {\n",
       "  content: \"▾\";\n",
       "}\n",
       "\n",
       "/* Pipeline/ColumnTransformer-specific style */\n",
       "\n",
       "#sk-container-id-1 div.sk-label input.sk-toggleable__control:checked~label.sk-toggleable__label {\n",
       "  color: var(--sklearn-color-text);\n",
       "  background-color: var(--sklearn-color-unfitted-level-2);\n",
       "}\n",
       "\n",
       "#sk-container-id-1 div.sk-label.fitted input.sk-toggleable__control:checked~label.sk-toggleable__label {\n",
       "  background-color: var(--sklearn-color-fitted-level-2);\n",
       "}\n",
       "\n",
       "/* Estimator-specific style */\n",
       "\n",
       "/* Colorize estimator box */\n",
       "#sk-container-id-1 div.sk-estimator input.sk-toggleable__control:checked~label.sk-toggleable__label {\n",
       "  /* unfitted */\n",
       "  background-color: var(--sklearn-color-unfitted-level-2);\n",
       "}\n",
       "\n",
       "#sk-container-id-1 div.sk-estimator.fitted input.sk-toggleable__control:checked~label.sk-toggleable__label {\n",
       "  /* fitted */\n",
       "  background-color: var(--sklearn-color-fitted-level-2);\n",
       "}\n",
       "\n",
       "#sk-container-id-1 div.sk-label label.sk-toggleable__label,\n",
       "#sk-container-id-1 div.sk-label label {\n",
       "  /* The background is the default theme color */\n",
       "  color: var(--sklearn-color-text-on-default-background);\n",
       "}\n",
       "\n",
       "/* On hover, darken the color of the background */\n",
       "#sk-container-id-1 div.sk-label:hover label.sk-toggleable__label {\n",
       "  color: var(--sklearn-color-text);\n",
       "  background-color: var(--sklearn-color-unfitted-level-2);\n",
       "}\n",
       "\n",
       "/* Label box, darken color on hover, fitted */\n",
       "#sk-container-id-1 div.sk-label.fitted:hover label.sk-toggleable__label.fitted {\n",
       "  color: var(--sklearn-color-text);\n",
       "  background-color: var(--sklearn-color-fitted-level-2);\n",
       "}\n",
       "\n",
       "/* Estimator label */\n",
       "\n",
       "#sk-container-id-1 div.sk-label label {\n",
       "  font-family: monospace;\n",
       "  font-weight: bold;\n",
       "  display: inline-block;\n",
       "  line-height: 1.2em;\n",
       "}\n",
       "\n",
       "#sk-container-id-1 div.sk-label-container {\n",
       "  text-align: center;\n",
       "}\n",
       "\n",
       "/* Estimator-specific */\n",
       "#sk-container-id-1 div.sk-estimator {\n",
       "  font-family: monospace;\n",
       "  border: 1px dotted var(--sklearn-color-border-box);\n",
       "  border-radius: 0.25em;\n",
       "  box-sizing: border-box;\n",
       "  margin-bottom: 0.5em;\n",
       "  /* unfitted */\n",
       "  background-color: var(--sklearn-color-unfitted-level-0);\n",
       "}\n",
       "\n",
       "#sk-container-id-1 div.sk-estimator.fitted {\n",
       "  /* fitted */\n",
       "  background-color: var(--sklearn-color-fitted-level-0);\n",
       "}\n",
       "\n",
       "/* on hover */\n",
       "#sk-container-id-1 div.sk-estimator:hover {\n",
       "  /* unfitted */\n",
       "  background-color: var(--sklearn-color-unfitted-level-2);\n",
       "}\n",
       "\n",
       "#sk-container-id-1 div.sk-estimator.fitted:hover {\n",
       "  /* fitted */\n",
       "  background-color: var(--sklearn-color-fitted-level-2);\n",
       "}\n",
       "\n",
       "/* Specification for estimator info (e.g. \"i\" and \"?\") */\n",
       "\n",
       "/* Common style for \"i\" and \"?\" */\n",
       "\n",
       ".sk-estimator-doc-link,\n",
       "a:link.sk-estimator-doc-link,\n",
       "a:visited.sk-estimator-doc-link {\n",
       "  float: right;\n",
       "  font-size: smaller;\n",
       "  line-height: 1em;\n",
       "  font-family: monospace;\n",
       "  background-color: var(--sklearn-color-background);\n",
       "  border-radius: 1em;\n",
       "  height: 1em;\n",
       "  width: 1em;\n",
       "  text-decoration: none !important;\n",
       "  margin-left: 1ex;\n",
       "  /* unfitted */\n",
       "  border: var(--sklearn-color-unfitted-level-1) 1pt solid;\n",
       "  color: var(--sklearn-color-unfitted-level-1);\n",
       "}\n",
       "\n",
       ".sk-estimator-doc-link.fitted,\n",
       "a:link.sk-estimator-doc-link.fitted,\n",
       "a:visited.sk-estimator-doc-link.fitted {\n",
       "  /* fitted */\n",
       "  border: var(--sklearn-color-fitted-level-1) 1pt solid;\n",
       "  color: var(--sklearn-color-fitted-level-1);\n",
       "}\n",
       "\n",
       "/* On hover */\n",
       "div.sk-estimator:hover .sk-estimator-doc-link:hover,\n",
       ".sk-estimator-doc-link:hover,\n",
       "div.sk-label-container:hover .sk-estimator-doc-link:hover,\n",
       ".sk-estimator-doc-link:hover {\n",
       "  /* unfitted */\n",
       "  background-color: var(--sklearn-color-unfitted-level-3);\n",
       "  color: var(--sklearn-color-background);\n",
       "  text-decoration: none;\n",
       "}\n",
       "\n",
       "div.sk-estimator.fitted:hover .sk-estimator-doc-link.fitted:hover,\n",
       ".sk-estimator-doc-link.fitted:hover,\n",
       "div.sk-label-container:hover .sk-estimator-doc-link.fitted:hover,\n",
       ".sk-estimator-doc-link.fitted:hover {\n",
       "  /* fitted */\n",
       "  background-color: var(--sklearn-color-fitted-level-3);\n",
       "  color: var(--sklearn-color-background);\n",
       "  text-decoration: none;\n",
       "}\n",
       "\n",
       "/* Span, style for the box shown on hovering the info icon */\n",
       ".sk-estimator-doc-link span {\n",
       "  display: none;\n",
       "  z-index: 9999;\n",
       "  position: relative;\n",
       "  font-weight: normal;\n",
       "  right: .2ex;\n",
       "  padding: .5ex;\n",
       "  margin: .5ex;\n",
       "  width: min-content;\n",
       "  min-width: 20ex;\n",
       "  max-width: 50ex;\n",
       "  color: var(--sklearn-color-text);\n",
       "  box-shadow: 2pt 2pt 4pt #999;\n",
       "  /* unfitted */\n",
       "  background: var(--sklearn-color-unfitted-level-0);\n",
       "  border: .5pt solid var(--sklearn-color-unfitted-level-3);\n",
       "}\n",
       "\n",
       ".sk-estimator-doc-link.fitted span {\n",
       "  /* fitted */\n",
       "  background: var(--sklearn-color-fitted-level-0);\n",
       "  border: var(--sklearn-color-fitted-level-3);\n",
       "}\n",
       "\n",
       ".sk-estimator-doc-link:hover span {\n",
       "  display: block;\n",
       "}\n",
       "\n",
       "/* \"?\"-specific style due to the `<a>` HTML tag */\n",
       "\n",
       "#sk-container-id-1 a.estimator_doc_link {\n",
       "  float: right;\n",
       "  font-size: 1rem;\n",
       "  line-height: 1em;\n",
       "  font-family: monospace;\n",
       "  background-color: var(--sklearn-color-background);\n",
       "  border-radius: 1rem;\n",
       "  height: 1rem;\n",
       "  width: 1rem;\n",
       "  text-decoration: none;\n",
       "  /* unfitted */\n",
       "  color: var(--sklearn-color-unfitted-level-1);\n",
       "  border: var(--sklearn-color-unfitted-level-1) 1pt solid;\n",
       "}\n",
       "\n",
       "#sk-container-id-1 a.estimator_doc_link.fitted {\n",
       "  /* fitted */\n",
       "  border: var(--sklearn-color-fitted-level-1) 1pt solid;\n",
       "  color: var(--sklearn-color-fitted-level-1);\n",
       "}\n",
       "\n",
       "/* On hover */\n",
       "#sk-container-id-1 a.estimator_doc_link:hover {\n",
       "  /* unfitted */\n",
       "  background-color: var(--sklearn-color-unfitted-level-3);\n",
       "  color: var(--sklearn-color-background);\n",
       "  text-decoration: none;\n",
       "}\n",
       "\n",
       "#sk-container-id-1 a.estimator_doc_link.fitted:hover {\n",
       "  /* fitted */\n",
       "  background-color: var(--sklearn-color-fitted-level-3);\n",
       "}\n",
       "</style><div id=\"sk-container-id-1\" class=\"sk-top-container\"><div class=\"sk-text-repr-fallback\"><pre>PCA(random_state=123)</pre><b>In a Jupyter environment, please rerun this cell to show the HTML representation or trust the notebook. <br />On GitHub, the HTML representation is unable to render, please try loading this page with nbviewer.org.</b></div><div class=\"sk-container\" hidden><div class=\"sk-item\"><div class=\"sk-estimator fitted sk-toggleable\"><input class=\"sk-toggleable__control sk-hidden--visually\" id=\"sk-estimator-id-1\" type=\"checkbox\" checked><label for=\"sk-estimator-id-1\" class=\"sk-toggleable__label fitted sk-toggleable__label-arrow fitted\">&nbsp;&nbsp;PCA<a class=\"sk-estimator-doc-link fitted\" rel=\"noreferrer\" target=\"_blank\" href=\"https://scikit-learn.org/1.5/modules/generated/sklearn.decomposition.PCA.html\">?<span>Documentation for PCA</span></a><span class=\"sk-estimator-doc-link fitted\">i<span>Fitted</span></span></label><div class=\"sk-toggleable__content fitted\"><pre>PCA(random_state=123)</pre></div> </div></div></div></div>"
      ],
      "text/plain": [
       "PCA(random_state=123)"
      ]
     },
     "execution_count": 28,
     "metadata": {},
     "output_type": "execute_result"
    }
   ],
   "source": [
    "# Fit to data_train_num_clean\n",
    "pca_obj.fit(data_train_num_clean)"
   ]
  },
  {
   "cell_type": "markdown",
   "metadata": {},
   "source": [
    "*dapatkan principal component*"
   ]
  },
  {
   "cell_type": "code",
   "execution_count": 29,
   "metadata": {},
   "outputs": [
    {
     "data": {
      "text/html": [
       "<div>\n",
       "<style scoped>\n",
       "    .dataframe tbody tr th:only-of-type {\n",
       "        vertical-align: middle;\n",
       "    }\n",
       "\n",
       "    .dataframe tbody tr th {\n",
       "        vertical-align: top;\n",
       "    }\n",
       "\n",
       "    .dataframe thead th {\n",
       "        text-align: right;\n",
       "    }\n",
       "</style>\n",
       "<table border=\"1\" class=\"dataframe\">\n",
       "  <thead>\n",
       "    <tr style=\"text-align: right;\">\n",
       "      <th></th>\n",
       "      <th>age</th>\n",
       "      <th>day</th>\n",
       "      <th>month</th>\n",
       "      <th>balance</th>\n",
       "      <th>duration</th>\n",
       "      <th>campaign</th>\n",
       "      <th>pdays</th>\n",
       "      <th>previous</th>\n",
       "    </tr>\n",
       "  </thead>\n",
       "  <tbody>\n",
       "    <tr>\n",
       "      <th>0</th>\n",
       "      <td>-0.069772</td>\n",
       "      <td>-0.300405</td>\n",
       "      <td>-0.271369</td>\n",
       "      <td>-0.031820</td>\n",
       "      <td>0.059091</td>\n",
       "      <td>-0.266862</td>\n",
       "      <td>0.639239</td>\n",
       "      <td>0.588984</td>\n",
       "    </tr>\n",
       "    <tr>\n",
       "      <th>1</th>\n",
       "      <td>0.442293</td>\n",
       "      <td>0.297602</td>\n",
       "      <td>0.485049</td>\n",
       "      <td>0.480265</td>\n",
       "      <td>-0.128529</td>\n",
       "      <td>0.257602</td>\n",
       "      <td>0.220141</td>\n",
       "      <td>0.344300</td>\n",
       "    </tr>\n",
       "    <tr>\n",
       "      <th>2</th>\n",
       "      <td>-0.360480</td>\n",
       "      <td>0.410899</td>\n",
       "      <td>-0.142899</td>\n",
       "      <td>-0.390580</td>\n",
       "      <td>-0.419306</td>\n",
       "      <td>0.538353</td>\n",
       "      <td>0.159648</td>\n",
       "      <td>0.192650</td>\n",
       "    </tr>\n",
       "    <tr>\n",
       "      <th>3</th>\n",
       "      <td>-0.374714</td>\n",
       "      <td>0.419159</td>\n",
       "      <td>0.148437</td>\n",
       "      <td>0.015518</td>\n",
       "      <td>0.801606</td>\n",
       "      <td>0.045387</td>\n",
       "      <td>0.056493</td>\n",
       "      <td>0.117457</td>\n",
       "    </tr>\n",
       "    <tr>\n",
       "      <th>4</th>\n",
       "      <td>0.690436</td>\n",
       "      <td>0.027622</td>\n",
       "      <td>-0.117620</td>\n",
       "      <td>-0.601584</td>\n",
       "      <td>0.321183</td>\n",
       "      <td>0.200227</td>\n",
       "      <td>0.007981</td>\n",
       "      <td>0.059021</td>\n",
       "    </tr>\n",
       "    <tr>\n",
       "      <th>5</th>\n",
       "      <td>-0.138927</td>\n",
       "      <td>-0.066414</td>\n",
       "      <td>0.746403</td>\n",
       "      <td>-0.503089</td>\n",
       "      <td>-0.152494</td>\n",
       "      <td>-0.366869</td>\n",
       "      <td>0.026452</td>\n",
       "      <td>0.086753</td>\n",
       "    </tr>\n",
       "    <tr>\n",
       "      <th>6</th>\n",
       "      <td>0.180314</td>\n",
       "      <td>0.686298</td>\n",
       "      <td>-0.260422</td>\n",
       "      <td>-0.022065</td>\n",
       "      <td>-0.185509</td>\n",
       "      <td>-0.624547</td>\n",
       "      <td>0.033671</td>\n",
       "      <td>-0.050689</td>\n",
       "    </tr>\n",
       "    <tr>\n",
       "      <th>7</th>\n",
       "      <td>0.025212</td>\n",
       "      <td>0.021885</td>\n",
       "      <td>0.099308</td>\n",
       "      <td>-0.007061</td>\n",
       "      <td>0.027794</td>\n",
       "      <td>0.076148</td>\n",
       "      <td>0.715776</td>\n",
       "      <td>-0.685614</td>\n",
       "    </tr>\n",
       "  </tbody>\n",
       "</table>\n",
       "</div>"
      ],
      "text/plain": [
       "        age       day     month   balance  duration  campaign     pdays  \\\n",
       "0 -0.069772 -0.300405 -0.271369 -0.031820  0.059091 -0.266862  0.639239   \n",
       "1  0.442293  0.297602  0.485049  0.480265 -0.128529  0.257602  0.220141   \n",
       "2 -0.360480  0.410899 -0.142899 -0.390580 -0.419306  0.538353  0.159648   \n",
       "3 -0.374714  0.419159  0.148437  0.015518  0.801606  0.045387  0.056493   \n",
       "4  0.690436  0.027622 -0.117620 -0.601584  0.321183  0.200227  0.007981   \n",
       "5 -0.138927 -0.066414  0.746403 -0.503089 -0.152494 -0.366869  0.026452   \n",
       "6  0.180314  0.686298 -0.260422 -0.022065 -0.185509 -0.624547  0.033671   \n",
       "7  0.025212  0.021885  0.099308 -0.007061  0.027794  0.076148  0.715776   \n",
       "\n",
       "   previous  \n",
       "0  0.588984  \n",
       "1  0.344300  \n",
       "2  0.192650  \n",
       "3  0.117457  \n",
       "4  0.059021  \n",
       "5  0.086753  \n",
       "6 -0.050689  \n",
       "7 -0.685614  "
      ]
     },
     "execution_count": 29,
     "metadata": {},
     "output_type": "execute_result"
    }
   ],
   "source": [
    "# Show PCA Component\n",
    "pca_component = pca_obj.components_\n",
    "\n",
    "# Turn to dataframe\n",
    "pca_component = pd.DataFrame(data = pca_component,\n",
    "                             columns = data_train_num_clean.columns)\n",
    "pca_component"
   ]
  },
  {
   "cell_type": "markdown",
   "metadata": {},
   "source": [
    "*dapatkan variance yang dijelaskan*"
   ]
  },
  {
   "cell_type": "code",
   "execution_count": 30,
   "metadata": {},
   "outputs": [
    {
     "data": {
      "text/plain": [
       "array([1.53187704, 1.19523565, 1.15590508, 0.98118651, 0.89585695,\n",
       "       0.87547251, 0.81436845, 0.55033375])"
      ]
     },
     "execution_count": 30,
     "metadata": {},
     "output_type": "execute_result"
    }
   ],
   "source": [
    "# Explained variance\n",
    "pca_obj.explained_variance_"
   ]
  },
  {
   "cell_type": "code",
   "execution_count": 31,
   "metadata": {},
   "outputs": [
    {
     "data": {
      "text/plain": [
       "array([0.19147898, 0.14940005, 0.14448387, 0.1226447 , 0.11197882,\n",
       "       0.10943084, 0.10179305, 0.06878969])"
      ]
     },
     "execution_count": 31,
     "metadata": {},
     "output_type": "execute_result"
    }
   ],
   "source": [
    "# Explained variance ratio\n",
    "pca_obj.explained_variance_ratio_"
   ]
  },
  {
   "cell_type": "markdown",
   "metadata": {},
   "source": [
    "bisa kita lihat,\n",
    "- PC 1 adalah baris pertama pada dataframe `pca_component`\n",
    "- PC 1 menjelaskan 19.3% variasi data"
   ]
  },
  {
   "cell_type": "markdown",
   "metadata": {},
   "source": [
    "*transform data dengan principal component*"
   ]
  },
  {
   "cell_type": "code",
   "execution_count": 32,
   "metadata": {},
   "outputs": [
    {
     "data": {
      "text/html": [
       "<div>\n",
       "<style scoped>\n",
       "    .dataframe tbody tr th:only-of-type {\n",
       "        vertical-align: middle;\n",
       "    }\n",
       "\n",
       "    .dataframe tbody tr th {\n",
       "        vertical-align: top;\n",
       "    }\n",
       "\n",
       "    .dataframe thead th {\n",
       "        text-align: right;\n",
       "    }\n",
       "</style>\n",
       "<table border=\"1\" class=\"dataframe\">\n",
       "  <thead>\n",
       "    <tr style=\"text-align: right;\">\n",
       "      <th></th>\n",
       "      <th>PC_1</th>\n",
       "      <th>PC_2</th>\n",
       "      <th>PC_3</th>\n",
       "      <th>PC_4</th>\n",
       "      <th>PC_5</th>\n",
       "      <th>PC_6</th>\n",
       "      <th>PC_7</th>\n",
       "      <th>PC_8</th>\n",
       "    </tr>\n",
       "  </thead>\n",
       "  <tbody>\n",
       "    <tr>\n",
       "      <th>26999</th>\n",
       "      <td>-1.073176</td>\n",
       "      <td>0.751500</td>\n",
       "      <td>-0.296867</td>\n",
       "      <td>1.463372</td>\n",
       "      <td>-0.820467</td>\n",
       "      <td>1.185871</td>\n",
       "      <td>-0.454034</td>\n",
       "      <td>0.089753</td>\n",
       "    </tr>\n",
       "    <tr>\n",
       "      <th>16168</th>\n",
       "      <td>-0.649881</td>\n",
       "      <td>0.026484</td>\n",
       "      <td>0.239826</td>\n",
       "      <td>0.257520</td>\n",
       "      <td>-0.424834</td>\n",
       "      <td>0.360650</td>\n",
       "      <td>0.546710</td>\n",
       "      <td>-0.110821</td>\n",
       "    </tr>\n",
       "    <tr>\n",
       "      <th>12338</th>\n",
       "      <td>-0.576140</td>\n",
       "      <td>-0.902214</td>\n",
       "      <td>1.304431</td>\n",
       "      <td>0.767544</td>\n",
       "      <td>-1.062838</td>\n",
       "      <td>0.524688</td>\n",
       "      <td>0.777732</td>\n",
       "      <td>-0.178573</td>\n",
       "    </tr>\n",
       "    <tr>\n",
       "      <th>6074</th>\n",
       "      <td>-0.560112</td>\n",
       "      <td>-0.588036</td>\n",
       "      <td>1.039891</td>\n",
       "      <td>0.060206</td>\n",
       "      <td>-0.047435</td>\n",
       "      <td>0.154479</td>\n",
       "      <td>1.162590</td>\n",
       "      <td>-0.190428</td>\n",
       "    </tr>\n",
       "    <tr>\n",
       "      <th>7385</th>\n",
       "      <td>-0.783853</td>\n",
       "      <td>0.330361</td>\n",
       "      <td>0.612266</td>\n",
       "      <td>-0.405923</td>\n",
       "      <td>0.563307</td>\n",
       "      <td>-0.244481</td>\n",
       "      <td>1.668772</td>\n",
       "      <td>-0.156780</td>\n",
       "    </tr>\n",
       "  </tbody>\n",
       "</table>\n",
       "</div>"
      ],
      "text/plain": [
       "           PC_1      PC_2      PC_3      PC_4      PC_5      PC_6      PC_7  \\\n",
       "26999 -1.073176  0.751500 -0.296867  1.463372 -0.820467  1.185871 -0.454034   \n",
       "16168 -0.649881  0.026484  0.239826  0.257520 -0.424834  0.360650  0.546710   \n",
       "12338 -0.576140 -0.902214  1.304431  0.767544 -1.062838  0.524688  0.777732   \n",
       "6074  -0.560112 -0.588036  1.039891  0.060206 -0.047435  0.154479  1.162590   \n",
       "7385  -0.783853  0.330361  0.612266 -0.405923  0.563307 -0.244481  1.668772   \n",
       "\n",
       "           PC_8  \n",
       "26999  0.089753  \n",
       "16168 -0.110821  \n",
       "12338 -0.178573  \n",
       "6074  -0.190428  \n",
       "7385  -0.156780  "
      ]
     },
     "execution_count": 32,
     "metadata": {},
     "output_type": "execute_result"
    }
   ],
   "source": [
    "# Transform data\n",
    "data_train_num_pca = pca_obj.transform(data_train_num_clean)\n",
    "\n",
    "# Set data sebagai dataframe\n",
    "col_names = [f\"PC_{i+1}\" for i in range(data_train_num_pca.shape[1])]\n",
    "data_train_num_pca = pd.DataFrame(data = data_train_num_pca,\n",
    "                                  columns = col_names,\n",
    "                                  index = data_train_num_clean.index)\n",
    "\n",
    "data_train_num_pca.head()"
   ]
  },
  {
   "cell_type": "markdown",
   "metadata": {},
   "source": [
    "*Berapa principal component?*\n",
    "\n",
    "- Pilih untuk mempertahankan persentase variance tertentu dalam data"
   ]
  },
  {
   "cell_type": "code",
   "execution_count": 33,
   "metadata": {},
   "outputs": [
    {
     "data": {
      "text/plain": [
       "np.float64(0.9999999999999999)"
      ]
     },
     "execution_count": 33,
     "metadata": {},
     "output_type": "execute_result"
    }
   ],
   "source": [
    "# Jika gunakan seluruh component, maka variance-nya\n",
    "sum(pca_obj.explained_variance_ratio_)"
   ]
  },
  {
   "cell_type": "code",
   "execution_count": 34,
   "metadata": {},
   "outputs": [
    {
     "name": "stdout",
     "output_type": "stream",
     "text": [
      "n_component: 1, %variance explained: 19.15 %\n",
      "n_component: 2, %variance explained: 34.09 %\n",
      "n_component: 3, %variance explained: 48.54 %\n",
      "n_component: 4, %variance explained: 60.80 %\n",
      "n_component: 5, %variance explained: 72.00 %\n",
      "n_component: 6, %variance explained: 82.94 %\n",
      "n_component: 7, %variance explained: 93.12 %\n",
      "n_component: 8, %variance explained: 100.00 %\n"
     ]
    }
   ],
   "source": [
    "# Jika memilih n component, maka variance yang dijelaskan\n",
    "for i in range(1, len(pca_obj.explained_variance_ratio_) + 1):\n",
    "    sum_of_variance_n = sum(pca_obj.explained_variance_ratio_[:i]) * 100\n",
    "    print(f\"n_component: {i}, %variance explained: {sum_of_variance_n:.2f} %\")"
   ]
  },
  {
   "cell_type": "markdown",
   "metadata": {},
   "source": [
    "- Apabila ingin mempertahankan 90% variance, maka Anda memilih 7 komponen\n",
    "- Jumlah komponen yang dipilih dapat dijadikan bagian dari eksperimentasi"
   ]
  },
  {
   "cell_type": "markdown",
   "metadata": {},
   "source": [
    "*Buat user-defined function untuk PCA*"
   ]
  },
  {
   "cell_type": "code",
   "execution_count": 35,
   "metadata": {},
   "outputs": [],
   "source": [
    "def fitPCA(data):\n",
    "    # Buat objek PCA\n",
    "    pca_obj = PCA(random_state = 123)\n",
    "\n",
    "    # Fit PCA pada data\n",
    "    pca_obj.fit(data)\n",
    "\n",
    "    # Tampilkan explained-variance\n",
    "    print(\"Explained variance using n_components:\")\n",
    "    for i in range(1, len(pca_obj.explained_variance_ratio_) + 1):\n",
    "        sum_of_variance_n = sum(pca_obj.explained_variance_ratio_[:i]) * 100\n",
    "        print(f\"n_component: {i}, %variance explained: {sum_of_variance_n:.2f} %\")\n",
    "\n",
    "    print()\n",
    "\n",
    "    # Pilih n_components\n",
    "    n_comp = int(input(\"n_components : \"))\n",
    "\n",
    "    # Buat ulang PCA\n",
    "    pca_obj = PCA(n_components = n_comp,\n",
    "                  random_state = 123)\n",
    "    pca_obj.fit(data)\n",
    "\n",
    "    # Ekstrak komponen\n",
    "    pca_component = pca_obj.components_[:n_comp]\n",
    "\n",
    "    # Turn to dataframe\n",
    "    pca_component = pd.DataFrame(data = pca_component,\n",
    "                                columns = data.columns)\n",
    "    \n",
    "    return pca_component, pca_obj\n"
   ]
  },
  {
   "cell_type": "code",
   "execution_count": 37,
   "metadata": {},
   "outputs": [
    {
     "name": "stdout",
     "output_type": "stream",
     "text": [
      "Explained variance using n_components:\n",
      "n_component: 1, %variance explained: 19.15 %\n",
      "n_component: 2, %variance explained: 34.09 %\n",
      "n_component: 3, %variance explained: 48.54 %\n",
      "n_component: 4, %variance explained: 60.80 %\n",
      "n_component: 5, %variance explained: 72.00 %\n",
      "n_component: 6, %variance explained: 82.94 %\n",
      "n_component: 7, %variance explained: 93.12 %\n",
      "n_component: 8, %variance explained: 100.00 %\n",
      "\n"
     ]
    },
    {
     "ename": "ValueError",
     "evalue": "invalid literal for int() with base 10: ''",
     "output_type": "error",
     "traceback": [
      "\u001b[1;31m---------------------------------------------------------------------------\u001b[0m",
      "\u001b[1;31mValueError\u001b[0m                                Traceback (most recent call last)",
      "Cell \u001b[1;32mIn[37], line 1\u001b[0m\n\u001b[1;32m----> 1\u001b[0m pca_component, pca_obj \u001b[38;5;241m=\u001b[39m \u001b[43mfitPCA\u001b[49m\u001b[43m(\u001b[49m\u001b[43mdata\u001b[49m\u001b[43m \u001b[49m\u001b[38;5;241;43m=\u001b[39;49m\u001b[43m \u001b[49m\u001b[43mdata_train_num_clean\u001b[49m\u001b[43m)\u001b[49m\n",
      "Cell \u001b[1;32mIn[35], line 17\u001b[0m, in \u001b[0;36mfitPCA\u001b[1;34m(data)\u001b[0m\n\u001b[0;32m     14\u001b[0m \u001b[38;5;28mprint\u001b[39m()\n\u001b[0;32m     16\u001b[0m \u001b[38;5;66;03m# Pilih n_components\u001b[39;00m\n\u001b[1;32m---> 17\u001b[0m n_comp \u001b[38;5;241m=\u001b[39m \u001b[38;5;28;43mint\u001b[39;49m\u001b[43m(\u001b[49m\u001b[38;5;28;43minput\u001b[39;49m\u001b[43m(\u001b[49m\u001b[38;5;124;43m\"\u001b[39;49m\u001b[38;5;124;43mn_components : \u001b[39;49m\u001b[38;5;124;43m\"\u001b[39;49m\u001b[43m)\u001b[49m\u001b[43m)\u001b[49m\n\u001b[0;32m     19\u001b[0m \u001b[38;5;66;03m# Buat ulang PCA\u001b[39;00m\n\u001b[0;32m     20\u001b[0m pca_obj \u001b[38;5;241m=\u001b[39m PCA(n_components \u001b[38;5;241m=\u001b[39m n_comp,\n\u001b[0;32m     21\u001b[0m               random_state \u001b[38;5;241m=\u001b[39m \u001b[38;5;241m123\u001b[39m)\n",
      "\u001b[1;31mValueError\u001b[0m: invalid literal for int() with base 10: ''"
     ]
    }
   ],
   "source": [
    "pca_component, pca_obj = fitPCA(data = data_train_num_clean)"
   ]
  },
  {
   "cell_type": "code",
   "execution_count": null,
   "metadata": {},
   "outputs": [],
   "source": [
    "pca_component"
   ]
  },
  {
   "cell_type": "code",
   "execution_count": null,
   "metadata": {},
   "outputs": [],
   "source": [
    "# Buat fungsi transformasi data\n",
    "def transformPCA(data, pca_obj):\n",
    "    # Transform data\n",
    "    data_pca = pca_obj.transform(data)\n",
    "\n",
    "    cols = [f\"PC_{i+1}\" for i in range(data_pca.shape[1])]\n",
    "    data_pca = pd.DataFrame(data = data_pca,\n",
    "                            columns = cols,\n",
    "                            index = data.index)\n",
    "    \n",
    "    return data_pca\n"
   ]
  },
  {
   "cell_type": "code",
   "execution_count": null,
   "metadata": {},
   "outputs": [],
   "source": [
    "data_train_num_pca = transformPCA(data = data_train_num_clean,\n",
    "                                  pca_obj = pca_obj)"
   ]
  },
  {
   "cell_type": "code",
   "execution_count": null,
   "metadata": {},
   "outputs": [],
   "source": [
    "# Cek data yang sudah diPCA\n",
    "data_train_num_pca.head()"
   ]
  },
  {
   "cell_type": "code",
   "execution_count": null,
   "metadata": {},
   "outputs": [],
   "source": [
    "# Cek komponen\n",
    "pca_component"
   ]
  },
  {
   "cell_type": "markdown",
   "metadata": {},
   "source": [
    "*membuat bi-plot*"
   ]
  },
  {
   "cell_type": "code",
   "execution_count": null,
   "metadata": {},
   "outputs": [],
   "source": [
    "import matplotlib.pyplot as plt"
   ]
  },
  {
   "cell_type": "code",
   "execution_count": null,
   "metadata": {},
   "outputs": [],
   "source": [
    "transformed_data = data_train_num_clean @ pca_component[:2].T\n",
    "transformed_data.head()"
   ]
  },
  {
   "cell_type": "code",
   "execution_count": null,
   "metadata": {},
   "outputs": [],
   "source": [
    "fig, ax = plt.subplots(nrows = 1, ncols = 1, figsize = (10, 7))\n",
    "\n",
    "ax.scatter(transformed_data[0][data_train_cat[\"poutcome\"]==\"success\"], \n",
    "           transformed_data[1][data_train_cat[\"poutcome\"]==\"success\"], \n",
    "           marker=\".\", \n",
    "           c=\"red\", #s=10,\n",
    "           alpha=.2,\n",
    "           label = \"SUCCESS\")\n",
    "\n",
    "ax.scatter(transformed_data[0][data_train_cat[\"poutcome\"]==\"other\"], \n",
    "           transformed_data[1][data_train_cat[\"poutcome\"]==\"other\"], \n",
    "           marker=\".\", \n",
    "           c=\"blue\", #s=10,\n",
    "           alpha=.2,\n",
    "           label = \"FAILED\")\n",
    "\n",
    "for col in pca_component.columns:\n",
    "    data_col = np.array(pca_component[col].loc[0:1])*5.\n",
    "    start_point = [0, data_col[0]]\n",
    "    end_point = [0, data_col[1]]\n",
    "\n",
    "    ax.plot(start_point, end_point, marker=\"o\", label=col)\n",
    "\n",
    "ax.set_ylabel(\"Second Principal Components\")\n",
    "ax.set_xlabel(\"First Principal Components\")\n",
    "ax.set_xlim([-2.0, 5])\n",
    "ax.set_ylim([-2.0, 5])\n",
    "plt.grid()\n",
    "plt.legend()\n",
    "plt.show()"
   ]
  },
  {
   "cell_type": "markdown",
   "metadata": {},
   "source": [
    "Gimana cara interpretasinya?\n",
    "- Untuk PC_1, memberi bobot besar pada `pdays` dan `previous`, tapi bobot untuk `duration`, `balance` dan `age` kecil\n",
    "- Artinya `pdays` dan `previous` berkorelasi satu sama lain,\n",
    "- Semakin besar `previous`, semakin besar `pdays`"
   ]
  },
  {
   "cell_type": "markdown",
   "metadata": {},
   "source": [
    "---\n",
    "# Modeling Clustering - Data Full"
   ]
  },
  {
   "cell_type": "markdown",
   "metadata": {},
   "source": [
    "- **Goal**: make separate group with similar character, and assign them into cluster\n",
    "- **TASK CLUSTERING IS SUBJECTIVE**"
   ]
  },
  {
   "cell_type": "code",
   "execution_count": null,
   "metadata": {},
   "outputs": [],
   "source": [
    "from sklearn.cluster import KMeans"
   ]
  },
  {
   "cell_type": "markdown",
   "metadata": {},
   "source": [
    "*buat objek clustering*"
   ]
  },
  {
   "cell_type": "code",
   "execution_count": null,
   "metadata": {},
   "outputs": [],
   "source": [
    "# Buat objek k-means\n",
    "kmeans_obj = KMeans(n_clusters = 3,\n",
    "                    random_state = 123)"
   ]
  },
  {
   "cell_type": "code",
   "execution_count": null,
   "metadata": {},
   "outputs": [],
   "source": [
    "# Fit objek k-means\n",
    "kmeans_obj.fit(data_train_num_clean)"
   ]
  },
  {
   "cell_type": "markdown",
   "metadata": {},
   "source": [
    "*predict clustering*"
   ]
  },
  {
   "cell_type": "code",
   "execution_count": null,
   "metadata": {},
   "outputs": [],
   "source": [
    "# Predict Cluster\n",
    "kmeans_obj.predict(data_train_num_clean)"
   ]
  },
  {
   "cell_type": "code",
   "execution_count": null,
   "metadata": {},
   "outputs": [],
   "source": [
    "# Reshape predicted cluster to dataframe\n",
    "cluster_result = kmeans_obj.predict(data_train_num_clean)\n",
    "cluster_result = pd.DataFrame(data = cluster_result,\n",
    "                              columns = [\"cluster\"],\n",
    "                              index = data_train_num_clean.index)"
   ]
  },
  {
   "cell_type": "code",
   "execution_count": null,
   "metadata": {},
   "outputs": [],
   "source": [
    "cluster_result.head()"
   ]
  },
  {
   "cell_type": "markdown",
   "metadata": {},
   "source": [
    "*periksa proporsi cluster*"
   ]
  },
  {
   "cell_type": "code",
   "execution_count": null,
   "metadata": {},
   "outputs": [],
   "source": [
    "cluster_result[\"cluster\"].value_counts(normalize = True)"
   ]
  },
  {
   "cell_type": "markdown",
   "metadata": {},
   "source": [
    "- 2 cluster memiliki porsi di atas 43% data"
   ]
  },
  {
   "cell_type": "markdown",
   "metadata": {},
   "source": [
    "*periksa centroid* sebagai representasi cluster"
   ]
  },
  {
   "cell_type": "code",
   "execution_count": null,
   "metadata": {},
   "outputs": [],
   "source": [
    "# Check centroid\n",
    "kmeans_obj.cluster_centers_"
   ]
  },
  {
   "cell_type": "code",
   "execution_count": null,
   "metadata": {},
   "outputs": [],
   "source": [
    "# Jadikan dataframe\n",
    "centroids = kmeans_obj.cluster_centers_\n",
    "centroids = pd.DataFrame(data = centroids,\n",
    "                         columns = data_train_num_clean.columns)\n",
    "\n",
    "centroids"
   ]
  },
  {
   "cell_type": "markdown",
   "metadata": {},
   "source": [
    "- Tentu hal diatas tidak bisa diartikan\n",
    "- Karena dalam bentuk terstandardkan\n",
    "- Kita harus balikan ke dalam bentuk awal sebelum distandarisasi"
   ]
  },
  {
   "cell_type": "markdown",
   "metadata": {},
   "source": [
    "*inverse transform dari standardizer*"
   ]
  },
  {
   "cell_type": "code",
   "execution_count": null,
   "metadata": {},
   "outputs": [],
   "source": [
    "centroid_real = num_scaler.inverse_transform(centroids)\n",
    "centroid_real = pd.DataFrame(data = centroid_real,\n",
    "                             columns = data_train_num_clean.columns)\n",
    "\n",
    "centroid_real"
   ]
  },
  {
   "cell_type": "markdown",
   "metadata": {},
   "source": [
    "*lalu artinya apa?* - Harus di translate sendiri\n",
    "- Cluster 1 (0) adalah **group** yang\n",
    "    - dikontak di awal bulan\n",
    "    - sudah pernah dikontak 2x **selama** campaign\n",
    "    - belum pernah dikontak **sebelum** campaign"
   ]
  },
  {
   "cell_type": "markdown",
   "metadata": {},
   "source": [
    "*BEST K?*"
   ]
  },
  {
   "cell_type": "markdown",
   "metadata": {},
   "source": [
    "Score -- within-cluster sum-of-squares\n",
    "\n",
    "$$\n",
    "\\text{scores} = - \\sum_{i=0}^{n} ||x_{i} - \\mu_{j}||^{2}\n",
    "$$"
   ]
  },
  {
   "cell_type": "code",
   "execution_count": null,
   "metadata": {},
   "outputs": [],
   "source": [
    "# Tampilkan score\n",
    "-kmeans_obj.score(data_train_num_clean)"
   ]
  },
  {
   "cell_type": "markdown",
   "metadata": {},
   "source": [
    "*coba variasikan beberapa cluster*"
   ]
  },
  {
   "cell_type": "code",
   "execution_count": null,
   "metadata": {},
   "outputs": [],
   "source": [
    "score_list = []\n",
    "k_list = np.arange(2, 11, 1)\n",
    "\n",
    "for k in k_list:\n",
    "    # Buat object\n",
    "    kmeans_obj_k = KMeans(n_clusters = k,\n",
    "                          max_iter = 50,\n",
    "                          random_state = 123)\n",
    "    \n",
    "    # Fit data\n",
    "    kmeans_obj_k.fit(data_train_num_clean)\n",
    "\n",
    "    # update score\n",
    "    score_k = -kmeans_obj_k.score(data_train_num_clean)\n",
    "    score_list.append(score_k)\n"
   ]
  },
  {
   "cell_type": "code",
   "execution_count": null,
   "metadata": {},
   "outputs": [],
   "source": [
    "score_list"
   ]
  },
  {
   "cell_type": "code",
   "execution_count": null,
   "metadata": {},
   "outputs": [],
   "source": [
    "fig, ax = plt.subplots(nrows=1, ncols=1, figsize=(10, 7))\n",
    "\n",
    "ax.plot(k_list, score_list, \"r\", marker=\"o\")\n",
    "\n",
    "ax.set_xlabel(\"number of cluster\")\n",
    "ax.set_ylabel(\"within-cluster sum-of-square\")\n",
    "plt.show()"
   ]
  },
  {
   "cell_type": "markdown",
   "metadata": {},
   "source": [
    "- Makin banyak cluster, makin rendah scorenya.\n",
    "- Tapi, makin banyak cluster, makin kompleks untuk diinterpretasikan.\n",
    "- Kita coba ambil cluster terbaik di 9, karena perubahan error di cluster 10 mengecil"
   ]
  },
  {
   "cell_type": "code",
   "execution_count": null,
   "metadata": {},
   "outputs": [],
   "source": [
    "# Buat object\n",
    "kmeans_obj_best = KMeans(n_clusters = 9,\n",
    "                         random_state = 123)\n",
    "\n",
    "# Fit object\n",
    "kmeans_obj_best.fit(data_train_num_clean)"
   ]
  },
  {
   "cell_type": "markdown",
   "metadata": {},
   "source": [
    "**Tampilkan Centroid**"
   ]
  },
  {
   "cell_type": "code",
   "execution_count": null,
   "metadata": {},
   "outputs": [],
   "source": [
    "# Jadikan centroid dalam bentuk dataframe\n",
    "centroids_best = kmeans_obj_best.cluster_centers_\n",
    "centroids_best = pd.DataFrame(data = centroids_best,\n",
    "                              columns = data_train_num_clean.columns)\n",
    "\n",
    "# Inverse transform\n",
    "centroid_real_best = num_scaler.inverse_transform(centroids_best)\n",
    "centroid_real_best = pd.DataFrame(data = centroid_real_best,\n",
    "                                  columns = data_train_num_clean.columns)\n",
    "\n",
    "centroid_real_best"
   ]
  },
  {
   "cell_type": "markdown",
   "metadata": {},
   "source": [
    "*Coba Interpretasikan di atas ini?*"
   ]
  },
  {
   "cell_type": "markdown",
   "metadata": {},
   "source": [
    "**Predict Cluster**"
   ]
  },
  {
   "cell_type": "code",
   "execution_count": null,
   "metadata": {},
   "outputs": [],
   "source": [
    "cluster_best = kmeans_obj_best.predict(data_train_num_clean)\n",
    "\n",
    "cluster_best = pd.DataFrame(data = cluster_best,\n",
    "                            columns = [\"cluster\"],\n",
    "                            index= data_train_num_clean.index)\n",
    "cluster_best.head()"
   ]
  },
  {
   "cell_type": "markdown",
   "metadata": {},
   "source": [
    "---\n",
    "# Modeling Clustering - Data PCA"
   ]
  },
  {
   "cell_type": "markdown",
   "metadata": {},
   "source": [
    "*Variasikan beberapa cluster*"
   ]
  },
  {
   "cell_type": "code",
   "execution_count": null,
   "metadata": {},
   "outputs": [],
   "source": [
    "score_list = []\n",
    "k_list = np.arange(2, 11, 1)\n",
    "\n",
    "for k in k_list:\n",
    "    # Buat object\n",
    "    kmeans_obj_k = KMeans(n_clusters = k,\n",
    "                          max_iter = 50,\n",
    "                          random_state = 123)\n",
    "    \n",
    "    # Fit data\n",
    "    kmeans_obj_k.fit(data_train_num_pca)\n",
    "\n",
    "    # update score\n",
    "    score_k = -kmeans_obj_k.score(data_train_num_pca)\n",
    "    score_list.append(score_k)\n"
   ]
  },
  {
   "cell_type": "code",
   "execution_count": null,
   "metadata": {},
   "outputs": [],
   "source": [
    "score_list"
   ]
  },
  {
   "cell_type": "code",
   "execution_count": null,
   "metadata": {},
   "outputs": [],
   "source": [
    "fig, ax = plt.subplots(nrows=1, ncols=1, figsize=(10, 7))\n",
    "\n",
    "ax.plot(k_list, score_list, \"r\", marker=\"o\")\n",
    "\n",
    "ax.set_xlabel(\"number of cluster\")\n",
    "ax.set_ylabel(\"within-cluster sum-of-square\")\n",
    "plt.show()"
   ]
  },
  {
   "cell_type": "markdown",
   "metadata": {},
   "source": [
    "- Makin banyak cluster, makin rendah scorenya.\n",
    "- Tapi, makin banyak cluster, makin kompleks untuk diinterpretasikan.\n",
    "- Kita coba ambil cluster terbaik di 7, karena perubahan error di cluster selanjutnya mengecil"
   ]
  },
  {
   "cell_type": "code",
   "execution_count": null,
   "metadata": {},
   "outputs": [],
   "source": [
    "# Buat object\n",
    "kmeans_obj_pca_best = KMeans(n_clusters = 7,\n",
    "                             random_state = 123)\n",
    "\n",
    "# Fit object\n",
    "kmeans_obj_pca_best.fit(data_train_num_pca)"
   ]
  },
  {
   "cell_type": "markdown",
   "metadata": {},
   "source": [
    "**Predict Cluster**"
   ]
  },
  {
   "cell_type": "code",
   "execution_count": null,
   "metadata": {},
   "outputs": [],
   "source": [
    "cluster_pca_best = kmeans_obj_pca_best.predict(data_train_num_pca)\n",
    "\n",
    "cluster_pca_best = pd.DataFrame(data = cluster_pca_best,\n",
    "                                columns = [\"cluster\"],\n",
    "                                index = data_train_num_pca.index)\n",
    "cluster_pca_best.head()"
   ]
  },
  {
   "cell_type": "markdown",
   "metadata": {},
   "source": [
    "*Centroid PCA*"
   ]
  },
  {
   "cell_type": "code",
   "execution_count": null,
   "metadata": {},
   "outputs": [],
   "source": [
    "# Cari centroid\n",
    "centroid_pca_best = kmeans_obj_pca_best.cluster_centers_\n",
    "centroid_pca_best = pd.DataFrame(data = centroid_pca_best,\n",
    "                                 columns = data_train_num_pca.columns)\n",
    "centroid_pca_best"
   ]
  },
  {
   "cell_type": "code",
   "execution_count": null,
   "metadata": {},
   "outputs": [],
   "source": [
    "# Inverse transform centroid pca\n",
    "# agar dapat diinterpretasikan\n",
    "centroid_pca_best_inv = pca_obj.inverse_transform(centroid_pca_best)\n",
    "centroid_pca_best_inv = pd.DataFrame(centroid_pca_best_inv,\n",
    "                                     columns = data_train_num_clean.columns)\n",
    "centroid_pca_best_inv"
   ]
  },
  {
   "cell_type": "code",
   "execution_count": null,
   "metadata": {},
   "outputs": [],
   "source": [
    "# Inverse transform centroid standardisasi\n",
    "# agar dapat diinterpretasikan\n",
    "centroid_pca_best_real = num_scaler.inverse_transform(centroid_pca_best_inv)\n",
    "centroid_pca_best_real = pd.DataFrame(centroid_pca_best_real,\n",
    "                                      columns = data_train_num_clean.columns)\n",
    "\n",
    "centroid_pca_best_real"
   ]
  },
  {
   "cell_type": "markdown",
   "metadata": {},
   "source": [
    "**Sekarang, data bisa diinterpretasikan**"
   ]
  },
  {
   "cell_type": "markdown",
   "metadata": {},
   "source": [
    "---\n",
    "# Clustering Test Data"
   ]
  },
  {
   "cell_type": "markdown",
   "metadata": {},
   "source": [
    "## Preprocessing Test Data"
   ]
  },
  {
   "cell_type": "code",
   "execution_count": null,
   "metadata": {},
   "outputs": [],
   "source": [
    "def transformTestData(data, num_col, cat_col, num_imputer, num_scaler):\n",
    "    # 1. Split num-cat data\n",
    "    data_num, _ = splitNumCat(data = data,\n",
    "                              num_col = num_col,\n",
    "                              cat_col = cat_col)\n",
    "    \n",
    "    # 2. Handling Data\n",
    "    # 2.1 transform month\n",
    "    data_num = transformMonth(data = data_num)\n",
    "\n",
    "    # 2.2 impute data\n",
    "    data_num_imputed, _= imputerNumeric(data = data_train_num,\n",
    "                                        imputer = num_imputer)\n",
    "    \n",
    "    # 2.3 Standardization\n",
    "    data_num_scaled = transformStandardize(data = data_num_imputed,\n",
    "                                           scaler = num_scaler)\n",
    "    \n",
    "    return data_num_scaled\n",
    "    "
   ]
  },
  {
   "cell_type": "code",
   "execution_count": null,
   "metadata": {},
   "outputs": [],
   "source": [
    "data_test_clean = transformTestData(data = data_test,\n",
    "                                    num_col = num_col,\n",
    "                                    cat_col = cat_col,\n",
    "                                    num_imputer = num_imputer,\n",
    "                                    num_scaler = num_scaler)"
   ]
  },
  {
   "cell_type": "code",
   "execution_count": null,
   "metadata": {},
   "outputs": [],
   "source": [
    "data_test_clean.head()"
   ]
  },
  {
   "cell_type": "markdown",
   "metadata": {},
   "source": [
    "*Transform PCA*"
   ]
  },
  {
   "cell_type": "code",
   "execution_count": null,
   "metadata": {},
   "outputs": [],
   "source": [
    "data_test_clean_pca = transformPCA(data = data_test_clean,\n",
    "                                   pca_obj = pca_obj)"
   ]
  },
  {
   "cell_type": "code",
   "execution_count": null,
   "metadata": {},
   "outputs": [],
   "source": [
    "data_test_clean_pca.head()"
   ]
  },
  {
   "cell_type": "markdown",
   "metadata": {},
   "source": [
    "## Predict Test Data"
   ]
  },
  {
   "cell_type": "markdown",
   "metadata": {},
   "source": [
    "*predict data test - FULL*"
   ]
  },
  {
   "cell_type": "code",
   "execution_count": null,
   "metadata": {},
   "outputs": [],
   "source": [
    "kmeans_obj_best.predict(data_test_clean)"
   ]
  },
  {
   "cell_type": "markdown",
   "metadata": {},
   "source": [
    "*predict data test - PCA*"
   ]
  },
  {
   "cell_type": "code",
   "execution_count": null,
   "metadata": {},
   "outputs": [],
   "source": [
    "kmeans_obj_pca_best.predict(data_test_clean_pca)"
   ]
  },
  {
   "cell_type": "markdown",
   "metadata": {},
   "source": [
    "*Perlukah Cross Validation?*"
   ]
  }
 ],
 "metadata": {
  "kernelspec": {
   "display_name": "pacmann_env",
   "language": "python",
   "name": "python3"
  },
  "language_info": {
   "codemirror_mode": {
    "name": "ipython",
    "version": 3
   },
   "file_extension": ".py",
   "mimetype": "text/x-python",
   "name": "python",
   "nbconvert_exporter": "python",
   "pygments_lexer": "ipython3",
   "version": "3.9.1"
  }
 },
 "nbformat": 4,
 "nbformat_minor": 2
}
