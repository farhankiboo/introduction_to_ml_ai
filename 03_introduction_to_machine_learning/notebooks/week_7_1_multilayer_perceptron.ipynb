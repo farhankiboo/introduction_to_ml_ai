{
 "cells": [
  {
   "cell_type": "markdown",
   "metadata": {},
   "source": [
    "# **Machine Learning Week 7**\n",
    "---\n",
    "> Introduction to Machine Learning <br>\n",
    "> Sekolah Data, Pacmann"
   ]
  },
  {
   "cell_type": "markdown",
   "metadata": {},
   "source": [
    "---\n",
    "# Siapkan Data"
   ]
  },
  {
   "cell_type": "code",
   "execution_count": 1,
   "metadata": {},
   "outputs": [],
   "source": [
    "import pandas as pd\n",
    "import numpy as np\n",
    "\n",
    "import matplotlib.pyplot as plt\n",
    "import seaborn as sns\n",
    "\n",
    "plt.rcParams[\"figure.figsize\"] = (10, 7)\n",
    "plt.rcParams[\"font.size\"] = 16"
   ]
  },
  {
   "cell_type": "markdown",
   "metadata": {},
   "source": [
    "## **Prediksi karyawan left (1) atau tidak (0)**"
   ]
  },
  {
   "cell_type": "markdown",
   "metadata": {},
   "source": [
    "*Cek Resiko dengan Sederhana*\n",
    "\n",
    "- Salah prediksi karyawan stay - diprediksi stay, padahal resign/left\n",
    "  - Resource bisa berkurang sehingga produktifitas menurun\n",
    "  - Mengeluarkan cost untuk pesangon karyawan\n",
    "  - Ada kemungkinan beberapa target tidak terkejar\n",
    "\n",
    "- Salah prediksi karyawan left - diprediksi left, padahal stay\n",
    "  - Sudah membuka job opening lebih dulu, HR bisa buang-buang waktu.\n",
    "  - Mungkin melakukan restrukturisasi tim.\n",
    "\n",
    "---\n",
    "- Lebih besar resiko dari salah prediksi karyawan stay\n",
    "- Apabila stay = negative (0) & left = positive (1)\n",
    "- Maka kita ingin memperkecil nilai False Negative\n",
    "- Dengan kata lain memperbesar nilai Recall\n",
    "\n",
    "$$\n",
    "\\text{Recall} = \\cfrac{TP}{TP + FN}\n",
    "$$"
   ]
  },
  {
   "cell_type": "markdown",
   "metadata": {},
   "source": [
    "**Import Data**"
   ]
  },
  {
   "cell_type": "code",
   "execution_count": 2,
   "metadata": {},
   "outputs": [],
   "source": [
    "def importData(filename):\n",
    "    # Read Data\n",
    "    data = pd.read_csv(filename)\n",
    "    print(f\"shape awal                    : {data.shape}, (#observasi, #fitur)\")\n",
    "\n",
    "    # Drop duplicate\n",
    "    data = data.drop_duplicates()\n",
    "    print(f\"shape setelah drop duplikat   : {data.shape}, (#observasi, #fitur)\")\n",
    "\n",
    "    return data\n"
   ]
  },
  {
   "cell_type": "code",
   "execution_count": 3,
   "metadata": {},
   "outputs": [
    {
     "name": "stdout",
     "output_type": "stream",
     "text": [
      "shape awal                    : (14999, 10), (#observasi, #fitur)\n",
      "shape setelah drop duplikat   : (11991, 10), (#observasi, #fitur)\n"
     ]
    },
    {
     "data": {
      "text/html": [
       "<div>\n",
       "<style scoped>\n",
       "    .dataframe tbody tr th:only-of-type {\n",
       "        vertical-align: middle;\n",
       "    }\n",
       "\n",
       "    .dataframe tbody tr th {\n",
       "        vertical-align: top;\n",
       "    }\n",
       "\n",
       "    .dataframe thead th {\n",
       "        text-align: right;\n",
       "    }\n",
       "</style>\n",
       "<table border=\"1\" class=\"dataframe\">\n",
       "  <thead>\n",
       "    <tr style=\"text-align: right;\">\n",
       "      <th></th>\n",
       "      <th>satisfaction_level</th>\n",
       "      <th>last_evaluation</th>\n",
       "      <th>number_project</th>\n",
       "      <th>average_montly_hours</th>\n",
       "      <th>time_spend_company</th>\n",
       "      <th>Work_accident</th>\n",
       "      <th>left</th>\n",
       "      <th>promotion_last_5years</th>\n",
       "      <th>division</th>\n",
       "      <th>salary</th>\n",
       "    </tr>\n",
       "  </thead>\n",
       "  <tbody>\n",
       "    <tr>\n",
       "      <th>0</th>\n",
       "      <td>0.38</td>\n",
       "      <td>0.53</td>\n",
       "      <td>2</td>\n",
       "      <td>157</td>\n",
       "      <td>3</td>\n",
       "      <td>0</td>\n",
       "      <td>1</td>\n",
       "      <td>0</td>\n",
       "      <td>sales</td>\n",
       "      <td>low</td>\n",
       "    </tr>\n",
       "    <tr>\n",
       "      <th>1</th>\n",
       "      <td>0.80</td>\n",
       "      <td>0.86</td>\n",
       "      <td>5</td>\n",
       "      <td>262</td>\n",
       "      <td>6</td>\n",
       "      <td>0</td>\n",
       "      <td>1</td>\n",
       "      <td>0</td>\n",
       "      <td>sales</td>\n",
       "      <td>medium</td>\n",
       "    </tr>\n",
       "    <tr>\n",
       "      <th>2</th>\n",
       "      <td>0.11</td>\n",
       "      <td>0.88</td>\n",
       "      <td>7</td>\n",
       "      <td>272</td>\n",
       "      <td>4</td>\n",
       "      <td>0</td>\n",
       "      <td>1</td>\n",
       "      <td>0</td>\n",
       "      <td>sales</td>\n",
       "      <td>medium</td>\n",
       "    </tr>\n",
       "    <tr>\n",
       "      <th>3</th>\n",
       "      <td>0.72</td>\n",
       "      <td>0.87</td>\n",
       "      <td>5</td>\n",
       "      <td>223</td>\n",
       "      <td>5</td>\n",
       "      <td>0</td>\n",
       "      <td>1</td>\n",
       "      <td>0</td>\n",
       "      <td>sales</td>\n",
       "      <td>low</td>\n",
       "    </tr>\n",
       "    <tr>\n",
       "      <th>4</th>\n",
       "      <td>0.37</td>\n",
       "      <td>0.52</td>\n",
       "      <td>2</td>\n",
       "      <td>159</td>\n",
       "      <td>3</td>\n",
       "      <td>0</td>\n",
       "      <td>1</td>\n",
       "      <td>0</td>\n",
       "      <td>sales</td>\n",
       "      <td>low</td>\n",
       "    </tr>\n",
       "  </tbody>\n",
       "</table>\n",
       "</div>"
      ],
      "text/plain": [
       "   satisfaction_level  last_evaluation  number_project  average_montly_hours  \\\n",
       "0                0.38             0.53               2                   157   \n",
       "1                0.80             0.86               5                   262   \n",
       "2                0.11             0.88               7                   272   \n",
       "3                0.72             0.87               5                   223   \n",
       "4                0.37             0.52               2                   159   \n",
       "\n",
       "   time_spend_company  Work_accident  left  promotion_last_5years division  \\\n",
       "0                   3              0     1                      0    sales   \n",
       "1                   6              0     1                      0    sales   \n",
       "2                   4              0     1                      0    sales   \n",
       "3                   5              0     1                      0    sales   \n",
       "4                   3              0     1                      0    sales   \n",
       "\n",
       "   salary  \n",
       "0     low  \n",
       "1  medium  \n",
       "2  medium  \n",
       "3     low  \n",
       "4     low  "
      ]
     },
     "execution_count": 3,
     "metadata": {},
     "output_type": "execute_result"
    }
   ],
   "source": [
    "filename = \"C:/Users/farha/Documents/pacmann/03_introduction_to_machine_learning/data/raw/w7-data_hr.csv\"\n",
    "data = importData(filename = filename)\n",
    "\n",
    "data.head()"
   ]
  },
  {
   "cell_type": "markdown",
   "metadata": {},
   "source": [
    "**Split Data Input-Ouput**"
   ]
  },
  {
   "cell_type": "code",
   "execution_count": 4,
   "metadata": {},
   "outputs": [],
   "source": [
    "def splitInputOutput(data, target_column):\n",
    "    X = data.drop(columns = target_column)\n",
    "    y = data[target_column]\n",
    "\n",
    "    return X, y"
   ]
  },
  {
   "cell_type": "code",
   "execution_count": 5,
   "metadata": {},
   "outputs": [
    {
     "data": {
      "text/plain": [
       "(<bound method NDFrame.head of        satisfaction_level  last_evaluation  number_project  \\\n",
       " 0                    0.38             0.53               2   \n",
       " 1                    0.80             0.86               5   \n",
       " 2                    0.11             0.88               7   \n",
       " 3                    0.72             0.87               5   \n",
       " 4                    0.37             0.52               2   \n",
       " ...                   ...              ...             ...   \n",
       " 11995                0.90             0.55               3   \n",
       " 11996                0.74             0.95               5   \n",
       " 11997                0.85             0.54               3   \n",
       " 11998                0.33             0.65               3   \n",
       " 11999                0.50             0.73               4   \n",
       " \n",
       "        average_montly_hours  time_spend_company  Work_accident  \\\n",
       " 0                       157                   3              0   \n",
       " 1                       262                   6              0   \n",
       " 2                       272                   4              0   \n",
       " 3                       223                   5              0   \n",
       " 4                       159                   3              0   \n",
       " ...                     ...                 ...            ...   \n",
       " 11995                   259                  10              1   \n",
       " 11996                   266                  10              0   \n",
       " 11997                   185                  10              0   \n",
       " 11998                   172                  10              0   \n",
       " 11999                   180                   3              0   \n",
       " \n",
       "        promotion_last_5years    division  salary  \n",
       " 0                          0       sales     low  \n",
       " 1                          0       sales  medium  \n",
       " 2                          0       sales  medium  \n",
       " 3                          0       sales     low  \n",
       " 4                          0       sales     low  \n",
       " ...                      ...         ...     ...  \n",
       " 11995                      1  management    high  \n",
       " 11996                      1  management    high  \n",
       " 11997                      1  management    high  \n",
       " 11998                      1   marketing    high  \n",
       " 11999                      0          IT     low  \n",
       " \n",
       " [11991 rows x 9 columns]>,\n",
       " <bound method NDFrame.head of 0        1\n",
       " 1        1\n",
       " 2        1\n",
       " 3        1\n",
       " 4        1\n",
       "         ..\n",
       " 11995    0\n",
       " 11996    0\n",
       " 11997    0\n",
       " 11998    0\n",
       " 11999    0\n",
       " Name: left, Length: 11991, dtype: int64>)"
      ]
     },
     "execution_count": 5,
     "metadata": {},
     "output_type": "execute_result"
    }
   ],
   "source": [
    "target_column = \"left\"\n",
    "X, y = splitInputOutput(data = data,\n",
    "                        target_column = target_column)\n",
    "\n",
    "X.head, y.head"
   ]
  },
  {
   "cell_type": "markdown",
   "metadata": {},
   "source": [
    "**Split Train-Test**"
   ]
  },
  {
   "cell_type": "code",
   "execution_count": 6,
   "metadata": {},
   "outputs": [
    {
     "data": {
      "text/plain": [
       "left\n",
       "0    0.833959\n",
       "1    0.166041\n",
       "Name: proportion, dtype: float64"
      ]
     },
     "execution_count": 6,
     "metadata": {},
     "output_type": "execute_result"
    }
   ],
   "source": [
    "# Cek kondisi proporsi kelas target\n",
    "y.value_counts(normalize = True)\n",
    "\n",
    "# Tidak balance"
   ]
  },
  {
   "cell_type": "code",
   "execution_count": 7,
   "metadata": {},
   "outputs": [
    {
     "data": {
      "text/plain": [
       "((9592, 9), (2399, 9), (9592,), (2399,))"
      ]
     },
     "execution_count": 7,
     "metadata": {},
     "output_type": "execute_result"
    }
   ],
   "source": [
    "from sklearn.model_selection import train_test_split\n",
    "\n",
    "X_train, X_test, y_train, y_test = train_test_split(X, y,\n",
    "                                                    stratify = y,\n",
    "                                                    test_size = 0.2,\n",
    "                                                    random_state = 123)\n",
    "\n",
    "X_train.shape, X_test.shape, y_train.shape, y_test.shape"
   ]
  },
  {
   "cell_type": "markdown",
   "metadata": {},
   "source": [
    "**Splitting Categorical & Numerical Column**"
   ]
  },
  {
   "cell_type": "code",
   "execution_count": 8,
   "metadata": {},
   "outputs": [
    {
     "data": {
      "text/html": [
       "<div>\n",
       "<style scoped>\n",
       "    .dataframe tbody tr th:only-of-type {\n",
       "        vertical-align: middle;\n",
       "    }\n",
       "\n",
       "    .dataframe tbody tr th {\n",
       "        vertical-align: top;\n",
       "    }\n",
       "\n",
       "    .dataframe thead th {\n",
       "        text-align: right;\n",
       "    }\n",
       "</style>\n",
       "<table border=\"1\" class=\"dataframe\">\n",
       "  <thead>\n",
       "    <tr style=\"text-align: right;\">\n",
       "      <th></th>\n",
       "      <th>satisfaction_level</th>\n",
       "      <th>last_evaluation</th>\n",
       "      <th>number_project</th>\n",
       "      <th>average_montly_hours</th>\n",
       "      <th>time_spend_company</th>\n",
       "      <th>Work_accident</th>\n",
       "      <th>promotion_last_5years</th>\n",
       "      <th>division</th>\n",
       "      <th>salary</th>\n",
       "    </tr>\n",
       "  </thead>\n",
       "  <tbody>\n",
       "    <tr>\n",
       "      <th>9492</th>\n",
       "      <td>0.44</td>\n",
       "      <td>0.56</td>\n",
       "      <td>3</td>\n",
       "      <td>123</td>\n",
       "      <td>3</td>\n",
       "      <td>0</td>\n",
       "      <td>0</td>\n",
       "      <td>accounting</td>\n",
       "      <td>medium</td>\n",
       "    </tr>\n",
       "    <tr>\n",
       "      <th>11555</th>\n",
       "      <td>0.98</td>\n",
       "      <td>0.44</td>\n",
       "      <td>4</td>\n",
       "      <td>154</td>\n",
       "      <td>6</td>\n",
       "      <td>1</td>\n",
       "      <td>0</td>\n",
       "      <td>sales</td>\n",
       "      <td>medium</td>\n",
       "    </tr>\n",
       "    <tr>\n",
       "      <th>11301</th>\n",
       "      <td>0.76</td>\n",
       "      <td>0.99</td>\n",
       "      <td>3</td>\n",
       "      <td>133</td>\n",
       "      <td>4</td>\n",
       "      <td>0</td>\n",
       "      <td>0</td>\n",
       "      <td>sales</td>\n",
       "      <td>low</td>\n",
       "    </tr>\n",
       "    <tr>\n",
       "      <th>5578</th>\n",
       "      <td>0.47</td>\n",
       "      <td>0.55</td>\n",
       "      <td>2</td>\n",
       "      <td>156</td>\n",
       "      <td>2</td>\n",
       "      <td>0</td>\n",
       "      <td>0</td>\n",
       "      <td>management</td>\n",
       "      <td>medium</td>\n",
       "    </tr>\n",
       "    <tr>\n",
       "      <th>6241</th>\n",
       "      <td>0.84</td>\n",
       "      <td>0.68</td>\n",
       "      <td>4</td>\n",
       "      <td>151</td>\n",
       "      <td>2</td>\n",
       "      <td>0</td>\n",
       "      <td>0</td>\n",
       "      <td>technical</td>\n",
       "      <td>low</td>\n",
       "    </tr>\n",
       "  </tbody>\n",
       "</table>\n",
       "</div>"
      ],
      "text/plain": [
       "       satisfaction_level  last_evaluation  number_project  \\\n",
       "9492                 0.44             0.56               3   \n",
       "11555                0.98             0.44               4   \n",
       "11301                0.76             0.99               3   \n",
       "5578                 0.47             0.55               2   \n",
       "6241                 0.84             0.68               4   \n",
       "\n",
       "       average_montly_hours  time_spend_company  Work_accident  \\\n",
       "9492                    123                   3              0   \n",
       "11555                   154                   6              1   \n",
       "11301                   133                   4              0   \n",
       "5578                    156                   2              0   \n",
       "6241                    151                   2              0   \n",
       "\n",
       "       promotion_last_5years    division  salary  \n",
       "9492                       0  accounting  medium  \n",
       "11555                      0       sales  medium  \n",
       "11301                      0       sales     low  \n",
       "5578                       0  management  medium  \n",
       "6241                       0   technical     low  "
      ]
     },
     "execution_count": 8,
     "metadata": {},
     "output_type": "execute_result"
    }
   ],
   "source": [
    "X_train.head()"
   ]
  },
  {
   "cell_type": "code",
   "execution_count": 9,
   "metadata": {},
   "outputs": [
    {
     "data": {
      "text/plain": [
       "(['Work_accident', 'promotion_last_5years', 'division', 'salary'],\n",
       " ['number_project',\n",
       "  'average_montly_hours',\n",
       "  'time_spend_company',\n",
       "  'last_evaluation',\n",
       "  'satisfaction_level'])"
      ]
     },
     "execution_count": 9,
     "metadata": {},
     "output_type": "execute_result"
    }
   ],
   "source": [
    "categorical_col = [\"Work_accident\", \"promotion_last_5years\", \"division\", \"salary\"]\n",
    "numerical_col = list(set(X_train.columns) - set(categorical_col))\n",
    "\n",
    "categorical_col, numerical_col"
   ]
  },
  {
   "cell_type": "code",
   "execution_count": 10,
   "metadata": {},
   "outputs": [],
   "source": [
    "def splitNumCat(data, num_col, cat_col):\n",
    "    data_num = data[num_col]\n",
    "    data_cat = data[cat_col]\n",
    "\n",
    "    return data_num, data_cat"
   ]
  },
  {
   "cell_type": "code",
   "execution_count": 11,
   "metadata": {},
   "outputs": [],
   "source": [
    "X_train_num, X_train_cat = splitNumCat(data = X_train,\n",
    "                                       num_col = numerical_col,\n",
    "                                       cat_col = categorical_col)"
   ]
  },
  {
   "cell_type": "markdown",
   "metadata": {},
   "source": [
    "**Handling Numerical Data**"
   ]
  },
  {
   "cell_type": "code",
   "execution_count": 12,
   "metadata": {},
   "outputs": [
    {
     "data": {
      "text/plain": [
       "number_project          False\n",
       "average_montly_hours    False\n",
       "time_spend_company      False\n",
       "last_evaluation         False\n",
       "satisfaction_level      False\n",
       "dtype: bool"
      ]
     },
     "execution_count": 12,
     "metadata": {},
     "output_type": "execute_result"
    }
   ],
   "source": [
    "# Check missing value\n",
    "X_train_num.isna().any()"
   ]
  },
  {
   "cell_type": "code",
   "execution_count": 13,
   "metadata": {},
   "outputs": [],
   "source": [
    "# Buat imputer untuk jaga-jaga apabila di data test ada yang kosong\n",
    "from sklearn.impute import SimpleImputer\n",
    "\n",
    "def imputerNum(data, imputer = None):\n",
    "    if imputer == None:\n",
    "        # Buat imputer\n",
    "        imputer = SimpleImputer(missing_values = np.nan,\n",
    "                                strategy = \"median\")\n",
    "        imputer.fit(data)\n",
    "\n",
    "    # Transform data dengan imputer\n",
    "    data_imputed = imputer.transform(data)\n",
    "    data_imputed = pd.DataFrame(data_imputed,\n",
    "                                index = data.index,\n",
    "                                columns = data.columns)\n",
    "    \n",
    "    return data_imputed, imputer\n"
   ]
  },
  {
   "cell_type": "code",
   "execution_count": 14,
   "metadata": {},
   "outputs": [],
   "source": [
    "X_train_num_imputed, imputer_num = imputerNum(data = X_train_num)"
   ]
  },
  {
   "cell_type": "code",
   "execution_count": 15,
   "metadata": {},
   "outputs": [
    {
     "data": {
      "text/html": [
       "<div>\n",
       "<style scoped>\n",
       "    .dataframe tbody tr th:only-of-type {\n",
       "        vertical-align: middle;\n",
       "    }\n",
       "\n",
       "    .dataframe tbody tr th {\n",
       "        vertical-align: top;\n",
       "    }\n",
       "\n",
       "    .dataframe thead th {\n",
       "        text-align: right;\n",
       "    }\n",
       "</style>\n",
       "<table border=\"1\" class=\"dataframe\">\n",
       "  <thead>\n",
       "    <tr style=\"text-align: right;\">\n",
       "      <th></th>\n",
       "      <th>number_project</th>\n",
       "      <th>average_montly_hours</th>\n",
       "      <th>time_spend_company</th>\n",
       "      <th>last_evaluation</th>\n",
       "      <th>satisfaction_level</th>\n",
       "    </tr>\n",
       "  </thead>\n",
       "  <tbody>\n",
       "    <tr>\n",
       "      <th>9492</th>\n",
       "      <td>3.0</td>\n",
       "      <td>123.0</td>\n",
       "      <td>3.0</td>\n",
       "      <td>0.56</td>\n",
       "      <td>0.44</td>\n",
       "    </tr>\n",
       "    <tr>\n",
       "      <th>11555</th>\n",
       "      <td>4.0</td>\n",
       "      <td>154.0</td>\n",
       "      <td>6.0</td>\n",
       "      <td>0.44</td>\n",
       "      <td>0.98</td>\n",
       "    </tr>\n",
       "    <tr>\n",
       "      <th>11301</th>\n",
       "      <td>3.0</td>\n",
       "      <td>133.0</td>\n",
       "      <td>4.0</td>\n",
       "      <td>0.99</td>\n",
       "      <td>0.76</td>\n",
       "    </tr>\n",
       "    <tr>\n",
       "      <th>5578</th>\n",
       "      <td>2.0</td>\n",
       "      <td>156.0</td>\n",
       "      <td>2.0</td>\n",
       "      <td>0.55</td>\n",
       "      <td>0.47</td>\n",
       "    </tr>\n",
       "    <tr>\n",
       "      <th>6241</th>\n",
       "      <td>4.0</td>\n",
       "      <td>151.0</td>\n",
       "      <td>2.0</td>\n",
       "      <td>0.68</td>\n",
       "      <td>0.84</td>\n",
       "    </tr>\n",
       "  </tbody>\n",
       "</table>\n",
       "</div>"
      ],
      "text/plain": [
       "       number_project  average_montly_hours  time_spend_company  \\\n",
       "9492              3.0                 123.0                 3.0   \n",
       "11555             4.0                 154.0                 6.0   \n",
       "11301             3.0                 133.0                 4.0   \n",
       "5578              2.0                 156.0                 2.0   \n",
       "6241              4.0                 151.0                 2.0   \n",
       "\n",
       "       last_evaluation  satisfaction_level  \n",
       "9492              0.56                0.44  \n",
       "11555             0.44                0.98  \n",
       "11301             0.99                0.76  \n",
       "5578              0.55                0.47  \n",
       "6241              0.68                0.84  "
      ]
     },
     "execution_count": 15,
     "metadata": {},
     "output_type": "execute_result"
    }
   ],
   "source": [
    "X_train_num_imputed.head()"
   ]
  },
  {
   "cell_type": "markdown",
   "metadata": {},
   "source": [
    "**Handling Categorical Data**"
   ]
  },
  {
   "cell_type": "code",
   "execution_count": 16,
   "metadata": {},
   "outputs": [
    {
     "data": {
      "text/plain": [
       "Work_accident            0\n",
       "promotion_last_5years    0\n",
       "division                 0\n",
       "salary                   0\n",
       "dtype: int64"
      ]
     },
     "execution_count": 16,
     "metadata": {},
     "output_type": "execute_result"
    }
   ],
   "source": [
    "# Check missing value\n",
    "X_train_cat.isna().any()\n",
    "X_train_cat.isna().sum()"
   ]
  },
  {
   "cell_type": "code",
   "execution_count": 17,
   "metadata": {},
   "outputs": [],
   "source": [
    "# Buat imputer untuk jaga-jaga apabila di data test ada yang kosong\n",
    "def imputerCat(data, imputer = None):\n",
    "    if imputer == None:\n",
    "        # Buat imputer\n",
    "        imputer = SimpleImputer(missing_values = np.nan,\n",
    "                                strategy = \"constant\",\n",
    "                                fill_value = \"UNKNOWN\")\n",
    "        imputer.fit(data)\n",
    "\n",
    "    # Transform data dengan imputer\n",
    "    data_imputed = imputer.transform(data)\n",
    "    data_imputed = pd.DataFrame(data_imputed,\n",
    "                                index = data.index,\n",
    "                                columns = data.columns)\n",
    "    \n",
    "    return data_imputed, imputer\n"
   ]
  },
  {
   "cell_type": "code",
   "execution_count": 18,
   "metadata": {},
   "outputs": [],
   "source": [
    "X_train_cat_imputed, imputer_cat = imputerCat(data = X_train_cat)"
   ]
  },
  {
   "cell_type": "code",
   "execution_count": 19,
   "metadata": {},
   "outputs": [
    {
     "data": {
      "text/html": [
       "<div>\n",
       "<style scoped>\n",
       "    .dataframe tbody tr th:only-of-type {\n",
       "        vertical-align: middle;\n",
       "    }\n",
       "\n",
       "    .dataframe tbody tr th {\n",
       "        vertical-align: top;\n",
       "    }\n",
       "\n",
       "    .dataframe thead th {\n",
       "        text-align: right;\n",
       "    }\n",
       "</style>\n",
       "<table border=\"1\" class=\"dataframe\">\n",
       "  <thead>\n",
       "    <tr style=\"text-align: right;\">\n",
       "      <th></th>\n",
       "      <th>Work_accident</th>\n",
       "      <th>promotion_last_5years</th>\n",
       "      <th>division</th>\n",
       "      <th>salary</th>\n",
       "    </tr>\n",
       "  </thead>\n",
       "  <tbody>\n",
       "    <tr>\n",
       "      <th>9492</th>\n",
       "      <td>0</td>\n",
       "      <td>0</td>\n",
       "      <td>accounting</td>\n",
       "      <td>medium</td>\n",
       "    </tr>\n",
       "    <tr>\n",
       "      <th>11555</th>\n",
       "      <td>1</td>\n",
       "      <td>0</td>\n",
       "      <td>sales</td>\n",
       "      <td>medium</td>\n",
       "    </tr>\n",
       "    <tr>\n",
       "      <th>11301</th>\n",
       "      <td>0</td>\n",
       "      <td>0</td>\n",
       "      <td>sales</td>\n",
       "      <td>low</td>\n",
       "    </tr>\n",
       "    <tr>\n",
       "      <th>5578</th>\n",
       "      <td>0</td>\n",
       "      <td>0</td>\n",
       "      <td>management</td>\n",
       "      <td>medium</td>\n",
       "    </tr>\n",
       "    <tr>\n",
       "      <th>6241</th>\n",
       "      <td>0</td>\n",
       "      <td>0</td>\n",
       "      <td>technical</td>\n",
       "      <td>low</td>\n",
       "    </tr>\n",
       "  </tbody>\n",
       "</table>\n",
       "</div>"
      ],
      "text/plain": [
       "      Work_accident promotion_last_5years    division  salary\n",
       "9492              0                     0  accounting  medium\n",
       "11555             1                     0       sales  medium\n",
       "11301             0                     0       sales     low\n",
       "5578              0                     0  management  medium\n",
       "6241              0                     0   technical     low"
      ]
     },
     "execution_count": 19,
     "metadata": {},
     "output_type": "execute_result"
    }
   ],
   "source": [
    "X_train_cat_imputed.head()"
   ]
  },
  {
   "cell_type": "markdown",
   "metadata": {},
   "source": [
    "**One Hot Encoding Data**"
   ]
  },
  {
   "cell_type": "code",
   "execution_count": 20,
   "metadata": {},
   "outputs": [],
   "source": [
    "from sklearn.preprocessing import OneHotEncoder\n",
    "\n",
    "def encoderCat(data, encoder_col = None, encoder = None):\n",
    "    if encoder == None:\n",
    "        # Buat objek\n",
    "        encoder = OneHotEncoder(handle_unknown = \"ignore\",\n",
    "                                drop = \"if_binary\")\n",
    "        encoder.fit(data)\n",
    "        encoder_col = encoder.get_feature_names_out(data.columns)\n",
    "\n",
    "    # Transform data\n",
    "    data_encoded = encoder.transform(data).toarray()\n",
    "    data_encoded = pd.DataFrame(data_encoded,\n",
    "                                index = data.index,\n",
    "                                columns = encoder_col)\n",
    "    \n",
    "    return data_encoded, encoder_col, encoder\n"
   ]
  },
  {
   "cell_type": "code",
   "execution_count": 21,
   "metadata": {},
   "outputs": [],
   "source": [
    "X_train_cat_encoded, encoder_col, encoder_OHE = encoderCat(data = X_train_cat_imputed)"
   ]
  },
  {
   "cell_type": "code",
   "execution_count": 22,
   "metadata": {},
   "outputs": [
    {
     "data": {
      "text/html": [
       "<div>\n",
       "<style scoped>\n",
       "    .dataframe tbody tr th:only-of-type {\n",
       "        vertical-align: middle;\n",
       "    }\n",
       "\n",
       "    .dataframe tbody tr th {\n",
       "        vertical-align: top;\n",
       "    }\n",
       "\n",
       "    .dataframe thead th {\n",
       "        text-align: right;\n",
       "    }\n",
       "</style>\n",
       "<table border=\"1\" class=\"dataframe\">\n",
       "  <thead>\n",
       "    <tr style=\"text-align: right;\">\n",
       "      <th></th>\n",
       "      <th>9492</th>\n",
       "      <th>11555</th>\n",
       "      <th>11301</th>\n",
       "      <th>5578</th>\n",
       "      <th>6241</th>\n",
       "    </tr>\n",
       "  </thead>\n",
       "  <tbody>\n",
       "    <tr>\n",
       "      <th>Work_accident</th>\n",
       "      <td>0</td>\n",
       "      <td>1</td>\n",
       "      <td>0</td>\n",
       "      <td>0</td>\n",
       "      <td>0</td>\n",
       "    </tr>\n",
       "    <tr>\n",
       "      <th>promotion_last_5years</th>\n",
       "      <td>0</td>\n",
       "      <td>0</td>\n",
       "      <td>0</td>\n",
       "      <td>0</td>\n",
       "      <td>0</td>\n",
       "    </tr>\n",
       "    <tr>\n",
       "      <th>division</th>\n",
       "      <td>accounting</td>\n",
       "      <td>sales</td>\n",
       "      <td>sales</td>\n",
       "      <td>management</td>\n",
       "      <td>technical</td>\n",
       "    </tr>\n",
       "    <tr>\n",
       "      <th>salary</th>\n",
       "      <td>medium</td>\n",
       "      <td>medium</td>\n",
       "      <td>low</td>\n",
       "      <td>medium</td>\n",
       "      <td>low</td>\n",
       "    </tr>\n",
       "  </tbody>\n",
       "</table>\n",
       "</div>"
      ],
      "text/plain": [
       "                            9492    11555  11301       5578       6241 \n",
       "Work_accident                   0       1      0           0          0\n",
       "promotion_last_5years           0       0      0           0          0\n",
       "division               accounting   sales  sales  management  technical\n",
       "salary                     medium  medium    low      medium        low"
      ]
     },
     "execution_count": 22,
     "metadata": {},
     "output_type": "execute_result"
    }
   ],
   "source": [
    "X_train_cat_imputed.head().T"
   ]
  },
  {
   "cell_type": "code",
   "execution_count": 23,
   "metadata": {},
   "outputs": [
    {
     "data": {
      "text/html": [
       "<div>\n",
       "<style scoped>\n",
       "    .dataframe tbody tr th:only-of-type {\n",
       "        vertical-align: middle;\n",
       "    }\n",
       "\n",
       "    .dataframe tbody tr th {\n",
       "        vertical-align: top;\n",
       "    }\n",
       "\n",
       "    .dataframe thead th {\n",
       "        text-align: right;\n",
       "    }\n",
       "</style>\n",
       "<table border=\"1\" class=\"dataframe\">\n",
       "  <thead>\n",
       "    <tr style=\"text-align: right;\">\n",
       "      <th></th>\n",
       "      <th>9492</th>\n",
       "      <th>11555</th>\n",
       "      <th>11301</th>\n",
       "      <th>5578</th>\n",
       "      <th>6241</th>\n",
       "    </tr>\n",
       "  </thead>\n",
       "  <tbody>\n",
       "    <tr>\n",
       "      <th>Work_accident_1</th>\n",
       "      <td>0.0</td>\n",
       "      <td>1.0</td>\n",
       "      <td>0.0</td>\n",
       "      <td>0.0</td>\n",
       "      <td>0.0</td>\n",
       "    </tr>\n",
       "    <tr>\n",
       "      <th>promotion_last_5years_1</th>\n",
       "      <td>0.0</td>\n",
       "      <td>0.0</td>\n",
       "      <td>0.0</td>\n",
       "      <td>0.0</td>\n",
       "      <td>0.0</td>\n",
       "    </tr>\n",
       "    <tr>\n",
       "      <th>division_IT</th>\n",
       "      <td>0.0</td>\n",
       "      <td>0.0</td>\n",
       "      <td>0.0</td>\n",
       "      <td>0.0</td>\n",
       "      <td>0.0</td>\n",
       "    </tr>\n",
       "    <tr>\n",
       "      <th>division_RandD</th>\n",
       "      <td>0.0</td>\n",
       "      <td>0.0</td>\n",
       "      <td>0.0</td>\n",
       "      <td>0.0</td>\n",
       "      <td>0.0</td>\n",
       "    </tr>\n",
       "    <tr>\n",
       "      <th>division_accounting</th>\n",
       "      <td>1.0</td>\n",
       "      <td>0.0</td>\n",
       "      <td>0.0</td>\n",
       "      <td>0.0</td>\n",
       "      <td>0.0</td>\n",
       "    </tr>\n",
       "    <tr>\n",
       "      <th>division_hr</th>\n",
       "      <td>0.0</td>\n",
       "      <td>0.0</td>\n",
       "      <td>0.0</td>\n",
       "      <td>0.0</td>\n",
       "      <td>0.0</td>\n",
       "    </tr>\n",
       "    <tr>\n",
       "      <th>division_management</th>\n",
       "      <td>0.0</td>\n",
       "      <td>0.0</td>\n",
       "      <td>0.0</td>\n",
       "      <td>1.0</td>\n",
       "      <td>0.0</td>\n",
       "    </tr>\n",
       "    <tr>\n",
       "      <th>division_marketing</th>\n",
       "      <td>0.0</td>\n",
       "      <td>0.0</td>\n",
       "      <td>0.0</td>\n",
       "      <td>0.0</td>\n",
       "      <td>0.0</td>\n",
       "    </tr>\n",
       "    <tr>\n",
       "      <th>division_product_mng</th>\n",
       "      <td>0.0</td>\n",
       "      <td>0.0</td>\n",
       "      <td>0.0</td>\n",
       "      <td>0.0</td>\n",
       "      <td>0.0</td>\n",
       "    </tr>\n",
       "    <tr>\n",
       "      <th>division_sales</th>\n",
       "      <td>0.0</td>\n",
       "      <td>1.0</td>\n",
       "      <td>1.0</td>\n",
       "      <td>0.0</td>\n",
       "      <td>0.0</td>\n",
       "    </tr>\n",
       "    <tr>\n",
       "      <th>division_support</th>\n",
       "      <td>0.0</td>\n",
       "      <td>0.0</td>\n",
       "      <td>0.0</td>\n",
       "      <td>0.0</td>\n",
       "      <td>0.0</td>\n",
       "    </tr>\n",
       "    <tr>\n",
       "      <th>division_technical</th>\n",
       "      <td>0.0</td>\n",
       "      <td>0.0</td>\n",
       "      <td>0.0</td>\n",
       "      <td>0.0</td>\n",
       "      <td>1.0</td>\n",
       "    </tr>\n",
       "    <tr>\n",
       "      <th>salary_high</th>\n",
       "      <td>0.0</td>\n",
       "      <td>0.0</td>\n",
       "      <td>0.0</td>\n",
       "      <td>0.0</td>\n",
       "      <td>0.0</td>\n",
       "    </tr>\n",
       "    <tr>\n",
       "      <th>salary_low</th>\n",
       "      <td>0.0</td>\n",
       "      <td>0.0</td>\n",
       "      <td>1.0</td>\n",
       "      <td>0.0</td>\n",
       "      <td>1.0</td>\n",
       "    </tr>\n",
       "    <tr>\n",
       "      <th>salary_medium</th>\n",
       "      <td>1.0</td>\n",
       "      <td>1.0</td>\n",
       "      <td>0.0</td>\n",
       "      <td>1.0</td>\n",
       "      <td>0.0</td>\n",
       "    </tr>\n",
       "  </tbody>\n",
       "</table>\n",
       "</div>"
      ],
      "text/plain": [
       "                         9492   11555  11301  5578   6241 \n",
       "Work_accident_1            0.0    1.0    0.0    0.0    0.0\n",
       "promotion_last_5years_1    0.0    0.0    0.0    0.0    0.0\n",
       "division_IT                0.0    0.0    0.0    0.0    0.0\n",
       "division_RandD             0.0    0.0    0.0    0.0    0.0\n",
       "division_accounting        1.0    0.0    0.0    0.0    0.0\n",
       "division_hr                0.0    0.0    0.0    0.0    0.0\n",
       "division_management        0.0    0.0    0.0    1.0    0.0\n",
       "division_marketing         0.0    0.0    0.0    0.0    0.0\n",
       "division_product_mng       0.0    0.0    0.0    0.0    0.0\n",
       "division_sales             0.0    1.0    1.0    0.0    0.0\n",
       "division_support           0.0    0.0    0.0    0.0    0.0\n",
       "division_technical         0.0    0.0    0.0    0.0    1.0\n",
       "salary_high                0.0    0.0    0.0    0.0    0.0\n",
       "salary_low                 0.0    0.0    1.0    0.0    1.0\n",
       "salary_medium              1.0    1.0    0.0    1.0    0.0"
      ]
     },
     "execution_count": 23,
     "metadata": {},
     "output_type": "execute_result"
    }
   ],
   "source": [
    "X_train_cat_encoded.head().T"
   ]
  },
  {
   "cell_type": "code",
   "execution_count": 24,
   "metadata": {},
   "outputs": [
    {
     "data": {
      "text/plain": [
       "array(['Work_accident_1', 'promotion_last_5years_1', 'division_IT',\n",
       "       'division_RandD', 'division_accounting', 'division_hr',\n",
       "       'division_management', 'division_marketing',\n",
       "       'division_product_mng', 'division_sales', 'division_support',\n",
       "       'division_technical', 'salary_high', 'salary_low', 'salary_medium'],\n",
       "      dtype=object)"
      ]
     },
     "execution_count": 24,
     "metadata": {},
     "output_type": "execute_result"
    }
   ],
   "source": [
    "encoder_col"
   ]
  },
  {
   "cell_type": "markdown",
   "metadata": {},
   "source": [
    "**Concat Data**"
   ]
  },
  {
   "cell_type": "code",
   "execution_count": 25,
   "metadata": {},
   "outputs": [
    {
     "data": {
      "text/html": [
       "<div>\n",
       "<style scoped>\n",
       "    .dataframe tbody tr th:only-of-type {\n",
       "        vertical-align: middle;\n",
       "    }\n",
       "\n",
       "    .dataframe tbody tr th {\n",
       "        vertical-align: top;\n",
       "    }\n",
       "\n",
       "    .dataframe thead th {\n",
       "        text-align: right;\n",
       "    }\n",
       "</style>\n",
       "<table border=\"1\" class=\"dataframe\">\n",
       "  <thead>\n",
       "    <tr style=\"text-align: right;\">\n",
       "      <th></th>\n",
       "      <th>number_project</th>\n",
       "      <th>average_montly_hours</th>\n",
       "      <th>time_spend_company</th>\n",
       "      <th>last_evaluation</th>\n",
       "      <th>satisfaction_level</th>\n",
       "      <th>Work_accident_1</th>\n",
       "      <th>promotion_last_5years_1</th>\n",
       "      <th>division_IT</th>\n",
       "      <th>division_RandD</th>\n",
       "      <th>division_accounting</th>\n",
       "      <th>division_hr</th>\n",
       "      <th>division_management</th>\n",
       "      <th>division_marketing</th>\n",
       "      <th>division_product_mng</th>\n",
       "      <th>division_sales</th>\n",
       "      <th>division_support</th>\n",
       "      <th>division_technical</th>\n",
       "      <th>salary_high</th>\n",
       "      <th>salary_low</th>\n",
       "      <th>salary_medium</th>\n",
       "    </tr>\n",
       "  </thead>\n",
       "  <tbody>\n",
       "    <tr>\n",
       "      <th>9492</th>\n",
       "      <td>3.0</td>\n",
       "      <td>123.0</td>\n",
       "      <td>3.0</td>\n",
       "      <td>0.56</td>\n",
       "      <td>0.44</td>\n",
       "      <td>0.0</td>\n",
       "      <td>0.0</td>\n",
       "      <td>0.0</td>\n",
       "      <td>0.0</td>\n",
       "      <td>1.0</td>\n",
       "      <td>0.0</td>\n",
       "      <td>0.0</td>\n",
       "      <td>0.0</td>\n",
       "      <td>0.0</td>\n",
       "      <td>0.0</td>\n",
       "      <td>0.0</td>\n",
       "      <td>0.0</td>\n",
       "      <td>0.0</td>\n",
       "      <td>0.0</td>\n",
       "      <td>1.0</td>\n",
       "    </tr>\n",
       "    <tr>\n",
       "      <th>11555</th>\n",
       "      <td>4.0</td>\n",
       "      <td>154.0</td>\n",
       "      <td>6.0</td>\n",
       "      <td>0.44</td>\n",
       "      <td>0.98</td>\n",
       "      <td>1.0</td>\n",
       "      <td>0.0</td>\n",
       "      <td>0.0</td>\n",
       "      <td>0.0</td>\n",
       "      <td>0.0</td>\n",
       "      <td>0.0</td>\n",
       "      <td>0.0</td>\n",
       "      <td>0.0</td>\n",
       "      <td>0.0</td>\n",
       "      <td>1.0</td>\n",
       "      <td>0.0</td>\n",
       "      <td>0.0</td>\n",
       "      <td>0.0</td>\n",
       "      <td>0.0</td>\n",
       "      <td>1.0</td>\n",
       "    </tr>\n",
       "    <tr>\n",
       "      <th>11301</th>\n",
       "      <td>3.0</td>\n",
       "      <td>133.0</td>\n",
       "      <td>4.0</td>\n",
       "      <td>0.99</td>\n",
       "      <td>0.76</td>\n",
       "      <td>0.0</td>\n",
       "      <td>0.0</td>\n",
       "      <td>0.0</td>\n",
       "      <td>0.0</td>\n",
       "      <td>0.0</td>\n",
       "      <td>0.0</td>\n",
       "      <td>0.0</td>\n",
       "      <td>0.0</td>\n",
       "      <td>0.0</td>\n",
       "      <td>1.0</td>\n",
       "      <td>0.0</td>\n",
       "      <td>0.0</td>\n",
       "      <td>0.0</td>\n",
       "      <td>1.0</td>\n",
       "      <td>0.0</td>\n",
       "    </tr>\n",
       "    <tr>\n",
       "      <th>5578</th>\n",
       "      <td>2.0</td>\n",
       "      <td>156.0</td>\n",
       "      <td>2.0</td>\n",
       "      <td>0.55</td>\n",
       "      <td>0.47</td>\n",
       "      <td>0.0</td>\n",
       "      <td>0.0</td>\n",
       "      <td>0.0</td>\n",
       "      <td>0.0</td>\n",
       "      <td>0.0</td>\n",
       "      <td>0.0</td>\n",
       "      <td>1.0</td>\n",
       "      <td>0.0</td>\n",
       "      <td>0.0</td>\n",
       "      <td>0.0</td>\n",
       "      <td>0.0</td>\n",
       "      <td>0.0</td>\n",
       "      <td>0.0</td>\n",
       "      <td>0.0</td>\n",
       "      <td>1.0</td>\n",
       "    </tr>\n",
       "    <tr>\n",
       "      <th>6241</th>\n",
       "      <td>4.0</td>\n",
       "      <td>151.0</td>\n",
       "      <td>2.0</td>\n",
       "      <td>0.68</td>\n",
       "      <td>0.84</td>\n",
       "      <td>0.0</td>\n",
       "      <td>0.0</td>\n",
       "      <td>0.0</td>\n",
       "      <td>0.0</td>\n",
       "      <td>0.0</td>\n",
       "      <td>0.0</td>\n",
       "      <td>0.0</td>\n",
       "      <td>0.0</td>\n",
       "      <td>0.0</td>\n",
       "      <td>0.0</td>\n",
       "      <td>0.0</td>\n",
       "      <td>1.0</td>\n",
       "      <td>0.0</td>\n",
       "      <td>1.0</td>\n",
       "      <td>0.0</td>\n",
       "    </tr>\n",
       "  </tbody>\n",
       "</table>\n",
       "</div>"
      ],
      "text/plain": [
       "       number_project  average_montly_hours  time_spend_company  \\\n",
       "9492              3.0                 123.0                 3.0   \n",
       "11555             4.0                 154.0                 6.0   \n",
       "11301             3.0                 133.0                 4.0   \n",
       "5578              2.0                 156.0                 2.0   \n",
       "6241              4.0                 151.0                 2.0   \n",
       "\n",
       "       last_evaluation  satisfaction_level  Work_accident_1  \\\n",
       "9492              0.56                0.44              0.0   \n",
       "11555             0.44                0.98              1.0   \n",
       "11301             0.99                0.76              0.0   \n",
       "5578              0.55                0.47              0.0   \n",
       "6241              0.68                0.84              0.0   \n",
       "\n",
       "       promotion_last_5years_1  division_IT  division_RandD  \\\n",
       "9492                       0.0          0.0             0.0   \n",
       "11555                      0.0          0.0             0.0   \n",
       "11301                      0.0          0.0             0.0   \n",
       "5578                       0.0          0.0             0.0   \n",
       "6241                       0.0          0.0             0.0   \n",
       "\n",
       "       division_accounting  division_hr  division_management  \\\n",
       "9492                   1.0          0.0                  0.0   \n",
       "11555                  0.0          0.0                  0.0   \n",
       "11301                  0.0          0.0                  0.0   \n",
       "5578                   0.0          0.0                  1.0   \n",
       "6241                   0.0          0.0                  0.0   \n",
       "\n",
       "       division_marketing  division_product_mng  division_sales  \\\n",
       "9492                  0.0                   0.0             0.0   \n",
       "11555                 0.0                   0.0             1.0   \n",
       "11301                 0.0                   0.0             1.0   \n",
       "5578                  0.0                   0.0             0.0   \n",
       "6241                  0.0                   0.0             0.0   \n",
       "\n",
       "       division_support  division_technical  salary_high  salary_low  \\\n",
       "9492                0.0                 0.0          0.0         0.0   \n",
       "11555               0.0                 0.0          0.0         0.0   \n",
       "11301               0.0                 0.0          0.0         1.0   \n",
       "5578                0.0                 0.0          0.0         0.0   \n",
       "6241                0.0                 1.0          0.0         1.0   \n",
       "\n",
       "       salary_medium  \n",
       "9492             1.0  \n",
       "11555            1.0  \n",
       "11301            0.0  \n",
       "5578             1.0  \n",
       "6241             0.0  "
      ]
     },
     "execution_count": 25,
     "metadata": {},
     "output_type": "execute_result"
    }
   ],
   "source": [
    "X_train_concat = pd.concat([X_train_num_imputed, X_train_cat_encoded],\n",
    "                           axis = 1)\n",
    "X_train_concat.head()"
   ]
  },
  {
   "cell_type": "markdown",
   "metadata": {},
   "source": [
    "**Balancing Data: SMOTE**"
   ]
  },
  {
   "cell_type": "code",
   "execution_count": 26,
   "metadata": {},
   "outputs": [
    {
     "data": {
      "text/plain": [
       "number_project             False\n",
       "average_montly_hours       False\n",
       "time_spend_company         False\n",
       "last_evaluation            False\n",
       "satisfaction_level         False\n",
       "Work_accident_1            False\n",
       "promotion_last_5years_1    False\n",
       "division_IT                False\n",
       "division_RandD             False\n",
       "division_accounting        False\n",
       "division_hr                False\n",
       "division_management        False\n",
       "division_marketing         False\n",
       "division_product_mng       False\n",
       "division_sales             False\n",
       "division_support           False\n",
       "division_technical         False\n",
       "salary_high                False\n",
       "salary_low                 False\n",
       "salary_medium              False\n",
       "dtype: bool"
      ]
     },
     "execution_count": 26,
     "metadata": {},
     "output_type": "execute_result"
    }
   ],
   "source": [
    "# Cek missing values\n",
    "X_train_concat.isna().any()"
   ]
  },
  {
   "cell_type": "code",
   "execution_count": 27,
   "metadata": {},
   "outputs": [],
   "source": [
    "from imblearn.over_sampling import SMOTE"
   ]
  },
  {
   "cell_type": "code",
   "execution_count": 28,
   "metadata": {},
   "outputs": [
    {
     "data": {
      "text/plain": [
       "left\n",
       "0    7999\n",
       "1    1593\n",
       "Name: count, dtype: int64"
      ]
     },
     "execution_count": 28,
     "metadata": {},
     "output_type": "execute_result"
    }
   ],
   "source": [
    "y_train.value_counts()"
   ]
  },
  {
   "cell_type": "code",
   "execution_count": 29,
   "metadata": {},
   "outputs": [
    {
     "data": {
      "text/plain": [
       "9592"
      ]
     },
     "execution_count": 29,
     "metadata": {},
     "output_type": "execute_result"
    }
   ],
   "source": [
    "len(y_train)"
   ]
  },
  {
   "cell_type": "code",
   "execution_count": 30,
   "metadata": {},
   "outputs": [],
   "source": [
    "# Buat objek\n",
    "smt = SMOTE(sampling_strategy = \"minority\",\n",
    "            random_state = 123)\n",
    "\n",
    "# Fit objek\n",
    "X_train_smote, y_train = smt.fit_resample(X_train_concat, y_train)"
   ]
  },
  {
   "cell_type": "code",
   "execution_count": 31,
   "metadata": {},
   "outputs": [
    {
     "data": {
      "text/plain": [
       "left\n",
       "0    7999\n",
       "1    7999\n",
       "Name: count, dtype: int64"
      ]
     },
     "execution_count": 31,
     "metadata": {},
     "output_type": "execute_result"
    }
   ],
   "source": [
    "y_train.value_counts()"
   ]
  },
  {
   "cell_type": "markdown",
   "metadata": {},
   "source": [
    "**Scale Data**"
   ]
  },
  {
   "cell_type": "code",
   "execution_count": 32,
   "metadata": {},
   "outputs": [],
   "source": [
    "from sklearn.preprocessing import StandardScaler"
   ]
  },
  {
   "cell_type": "code",
   "execution_count": 33,
   "metadata": {},
   "outputs": [],
   "source": [
    "def standardizeData(data, scaler = None):\n",
    "    if scaler == None:\n",
    "        # Buat & Fit scaler\n",
    "        scaler = StandardScaler()\n",
    "        scaler.fit(data)\n",
    "\n",
    "    # Tranform data\n",
    "    data_scaled = scaler.transform(data)\n",
    "    data_scaled = pd.DataFrame(data_scaled,\n",
    "                               index = data.index,\n",
    "                               columns = data.columns)\n",
    "    \n",
    "    return data_scaled, scaler\n"
   ]
  },
  {
   "cell_type": "code",
   "execution_count": 34,
   "metadata": {},
   "outputs": [
    {
     "data": {
      "text/html": [
       "<div>\n",
       "<style scoped>\n",
       "    .dataframe tbody tr th:only-of-type {\n",
       "        vertical-align: middle;\n",
       "    }\n",
       "\n",
       "    .dataframe tbody tr th {\n",
       "        vertical-align: top;\n",
       "    }\n",
       "\n",
       "    .dataframe thead th {\n",
       "        text-align: right;\n",
       "    }\n",
       "</style>\n",
       "<table border=\"1\" class=\"dataframe\">\n",
       "  <thead>\n",
       "    <tr style=\"text-align: right;\">\n",
       "      <th></th>\n",
       "      <th>number_project</th>\n",
       "      <th>average_montly_hours</th>\n",
       "      <th>time_spend_company</th>\n",
       "      <th>last_evaluation</th>\n",
       "      <th>satisfaction_level</th>\n",
       "      <th>Work_accident_1</th>\n",
       "      <th>promotion_last_5years_1</th>\n",
       "      <th>division_IT</th>\n",
       "      <th>division_RandD</th>\n",
       "      <th>division_accounting</th>\n",
       "      <th>division_hr</th>\n",
       "      <th>division_management</th>\n",
       "      <th>division_marketing</th>\n",
       "      <th>division_product_mng</th>\n",
       "      <th>division_sales</th>\n",
       "      <th>division_support</th>\n",
       "      <th>division_technical</th>\n",
       "      <th>salary_high</th>\n",
       "      <th>salary_low</th>\n",
       "      <th>salary_medium</th>\n",
       "    </tr>\n",
       "  </thead>\n",
       "  <tbody>\n",
       "    <tr>\n",
       "      <th>0</th>\n",
       "      <td>-0.578327</td>\n",
       "      <td>-1.486434</td>\n",
       "      <td>-0.471206</td>\n",
       "      <td>-0.890660</td>\n",
       "      <td>-0.431486</td>\n",
       "      <td>-0.351352</td>\n",
       "      <td>-0.110301</td>\n",
       "      <td>-0.29828</td>\n",
       "      <td>-0.235598</td>\n",
       "      <td>4.616884</td>\n",
       "      <td>-0.249114</td>\n",
       "      <td>-0.185243</td>\n",
       "      <td>-0.256206</td>\n",
       "      <td>-0.255321</td>\n",
       "      <td>-0.658910</td>\n",
       "      <td>-0.441542</td>\n",
       "      <td>-0.502866</td>\n",
       "      <td>-0.244239</td>\n",
       "      <td>-1.077731</td>\n",
       "      <td>1.203543</td>\n",
       "    </tr>\n",
       "    <tr>\n",
       "      <th>1</th>\n",
       "      <td>0.110938</td>\n",
       "      <td>-0.914857</td>\n",
       "      <td>2.008961</td>\n",
       "      <td>-1.560918</td>\n",
       "      <td>1.603606</td>\n",
       "      <td>2.972531</td>\n",
       "      <td>-0.110301</td>\n",
       "      <td>-0.29828</td>\n",
       "      <td>-0.235598</td>\n",
       "      <td>-0.241361</td>\n",
       "      <td>-0.249114</td>\n",
       "      <td>-0.185243</td>\n",
       "      <td>-0.256206</td>\n",
       "      <td>-0.255321</td>\n",
       "      <td>1.619952</td>\n",
       "      <td>-0.441542</td>\n",
       "      <td>-0.502866</td>\n",
       "      <td>-0.244239</td>\n",
       "      <td>-1.077731</td>\n",
       "      <td>1.203543</td>\n",
       "    </tr>\n",
       "    <tr>\n",
       "      <th>2</th>\n",
       "      <td>-0.578327</td>\n",
       "      <td>-1.302054</td>\n",
       "      <td>0.355516</td>\n",
       "      <td>1.511096</td>\n",
       "      <td>0.774495</td>\n",
       "      <td>-0.351352</td>\n",
       "      <td>-0.110301</td>\n",
       "      <td>-0.29828</td>\n",
       "      <td>-0.235598</td>\n",
       "      <td>-0.241361</td>\n",
       "      <td>-0.249114</td>\n",
       "      <td>-0.185243</td>\n",
       "      <td>-0.256206</td>\n",
       "      <td>-0.255321</td>\n",
       "      <td>1.619952</td>\n",
       "      <td>-0.441542</td>\n",
       "      <td>-0.502866</td>\n",
       "      <td>-0.244239</td>\n",
       "      <td>0.954483</td>\n",
       "      <td>-0.853658</td>\n",
       "    </tr>\n",
       "    <tr>\n",
       "      <th>3</th>\n",
       "      <td>-1.267592</td>\n",
       "      <td>-0.877981</td>\n",
       "      <td>-1.297929</td>\n",
       "      <td>-0.946515</td>\n",
       "      <td>-0.318425</td>\n",
       "      <td>-0.351352</td>\n",
       "      <td>-0.110301</td>\n",
       "      <td>-0.29828</td>\n",
       "      <td>-0.235598</td>\n",
       "      <td>-0.241361</td>\n",
       "      <td>-0.249114</td>\n",
       "      <td>5.982144</td>\n",
       "      <td>-0.256206</td>\n",
       "      <td>-0.255321</td>\n",
       "      <td>-0.658910</td>\n",
       "      <td>-0.441542</td>\n",
       "      <td>-0.502866</td>\n",
       "      <td>-0.244239</td>\n",
       "      <td>-1.077731</td>\n",
       "      <td>1.203543</td>\n",
       "    </tr>\n",
       "    <tr>\n",
       "      <th>4</th>\n",
       "      <td>0.110938</td>\n",
       "      <td>-0.970171</td>\n",
       "      <td>-1.297929</td>\n",
       "      <td>-0.220403</td>\n",
       "      <td>1.075990</td>\n",
       "      <td>-0.351352</td>\n",
       "      <td>-0.110301</td>\n",
       "      <td>-0.29828</td>\n",
       "      <td>-0.235598</td>\n",
       "      <td>-0.241361</td>\n",
       "      <td>-0.249114</td>\n",
       "      <td>-0.185243</td>\n",
       "      <td>-0.256206</td>\n",
       "      <td>-0.255321</td>\n",
       "      <td>-0.658910</td>\n",
       "      <td>-0.441542</td>\n",
       "      <td>2.137885</td>\n",
       "      <td>-0.244239</td>\n",
       "      <td>0.954483</td>\n",
       "      <td>-0.853658</td>\n",
       "    </tr>\n",
       "  </tbody>\n",
       "</table>\n",
       "</div>"
      ],
      "text/plain": [
       "   number_project  average_montly_hours  time_spend_company  last_evaluation  \\\n",
       "0       -0.578327             -1.486434           -0.471206        -0.890660   \n",
       "1        0.110938             -0.914857            2.008961        -1.560918   \n",
       "2       -0.578327             -1.302054            0.355516         1.511096   \n",
       "3       -1.267592             -0.877981           -1.297929        -0.946515   \n",
       "4        0.110938             -0.970171           -1.297929        -0.220403   \n",
       "\n",
       "   satisfaction_level  Work_accident_1  promotion_last_5years_1  division_IT  \\\n",
       "0           -0.431486        -0.351352                -0.110301     -0.29828   \n",
       "1            1.603606         2.972531                -0.110301     -0.29828   \n",
       "2            0.774495        -0.351352                -0.110301     -0.29828   \n",
       "3           -0.318425        -0.351352                -0.110301     -0.29828   \n",
       "4            1.075990        -0.351352                -0.110301     -0.29828   \n",
       "\n",
       "   division_RandD  division_accounting  division_hr  division_management  \\\n",
       "0       -0.235598             4.616884    -0.249114            -0.185243   \n",
       "1       -0.235598            -0.241361    -0.249114            -0.185243   \n",
       "2       -0.235598            -0.241361    -0.249114            -0.185243   \n",
       "3       -0.235598            -0.241361    -0.249114             5.982144   \n",
       "4       -0.235598            -0.241361    -0.249114            -0.185243   \n",
       "\n",
       "   division_marketing  division_product_mng  division_sales  division_support  \\\n",
       "0           -0.256206             -0.255321       -0.658910         -0.441542   \n",
       "1           -0.256206             -0.255321        1.619952         -0.441542   \n",
       "2           -0.256206             -0.255321        1.619952         -0.441542   \n",
       "3           -0.256206             -0.255321       -0.658910         -0.441542   \n",
       "4           -0.256206             -0.255321       -0.658910         -0.441542   \n",
       "\n",
       "   division_technical  salary_high  salary_low  salary_medium  \n",
       "0           -0.502866    -0.244239   -1.077731       1.203543  \n",
       "1           -0.502866    -0.244239   -1.077731       1.203543  \n",
       "2           -0.502866    -0.244239    0.954483      -0.853658  \n",
       "3           -0.502866    -0.244239   -1.077731       1.203543  \n",
       "4            2.137885    -0.244239    0.954483      -0.853658  "
      ]
     },
     "execution_count": 34,
     "metadata": {},
     "output_type": "execute_result"
    }
   ],
   "source": [
    "X_train_clean, scaler = standardizeData(data = X_train_smote)\n",
    "X_train_clean.head()"
   ]
  },
  {
   "cell_type": "code",
   "execution_count": 35,
   "metadata": {},
   "outputs": [
    {
     "data": {
      "text/html": [
       "<div>\n",
       "<style scoped>\n",
       "    .dataframe tbody tr th:only-of-type {\n",
       "        vertical-align: middle;\n",
       "    }\n",
       "\n",
       "    .dataframe tbody tr th {\n",
       "        vertical-align: top;\n",
       "    }\n",
       "\n",
       "    .dataframe thead th {\n",
       "        text-align: right;\n",
       "    }\n",
       "</style>\n",
       "<table border=\"1\" class=\"dataframe\">\n",
       "  <thead>\n",
       "    <tr style=\"text-align: right;\">\n",
       "      <th></th>\n",
       "      <th>count</th>\n",
       "      <th>mean</th>\n",
       "      <th>std</th>\n",
       "      <th>min</th>\n",
       "      <th>25%</th>\n",
       "      <th>50%</th>\n",
       "      <th>75%</th>\n",
       "      <th>max</th>\n",
       "    </tr>\n",
       "  </thead>\n",
       "  <tbody>\n",
       "    <tr>\n",
       "      <th>number_project</th>\n",
       "      <td>15998.0</td>\n",
       "      <td>1.918705e-16</td>\n",
       "      <td>1.000031</td>\n",
       "      <td>-1.267592</td>\n",
       "      <td>-0.845364</td>\n",
       "      <td>0.110938</td>\n",
       "      <td>0.800203</td>\n",
       "      <td>2.178733</td>\n",
       "    </tr>\n",
       "    <tr>\n",
       "      <th>average_montly_hours</th>\n",
       "      <td>15998.0</td>\n",
       "      <td>-4.974421e-17</td>\n",
       "      <td>1.000031</td>\n",
       "      <td>-1.984258</td>\n",
       "      <td>-0.968767</td>\n",
       "      <td>0.025478</td>\n",
       "      <td>0.910500</td>\n",
       "      <td>1.961463</td>\n",
       "    </tr>\n",
       "    <tr>\n",
       "      <th>time_spend_company</th>\n",
       "      <td>15998.0</td>\n",
       "      <td>-2.700400e-16</td>\n",
       "      <td>1.000031</td>\n",
       "      <td>-1.297929</td>\n",
       "      <td>-0.471206</td>\n",
       "      <td>-0.471206</td>\n",
       "      <td>0.355516</td>\n",
       "      <td>5.315851</td>\n",
       "    </tr>\n",
       "    <tr>\n",
       "      <th>last_evaluation</th>\n",
       "      <td>15998.0</td>\n",
       "      <td>3.837410e-16</td>\n",
       "      <td>1.000031</td>\n",
       "      <td>-2.007757</td>\n",
       "      <td>-1.002370</td>\n",
       "      <td>0.114726</td>\n",
       "      <td>0.930489</td>\n",
       "      <td>1.566951</td>\n",
       "    </tr>\n",
       "    <tr>\n",
       "      <th>satisfaction_level</th>\n",
       "      <td>15998.0</td>\n",
       "      <td>-5.685053e-17</td>\n",
       "      <td>1.000031</td>\n",
       "      <td>-1.750527</td>\n",
       "      <td>-0.625009</td>\n",
       "      <td>0.020757</td>\n",
       "      <td>0.887555</td>\n",
       "      <td>1.678980</td>\n",
       "    </tr>\n",
       "    <tr>\n",
       "      <th>Work_accident_1</th>\n",
       "      <td>15998.0</td>\n",
       "      <td>8.527579e-17</td>\n",
       "      <td>1.000031</td>\n",
       "      <td>-0.351352</td>\n",
       "      <td>-0.351352</td>\n",
       "      <td>-0.351352</td>\n",
       "      <td>-0.351352</td>\n",
       "      <td>2.972531</td>\n",
       "    </tr>\n",
       "    <tr>\n",
       "      <th>promotion_last_5years_1</th>\n",
       "      <td>15998.0</td>\n",
       "      <td>3.553158e-17</td>\n",
       "      <td>1.000031</td>\n",
       "      <td>-0.110301</td>\n",
       "      <td>-0.110301</td>\n",
       "      <td>-0.110301</td>\n",
       "      <td>-0.110301</td>\n",
       "      <td>9.332984</td>\n",
       "    </tr>\n",
       "    <tr>\n",
       "      <th>division_IT</th>\n",
       "      <td>15998.0</td>\n",
       "      <td>-1.776579e-18</td>\n",
       "      <td>1.000031</td>\n",
       "      <td>-0.298280</td>\n",
       "      <td>-0.298280</td>\n",
       "      <td>-0.298280</td>\n",
       "      <td>-0.298280</td>\n",
       "      <td>3.686392</td>\n",
       "    </tr>\n",
       "    <tr>\n",
       "      <th>division_RandD</th>\n",
       "      <td>15998.0</td>\n",
       "      <td>-7.461631e-17</td>\n",
       "      <td>1.000031</td>\n",
       "      <td>-0.235598</td>\n",
       "      <td>-0.235598</td>\n",
       "      <td>-0.235598</td>\n",
       "      <td>-0.235598</td>\n",
       "      <td>4.629700</td>\n",
       "    </tr>\n",
       "    <tr>\n",
       "      <th>division_accounting</th>\n",
       "      <td>15998.0</td>\n",
       "      <td>-9.238210e-17</td>\n",
       "      <td>1.000031</td>\n",
       "      <td>-0.241361</td>\n",
       "      <td>-0.241361</td>\n",
       "      <td>-0.241361</td>\n",
       "      <td>-0.241361</td>\n",
       "      <td>4.616884</td>\n",
       "    </tr>\n",
       "    <tr>\n",
       "      <th>division_hr</th>\n",
       "      <td>15998.0</td>\n",
       "      <td>1.003767e-16</td>\n",
       "      <td>1.000031</td>\n",
       "      <td>-0.249114</td>\n",
       "      <td>-0.249114</td>\n",
       "      <td>-0.249114</td>\n",
       "      <td>-0.249114</td>\n",
       "      <td>4.503665</td>\n",
       "    </tr>\n",
       "    <tr>\n",
       "      <th>division_management</th>\n",
       "      <td>15998.0</td>\n",
       "      <td>-1.776579e-17</td>\n",
       "      <td>1.000031</td>\n",
       "      <td>-0.185243</td>\n",
       "      <td>-0.185243</td>\n",
       "      <td>-0.185243</td>\n",
       "      <td>-0.185243</td>\n",
       "      <td>5.982144</td>\n",
       "    </tr>\n",
       "    <tr>\n",
       "      <th>division_marketing</th>\n",
       "      <td>15998.0</td>\n",
       "      <td>-5.685053e-17</td>\n",
       "      <td>1.000031</td>\n",
       "      <td>-0.256206</td>\n",
       "      <td>-0.256206</td>\n",
       "      <td>-0.256206</td>\n",
       "      <td>-0.256206</td>\n",
       "      <td>4.292621</td>\n",
       "    </tr>\n",
       "    <tr>\n",
       "      <th>division_product_mng</th>\n",
       "      <td>15998.0</td>\n",
       "      <td>1.088155e-16</td>\n",
       "      <td>1.000031</td>\n",
       "      <td>-0.255321</td>\n",
       "      <td>-0.255321</td>\n",
       "      <td>-0.255321</td>\n",
       "      <td>-0.255321</td>\n",
       "      <td>4.332016</td>\n",
       "    </tr>\n",
       "    <tr>\n",
       "      <th>division_sales</th>\n",
       "      <td>15998.0</td>\n",
       "      <td>9.060552e-17</td>\n",
       "      <td>1.000031</td>\n",
       "      <td>-0.658910</td>\n",
       "      <td>-0.658910</td>\n",
       "      <td>-0.658910</td>\n",
       "      <td>1.619952</td>\n",
       "      <td>1.619952</td>\n",
       "    </tr>\n",
       "    <tr>\n",
       "      <th>division_support</th>\n",
       "      <td>15998.0</td>\n",
       "      <td>4.397033e-17</td>\n",
       "      <td>1.000031</td>\n",
       "      <td>-0.441542</td>\n",
       "      <td>-0.441542</td>\n",
       "      <td>-0.441542</td>\n",
       "      <td>-0.441542</td>\n",
       "      <td>2.443568</td>\n",
       "    </tr>\n",
       "    <tr>\n",
       "      <th>division_technical</th>\n",
       "      <td>15998.0</td>\n",
       "      <td>-1.083713e-16</td>\n",
       "      <td>1.000031</td>\n",
       "      <td>-0.502866</td>\n",
       "      <td>-0.502866</td>\n",
       "      <td>-0.502866</td>\n",
       "      <td>-0.502866</td>\n",
       "      <td>2.137885</td>\n",
       "    </tr>\n",
       "    <tr>\n",
       "      <th>salary_high</th>\n",
       "      <td>15998.0</td>\n",
       "      <td>-7.106316e-17</td>\n",
       "      <td>1.000031</td>\n",
       "      <td>-0.244239</td>\n",
       "      <td>-0.244239</td>\n",
       "      <td>-0.244239</td>\n",
       "      <td>-0.244239</td>\n",
       "      <td>4.219594</td>\n",
       "    </tr>\n",
       "    <tr>\n",
       "      <th>salary_low</th>\n",
       "      <td>15998.0</td>\n",
       "      <td>-1.421263e-17</td>\n",
       "      <td>1.000031</td>\n",
       "      <td>-1.077731</td>\n",
       "      <td>-1.077731</td>\n",
       "      <td>0.954483</td>\n",
       "      <td>0.954483</td>\n",
       "      <td>0.954483</td>\n",
       "    </tr>\n",
       "    <tr>\n",
       "      <th>salary_medium</th>\n",
       "      <td>15998.0</td>\n",
       "      <td>3.553158e-17</td>\n",
       "      <td>1.000031</td>\n",
       "      <td>-0.853658</td>\n",
       "      <td>-0.853658</td>\n",
       "      <td>-0.853658</td>\n",
       "      <td>1.203543</td>\n",
       "      <td>1.203543</td>\n",
       "    </tr>\n",
       "  </tbody>\n",
       "</table>\n",
       "</div>"
      ],
      "text/plain": [
       "                           count          mean       std       min       25%  \\\n",
       "number_project           15998.0  1.918705e-16  1.000031 -1.267592 -0.845364   \n",
       "average_montly_hours     15998.0 -4.974421e-17  1.000031 -1.984258 -0.968767   \n",
       "time_spend_company       15998.0 -2.700400e-16  1.000031 -1.297929 -0.471206   \n",
       "last_evaluation          15998.0  3.837410e-16  1.000031 -2.007757 -1.002370   \n",
       "satisfaction_level       15998.0 -5.685053e-17  1.000031 -1.750527 -0.625009   \n",
       "Work_accident_1          15998.0  8.527579e-17  1.000031 -0.351352 -0.351352   \n",
       "promotion_last_5years_1  15998.0  3.553158e-17  1.000031 -0.110301 -0.110301   \n",
       "division_IT              15998.0 -1.776579e-18  1.000031 -0.298280 -0.298280   \n",
       "division_RandD           15998.0 -7.461631e-17  1.000031 -0.235598 -0.235598   \n",
       "division_accounting      15998.0 -9.238210e-17  1.000031 -0.241361 -0.241361   \n",
       "division_hr              15998.0  1.003767e-16  1.000031 -0.249114 -0.249114   \n",
       "division_management      15998.0 -1.776579e-17  1.000031 -0.185243 -0.185243   \n",
       "division_marketing       15998.0 -5.685053e-17  1.000031 -0.256206 -0.256206   \n",
       "division_product_mng     15998.0  1.088155e-16  1.000031 -0.255321 -0.255321   \n",
       "division_sales           15998.0  9.060552e-17  1.000031 -0.658910 -0.658910   \n",
       "division_support         15998.0  4.397033e-17  1.000031 -0.441542 -0.441542   \n",
       "division_technical       15998.0 -1.083713e-16  1.000031 -0.502866 -0.502866   \n",
       "salary_high              15998.0 -7.106316e-17  1.000031 -0.244239 -0.244239   \n",
       "salary_low               15998.0 -1.421263e-17  1.000031 -1.077731 -1.077731   \n",
       "salary_medium            15998.0  3.553158e-17  1.000031 -0.853658 -0.853658   \n",
       "\n",
       "                              50%       75%       max  \n",
       "number_project           0.110938  0.800203  2.178733  \n",
       "average_montly_hours     0.025478  0.910500  1.961463  \n",
       "time_spend_company      -0.471206  0.355516  5.315851  \n",
       "last_evaluation          0.114726  0.930489  1.566951  \n",
       "satisfaction_level       0.020757  0.887555  1.678980  \n",
       "Work_accident_1         -0.351352 -0.351352  2.972531  \n",
       "promotion_last_5years_1 -0.110301 -0.110301  9.332984  \n",
       "division_IT             -0.298280 -0.298280  3.686392  \n",
       "division_RandD          -0.235598 -0.235598  4.629700  \n",
       "division_accounting     -0.241361 -0.241361  4.616884  \n",
       "division_hr             -0.249114 -0.249114  4.503665  \n",
       "division_management     -0.185243 -0.185243  5.982144  \n",
       "division_marketing      -0.256206 -0.256206  4.292621  \n",
       "division_product_mng    -0.255321 -0.255321  4.332016  \n",
       "division_sales          -0.658910  1.619952  1.619952  \n",
       "division_support        -0.441542 -0.441542  2.443568  \n",
       "division_technical      -0.502866 -0.502866  2.137885  \n",
       "salary_high             -0.244239 -0.244239  4.219594  \n",
       "salary_low               0.954483  0.954483  0.954483  \n",
       "salary_medium           -0.853658  1.203543  1.203543  "
      ]
     },
     "execution_count": 35,
     "metadata": {},
     "output_type": "execute_result"
    }
   ],
   "source": [
    "X_train_clean.describe().T"
   ]
  },
  {
   "cell_type": "markdown",
   "metadata": {},
   "source": [
    "**Transform Test Data**"
   ]
  },
  {
   "cell_type": "code",
   "execution_count": 36,
   "metadata": {},
   "outputs": [],
   "source": [
    "def transformTestData(data, num_col, cat_col, encoder_col,\n",
    "                      imputer_num, imputer_cat, encoder_cat,\n",
    "                      scaler):\n",
    "    # 1. Split num-cat\n",
    "    data_num, data_cat = splitNumCat(data = data,\n",
    "                                     num_col = num_col,\n",
    "                                     cat_col = cat_col)\n",
    "    \n",
    "    # 2. Handling num\n",
    "    data_num_imputed, _ = imputerNum(data = data_num,\n",
    "                                     imputer = imputer_num)\n",
    "    \n",
    "    # 3. Handling cat\n",
    "    data_cat_imputed, _ = imputerCat(data = data_cat,\n",
    "                                     imputer = imputer_cat)\n",
    "    data_cat_encoded, _, _ = encoderCat(data = data_cat_imputed,\n",
    "                                        encoder_col = encoder_col,\n",
    "                                        encoder = encoder_cat)\n",
    "    \n",
    "    # 4. Concat data\n",
    "    data_concat = pd.concat([data_num_imputed, data_cat_encoded],\n",
    "                            axis = 1)\n",
    "    \n",
    "    # 5. Scale data\n",
    "    data_clean, _ = standardizeData(data = data_concat,\n",
    "                                    scaler = scaler)\n",
    "    \n",
    "    return data_clean\n"
   ]
  },
  {
   "cell_type": "code",
   "execution_count": 37,
   "metadata": {},
   "outputs": [
    {
     "data": {
      "text/html": [
       "<div>\n",
       "<style scoped>\n",
       "    .dataframe tbody tr th:only-of-type {\n",
       "        vertical-align: middle;\n",
       "    }\n",
       "\n",
       "    .dataframe tbody tr th {\n",
       "        vertical-align: top;\n",
       "    }\n",
       "\n",
       "    .dataframe thead th {\n",
       "        text-align: right;\n",
       "    }\n",
       "</style>\n",
       "<table border=\"1\" class=\"dataframe\">\n",
       "  <thead>\n",
       "    <tr style=\"text-align: right;\">\n",
       "      <th></th>\n",
       "      <th>number_project</th>\n",
       "      <th>average_montly_hours</th>\n",
       "      <th>time_spend_company</th>\n",
       "      <th>last_evaluation</th>\n",
       "      <th>satisfaction_level</th>\n",
       "      <th>Work_accident_1</th>\n",
       "      <th>promotion_last_5years_1</th>\n",
       "      <th>division_IT</th>\n",
       "      <th>division_RandD</th>\n",
       "      <th>division_accounting</th>\n",
       "      <th>division_hr</th>\n",
       "      <th>division_management</th>\n",
       "      <th>division_marketing</th>\n",
       "      <th>division_product_mng</th>\n",
       "      <th>division_sales</th>\n",
       "      <th>division_support</th>\n",
       "      <th>division_technical</th>\n",
       "      <th>salary_high</th>\n",
       "      <th>salary_low</th>\n",
       "      <th>salary_medium</th>\n",
       "    </tr>\n",
       "  </thead>\n",
       "  <tbody>\n",
       "    <tr>\n",
       "      <th>8578</th>\n",
       "      <td>1.489468</td>\n",
       "      <td>-0.232653</td>\n",
       "      <td>2.008961</td>\n",
       "      <td>1.287677</td>\n",
       "      <td>1.000616</td>\n",
       "      <td>-0.351352</td>\n",
       "      <td>-0.110301</td>\n",
       "      <td>-0.29828</td>\n",
       "      <td>-0.235598</td>\n",
       "      <td>4.616884</td>\n",
       "      <td>-0.249114</td>\n",
       "      <td>-0.185243</td>\n",
       "      <td>-0.256206</td>\n",
       "      <td>-0.255321</td>\n",
       "      <td>-0.658910</td>\n",
       "      <td>-0.441542</td>\n",
       "      <td>-0.502866</td>\n",
       "      <td>-0.244239</td>\n",
       "      <td>-1.077731</td>\n",
       "      <td>1.203543</td>\n",
       "    </tr>\n",
       "    <tr>\n",
       "      <th>5756</th>\n",
       "      <td>0.800203</td>\n",
       "      <td>1.168632</td>\n",
       "      <td>0.355516</td>\n",
       "      <td>0.784984</td>\n",
       "      <td>-1.411345</td>\n",
       "      <td>-0.351352</td>\n",
       "      <td>-0.110301</td>\n",
       "      <td>-0.29828</td>\n",
       "      <td>-0.235598</td>\n",
       "      <td>4.616884</td>\n",
       "      <td>-0.249114</td>\n",
       "      <td>-0.185243</td>\n",
       "      <td>-0.256206</td>\n",
       "      <td>-0.255321</td>\n",
       "      <td>-0.658910</td>\n",
       "      <td>-0.441542</td>\n",
       "      <td>-0.502866</td>\n",
       "      <td>-0.244239</td>\n",
       "      <td>-1.077731</td>\n",
       "      <td>1.203543</td>\n",
       "    </tr>\n",
       "    <tr>\n",
       "      <th>3994</th>\n",
       "      <td>0.110938</td>\n",
       "      <td>-0.804229</td>\n",
       "      <td>-1.297929</td>\n",
       "      <td>1.455241</td>\n",
       "      <td>0.284565</td>\n",
       "      <td>-0.351352</td>\n",
       "      <td>-0.110301</td>\n",
       "      <td>-0.29828</td>\n",
       "      <td>-0.235598</td>\n",
       "      <td>-0.241361</td>\n",
       "      <td>-0.249114</td>\n",
       "      <td>-0.185243</td>\n",
       "      <td>-0.256206</td>\n",
       "      <td>-0.255321</td>\n",
       "      <td>1.619952</td>\n",
       "      <td>-0.441542</td>\n",
       "      <td>-0.502866</td>\n",
       "      <td>-0.244239</td>\n",
       "      <td>-1.077731</td>\n",
       "      <td>1.203543</td>\n",
       "    </tr>\n",
       "    <tr>\n",
       "      <th>1784</th>\n",
       "      <td>-1.267592</td>\n",
       "      <td>-1.007047</td>\n",
       "      <td>-0.471206</td>\n",
       "      <td>-1.169934</td>\n",
       "      <td>-0.469173</td>\n",
       "      <td>2.972531</td>\n",
       "      <td>-0.110301</td>\n",
       "      <td>-0.29828</td>\n",
       "      <td>-0.235598</td>\n",
       "      <td>4.616884</td>\n",
       "      <td>-0.249114</td>\n",
       "      <td>-0.185243</td>\n",
       "      <td>-0.256206</td>\n",
       "      <td>-0.255321</td>\n",
       "      <td>-0.658910</td>\n",
       "      <td>-0.441542</td>\n",
       "      <td>-0.502866</td>\n",
       "      <td>-0.244239</td>\n",
       "      <td>-1.077731</td>\n",
       "      <td>1.203543</td>\n",
       "    </tr>\n",
       "    <tr>\n",
       "      <th>10508</th>\n",
       "      <td>0.110938</td>\n",
       "      <td>0.762997</td>\n",
       "      <td>-0.471206</td>\n",
       "      <td>1.455241</td>\n",
       "      <td>-0.167677</td>\n",
       "      <td>-0.351352</td>\n",
       "      <td>-0.110301</td>\n",
       "      <td>-0.29828</td>\n",
       "      <td>-0.235598</td>\n",
       "      <td>-0.241361</td>\n",
       "      <td>-0.249114</td>\n",
       "      <td>-0.185243</td>\n",
       "      <td>-0.256206</td>\n",
       "      <td>-0.255321</td>\n",
       "      <td>-0.658910</td>\n",
       "      <td>2.443568</td>\n",
       "      <td>-0.502866</td>\n",
       "      <td>-0.244239</td>\n",
       "      <td>-1.077731</td>\n",
       "      <td>1.203543</td>\n",
       "    </tr>\n",
       "  </tbody>\n",
       "</table>\n",
       "</div>"
      ],
      "text/plain": [
       "       number_project  average_montly_hours  time_spend_company  \\\n",
       "8578         1.489468             -0.232653            2.008961   \n",
       "5756         0.800203              1.168632            0.355516   \n",
       "3994         0.110938             -0.804229           -1.297929   \n",
       "1784        -1.267592             -1.007047           -0.471206   \n",
       "10508        0.110938              0.762997           -0.471206   \n",
       "\n",
       "       last_evaluation  satisfaction_level  Work_accident_1  \\\n",
       "8578          1.287677            1.000616        -0.351352   \n",
       "5756          0.784984           -1.411345        -0.351352   \n",
       "3994          1.455241            0.284565        -0.351352   \n",
       "1784         -1.169934           -0.469173         2.972531   \n",
       "10508         1.455241           -0.167677        -0.351352   \n",
       "\n",
       "       promotion_last_5years_1  division_IT  division_RandD  \\\n",
       "8578                 -0.110301     -0.29828       -0.235598   \n",
       "5756                 -0.110301     -0.29828       -0.235598   \n",
       "3994                 -0.110301     -0.29828       -0.235598   \n",
       "1784                 -0.110301     -0.29828       -0.235598   \n",
       "10508                -0.110301     -0.29828       -0.235598   \n",
       "\n",
       "       division_accounting  division_hr  division_management  \\\n",
       "8578              4.616884    -0.249114            -0.185243   \n",
       "5756              4.616884    -0.249114            -0.185243   \n",
       "3994             -0.241361    -0.249114            -0.185243   \n",
       "1784              4.616884    -0.249114            -0.185243   \n",
       "10508            -0.241361    -0.249114            -0.185243   \n",
       "\n",
       "       division_marketing  division_product_mng  division_sales  \\\n",
       "8578            -0.256206             -0.255321       -0.658910   \n",
       "5756            -0.256206             -0.255321       -0.658910   \n",
       "3994            -0.256206             -0.255321        1.619952   \n",
       "1784            -0.256206             -0.255321       -0.658910   \n",
       "10508           -0.256206             -0.255321       -0.658910   \n",
       "\n",
       "       division_support  division_technical  salary_high  salary_low  \\\n",
       "8578          -0.441542           -0.502866    -0.244239   -1.077731   \n",
       "5756          -0.441542           -0.502866    -0.244239   -1.077731   \n",
       "3994          -0.441542           -0.502866    -0.244239   -1.077731   \n",
       "1784          -0.441542           -0.502866    -0.244239   -1.077731   \n",
       "10508          2.443568           -0.502866    -0.244239   -1.077731   \n",
       "\n",
       "       salary_medium  \n",
       "8578        1.203543  \n",
       "5756        1.203543  \n",
       "3994        1.203543  \n",
       "1784        1.203543  \n",
       "10508       1.203543  "
      ]
     },
     "execution_count": 37,
     "metadata": {},
     "output_type": "execute_result"
    }
   ],
   "source": [
    "X_test_clean = transformTestData(data = X_test,\n",
    "                                 num_col = numerical_col, \n",
    "                                 cat_col = categorical_col,\n",
    "                                 encoder_col = encoder_col,\n",
    "                                 imputer_num = imputer_num,\n",
    "                                 imputer_cat = imputer_cat,\n",
    "                                 encoder_cat = encoder_OHE,\n",
    "                                 scaler = scaler)\n",
    "\n",
    "X_test_clean.head()"
   ]
  },
  {
   "cell_type": "code",
   "execution_count": 38,
   "metadata": {},
   "outputs": [
    {
     "data": {
      "text/plain": [
       "Index(['number_project', 'average_montly_hours', 'time_spend_company',\n",
       "       'last_evaluation', 'satisfaction_level', 'Work_accident_1',\n",
       "       'promotion_last_5years_1', 'division_IT', 'division_RandD',\n",
       "       'division_accounting', 'division_hr', 'division_management',\n",
       "       'division_marketing', 'division_product_mng', 'division_sales',\n",
       "       'division_support', 'division_technical', 'salary_high', 'salary_low',\n",
       "       'salary_medium'],\n",
       "      dtype='object')"
      ]
     },
     "execution_count": 38,
     "metadata": {},
     "output_type": "execute_result"
    }
   ],
   "source": [
    "X_test_clean.columns"
   ]
  },
  {
   "cell_type": "code",
   "execution_count": 39,
   "metadata": {},
   "outputs": [
    {
     "data": {
      "text/plain": [
       "Index(['number_project', 'average_montly_hours', 'time_spend_company',\n",
       "       'last_evaluation', 'satisfaction_level', 'Work_accident_1',\n",
       "       'promotion_last_5years_1', 'division_IT', 'division_RandD',\n",
       "       'division_accounting', 'division_hr', 'division_management',\n",
       "       'division_marketing', 'division_product_mng', 'division_sales',\n",
       "       'division_support', 'division_technical', 'salary_high', 'salary_low',\n",
       "       'salary_medium'],\n",
       "      dtype='object')"
      ]
     },
     "execution_count": 39,
     "metadata": {},
     "output_type": "execute_result"
    }
   ],
   "source": [
    "X_train_clean.columns"
   ]
  },
  {
   "cell_type": "code",
   "execution_count": 40,
   "metadata": {},
   "outputs": [
    {
     "data": {
      "text/plain": [
       "20"
      ]
     },
     "execution_count": 40,
     "metadata": {},
     "output_type": "execute_result"
    }
   ],
   "source": [
    "len(X_train_clean.columns)"
   ]
  },
  {
   "cell_type": "markdown",
   "metadata": {},
   "source": [
    "*Done*"
   ]
  },
  {
   "cell_type": "markdown",
   "metadata": {},
   "source": [
    "---\n",
    "# Multi-Layer Perceptron (Neural Network)"
   ]
  },
  {
   "cell_type": "markdown",
   "metadata": {},
   "source": [
    "- Mengadaptasi cara sel otak transfer & mengolah informasi.\n",
    "- Satuan terkecilnya adalah Neuron (Perceptron)"
   ]
  },
  {
   "cell_type": "markdown",
   "metadata": {},
   "source": [
    "<center>\n",
    "<img src=\"https://blog.camelot-group.com/wp-content/uploads/2022/01/Perceptron_byCamelot.png\">\n",
    "<br>\n",
    "<a href=\"https://blog.camelot-group.com/2022/01/neural-networks-perceptron/\">source</a>\n",
    "</center>\n",
    "\n",
    "- 1 Perceptron dapat menerima beberapa input\n",
    "- 1 Perceptron mengeluarkan 1 output\n",
    "- Input-input akan dijumlahkan secara berbobot dahulu (`preActivation`)\n",
    "- Kemudian akan diaktifasi menggunakan `activation function` seperti Sigmoid, ReLU, TanH, dan sebagainya."
   ]
  },
  {
   "cell_type": "markdown",
   "metadata": {},
   "source": [
    "---\n",
    "## Feed Propagation\n",
    "- Misal kita ingin selesaikan kasus klasifikasi\n",
    "- Kita buat arsitektur Neural Network dengan 1 perceptron"
   ]
  },
  {
   "cell_type": "code",
   "execution_count": 41,
   "metadata": {},
   "outputs": [],
   "source": [
    "def preActivation(X, w):\n",
    "    \"\"\"\n",
    "    Fungsi untuk mendapatkan nilai pre activation (weighted-sum)\n",
    "    :param X: <pandas DataFrame> data input\n",
    "    :param w: <numpy array> weight dari masing-masing input\n",
    "    :return a: <numpy array> weighted sum atau pre activation\n",
    "    \"\"\"\n",
    "    a = np.dot(X, w[1:]) + w[0]\n",
    "\n",
    "    return a"
   ]
  },
  {
   "cell_type": "code",
   "execution_count": 42,
   "metadata": {},
   "outputs": [],
   "source": [
    "def activationFunction(a, types):\n",
    "    \"\"\"\n",
    "    Fungsi untuk melakukan aktifasi nilai pre activation\n",
    "    :param a: <numpy array> pre activation value\n",
    "    :param types: <str> pilihan fungsi aktivasi\n",
    "    :return y: <numpy array> output perceptron\n",
    "    \"\"\"\n",
    "    if types == \"linear\":\n",
    "        y = a\n",
    "    elif types == \"sigmoid\":\n",
    "        y = 1 / (1 + np.exp(-a))\n",
    "    elif types == \"relu\":\n",
    "        y = np.max(0, a)\n",
    "    else:\n",
    "        raise Exception(\"Activation Function tidak terdaftar\")\n",
    "\n",
    "    return y"
   ]
  },
  {
   "cell_type": "code",
   "execution_count": 43,
   "metadata": {},
   "outputs": [
    {
     "data": {
      "text/plain": [
       "20"
      ]
     },
     "execution_count": 43,
     "metadata": {},
     "output_type": "execute_result"
    }
   ],
   "source": [
    "len(X_train_clean.columns)"
   ]
  },
  {
   "cell_type": "markdown",
   "metadata": {},
   "source": [
    "*Lakukan Forward Propagation*"
   ]
  },
  {
   "cell_type": "code",
   "execution_count": 44,
   "metadata": {},
   "outputs": [
    {
     "data": {
      "text/plain": [
       "array([0.41836371, 0.85150171, 0.64247305, 0.54423548, 0.53661049,\n",
       "       0.03950903, 0.84951859, 0.74012256, 0.26721207, 0.14368064,\n",
       "       0.23725984, 0.03913312, 0.40391059, 0.69142168, 0.53563922,\n",
       "       0.63533072, 0.54362221, 0.95936295, 0.56883134, 0.27070719,\n",
       "       0.38106744])"
      ]
     },
     "execution_count": 44,
     "metadata": {},
     "output_type": "execute_result"
    }
   ],
   "source": [
    "# Buat random weight\n",
    "# Ada 20 weight & 1 bias\n",
    "w = np.random.rand(21)\n",
    "w"
   ]
  },
  {
   "cell_type": "markdown",
   "metadata": {},
   "source": [
    "*pada data train*"
   ]
  },
  {
   "cell_type": "code",
   "execution_count": 45,
   "metadata": {},
   "outputs": [],
   "source": [
    "# Cari pre-activation function\n",
    "a = preActivation(X = X_train_clean,\n",
    "                  w = w)"
   ]
  },
  {
   "cell_type": "code",
   "execution_count": 46,
   "metadata": {},
   "outputs": [],
   "source": [
    "# Cari output --> activate the pre-activation\n",
    "# Karena klasifikasi, activation function menggunakan Sigmoid\n",
    "y_pred_proba_train = activationFunction(a = a,\n",
    "                                        types = \"sigmoid\")"
   ]
  },
  {
   "cell_type": "code",
   "execution_count": 47,
   "metadata": {},
   "outputs": [
    {
     "data": {
      "text/plain": [
       "<Axes: ylabel='Count'>"
      ]
     },
     "execution_count": 47,
     "metadata": {},
     "output_type": "execute_result"
    },
    {
     "data": {
      "image/png": "[encoded data removed]",
      "text/plain": [
       "<Figure size 1000x700 with 1 Axes>"
      ]
     },
     "metadata": {},
     "output_type": "display_data"
    }
   ],
   "source": [
    "sns.histplot(y_pred_proba_train)"
   ]
  },
  {
   "cell_type": "code",
   "execution_count": 48,
   "metadata": {},
   "outputs": [],
   "source": [
    "# Buat prediksi\n",
    "thresh = 0.5\n",
    "\n",
    "y_pred_train = (y_pred_proba_train > thresh).astype(\"int\")"
   ]
  },
  {
   "cell_type": "code",
   "execution_count": 49,
   "metadata": {},
   "outputs": [
    {
     "data": {
      "text/plain": [
       "array([0, 1, 0, ..., 0, 1, 1])"
      ]
     },
     "execution_count": 49,
     "metadata": {},
     "output_type": "execute_result"
    }
   ],
   "source": [
    "y_pred_train"
   ]
  },
  {
   "cell_type": "markdown",
   "metadata": {},
   "source": [
    "*pada data test*"
   ]
  },
  {
   "cell_type": "code",
   "execution_count": 50,
   "metadata": {},
   "outputs": [],
   "source": [
    "# Cari pre-activation function\n",
    "a = preActivation(X = X_test_clean,\n",
    "                  w = w)"
   ]
  },
  {
   "cell_type": "code",
   "execution_count": 51,
   "metadata": {},
   "outputs": [],
   "source": [
    "# Cari output --> activate the pre-activation\n",
    "# Karena klasifikasi, activation function menggunakan Sigmoid\n",
    "y_pred_proba_test = activationFunction(a = a,\n",
    "                                       types = \"sigmoid\")"
   ]
  },
  {
   "cell_type": "code",
   "execution_count": 52,
   "metadata": {},
   "outputs": [],
   "source": [
    "# Buat prediksi\n",
    "y_pred_test = (y_pred_proba_test > thresh).astype(\"int\")"
   ]
  },
  {
   "cell_type": "markdown",
   "metadata": {},
   "source": [
    "*cek performa*"
   ]
  },
  {
   "cell_type": "code",
   "execution_count": 53,
   "metadata": {},
   "outputs": [],
   "source": [
    "# Cari performa\n",
    "from sklearn.metrics import confusion_matrix\n",
    "from sklearn.metrics import accuracy_score\n",
    "from sklearn.metrics import classification_report\n",
    "from sklearn.metrics import roc_curve\n",
    "from sklearn.metrics import auc"
   ]
  },
  {
   "cell_type": "markdown",
   "metadata": {},
   "source": [
    "*pada data train*"
   ]
  },
  {
   "cell_type": "code",
   "execution_count": 54,
   "metadata": {},
   "outputs": [
    {
     "data": {
      "text/plain": [
       "array([[3687, 4312],\n",
       "       [3538, 4461]])"
      ]
     },
     "execution_count": 54,
     "metadata": {},
     "output_type": "execute_result"
    }
   ],
   "source": [
    "# Tampilkan confusion matrix\n",
    "confusion_matrix(y_true = y_train,\n",
    "                 y_pred = y_pred_train)"
   ]
  },
  {
   "cell_type": "code",
   "execution_count": 55,
   "metadata": {},
   "outputs": [
    {
     "data": {
      "text/plain": [
       "0.509313664208026"
      ]
     },
     "execution_count": 55,
     "metadata": {},
     "output_type": "execute_result"
    }
   ],
   "source": [
    "# Tampilkan score\n",
    "accuracy_score(y_true = y_train,\n",
    "               y_pred = y_pred_train)"
   ]
  },
  {
   "cell_type": "code",
   "execution_count": 56,
   "metadata": {},
   "outputs": [
    {
     "name": "stdout",
     "output_type": "stream",
     "text": [
      "              precision    recall  f1-score   support\n",
      "\n",
      "    stay (0)       0.51      0.46      0.48      7999\n",
      "    left (1)       0.51      0.56      0.53      7999\n",
      "\n",
      "    accuracy                           0.51     15998\n",
      "   macro avg       0.51      0.51      0.51     15998\n",
      "weighted avg       0.51      0.51      0.51     15998\n",
      "\n"
     ]
    }
   ],
   "source": [
    "# Tampilkan score\n",
    "print(classification_report(y_true = y_train,\n",
    "                            y_pred = y_pred_train,\n",
    "                            target_names = [\"stay (0)\", \"left (1)\"]))"
   ]
  },
  {
   "cell_type": "markdown",
   "metadata": {},
   "source": [
    "**Baseline**\n",
    "- karena data sudah balance, accuracy baseline adalah 50%\n",
    "- model ini lebih buruk dibanding baseline, jadi harus diimprove\n",
    "\n",
    "**Focus**\n",
    "- `weighted_avg recall` bernilai 0.49, artinya dari yang **benar-benar** left, hanya 49% yang berhasil diprediksi left.\n",
    "- Berarti masih ada hampir 50% karyawan yang left tapi salah prediksi, dengan kata lain resikonya besar.\n",
    "- Kita ingin kecilkan hal tersebut"
   ]
  },
  {
   "cell_type": "code",
   "execution_count": 57,
   "metadata": {},
   "outputs": [
    {
     "data": {
      "image/png": "[encoded data removed]",
      "text/plain": [
       "<Figure size 1000x700 with 1 Axes>"
      ]
     },
     "metadata": {},
     "output_type": "display_data"
    }
   ],
   "source": [
    "# ROC Curve\n",
    "fpr_lr, tpr_lr, threshold_lr = roc_curve(y_train,\n",
    "                                         y_pred_proba_train)\n",
    "roc_auc_lr = auc(fpr_lr, tpr_lr)\n",
    "\n",
    "plt.title('Receiver Operating Characteristic')\n",
    "plt.plot(fpr_lr, tpr_lr, 'b', label = 'AUC = %0.2f' % roc_auc_lr)\n",
    "plt.legend(loc = 'lower right')\n",
    "plt.plot([0, 1], [0, 1],'r--')\n",
    "plt.xlim([0, 1])\n",
    "plt.ylim([0, 1])\n",
    "plt.ylabel('True Positive Rate')\n",
    "plt.xlabel('False Positive Rate')\n",
    "plt.show()"
   ]
  },
  {
   "cell_type": "markdown",
   "metadata": {},
   "source": [
    "*pada data test*"
   ]
  },
  {
   "cell_type": "code",
   "execution_count": 58,
   "metadata": {},
   "outputs": [
    {
     "data": {
      "text/plain": [
       "array([[ 895, 1106],\n",
       "       [ 171,  227]])"
      ]
     },
     "execution_count": 58,
     "metadata": {},
     "output_type": "execute_result"
    }
   ],
   "source": [
    "# Tampilkan confusion matrix\n",
    "confusion_matrix(y_true = y_test,\n",
    "                 y_pred = y_pred_test)"
   ]
  },
  {
   "cell_type": "code",
   "execution_count": 59,
   "metadata": {},
   "outputs": [
    {
     "data": {
      "text/plain": [
       "0.4676948728636932"
      ]
     },
     "execution_count": 59,
     "metadata": {},
     "output_type": "execute_result"
    }
   ],
   "source": [
    "# Tampilkan score\n",
    "accuracy_score(y_true = y_test,\n",
    "               y_pred = y_pred_test)"
   ]
  },
  {
   "cell_type": "code",
   "execution_count": 60,
   "metadata": {},
   "outputs": [
    {
     "name": "stdout",
     "output_type": "stream",
     "text": [
      "              precision    recall  f1-score   support\n",
      "\n",
      "    stay (0)       0.84      0.45      0.58      2001\n",
      "    left (1)       0.17      0.57      0.26       398\n",
      "\n",
      "    accuracy                           0.47      2399\n",
      "   macro avg       0.50      0.51      0.42      2399\n",
      "weighted avg       0.73      0.47      0.53      2399\n",
      "\n"
     ]
    }
   ],
   "source": [
    "# Tampilkan score\n",
    "print(classification_report(y_true = y_test,\n",
    "                            y_pred = y_pred_test,\n",
    "                            target_names = [\"stay (0)\", \"left (1)\"]))"
   ]
  },
  {
   "cell_type": "code",
   "execution_count": 61,
   "metadata": {},
   "outputs": [
    {
     "data": {
      "image/png": "[encoded data removed]",
      "text/plain": [
       "<Figure size 1000x700 with 1 Axes>"
      ]
     },
     "metadata": {},
     "output_type": "display_data"
    }
   ],
   "source": [
    "# ROC Curve\n",
    "fpr_lr, tpr_lr, threshold_lr = roc_curve(y_test,\n",
    "                                         y_pred_proba_test)\n",
    "roc_auc_lr = auc(fpr_lr, tpr_lr)\n",
    "\n",
    "plt.title('Receiver Operating Characteristic')\n",
    "plt.plot(fpr_lr, tpr_lr, 'b', label = 'AUC = %0.2f' % roc_auc_lr)\n",
    "plt.legend(loc = 'lower right')\n",
    "plt.plot([0, 1], [0, 1],'r--')\n",
    "plt.xlim([0, 1])\n",
    "plt.ylim([0, 1])\n",
    "plt.ylabel('True Positive Rate')\n",
    "plt.xlabel('False Positive Rate')\n",
    "plt.show()"
   ]
  },
  {
   "cell_type": "markdown",
   "metadata": {},
   "source": [
    "Masih jelek, ingin kita improve"
   ]
  },
  {
   "cell_type": "markdown",
   "metadata": {},
   "source": [
    "---\n",
    "# Gradient Descent"
   ]
  },
  {
   "cell_type": "markdown",
   "metadata": {},
   "source": [
    "- Akurasi model random masih kecil, ingin kita tingkatkan\n",
    "- Artinya, **weight** ingin kita optimasi\n",
    "- Dapat dioptimasi menggunakan **Gradient Descent**"
   ]
  },
  {
   "cell_type": "markdown",
   "metadata": {},
   "source": [
    "<center>\n",
    "<img src=\"https://static.javatpoint.com/tutorial/machine-learning/images/gradient-descent-in-machine-learning1.png\">\n",
    "<br>\n",
    "<a href=\"https://www.javatpoint.com/gradient-descent-in-machine-learning\">source</a>\n",
    "</center>"
   ]
  },
  {
   "cell_type": "markdown",
   "metadata": {},
   "source": [
    "Algoritma:\n",
    "- Inisialisasi weight, *bisa random*\n",
    "- Cari gradient error terhadap weight\n",
    "- Lakukan update weight dari informasi gradient tersebut\n",
    "\n",
    "$$\n",
    "w_{\\text{new}} = w_{\\text{old}} - \\nabla_{w} E\n",
    "$$\n",
    "\n",
    "- Ulangi hingga stopping criteria tercapai (max. iteration atau weight tidak berubah --> $\\nabla_{w} E = 0$)"
   ]
  },
  {
   "cell_type": "markdown",
   "metadata": {},
   "source": [
    "---\n",
    "# Backpropagation & Gradient Descent\n",
    "\n",
    "$$\n",
    "\\begin{align*}\n",
    "a^{(i)} &= w_{0} + w_{1}x_{1}^{(i)} + w_{2}x_{2}^{(i)} + \\cdots + w_{20}x_{20}^{(i)} \\\\\n",
    "\\hat{y}^{(i)} &= \\sigma (a^{(i)}) = \\cfrac{1}{1 + \\exp(-a^{(i)})}\\\\ \n",
    "\\text{error}^{(i)} &= (y^{(i)} - \\hat{y}^{(i)})^{2}\n",
    "\\end{align*}\n",
    "$$"
   ]
  },
  {
   "cell_type": "markdown",
   "metadata": {},
   "source": [
    "Cari gradient error menggunakan chain rules\n",
    "\n",
    "$$\n",
    "\\begin{align*}\n",
    "\\cfrac{\\partial \\text{error}}{\\partial w_{0}} &= \\cfrac{\\partial \\text{error}}{\\partial \\hat{y}} \\cdot \\cfrac{\\partial \\hat{y}}{\\partial a} \\cdot \\cfrac{\\partial a}{\\partial w_{0}} \\\\ \\\\\n",
    "\\cfrac{\\partial \\text{error}}{\\partial w_{1}} &= \\cfrac{\\partial \\text{error}}{\\partial \\hat{y}} \\cdot \\cfrac{\\partial \\hat{y}}{\\partial a} \\cdot \\cfrac{\\partial a}{\\partial w_{1}} \\\\ \\\\\n",
    "\\cfrac{\\partial \\text{error}}{\\partial w_{2}} &= \\cfrac{\\partial \\text{error}}{\\partial \\hat{y}} \\cdot \\cfrac{\\partial \\hat{y}}{\\partial a} \\cdot \\cfrac{\\partial a}{\\partial w_{2}} \\\\ \\\\\n",
    "\\vdots \\\\ \\\\ \n",
    "\\cfrac{\\partial \\text{error}}{\\partial w_{20}} &= \\cfrac{\\partial \\text{error}}{\\partial \\hat{y}} \\cdot \\cfrac{\\partial \\hat{y}}{\\partial a} \\cdot \\cfrac{\\partial a}{\\partial w_{20}}\n",
    "\\end{align*}\n",
    "$$"
   ]
  },
  {
   "cell_type": "markdown",
   "metadata": {},
   "source": [
    "Maka didapat\n",
    "\n",
    "$$\n",
    "\\begin{align*}\n",
    "\\cfrac{\\partial \\text{error}}{\\partial \\hat{y}} &= -2 (y - \\hat{y}) \\\\ \\\\\n",
    "\\cfrac{\\partial \\hat{y}}{\\partial a} &= \\sigma(a)(1 - \\sigma(a)) \\\\ \\\\\n",
    "\\cfrac{\\partial a}{\\partial w_{0}} &= 1 \\\\ \\\\\n",
    "\\cfrac{\\partial a}{\\partial w_{1}} &= x_{1} \\\\ \\\\\n",
    "\\cfrac{\\partial a}{\\partial w_{2}} &= x_{2} \\\\ \\\\\n",
    "\\vdots \\\\ \\\\\n",
    "\\cfrac{\\partial a}{\\partial w_{20}} &= x_{20}\n",
    "\\end{align*}\n",
    "$$"
   ]
  },
  {
   "cell_type": "code",
   "execution_count": 62,
   "metadata": {},
   "outputs": [],
   "source": [
    "def gradientDescent(X, y, \n",
    "                    learning_rate, max_iter, \n",
    "                    epsilon = 1e-6):\n",
    "    \"\"\"\n",
    "    Fungsi untuk melakukan update weight\n",
    "    \"\"\"\n",
    "    X = np.array(X)\n",
    "    n = X.shape[0]          # banyak data\n",
    "    p = X.shape[1] + 1      # banyak parameter\n",
    "\n",
    "    # Inisialisasi weights\n",
    "    w = np.ones(p)\n",
    "\n",
    "    # Inisialisasi\n",
    "    w_hist = []\n",
    "    loss_hist = []\n",
    "    iter = 0\n",
    "    previous_loss = 0\n",
    "\n",
    "    # Lakukan iterasi\n",
    "    for iter in range(max_iter):\n",
    "        # Buat prediksi\n",
    "        a = preActivation(X = X, w = w)\n",
    "        y_pred = activationFunction(a = a, types = \"sigmoid\")\n",
    "\n",
    "        # Cari error\n",
    "        current_loss = np.linalg.norm(y - y_pred)**2 ## RSS\n",
    "        \n",
    "        if np.abs(previous_loss - current_loss) < epsilon:\n",
    "            break\n",
    "\n",
    "        # Update\n",
    "        previous_loss = current_loss\n",
    "        loss_hist.append(current_loss)\n",
    "        w_hist.append(w)\n",
    "        \n",
    "        # Cari gradient error\n",
    "        derr_dy = -2 * (y - y_pred)\n",
    "        dy_da = y_pred * (1 - y_pred)\n",
    "        \n",
    "        derr_dw = np.zeros(p)\n",
    "        for j in range(p):\n",
    "            # Cari da_dw_j\n",
    "            if j == 0:\n",
    "                da_dw = np.ones(n)\n",
    "            else:\n",
    "                da_dw = X[:, j-1]\n",
    "            \n",
    "            # Cari error\n",
    "            derr_dw[j] = np.sum(derr_dy * dy_da * da_dw)\n",
    "\n",
    "\n",
    "        # Update weight dari gradient error\n",
    "        for j in range(p):\n",
    "            w[j] = w[j] - learning_rate * derr_dw[j]\n",
    "\n",
    "        if iter%100 == 0:\n",
    "            print(f\"iterasi {iter+1} - Loss: {current_loss:.4f}\")\n",
    "\n",
    "    # Print last iteration\n",
    "    print(f\"iterasi {iter+1} - Loss: {current_loss:.4f}\")\n",
    "\n",
    "    return loss_hist, w_hist"
   ]
  },
  {
   "cell_type": "code",
   "execution_count": 63,
   "metadata": {},
   "outputs": [
    {
     "name": "stdout",
     "output_type": "stream",
     "text": [
      "iterasi 1 - Loss: 7488.9291\n",
      "iterasi 101 - Loss: 1964.5390\n",
      "iterasi 201 - Loss: 1979.5729\n",
      "iterasi 301 - Loss: 1977.2020\n",
      "iterasi 401 - Loss: 1975.2475\n",
      "iterasi 501 - Loss: 1974.6624\n",
      "iterasi 601 - Loss: 1974.2861\n",
      "iterasi 701 - Loss: 1974.0228\n",
      "iterasi 801 - Loss: 1973.8315\n",
      "iterasi 901 - Loss: 1973.6896\n",
      "iterasi 1001 - Loss: 1973.5827\n",
      "iterasi 1101 - Loss: 1973.5015\n",
      "iterasi 1201 - Loss: 1973.4391\n",
      "iterasi 1301 - Loss: 1973.3909\n",
      "iterasi 1401 - Loss: 1973.3535\n",
      "iterasi 1501 - Loss: 1973.3243\n",
      "iterasi 1601 - Loss: 1973.3016\n",
      "iterasi 1701 - Loss: 1973.2837\n",
      "iterasi 1801 - Loss: 1973.2697\n",
      "iterasi 1901 - Loss: 1973.2587\n",
      "iterasi 2001 - Loss: 1973.2501\n",
      "iterasi 2101 - Loss: 1973.2433\n",
      "iterasi 2201 - Loss: 1973.2379\n",
      "iterasi 2301 - Loss: 1973.2337\n",
      "iterasi 2401 - Loss: 1973.2303\n",
      "iterasi 2501 - Loss: 1973.2277\n",
      "iterasi 2601 - Loss: 1973.2256\n",
      "iterasi 2701 - Loss: 1973.2240\n",
      "iterasi 2801 - Loss: 1973.2227\n",
      "iterasi 2901 - Loss: 1973.2217\n",
      "iterasi 3001 - Loss: 1973.2209\n",
      "iterasi 3101 - Loss: 1973.2202\n",
      "iterasi 3201 - Loss: 1973.2197\n",
      "iterasi 3301 - Loss: 1973.2193\n",
      "iterasi 3401 - Loss: 1973.2190\n",
      "iterasi 3501 - Loss: 1973.2188\n",
      "iterasi 3601 - Loss: 1973.2186\n",
      "iterasi 3701 - Loss: 1973.2184\n",
      "iterasi 3801 - Loss: 1973.2183\n",
      "iterasi 3901 - Loss: 1973.2182\n",
      "iterasi 4001 - Loss: 1973.2181\n",
      "iterasi 4101 - Loss: 1973.2181\n",
      "iterasi 4201 - Loss: 1973.2180\n",
      "iterasi 4301 - Loss: 1973.2180\n",
      "iterasi 4401 - Loss: 1973.2180\n",
      "iterasi 4501 - Loss: 1973.2179\n",
      "iterasi 4601 - Loss: 1973.2179\n",
      "iterasi 4701 - Loss: 1973.2179\n",
      "iterasi 4801 - Loss: 1973.2179\n",
      "iterasi 4901 - Loss: 1973.2179\n",
      "iterasi 5000 - Loss: 1986.7079\n"
     ]
    }
   ],
   "source": [
    "loss_hist, w_hist = gradientDescent(X = X_train_clean,\n",
    "                                    y = y_train,\n",
    "                                    learning_rate = 0.01,\n",
    "                                    max_iter = 5000)"
   ]
  },
  {
   "cell_type": "code",
   "execution_count": 64,
   "metadata": {},
   "outputs": [
    {
     "data": {
      "image/png": "[encoded data removed]",
      "text/plain": [
       "<Figure size 1000x700 with 1 Axes>"
      ]
     },
     "metadata": {},
     "output_type": "display_data"
    }
   ],
   "source": [
    "# Plot Error history\n",
    "plt.plot([i for i in range(len(loss_hist))], loss_hist)\n",
    "plt.xlabel(\"Iteration\")\n",
    "plt.ylabel(\"Loss\")\n",
    "\n",
    "plt.show()"
   ]
  },
  {
   "cell_type": "code",
   "execution_count": 65,
   "metadata": {},
   "outputs": [
    {
     "data": {
      "text/plain": [
       "array([ -2.45893172,  -7.08326657,  -0.0449544 ,  18.48650381,\n",
       "         0.86434723, -10.43313379,  -0.82744534,  -3.70713583,\n",
       "         0.80331553,   0.42532654,   0.5879857 ,   0.83426641,\n",
       "         0.43036978,   0.8611298 ,   0.83983843,   1.68152344,\n",
       "         0.9767835 ,   1.40652648,   0.13774149,   1.42480806,\n",
       "         0.96734897])"
      ]
     },
     "execution_count": 65,
     "metadata": {},
     "output_type": "execute_result"
    }
   ],
   "source": [
    "# Cari best weights\n",
    "w_best = w_hist[-1]\n",
    "w_best"
   ]
  },
  {
   "cell_type": "code",
   "execution_count": 66,
   "metadata": {},
   "outputs": [
    {
     "data": {
      "text/plain": [
       "21"
      ]
     },
     "execution_count": 66,
     "metadata": {},
     "output_type": "execute_result"
    }
   ],
   "source": [
    "len(w_best)"
   ]
  },
  {
   "cell_type": "markdown",
   "metadata": {},
   "source": [
    "*pada data train*"
   ]
  },
  {
   "cell_type": "code",
   "execution_count": 67,
   "metadata": {},
   "outputs": [],
   "source": [
    "# Cari pre-activation function\n",
    "a = preActivation(X = X_train_clean,\n",
    "                  w = w_best)"
   ]
  },
  {
   "cell_type": "code",
   "execution_count": 68,
   "metadata": {},
   "outputs": [],
   "source": [
    "# Cari output --> activate the pre-activation\n",
    "# Karena klasifikasi, activation function menggunakan Sigmoid\n",
    "y_pred_proba_train = activationFunction(a = a,\n",
    "                                        types = \"sigmoid\")"
   ]
  },
  {
   "cell_type": "code",
   "execution_count": 69,
   "metadata": {},
   "outputs": [],
   "source": [
    "# Buat prediksi\n",
    "thresh = 0.5\n",
    "\n",
    "y_pred_train = (y_pred_proba_train > thresh).astype(\"int\")"
   ]
  },
  {
   "cell_type": "markdown",
   "metadata": {},
   "source": [
    "*pada data test*"
   ]
  },
  {
   "cell_type": "code",
   "execution_count": 70,
   "metadata": {},
   "outputs": [],
   "source": [
    "# Cari pre-activation function\n",
    "a = preActivation(X = X_test_clean,\n",
    "                  w = w_best)"
   ]
  },
  {
   "cell_type": "code",
   "execution_count": 71,
   "metadata": {},
   "outputs": [],
   "source": [
    "# Cari output --> activate the pre-activation\n",
    "# Karena klasifikasi, activation function menggunakan Sigmoid\n",
    "y_pred_proba_test = activationFunction(a = a,\n",
    "                                       types = \"sigmoid\")"
   ]
  },
  {
   "cell_type": "code",
   "execution_count": 72,
   "metadata": {},
   "outputs": [],
   "source": [
    "# Buat prediksi\n",
    "y_pred_test = (y_pred_proba_test > thresh).astype(\"int\")"
   ]
  },
  {
   "cell_type": "markdown",
   "metadata": {},
   "source": [
    "*cek performa*"
   ]
  },
  {
   "cell_type": "markdown",
   "metadata": {},
   "source": [
    "*pada data train*"
   ]
  },
  {
   "cell_type": "code",
   "execution_count": 73,
   "metadata": {},
   "outputs": [
    {
     "data": {
      "text/plain": [
       "array([[6308, 1691],\n",
       "       [ 364, 7635]])"
      ]
     },
     "execution_count": 73,
     "metadata": {},
     "output_type": "execute_result"
    }
   ],
   "source": [
    "# Tampilkan confusion matrix\n",
    "confusion_matrix(y_true = y_train,\n",
    "                 y_pred = y_pred_train)"
   ]
  },
  {
   "cell_type": "code",
   "execution_count": 74,
   "metadata": {},
   "outputs": [
    {
     "data": {
      "text/plain": [
       "0.8715464433054132"
      ]
     },
     "execution_count": 74,
     "metadata": {},
     "output_type": "execute_result"
    }
   ],
   "source": [
    "# Tampilkan score\n",
    "accuracy_score(y_true = y_train,\n",
    "               y_pred = y_pred_train)"
   ]
  },
  {
   "cell_type": "code",
   "execution_count": 75,
   "metadata": {},
   "outputs": [
    {
     "name": "stdout",
     "output_type": "stream",
     "text": [
      "              precision    recall  f1-score   support\n",
      "\n",
      "    stay (0)       0.95      0.79      0.86      7999\n",
      "    left (1)       0.82      0.95      0.88      7999\n",
      "\n",
      "    accuracy                           0.87     15998\n",
      "   macro avg       0.88      0.87      0.87     15998\n",
      "weighted avg       0.88      0.87      0.87     15998\n",
      "\n"
     ]
    }
   ],
   "source": [
    "# Tampilkan score\n",
    "print(classification_report(y_true = y_train,\n",
    "                            y_pred = y_pred_train,\n",
    "                            target_names = [\"stay (0)\", \"left (1)\"]))"
   ]
  },
  {
   "cell_type": "markdown",
   "metadata": {},
   "source": [
    "- Ada perbaikan recall, tadinya 49% sekarang jadi 87%\n",
    "- Membaik"
   ]
  },
  {
   "cell_type": "code",
   "execution_count": 76,
   "metadata": {},
   "outputs": [
    {
     "data": {
      "image/png": "[encoded data removed]",
      "text/plain": [
       "<Figure size 1000x700 with 1 Axes>"
      ]
     },
     "metadata": {},
     "output_type": "display_data"
    }
   ],
   "source": [
    "# ROC Curve\n",
    "fpr_lr, tpr_lr, threshold_lr = roc_curve(y_train,\n",
    "                                         y_pred_proba_train)\n",
    "roc_auc_lr = auc(fpr_lr, tpr_lr)\n",
    "\n",
    "plt.title('Receiver Operating Characteristic')\n",
    "plt.plot(fpr_lr, tpr_lr, 'b', label = 'AUC = %0.2f' % roc_auc_lr)\n",
    "plt.legend(loc = 'lower right')\n",
    "plt.plot([0, 1], [0, 1],'r--')\n",
    "plt.xlim([0, 1])\n",
    "plt.ylim([0, 1])\n",
    "plt.ylabel('True Positive Rate')\n",
    "plt.xlabel('False Positive Rate')\n",
    "plt.show()"
   ]
  },
  {
   "cell_type": "markdown",
   "metadata": {},
   "source": [
    "*pada data test*"
   ]
  },
  {
   "cell_type": "code",
   "execution_count": 77,
   "metadata": {},
   "outputs": [
    {
     "data": {
      "text/plain": [
       "array([[1545,  456],\n",
       "       [  24,  374]])"
      ]
     },
     "execution_count": 77,
     "metadata": {},
     "output_type": "execute_result"
    }
   ],
   "source": [
    "# Tampilkan confusion matrix\n",
    "confusion_matrix(y_true = y_test,\n",
    "                 y_pred = y_pred_test)"
   ]
  },
  {
   "cell_type": "code",
   "execution_count": 78,
   "metadata": {},
   "outputs": [
    {
     "data": {
      "text/plain": [
       "0.7999166319299709"
      ]
     },
     "execution_count": 78,
     "metadata": {},
     "output_type": "execute_result"
    }
   ],
   "source": [
    "# Tampilkan score\n",
    "accuracy_score(y_true = y_test,\n",
    "               y_pred = y_pred_test)"
   ]
  },
  {
   "cell_type": "code",
   "execution_count": 79,
   "metadata": {},
   "outputs": [
    {
     "name": "stdout",
     "output_type": "stream",
     "text": [
      "              precision    recall  f1-score   support\n",
      "\n",
      "    stay (0)       0.98      0.77      0.87      2001\n",
      "    left (1)       0.45      0.94      0.61       398\n",
      "\n",
      "    accuracy                           0.80      2399\n",
      "   macro avg       0.72      0.86      0.74      2399\n",
      "weighted avg       0.90      0.80      0.82      2399\n",
      "\n"
     ]
    }
   ],
   "source": [
    "# Tampilkan score\n",
    "print(classification_report(y_true = y_test,\n",
    "                            y_pred = y_pred_test,\n",
    "                            target_names = [\"stay (0)\", \"left (1)\"]))"
   ]
  },
  {
   "cell_type": "code",
   "execution_count": 80,
   "metadata": {},
   "outputs": [
    {
     "data": {
      "image/png": "[encoded data removed]",
      "text/plain": [
       "<Figure size 1000x700 with 1 Axes>"
      ]
     },
     "metadata": {},
     "output_type": "display_data"
    }
   ],
   "source": [
    "# ROC Curve\n",
    "fpr_lr, tpr_lr, threshold_lr = roc_curve(y_test,\n",
    "                                         y_pred_proba_test)\n",
    "roc_auc_lr = auc(fpr_lr, tpr_lr)\n",
    "\n",
    "plt.title('Receiver Operating Characteristic')\n",
    "plt.plot(fpr_lr, tpr_lr, 'b', label = 'AUC = %0.2f' % roc_auc_lr)\n",
    "plt.legend(loc = 'lower right')\n",
    "plt.plot([0, 1], [0, 1],'r--')\n",
    "plt.xlim([0, 1])\n",
    "plt.ylim([0, 1])\n",
    "plt.ylabel('True Positive Rate')\n",
    "plt.xlabel('False Positive Rate')\n",
    "plt.show()"
   ]
  },
  {
   "cell_type": "markdown",
   "metadata": {},
   "source": [
    "---\n",
    "# Membuat Model Neural Network"
   ]
  },
  {
   "cell_type": "code",
   "execution_count": 81,
   "metadata": {},
   "outputs": [
    {
     "ename": "TypeError",
     "evalue": "unhashable type: 'list'",
     "output_type": "error",
     "traceback": [
      "\u001b[1;31m---------------------------------------------------------------------------\u001b[0m",
      "\u001b[1;31mTypeError\u001b[0m                                 Traceback (most recent call last)",
      "Cell \u001b[1;32mIn[81], line 2\u001b[0m\n\u001b[0;32m      1\u001b[0m \u001b[38;5;66;03m# Import library\u001b[39;00m\n\u001b[1;32m----> 2\u001b[0m \u001b[38;5;28;01mimport\u001b[39;00m \u001b[38;5;21;01mtensorflow\u001b[39;00m \u001b[38;5;28;01mas\u001b[39;00m \u001b[38;5;21;01mtf\u001b[39;00m\n\u001b[0;32m      3\u001b[0m \u001b[38;5;28;01mfrom\u001b[39;00m \u001b[38;5;21;01mtensorflow\u001b[39;00m \u001b[38;5;28;01mimport\u001b[39;00m keras\n\u001b[0;32m      4\u001b[0m \u001b[38;5;66;03m# from keras import layers, models\u001b[39;00m\n\u001b[0;32m      5\u001b[0m \u001b[38;5;66;03m# from keras.layers import Dense\u001b[39;00m\n\u001b[0;32m      6\u001b[0m \u001b[38;5;66;03m# from keras.models import Sequential, load_model\u001b[39;00m\n",
      "File \u001b[1;32mc:\\Users\\farha\\Documents\\pacmann\\pacmann_env\\lib\\site-packages\\tensorflow\\__init__.py:49\u001b[0m\n\u001b[0;32m     46\u001b[0m \u001b[38;5;28;01mfrom\u001b[39;00m \u001b[38;5;21;01mtensorflow\u001b[39;00m\u001b[38;5;21;01m.\u001b[39;00m\u001b[38;5;21;01mpython\u001b[39;00m \u001b[38;5;28;01mimport\u001b[39;00m tf2 \u001b[38;5;28;01mas\u001b[39;00m _tf2\n\u001b[0;32m     47\u001b[0m _tf2\u001b[38;5;241m.\u001b[39menable()\n\u001b[1;32m---> 49\u001b[0m \u001b[38;5;28;01mfrom\u001b[39;00m \u001b[38;5;21;01mtensorflow\u001b[39;00m\u001b[38;5;21;01m.\u001b[39;00m\u001b[38;5;21;01m_api\u001b[39;00m\u001b[38;5;21;01m.\u001b[39;00m\u001b[38;5;21;01mv2\u001b[39;00m \u001b[38;5;28;01mimport\u001b[39;00m __internal__\n\u001b[0;32m     50\u001b[0m \u001b[38;5;28;01mfrom\u001b[39;00m \u001b[38;5;21;01mtensorflow\u001b[39;00m\u001b[38;5;21;01m.\u001b[39;00m\u001b[38;5;21;01m_api\u001b[39;00m\u001b[38;5;21;01m.\u001b[39;00m\u001b[38;5;21;01mv2\u001b[39;00m \u001b[38;5;28;01mimport\u001b[39;00m __operators__\n\u001b[0;32m     51\u001b[0m \u001b[38;5;28;01mfrom\u001b[39;00m \u001b[38;5;21;01mtensorflow\u001b[39;00m\u001b[38;5;21;01m.\u001b[39;00m\u001b[38;5;21;01m_api\u001b[39;00m\u001b[38;5;21;01m.\u001b[39;00m\u001b[38;5;21;01mv2\u001b[39;00m \u001b[38;5;28;01mimport\u001b[39;00m audio\n",
      "File \u001b[1;32mc:\\Users\\farha\\Documents\\pacmann\\pacmann_env\\lib\\site-packages\\tensorflow\\_api\\v2\\__internal__\\__init__.py:8\u001b[0m\n\u001b[0;32m      3\u001b[0m \u001b[38;5;124;03m\"\"\"Public API for tf._api.v2.__internal__ namespace\u001b[39;00m\n\u001b[0;32m      4\u001b[0m \u001b[38;5;124;03m\"\"\"\u001b[39;00m\n\u001b[0;32m      6\u001b[0m \u001b[38;5;28;01mimport\u001b[39;00m \u001b[38;5;21;01msys\u001b[39;00m \u001b[38;5;28;01mas\u001b[39;00m \u001b[38;5;21;01m_sys\u001b[39;00m\n\u001b[1;32m----> 8\u001b[0m \u001b[38;5;28;01mfrom\u001b[39;00m \u001b[38;5;21;01mtensorflow\u001b[39;00m\u001b[38;5;21;01m.\u001b[39;00m\u001b[38;5;21;01m_api\u001b[39;00m\u001b[38;5;21;01m.\u001b[39;00m\u001b[38;5;21;01mv2\u001b[39;00m\u001b[38;5;21;01m.\u001b[39;00m\u001b[38;5;21;01m__internal__\u001b[39;00m \u001b[38;5;28;01mimport\u001b[39;00m autograph\n\u001b[0;32m      9\u001b[0m \u001b[38;5;28;01mfrom\u001b[39;00m \u001b[38;5;21;01mtensorflow\u001b[39;00m\u001b[38;5;21;01m.\u001b[39;00m\u001b[38;5;21;01m_api\u001b[39;00m\u001b[38;5;21;01m.\u001b[39;00m\u001b[38;5;21;01mv2\u001b[39;00m\u001b[38;5;21;01m.\u001b[39;00m\u001b[38;5;21;01m__internal__\u001b[39;00m \u001b[38;5;28;01mimport\u001b[39;00m decorator\n\u001b[0;32m     10\u001b[0m \u001b[38;5;28;01mfrom\u001b[39;00m \u001b[38;5;21;01mtensorflow\u001b[39;00m\u001b[38;5;21;01m.\u001b[39;00m\u001b[38;5;21;01m_api\u001b[39;00m\u001b[38;5;21;01m.\u001b[39;00m\u001b[38;5;21;01mv2\u001b[39;00m\u001b[38;5;21;01m.\u001b[39;00m\u001b[38;5;21;01m__internal__\u001b[39;00m \u001b[38;5;28;01mimport\u001b[39;00m dispatch\n",
      "File \u001b[1;32mc:\\Users\\farha\\Documents\\pacmann\\pacmann_env\\lib\\site-packages\\tensorflow\\_api\\v2\\__internal__\\autograph\\__init__.py:8\u001b[0m\n\u001b[0;32m      3\u001b[0m \u001b[38;5;124;03m\"\"\"Public API for tf._api.v2.__internal__.autograph namespace\u001b[39;00m\n\u001b[0;32m      4\u001b[0m \u001b[38;5;124;03m\"\"\"\u001b[39;00m\n\u001b[0;32m      6\u001b[0m \u001b[38;5;28;01mimport\u001b[39;00m \u001b[38;5;21;01msys\u001b[39;00m \u001b[38;5;28;01mas\u001b[39;00m \u001b[38;5;21;01m_sys\u001b[39;00m\n\u001b[1;32m----> 8\u001b[0m \u001b[38;5;28;01mfrom\u001b[39;00m \u001b[38;5;21;01mtensorflow\u001b[39;00m\u001b[38;5;21;01m.\u001b[39;00m\u001b[38;5;21;01mpython\u001b[39;00m\u001b[38;5;21;01m.\u001b[39;00m\u001b[38;5;21;01mautograph\u001b[39;00m\u001b[38;5;21;01m.\u001b[39;00m\u001b[38;5;21;01mcore\u001b[39;00m\u001b[38;5;21;01m.\u001b[39;00m\u001b[38;5;21;01mag_ctx\u001b[39;00m \u001b[38;5;28;01mimport\u001b[39;00m control_status_ctx \u001b[38;5;66;03m# line: 34\u001b[39;00m\n\u001b[0;32m      9\u001b[0m \u001b[38;5;28;01mfrom\u001b[39;00m \u001b[38;5;21;01mtensorflow\u001b[39;00m\u001b[38;5;21;01m.\u001b[39;00m\u001b[38;5;21;01mpython\u001b[39;00m\u001b[38;5;21;01m.\u001b[39;00m\u001b[38;5;21;01mautograph\u001b[39;00m\u001b[38;5;21;01m.\u001b[39;00m\u001b[38;5;21;01mimpl\u001b[39;00m\u001b[38;5;21;01m.\u001b[39;00m\u001b[38;5;21;01mapi\u001b[39;00m \u001b[38;5;28;01mimport\u001b[39;00m tf_convert \u001b[38;5;66;03m# line: 493\u001b[39;00m\n",
      "File \u001b[1;32mc:\\Users\\farha\\Documents\\pacmann\\pacmann_env\\lib\\site-packages\\tensorflow\\python\\autograph\\core\\ag_ctx.py:21\u001b[0m\n\u001b[0;32m     18\u001b[0m \u001b[38;5;28;01mimport\u001b[39;00m \u001b[38;5;21;01minspect\u001b[39;00m\n\u001b[0;32m     19\u001b[0m \u001b[38;5;28;01mimport\u001b[39;00m \u001b[38;5;21;01mthreading\u001b[39;00m\n\u001b[1;32m---> 21\u001b[0m \u001b[38;5;28;01mfrom\u001b[39;00m \u001b[38;5;21;01mtensorflow\u001b[39;00m\u001b[38;5;21;01m.\u001b[39;00m\u001b[38;5;21;01mpython\u001b[39;00m\u001b[38;5;21;01m.\u001b[39;00m\u001b[38;5;21;01mautograph\u001b[39;00m\u001b[38;5;21;01m.\u001b[39;00m\u001b[38;5;21;01mutils\u001b[39;00m \u001b[38;5;28;01mimport\u001b[39;00m ag_logging\n\u001b[0;32m     22\u001b[0m \u001b[38;5;28;01mfrom\u001b[39;00m \u001b[38;5;21;01mtensorflow\u001b[39;00m\u001b[38;5;21;01m.\u001b[39;00m\u001b[38;5;21;01mpython\u001b[39;00m\u001b[38;5;21;01m.\u001b[39;00m\u001b[38;5;21;01mutil\u001b[39;00m\u001b[38;5;21;01m.\u001b[39;00m\u001b[38;5;21;01mtf_export\u001b[39;00m \u001b[38;5;28;01mimport\u001b[39;00m tf_export\n\u001b[0;32m     25\u001b[0m stacks \u001b[38;5;241m=\u001b[39m threading\u001b[38;5;241m.\u001b[39mlocal()\n",
      "File \u001b[1;32mc:\\Users\\farha\\Documents\\pacmann\\pacmann_env\\lib\\site-packages\\tensorflow\\python\\autograph\\utils\\__init__.py:17\u001b[0m\n\u001b[0;32m      1\u001b[0m \u001b[38;5;66;03m# Copyright 2016 The TensorFlow Authors. All Rights Reserved.\u001b[39;00m\n\u001b[0;32m      2\u001b[0m \u001b[38;5;66;03m#\u001b[39;00m\n\u001b[0;32m      3\u001b[0m \u001b[38;5;66;03m# Licensed under the Apache License, Version 2.0 (the \"License\");\u001b[39;00m\n\u001b[1;32m   (...)\u001b[0m\n\u001b[0;32m     13\u001b[0m \u001b[38;5;66;03m# limitations under the License.\u001b[39;00m\n\u001b[0;32m     14\u001b[0m \u001b[38;5;66;03m# ==============================================================================\u001b[39;00m\n\u001b[0;32m     15\u001b[0m \u001b[38;5;124;03m\"\"\"Utility module that contains APIs usable in the generated code.\"\"\"\u001b[39;00m\n\u001b[1;32m---> 17\u001b[0m \u001b[38;5;28;01mfrom\u001b[39;00m \u001b[38;5;21;01mtensorflow\u001b[39;00m\u001b[38;5;21;01m.\u001b[39;00m\u001b[38;5;21;01mpython\u001b[39;00m\u001b[38;5;21;01m.\u001b[39;00m\u001b[38;5;21;01mautograph\u001b[39;00m\u001b[38;5;21;01m.\u001b[39;00m\u001b[38;5;21;01mutils\u001b[39;00m\u001b[38;5;21;01m.\u001b[39;00m\u001b[38;5;21;01mcontext_managers\u001b[39;00m \u001b[38;5;28;01mimport\u001b[39;00m control_dependency_on_returns\n\u001b[0;32m     18\u001b[0m \u001b[38;5;28;01mfrom\u001b[39;00m \u001b[38;5;21;01mtensorflow\u001b[39;00m\u001b[38;5;21;01m.\u001b[39;00m\u001b[38;5;21;01mpython\u001b[39;00m\u001b[38;5;21;01m.\u001b[39;00m\u001b[38;5;21;01mautograph\u001b[39;00m\u001b[38;5;21;01m.\u001b[39;00m\u001b[38;5;21;01mutils\u001b[39;00m\u001b[38;5;21;01m.\u001b[39;00m\u001b[38;5;21;01mmisc\u001b[39;00m \u001b[38;5;28;01mimport\u001b[39;00m alias_tensors\n\u001b[0;32m     19\u001b[0m \u001b[38;5;28;01mfrom\u001b[39;00m \u001b[38;5;21;01mtensorflow\u001b[39;00m\u001b[38;5;21;01m.\u001b[39;00m\u001b[38;5;21;01mpython\u001b[39;00m\u001b[38;5;21;01m.\u001b[39;00m\u001b[38;5;21;01mautograph\u001b[39;00m\u001b[38;5;21;01m.\u001b[39;00m\u001b[38;5;21;01mutils\u001b[39;00m\u001b[38;5;21;01m.\u001b[39;00m\u001b[38;5;21;01mtensor_list\u001b[39;00m \u001b[38;5;28;01mimport\u001b[39;00m dynamic_list_append\n",
      "File \u001b[1;32mc:\\Users\\farha\\Documents\\pacmann\\pacmann_env\\lib\\site-packages\\tensorflow\\python\\autograph\\utils\\context_managers.py:19\u001b[0m\n\u001b[0;32m     15\u001b[0m \u001b[38;5;124;03m\"\"\"Various context managers.\"\"\"\u001b[39;00m\n\u001b[0;32m     17\u001b[0m \u001b[38;5;28;01mimport\u001b[39;00m \u001b[38;5;21;01mcontextlib\u001b[39;00m\n\u001b[1;32m---> 19\u001b[0m \u001b[38;5;28;01mfrom\u001b[39;00m \u001b[38;5;21;01mtensorflow\u001b[39;00m\u001b[38;5;21;01m.\u001b[39;00m\u001b[38;5;21;01mpython\u001b[39;00m\u001b[38;5;21;01m.\u001b[39;00m\u001b[38;5;21;01mframework\u001b[39;00m \u001b[38;5;28;01mimport\u001b[39;00m ops\n\u001b[0;32m     20\u001b[0m \u001b[38;5;28;01mfrom\u001b[39;00m \u001b[38;5;21;01mtensorflow\u001b[39;00m\u001b[38;5;21;01m.\u001b[39;00m\u001b[38;5;21;01mpython\u001b[39;00m\u001b[38;5;21;01m.\u001b[39;00m\u001b[38;5;21;01mops\u001b[39;00m \u001b[38;5;28;01mimport\u001b[39;00m tensor_array_ops\n\u001b[0;32m     23\u001b[0m \u001b[38;5;28;01mdef\u001b[39;00m \u001b[38;5;21mcontrol_dependency_on_returns\u001b[39m(return_value):\n",
      "File \u001b[1;32mc:\\Users\\farha\\Documents\\pacmann\\pacmann_env\\lib\\site-packages\\tensorflow\\python\\framework\\ops.py:5925\u001b[0m\n\u001b[0;32m   5919\u001b[0m   \u001b[38;5;28;01mexcept\u001b[39;00m \u001b[38;5;167;01mLookupError\u001b[39;00m:\n\u001b[0;32m   5920\u001b[0m     \u001b[38;5;28;01mreturn\u001b[39;00m \u001b[38;5;28;01mNone\u001b[39;00m\n\u001b[0;32m   5923\u001b[0m \u001b[38;5;28;01mdef\u001b[39;00m \u001b[38;5;21mget_to_proto_function\u001b[39m(\n\u001b[0;32m   5924\u001b[0m     collection_name,\n\u001b[1;32m-> 5925\u001b[0m ) \u001b[38;5;241m-\u001b[39m\u001b[38;5;241m>\u001b[39m \u001b[43mOptional\u001b[49m\u001b[43m[\u001b[49m\u001b[43mCallable\u001b[49m\u001b[43m[\u001b[49m\u001b[43m[\u001b[49m\u001b[43mAny\u001b[49m\u001b[43m]\u001b[49m\u001b[43m,\u001b[49m\u001b[43m \u001b[49m\u001b[43mmessage\u001b[49m\u001b[38;5;241;43m.\u001b[39;49m\u001b[43mMessage\u001b[49m\u001b[43m]\u001b[49m\u001b[43m]\u001b[49m:\n\u001b[0;32m   5926\u001b[0m \u001b[38;5;250m  \u001b[39m\u001b[38;5;124;03m\"\"\"Returns the to_proto function for collection_name.\"\"\"\u001b[39;00m\n\u001b[0;32m   5927\u001b[0m   \u001b[38;5;28;01mtry\u001b[39;00m:\n",
      "File \u001b[1;32mc:\\users\\farha\\appdata\\local\\programs\\python\\python39\\lib\\typing.py:262\u001b[0m, in \u001b[0;36m_tp_cache.<locals>.decorator.<locals>.inner\u001b[1;34m(*args, **kwds)\u001b[0m\n\u001b[0;32m    260\u001b[0m \u001b[38;5;28;01mexcept\u001b[39;00m \u001b[38;5;167;01mTypeError\u001b[39;00m:\n\u001b[0;32m    261\u001b[0m     \u001b[38;5;28;01mpass\u001b[39;00m  \u001b[38;5;66;03m# All real errors (not unhashable args) are raised below.\u001b[39;00m\n\u001b[1;32m--> 262\u001b[0m \u001b[38;5;28;01mreturn\u001b[39;00m func(\u001b[38;5;241m*\u001b[39margs, \u001b[38;5;241m*\u001b[39m\u001b[38;5;241m*\u001b[39mkwds)\n",
      "File \u001b[1;32mc:\\users\\farha\\appdata\\local\\programs\\python\\python39\\lib\\typing.py:339\u001b[0m, in \u001b[0;36m_SpecialForm.__getitem__\u001b[1;34m(self, parameters)\u001b[0m\n\u001b[0;32m    337\u001b[0m \u001b[38;5;129m@_tp_cache\u001b[39m\n\u001b[0;32m    338\u001b[0m \u001b[38;5;28;01mdef\u001b[39;00m \u001b[38;5;21m__getitem__\u001b[39m(\u001b[38;5;28mself\u001b[39m, parameters):\n\u001b[1;32m--> 339\u001b[0m     \u001b[38;5;28;01mreturn\u001b[39;00m \u001b[38;5;28;43mself\u001b[39;49m\u001b[38;5;241;43m.\u001b[39;49m\u001b[43m_getitem\u001b[49m\u001b[43m(\u001b[49m\u001b[38;5;28;43mself\u001b[39;49m\u001b[43m,\u001b[49m\u001b[43m \u001b[49m\u001b[43mparameters\u001b[49m\u001b[43m)\u001b[49m\n",
      "File \u001b[1;32mc:\\users\\farha\\appdata\\local\\programs\\python\\python39\\lib\\typing.py:463\u001b[0m, in \u001b[0;36mOptional\u001b[1;34m(self, parameters)\u001b[0m\n\u001b[0;32m    458\u001b[0m \u001b[38;5;250m\u001b[39m\u001b[38;5;124;03m\"\"\"Optional type.\u001b[39;00m\n\u001b[0;32m    459\u001b[0m \n\u001b[0;32m    460\u001b[0m \u001b[38;5;124;03mOptional[X] is equivalent to Union[X, None].\u001b[39;00m\n\u001b[0;32m    461\u001b[0m \u001b[38;5;124;03m\"\"\"\u001b[39;00m\n\u001b[0;32m    462\u001b[0m arg \u001b[38;5;241m=\u001b[39m _type_check(parameters, \u001b[38;5;124mf\u001b[39m\u001b[38;5;124m\"\u001b[39m\u001b[38;5;132;01m{\u001b[39;00m\u001b[38;5;28mself\u001b[39m\u001b[38;5;132;01m}\u001b[39;00m\u001b[38;5;124m requires a single type.\u001b[39m\u001b[38;5;124m\"\u001b[39m)\n\u001b[1;32m--> 463\u001b[0m \u001b[38;5;28;01mreturn\u001b[39;00m \u001b[43mUnion\u001b[49m\u001b[43m[\u001b[49m\u001b[43marg\u001b[49m\u001b[43m,\u001b[49m\u001b[43m \u001b[49m\u001b[38;5;28;43mtype\u001b[39;49m\u001b[43m(\u001b[49m\u001b[38;5;28;43;01mNone\u001b[39;49;00m\u001b[43m)\u001b[49m\u001b[43m]\u001b[49m\n",
      "File \u001b[1;32mc:\\users\\farha\\appdata\\local\\programs\\python\\python39\\lib\\typing.py:262\u001b[0m, in \u001b[0;36m_tp_cache.<locals>.decorator.<locals>.inner\u001b[1;34m(*args, **kwds)\u001b[0m\n\u001b[0;32m    260\u001b[0m \u001b[38;5;28;01mexcept\u001b[39;00m \u001b[38;5;167;01mTypeError\u001b[39;00m:\n\u001b[0;32m    261\u001b[0m     \u001b[38;5;28;01mpass\u001b[39;00m  \u001b[38;5;66;03m# All real errors (not unhashable args) are raised below.\u001b[39;00m\n\u001b[1;32m--> 262\u001b[0m \u001b[38;5;28;01mreturn\u001b[39;00m func(\u001b[38;5;241m*\u001b[39margs, \u001b[38;5;241m*\u001b[39m\u001b[38;5;241m*\u001b[39mkwds)\n",
      "File \u001b[1;32mc:\\users\\farha\\appdata\\local\\programs\\python\\python39\\lib\\typing.py:339\u001b[0m, in \u001b[0;36m_SpecialForm.__getitem__\u001b[1;34m(self, parameters)\u001b[0m\n\u001b[0;32m    337\u001b[0m \u001b[38;5;129m@_tp_cache\u001b[39m\n\u001b[0;32m    338\u001b[0m \u001b[38;5;28;01mdef\u001b[39;00m \u001b[38;5;21m__getitem__\u001b[39m(\u001b[38;5;28mself\u001b[39m, parameters):\n\u001b[1;32m--> 339\u001b[0m     \u001b[38;5;28;01mreturn\u001b[39;00m \u001b[38;5;28;43mself\u001b[39;49m\u001b[38;5;241;43m.\u001b[39;49m\u001b[43m_getitem\u001b[49m\u001b[43m(\u001b[49m\u001b[38;5;28;43mself\u001b[39;49m\u001b[43m,\u001b[49m\u001b[43m \u001b[49m\u001b[43mparameters\u001b[49m\u001b[43m)\u001b[49m\n",
      "File \u001b[1;32mc:\\users\\farha\\appdata\\local\\programs\\python\\python39\\lib\\typing.py:451\u001b[0m, in \u001b[0;36mUnion\u001b[1;34m(self, parameters)\u001b[0m\n\u001b[0;32m    449\u001b[0m msg \u001b[38;5;241m=\u001b[39m \u001b[38;5;124m\"\u001b[39m\u001b[38;5;124mUnion[arg, ...]: each arg must be a type.\u001b[39m\u001b[38;5;124m\"\u001b[39m\n\u001b[0;32m    450\u001b[0m parameters \u001b[38;5;241m=\u001b[39m \u001b[38;5;28mtuple\u001b[39m(_type_check(p, msg) \u001b[38;5;28;01mfor\u001b[39;00m p \u001b[38;5;129;01min\u001b[39;00m parameters)\n\u001b[1;32m--> 451\u001b[0m parameters \u001b[38;5;241m=\u001b[39m \u001b[43m_remove_dups_flatten\u001b[49m\u001b[43m(\u001b[49m\u001b[43mparameters\u001b[49m\u001b[43m)\u001b[49m\n\u001b[0;32m    452\u001b[0m \u001b[38;5;28;01mif\u001b[39;00m \u001b[38;5;28mlen\u001b[39m(parameters) \u001b[38;5;241m==\u001b[39m \u001b[38;5;241m1\u001b[39m:\n\u001b[0;32m    453\u001b[0m     \u001b[38;5;28;01mreturn\u001b[39;00m parameters[\u001b[38;5;241m0\u001b[39m]\n",
      "File \u001b[1;32mc:\\users\\farha\\appdata\\local\\programs\\python\\python39\\lib\\typing.py:231\u001b[0m, in \u001b[0;36m_remove_dups_flatten\u001b[1;34m(parameters)\u001b[0m\n\u001b[0;32m    228\u001b[0m     \u001b[38;5;28;01melse\u001b[39;00m:\n\u001b[0;32m    229\u001b[0m         params\u001b[38;5;241m.\u001b[39mappend(p)\n\u001b[1;32m--> 231\u001b[0m \u001b[38;5;28;01mreturn\u001b[39;00m \u001b[38;5;28mtuple\u001b[39m(\u001b[43m_deduplicate\u001b[49m\u001b[43m(\u001b[49m\u001b[43mparams\u001b[49m\u001b[43m)\u001b[49m)\n",
      "File \u001b[1;32mc:\\users\\farha\\appdata\\local\\programs\\python\\python39\\lib\\typing.py:205\u001b[0m, in \u001b[0;36m_deduplicate\u001b[1;34m(params)\u001b[0m\n\u001b[0;32m    203\u001b[0m \u001b[38;5;28;01mdef\u001b[39;00m \u001b[38;5;21m_deduplicate\u001b[39m(params):\n\u001b[0;32m    204\u001b[0m     \u001b[38;5;66;03m# Weed out strict duplicates, preserving the first of each occurrence.\u001b[39;00m\n\u001b[1;32m--> 205\u001b[0m     all_params \u001b[38;5;241m=\u001b[39m \u001b[38;5;28;43mset\u001b[39;49m\u001b[43m(\u001b[49m\u001b[43mparams\u001b[49m\u001b[43m)\u001b[49m\n\u001b[0;32m    206\u001b[0m     \u001b[38;5;28;01mif\u001b[39;00m \u001b[38;5;28mlen\u001b[39m(all_params) \u001b[38;5;241m<\u001b[39m \u001b[38;5;28mlen\u001b[39m(params):\n\u001b[0;32m    207\u001b[0m         new_params \u001b[38;5;241m=\u001b[39m []\n",
      "\u001b[1;31mTypeError\u001b[0m: unhashable type: 'list'"
     ]
    }
   ],
   "source": [
    "# Import library\n",
    "import tensorflow as tf\n",
    "from tensorflow import keras\n",
    "# from keras import layers, models\n",
    "# from keras.layers import Dense\n",
    "# from keras.models import Sequential, load_model\n",
    "from tensorflow.keras.models import Sequential\n",
    "from tensorflow.keras.layers import Dense\n",
    "from tensorflow.keras.optimizers import SGD"
   ]
  },
  {
   "cell_type": "markdown",
   "metadata": {},
   "source": [
    "**Arsitektur Simpel**"
   ]
  },
  {
   "cell_type": "code",
   "execution_count": null,
   "metadata": {},
   "outputs": [
    {
     "ename": "NameError",
     "evalue": "name 'Sequential' is not defined",
     "output_type": "error",
     "traceback": [
      "\u001b[1;31m---------------------------------------------------------------------------\u001b[0m",
      "\u001b[1;31mNameError\u001b[0m                                 Traceback (most recent call last)",
      "Cell \u001b[1;32mIn[79], line 2\u001b[0m\n\u001b[0;32m      1\u001b[0m \u001b[38;5;66;03m# Buat arsitektur model dengan 1 perceptron\u001b[39;00m\n\u001b[1;32m----> 2\u001b[0m model \u001b[38;5;241m=\u001b[39m \u001b[43mSequential\u001b[49m([\n\u001b[0;32m      3\u001b[0m     Dense(\u001b[38;5;241m1\u001b[39m, input_shape \u001b[38;5;241m=\u001b[39m (X_train_clean\u001b[38;5;241m.\u001b[39mshape[\u001b[38;5;241m1\u001b[39m],), activation \u001b[38;5;241m=\u001b[39m \u001b[38;5;124m\"\u001b[39m\u001b[38;5;124msigmoid\u001b[39m\u001b[38;5;124m\"\u001b[39m)\n\u001b[0;32m      4\u001b[0m ])\n\u001b[0;32m      6\u001b[0m \u001b[38;5;66;03m# Buat optimizer, menggunakan ADAM (varian gradient descent)\u001b[39;00m\n\u001b[0;32m      7\u001b[0m opt \u001b[38;5;241m=\u001b[39m SGD(learning_rate \u001b[38;5;241m=\u001b[39m \u001b[38;5;241m0.01\u001b[39m)\n",
      "\u001b[1;31mNameError\u001b[0m: name 'Sequential' is not defined"
     ]
    }
   ],
   "source": [
    "# Buat arsitektur model dengan 1 perceptron\n",
    "model = Sequential([\n",
    "    Dense(1, input_shape = (X_train_clean.shape[1],), activation = \"sigmoid\")\n",
    "])\n",
    "\n",
    "# Buat optimizer, menggunakan ADAM (varian gradient descent)\n",
    "opt = SGD(learning_rate = 0.01)\n",
    "\n",
    "# Compile model\n",
    "model.compile(loss = \"binary_crossentropy\",\n",
    "              optimizer = opt,\n",
    "              metrics = [\"accuracy\"])"
   ]
  },
  {
   "cell_type": "code",
   "execution_count": null,
   "metadata": {},
   "outputs": [
    {
     "ename": "NameError",
     "evalue": "name 'model' is not defined",
     "output_type": "error",
     "traceback": [
      "\u001b[1;31m---------------------------------------------------------------------------\u001b[0m",
      "\u001b[1;31mNameError\u001b[0m                                 Traceback (most recent call last)",
      "Cell \u001b[1;32mIn[80], line 2\u001b[0m\n\u001b[0;32m      1\u001b[0m \u001b[38;5;66;03m# Train model\u001b[39;00m\n\u001b[1;32m----> 2\u001b[0m model_hist \u001b[38;5;241m=\u001b[39m \u001b[43mmodel\u001b[49m\u001b[38;5;241m.\u001b[39mfit(X_train_clean, y_train,\n\u001b[0;32m      3\u001b[0m                        epochs \u001b[38;5;241m=\u001b[39m \u001b[38;5;241m10\u001b[39m,\n\u001b[0;32m      4\u001b[0m                        verbose \u001b[38;5;241m=\u001b[39m \u001b[38;5;241m1\u001b[39m)\n",
      "\u001b[1;31mNameError\u001b[0m: name 'model' is not defined"
     ]
    }
   ],
   "source": [
    "# Train model\n",
    "model_hist = model.fit(X_train_clean, y_train,\n",
    "                       epochs = 10,\n",
    "                       verbose = 1)"
   ]
  },
  {
   "cell_type": "code",
   "execution_count": null,
   "metadata": {},
   "outputs": [],
   "source": [
    "# Summary Model\n",
    "model.summary()"
   ]
  },
  {
   "cell_type": "code",
   "execution_count": null,
   "metadata": {},
   "outputs": [
    {
     "ename": "NameError",
     "evalue": "name 'model_hist' is not defined",
     "output_type": "error",
     "traceback": [
      "\u001b[1;31m---------------------------------------------------------------------------\u001b[0m",
      "\u001b[1;31mNameError\u001b[0m                                 Traceback (most recent call last)",
      "Cell \u001b[1;32mIn[81], line 2\u001b[0m\n\u001b[0;32m      1\u001b[0m \u001b[38;5;66;03m# Plot Error\u001b[39;00m\n\u001b[1;32m----> 2\u001b[0m plt\u001b[38;5;241m.\u001b[39mplot(\u001b[38;5;241m1\u001b[39m \u001b[38;5;241m+\u001b[39m np\u001b[38;5;241m.\u001b[39marange(\u001b[38;5;241m10\u001b[39m), \u001b[43mmodel_hist\u001b[49m\u001b[38;5;241m.\u001b[39mhistory[\u001b[38;5;124m\"\u001b[39m\u001b[38;5;124mloss\u001b[39m\u001b[38;5;124m\"\u001b[39m], marker\u001b[38;5;241m=\u001b[39m\u001b[38;5;124m\"\u001b[39m\u001b[38;5;124mo\u001b[39m\u001b[38;5;124m\"\u001b[39m)\n\u001b[0;32m      4\u001b[0m plt\u001b[38;5;241m.\u001b[39mxlabel(\u001b[38;5;124m\"\u001b[39m\u001b[38;5;124mepoch\u001b[39m\u001b[38;5;124m\"\u001b[39m)\n\u001b[0;32m      5\u001b[0m plt\u001b[38;5;241m.\u001b[39mylabel(\u001b[38;5;124m\"\u001b[39m\u001b[38;5;124mloss\u001b[39m\u001b[38;5;124m\"\u001b[39m)\n",
      "\u001b[1;31mNameError\u001b[0m: name 'model_hist' is not defined"
     ]
    }
   ],
   "source": [
    "# Plot Error\n",
    "plt.plot(1 + np.arange(10), model_hist.history[\"loss\"], marker=\"o\")\n",
    "\n",
    "plt.xlabel(\"epoch\")\n",
    "plt.ylabel(\"loss\")\n",
    "plt.show()"
   ]
  },
  {
   "cell_type": "markdown",
   "metadata": {},
   "source": [
    "*pada data train*"
   ]
  },
  {
   "cell_type": "code",
   "execution_count": null,
   "metadata": {},
   "outputs": [
    {
     "ename": "NameError",
     "evalue": "name 'model' is not defined",
     "output_type": "error",
     "traceback": [
      "\u001b[1;31m---------------------------------------------------------------------------\u001b[0m",
      "\u001b[1;31mNameError\u001b[0m                                 Traceback (most recent call last)",
      "Cell \u001b[1;32mIn[82], line 2\u001b[0m\n\u001b[0;32m      1\u001b[0m \u001b[38;5;66;03m# Prediksi\u001b[39;00m\n\u001b[1;32m----> 2\u001b[0m y_pred_proba_train \u001b[38;5;241m=\u001b[39m \u001b[43mmodel\u001b[49m\u001b[38;5;241m.\u001b[39mpredict(X_train_clean)\n\u001b[0;32m      3\u001b[0m y_pred_proba_train\n",
      "\u001b[1;31mNameError\u001b[0m: name 'model' is not defined"
     ]
    }
   ],
   "source": [
    "# Prediksi\n",
    "y_pred_proba_train = model.predict(X_train_clean)\n",
    "y_pred_proba_train"
   ]
  },
  {
   "cell_type": "code",
   "execution_count": null,
   "metadata": {},
   "outputs": [],
   "source": [
    "# Buat prediksi\n",
    "thresh = 0.5\n",
    "\n",
    "y_pred_train = (y_pred_proba_train > thresh).astype(\"int\")"
   ]
  },
  {
   "cell_type": "markdown",
   "metadata": {},
   "source": [
    "*pada data test*"
   ]
  },
  {
   "cell_type": "code",
   "execution_count": null,
   "metadata": {},
   "outputs": [
    {
     "ename": "NameError",
     "evalue": "name 'model' is not defined",
     "output_type": "error",
     "traceback": [
      "\u001b[1;31m---------------------------------------------------------------------------\u001b[0m",
      "\u001b[1;31mNameError\u001b[0m                                 Traceback (most recent call last)",
      "Cell \u001b[1;32mIn[84], line 2\u001b[0m\n\u001b[0;32m      1\u001b[0m \u001b[38;5;66;03m# Prediksi\u001b[39;00m\n\u001b[1;32m----> 2\u001b[0m y_pred_proba_test \u001b[38;5;241m=\u001b[39m \u001b[43mmodel\u001b[49m\u001b[38;5;241m.\u001b[39mpredict(X_test_clean)\n\u001b[0;32m      3\u001b[0m y_pred_proba_test\n",
      "\u001b[1;31mNameError\u001b[0m: name 'model' is not defined"
     ]
    }
   ],
   "source": [
    "# Prediksi\n",
    "y_pred_proba_test = model.predict(X_test_clean)\n",
    "y_pred_proba_test"
   ]
  },
  {
   "cell_type": "code",
   "execution_count": null,
   "metadata": {},
   "outputs": [],
   "source": [
    "# Buat prediksi\n",
    "y_pred_test = (y_pred_proba_test > thresh).astype(\"int\")"
   ]
  },
  {
   "cell_type": "markdown",
   "metadata": {},
   "source": [
    "*cek performa*"
   ]
  },
  {
   "cell_type": "markdown",
   "metadata": {},
   "source": [
    "*pada data train*"
   ]
  },
  {
   "cell_type": "code",
   "execution_count": null,
   "metadata": {},
   "outputs": [
    {
     "data": {
      "text/plain": [
       "array([[6308, 1691],\n",
       "       [ 364, 7635]])"
      ]
     },
     "execution_count": 86,
     "metadata": {},
     "output_type": "execute_result"
    }
   ],
   "source": [
    "# Tampilkan confusion matrix\n",
    "confusion_matrix(y_true = y_train,\n",
    "                 y_pred = y_pred_train)"
   ]
  },
  {
   "cell_type": "code",
   "execution_count": null,
   "metadata": {},
   "outputs": [
    {
     "data": {
      "text/plain": [
       "0.8715464433054132"
      ]
     },
     "execution_count": 87,
     "metadata": {},
     "output_type": "execute_result"
    }
   ],
   "source": [
    "# Tampilkan score\n",
    "accuracy_score(y_true = y_train,\n",
    "               y_pred = y_pred_train)"
   ]
  },
  {
   "cell_type": "code",
   "execution_count": null,
   "metadata": {},
   "outputs": [
    {
     "name": "stdout",
     "output_type": "stream",
     "text": [
      "              precision    recall  f1-score   support\n",
      "\n",
      "    stay (0)       0.95      0.79      0.86      7999\n",
      "    left (1)       0.82      0.95      0.88      7999\n",
      "\n",
      "    accuracy                           0.87     15998\n",
      "   macro avg       0.88      0.87      0.87     15998\n",
      "weighted avg       0.88      0.87      0.87     15998\n",
      "\n"
     ]
    }
   ],
   "source": [
    "# Tampilkan score\n",
    "print(classification_report(y_true = y_train,\n",
    "                            y_pred = y_pred_train,\n",
    "                            target_names = [\"stay (0)\", \"left (1)\"]))"
   ]
  },
  {
   "cell_type": "code",
   "execution_count": null,
   "metadata": {},
   "outputs": [
    {
     "data": {
      "image/png": "[encoded data removed]",
      "text/plain": [
       "<Figure size 1000x700 with 1 Axes>"
      ]
     },
     "metadata": {},
     "output_type": "display_data"
    }
   ],
   "source": [
    "# ROC Curve\n",
    "fpr_lr, tpr_lr, threshold_lr = roc_curve(y_train,\n",
    "                                         y_pred_proba_train)\n",
    "roc_auc_lr = auc(fpr_lr, tpr_lr)\n",
    "\n",
    "plt.title('Receiver Operating Characteristic')\n",
    "plt.plot(fpr_lr, tpr_lr, 'b', label = 'AUC = %0.2f' % roc_auc_lr)\n",
    "plt.legend(loc = 'lower right')\n",
    "plt.plot([0, 1], [0, 1],'r--')\n",
    "plt.xlim([0, 1])\n",
    "plt.ylim([0, 1])\n",
    "plt.ylabel('True Positive Rate')\n",
    "plt.xlabel('False Positive Rate')\n",
    "plt.show()"
   ]
  },
  {
   "cell_type": "markdown",
   "metadata": {},
   "source": [
    "*pada data test*"
   ]
  },
  {
   "cell_type": "code",
   "execution_count": null,
   "metadata": {},
   "outputs": [
    {
     "data": {
      "text/plain": [
       "array([[1545,  456],\n",
       "       [  24,  374]])"
      ]
     },
     "execution_count": 90,
     "metadata": {},
     "output_type": "execute_result"
    }
   ],
   "source": [
    "# Tampilkan confusion matrix\n",
    "confusion_matrix(y_true = y_test,\n",
    "                 y_pred = y_pred_test)"
   ]
  },
  {
   "cell_type": "code",
   "execution_count": null,
   "metadata": {},
   "outputs": [
    {
     "data": {
      "text/plain": [
       "0.7999166319299709"
      ]
     },
     "execution_count": 91,
     "metadata": {},
     "output_type": "execute_result"
    }
   ],
   "source": [
    "# Tampilkan score\n",
    "accuracy_score(y_true = y_test,\n",
    "               y_pred = y_pred_test)"
   ]
  },
  {
   "cell_type": "code",
   "execution_count": null,
   "metadata": {},
   "outputs": [
    {
     "name": "stdout",
     "output_type": "stream",
     "text": [
      "              precision    recall  f1-score   support\n",
      "\n",
      "    stay (0)       0.98      0.77      0.87      2001\n",
      "    left (1)       0.45      0.94      0.61       398\n",
      "\n",
      "    accuracy                           0.80      2399\n",
      "   macro avg       0.72      0.86      0.74      2399\n",
      "weighted avg       0.90      0.80      0.82      2399\n",
      "\n"
     ]
    }
   ],
   "source": [
    "# Tampilkan score\n",
    "print(classification_report(y_true = y_test,\n",
    "                            y_pred = y_pred_test,\n",
    "                            target_names = [\"stay (0)\", \"left (1)\"]))"
   ]
  },
  {
   "cell_type": "code",
   "execution_count": null,
   "metadata": {},
   "outputs": [
    {
     "data": {
      "image/png": "[encoded data removed]",
      "text/plain": [
       "<Figure size 1000x700 with 1 Axes>"
      ]
     },
     "metadata": {},
     "output_type": "display_data"
    }
   ],
   "source": [
    "# ROC Curve\n",
    "fpr_lr, tpr_lr, threshold_lr = roc_curve(y_test,\n",
    "                                         y_pred_proba_test)\n",
    "roc_auc_lr = auc(fpr_lr, tpr_lr)\n",
    "\n",
    "plt.title('Receiver Operating Characteristic')\n",
    "plt.plot(fpr_lr, tpr_lr, 'b', label = 'AUC = %0.2f' % roc_auc_lr)\n",
    "plt.legend(loc = 'lower right')\n",
    "plt.plot([0, 1], [0, 1],'r--')\n",
    "plt.xlim([0, 1])\n",
    "plt.ylim([0, 1])\n",
    "plt.ylabel('True Positive Rate')\n",
    "plt.xlabel('False Positive Rate')\n",
    "plt.show()"
   ]
  },
  {
   "cell_type": "markdown",
   "metadata": {},
   "source": [
    "**Arsitektur Lebih Kompleks**\n",
    "\n",
    "- 1 hidden layer, dengan 3 neuron"
   ]
  },
  {
   "cell_type": "code",
   "execution_count": null,
   "metadata": {},
   "outputs": [
    {
     "ename": "NameError",
     "evalue": "name 'Sequential' is not defined",
     "output_type": "error",
     "traceback": [
      "\u001b[1;31m---------------------------------------------------------------------------\u001b[0m",
      "\u001b[1;31mNameError\u001b[0m                                 Traceback (most recent call last)",
      "Cell \u001b[1;32mIn[94], line 2\u001b[0m\n\u001b[0;32m      1\u001b[0m \u001b[38;5;66;03m# Buat arsitektur model dengan 1 perceptron\u001b[39;00m\n\u001b[1;32m----> 2\u001b[0m model \u001b[38;5;241m=\u001b[39m \u001b[43mSequential\u001b[49m([\n\u001b[0;32m      3\u001b[0m     Dense(\u001b[38;5;241m3\u001b[39m, input_shape \u001b[38;5;241m=\u001b[39m (X_train_clean\u001b[38;5;241m.\u001b[39mshape[\u001b[38;5;241m1\u001b[39m],), activation \u001b[38;5;241m=\u001b[39m \u001b[38;5;124m\"\u001b[39m\u001b[38;5;124msigmoid\u001b[39m\u001b[38;5;124m\"\u001b[39m),\n\u001b[0;32m      4\u001b[0m     Dense(\u001b[38;5;241m1\u001b[39m, activation \u001b[38;5;241m=\u001b[39m \u001b[38;5;124m\"\u001b[39m\u001b[38;5;124msigmoid\u001b[39m\u001b[38;5;124m\"\u001b[39m)\n\u001b[0;32m      5\u001b[0m ])\n\u001b[0;32m      7\u001b[0m \u001b[38;5;66;03m# Buat optimizer, menggunakan ADAM (varian gradient descent)\u001b[39;00m\n\u001b[0;32m      8\u001b[0m opt \u001b[38;5;241m=\u001b[39m SGD(learning_rate \u001b[38;5;241m=\u001b[39m \u001b[38;5;241m0.01\u001b[39m)\n",
      "\u001b[1;31mNameError\u001b[0m: name 'Sequential' is not defined"
     ]
    }
   ],
   "source": [
    "# Buat arsitektur model dengan 1 perceptron\n",
    "model = Sequential([\n",
    "    Dense(3, input_shape = (X_train_clean.shape[1],), activation = \"sigmoid\"),\n",
    "    Dense(1, activation = \"sigmoid\")\n",
    "])\n",
    "\n",
    "# Buat optimizer, menggunakan ADAM (varian gradient descent)\n",
    "opt = SGD(learning_rate = 0.01)\n",
    "\n",
    "# Compile model\n",
    "model.compile(loss = \"binary_crossentropy\",\n",
    "              optimizer = opt,\n",
    "              metrics = [\"accuracy\"])"
   ]
  },
  {
   "cell_type": "code",
   "execution_count": null,
   "metadata": {},
   "outputs": [
    {
     "ename": "NameError",
     "evalue": "name 'model' is not defined",
     "output_type": "error",
     "traceback": [
      "\u001b[1;31m---------------------------------------------------------------------------\u001b[0m",
      "\u001b[1;31mNameError\u001b[0m                                 Traceback (most recent call last)",
      "Cell \u001b[1;32mIn[95], line 2\u001b[0m\n\u001b[0;32m      1\u001b[0m \u001b[38;5;66;03m# Train model\u001b[39;00m\n\u001b[1;32m----> 2\u001b[0m model_hist \u001b[38;5;241m=\u001b[39m \u001b[43mmodel\u001b[49m\u001b[38;5;241m.\u001b[39mfit(X_train_clean, y_train,\n\u001b[0;32m      3\u001b[0m                        epochs \u001b[38;5;241m=\u001b[39m \u001b[38;5;241m10\u001b[39m,\n\u001b[0;32m      4\u001b[0m                        verbose \u001b[38;5;241m=\u001b[39m \u001b[38;5;241m1\u001b[39m)\n",
      "\u001b[1;31mNameError\u001b[0m: name 'model' is not defined"
     ]
    }
   ],
   "source": [
    "# Train model\n",
    "model_hist = model.fit(X_train_clean, y_train,\n",
    "                       epochs = 10,\n",
    "                       verbose = 1)"
   ]
  },
  {
   "cell_type": "code",
   "execution_count": null,
   "metadata": {},
   "outputs": [
    {
     "ename": "NameError",
     "evalue": "name 'model' is not defined",
     "output_type": "error",
     "traceback": [
      "\u001b[1;31m---------------------------------------------------------------------------\u001b[0m",
      "\u001b[1;31mNameError\u001b[0m                                 Traceback (most recent call last)",
      "Cell \u001b[1;32mIn[96], line 2\u001b[0m\n\u001b[0;32m      1\u001b[0m \u001b[38;5;66;03m# Summary Model\u001b[39;00m\n\u001b[1;32m----> 2\u001b[0m \u001b[43mmodel\u001b[49m\u001b[38;5;241m.\u001b[39msummary()\n",
      "\u001b[1;31mNameError\u001b[0m: name 'model' is not defined"
     ]
    }
   ],
   "source": [
    "# Summary Model\n",
    "model.summary()"
   ]
  },
  {
   "cell_type": "code",
   "execution_count": null,
   "metadata": {},
   "outputs": [
    {
     "ename": "NameError",
     "evalue": "name 'model_hist' is not defined",
     "output_type": "error",
     "traceback": [
      "\u001b[1;31m---------------------------------------------------------------------------\u001b[0m",
      "\u001b[1;31mNameError\u001b[0m                                 Traceback (most recent call last)",
      "Cell \u001b[1;32mIn[97], line 2\u001b[0m\n\u001b[0;32m      1\u001b[0m \u001b[38;5;66;03m# Plot Error\u001b[39;00m\n\u001b[1;32m----> 2\u001b[0m plt\u001b[38;5;241m.\u001b[39mplot(\u001b[38;5;241m1\u001b[39m \u001b[38;5;241m+\u001b[39m np\u001b[38;5;241m.\u001b[39marange(\u001b[38;5;241m10\u001b[39m), \u001b[43mmodel_hist\u001b[49m\u001b[38;5;241m.\u001b[39mhistory[\u001b[38;5;124m\"\u001b[39m\u001b[38;5;124mloss\u001b[39m\u001b[38;5;124m\"\u001b[39m], marker\u001b[38;5;241m=\u001b[39m\u001b[38;5;124m\"\u001b[39m\u001b[38;5;124mo\u001b[39m\u001b[38;5;124m\"\u001b[39m)\n\u001b[0;32m      4\u001b[0m plt\u001b[38;5;241m.\u001b[39mxlabel(\u001b[38;5;124m\"\u001b[39m\u001b[38;5;124mepoch\u001b[39m\u001b[38;5;124m\"\u001b[39m)\n\u001b[0;32m      5\u001b[0m plt\u001b[38;5;241m.\u001b[39mylabel(\u001b[38;5;124m\"\u001b[39m\u001b[38;5;124mloss\u001b[39m\u001b[38;5;124m\"\u001b[39m)\n",
      "\u001b[1;31mNameError\u001b[0m: name 'model_hist' is not defined"
     ]
    }
   ],
   "source": [
    "# Plot Error\n",
    "plt.plot(1 + np.arange(10), model_hist.history[\"loss\"], marker=\"o\")\n",
    "\n",
    "plt.xlabel(\"epoch\")\n",
    "plt.ylabel(\"loss\")\n",
    "plt.show()"
   ]
  },
  {
   "cell_type": "code",
   "execution_count": null,
   "metadata": {},
   "outputs": [
    {
     "ename": "NameError",
     "evalue": "name 'model' is not defined",
     "output_type": "error",
     "traceback": [
      "\u001b[1;31m---------------------------------------------------------------------------\u001b[0m",
      "\u001b[1;31mNameError\u001b[0m                                 Traceback (most recent call last)",
      "Cell \u001b[1;32mIn[98], line 2\u001b[0m\n\u001b[0;32m      1\u001b[0m \u001b[38;5;66;03m# Train model - Teruskan 100 iterasi lagi\u001b[39;00m\n\u001b[1;32m----> 2\u001b[0m model_hist \u001b[38;5;241m=\u001b[39m \u001b[43mmodel\u001b[49m\u001b[38;5;241m.\u001b[39mfit(X_train_clean, y_train,\n\u001b[0;32m      3\u001b[0m                        epochs \u001b[38;5;241m=\u001b[39m \u001b[38;5;241m100\u001b[39m,\n\u001b[0;32m      4\u001b[0m                        verbose \u001b[38;5;241m=\u001b[39m \u001b[38;5;241m1\u001b[39m)\n",
      "\u001b[1;31mNameError\u001b[0m: name 'model' is not defined"
     ]
    }
   ],
   "source": [
    "# Train model - Teruskan 100 iterasi lagi\n",
    "model_hist = model.fit(X_train_clean, y_train,\n",
    "                       epochs = 100,\n",
    "                       verbose = 1)"
   ]
  },
  {
   "cell_type": "code",
   "execution_count": null,
   "metadata": {},
   "outputs": [
    {
     "ename": "NameError",
     "evalue": "name 'model_hist' is not defined",
     "output_type": "error",
     "traceback": [
      "\u001b[1;31m---------------------------------------------------------------------------\u001b[0m",
      "\u001b[1;31mNameError\u001b[0m                                 Traceback (most recent call last)",
      "Cell \u001b[1;32mIn[99], line 2\u001b[0m\n\u001b[0;32m      1\u001b[0m \u001b[38;5;66;03m# Plot Error\u001b[39;00m\n\u001b[1;32m----> 2\u001b[0m plt\u001b[38;5;241m.\u001b[39mplot(\u001b[38;5;241m1\u001b[39m \u001b[38;5;241m+\u001b[39m np\u001b[38;5;241m.\u001b[39marange(\u001b[38;5;241m100\u001b[39m), \u001b[43mmodel_hist\u001b[49m\u001b[38;5;241m.\u001b[39mhistory[\u001b[38;5;124m\"\u001b[39m\u001b[38;5;124mloss\u001b[39m\u001b[38;5;124m\"\u001b[39m], marker\u001b[38;5;241m=\u001b[39m\u001b[38;5;124m\"\u001b[39m\u001b[38;5;124mo\u001b[39m\u001b[38;5;124m\"\u001b[39m)\n\u001b[0;32m      4\u001b[0m plt\u001b[38;5;241m.\u001b[39mxlabel(\u001b[38;5;124m\"\u001b[39m\u001b[38;5;124mepoch\u001b[39m\u001b[38;5;124m\"\u001b[39m)\n\u001b[0;32m      5\u001b[0m plt\u001b[38;5;241m.\u001b[39mylabel(\u001b[38;5;124m\"\u001b[39m\u001b[38;5;124mloss\u001b[39m\u001b[38;5;124m\"\u001b[39m)\n",
      "\u001b[1;31mNameError\u001b[0m: name 'model_hist' is not defined"
     ]
    }
   ],
   "source": [
    "# Plot Error\n",
    "plt.plot(1 + np.arange(100), model_hist.history[\"loss\"], marker=\"o\")\n",
    "\n",
    "plt.xlabel(\"epoch\")\n",
    "plt.ylabel(\"loss\")\n",
    "plt.show()"
   ]
  },
  {
   "cell_type": "markdown",
   "metadata": {},
   "source": [
    "*pada data train*"
   ]
  },
  {
   "cell_type": "code",
   "execution_count": null,
   "metadata": {},
   "outputs": [
    {
     "ename": "NameError",
     "evalue": "name 'model' is not defined",
     "output_type": "error",
     "traceback": [
      "\u001b[1;31m---------------------------------------------------------------------------\u001b[0m",
      "\u001b[1;31mNameError\u001b[0m                                 Traceback (most recent call last)",
      "Cell \u001b[1;32mIn[100], line 2\u001b[0m\n\u001b[0;32m      1\u001b[0m \u001b[38;5;66;03m# Prediksi\u001b[39;00m\n\u001b[1;32m----> 2\u001b[0m y_pred_proba_train \u001b[38;5;241m=\u001b[39m \u001b[43mmodel\u001b[49m\u001b[38;5;241m.\u001b[39mpredict(X_train_clean)\n\u001b[0;32m      3\u001b[0m y_pred_proba_train\n",
      "\u001b[1;31mNameError\u001b[0m: name 'model' is not defined"
     ]
    }
   ],
   "source": [
    "# Prediksi\n",
    "y_pred_proba_train = model.predict(X_train_clean)\n",
    "y_pred_proba_train"
   ]
  },
  {
   "cell_type": "code",
   "execution_count": null,
   "metadata": {},
   "outputs": [],
   "source": [
    "# Buat prediksi\n",
    "thresh = 0.5\n",
    "\n",
    "y_pred_train = (y_pred_proba_train > thresh).astype(\"int\")"
   ]
  },
  {
   "cell_type": "markdown",
   "metadata": {},
   "source": [
    "*pada data test*"
   ]
  },
  {
   "cell_type": "code",
   "execution_count": null,
   "metadata": {},
   "outputs": [
    {
     "ename": "NameError",
     "evalue": "name 'model' is not defined",
     "output_type": "error",
     "traceback": [
      "\u001b[1;31m---------------------------------------------------------------------------\u001b[0m",
      "\u001b[1;31mNameError\u001b[0m                                 Traceback (most recent call last)",
      "Cell \u001b[1;32mIn[102], line 2\u001b[0m\n\u001b[0;32m      1\u001b[0m \u001b[38;5;66;03m# Prediksi\u001b[39;00m\n\u001b[1;32m----> 2\u001b[0m y_pred_proba_test \u001b[38;5;241m=\u001b[39m \u001b[43mmodel\u001b[49m\u001b[38;5;241m.\u001b[39mpredict(X_test_clean)\n\u001b[0;32m      3\u001b[0m y_pred_proba_test\n",
      "\u001b[1;31mNameError\u001b[0m: name 'model' is not defined"
     ]
    }
   ],
   "source": [
    "# Prediksi\n",
    "y_pred_proba_test = model.predict(X_test_clean)\n",
    "y_pred_proba_test"
   ]
  },
  {
   "cell_type": "code",
   "execution_count": null,
   "metadata": {},
   "outputs": [],
   "source": [
    "# Buat prediksi\n",
    "y_pred_test = (y_pred_proba_test > thresh).astype(\"int\")"
   ]
  },
  {
   "cell_type": "markdown",
   "metadata": {},
   "source": [
    "*cek performa*"
   ]
  },
  {
   "cell_type": "markdown",
   "metadata": {},
   "source": [
    "*pada data train*"
   ]
  },
  {
   "cell_type": "code",
   "execution_count": null,
   "metadata": {},
   "outputs": [
    {
     "data": {
      "text/plain": [
       "array([[6308, 1691],\n",
       "       [ 364, 7635]])"
      ]
     },
     "execution_count": 104,
     "metadata": {},
     "output_type": "execute_result"
    }
   ],
   "source": [
    "# Tampilkan confusion matrix\n",
    "confusion_matrix(y_true = y_train,\n",
    "                 y_pred = y_pred_train)"
   ]
  },
  {
   "cell_type": "code",
   "execution_count": null,
   "metadata": {},
   "outputs": [
    {
     "data": {
      "text/plain": [
       "0.8715464433054132"
      ]
     },
     "execution_count": 105,
     "metadata": {},
     "output_type": "execute_result"
    }
   ],
   "source": [
    "# Tampilkan score\n",
    "accuracy_score(y_true = y_train,\n",
    "               y_pred = y_pred_train)"
   ]
  },
  {
   "cell_type": "code",
   "execution_count": null,
   "metadata": {},
   "outputs": [
    {
     "name": "stdout",
     "output_type": "stream",
     "text": [
      "              precision    recall  f1-score   support\n",
      "\n",
      "    stay (0)       0.95      0.79      0.86      7999\n",
      "    left (1)       0.82      0.95      0.88      7999\n",
      "\n",
      "    accuracy                           0.87     15998\n",
      "   macro avg       0.88      0.87      0.87     15998\n",
      "weighted avg       0.88      0.87      0.87     15998\n",
      "\n"
     ]
    }
   ],
   "source": [
    "# Tampilkan score\n",
    "print(classification_report(y_true = y_train,\n",
    "                            y_pred = y_pred_train,\n",
    "                            target_names = [\"stay (0)\", \"left (1)\"]))"
   ]
  },
  {
   "cell_type": "code",
   "execution_count": null,
   "metadata": {},
   "outputs": [
    {
     "data": {
      "image/png": "[encoded data removed]",
      "text/plain": [
       "<Figure size 1000x700 with 1 Axes>"
      ]
     },
     "metadata": {},
     "output_type": "display_data"
    }
   ],
   "source": [
    "# ROC Curve\n",
    "fpr_lr, tpr_lr, threshold_lr = roc_curve(y_train,\n",
    "                                         y_pred_proba_train)\n",
    "roc_auc_lr = auc(fpr_lr, tpr_lr)\n",
    "\n",
    "plt.title('Receiver Operating Characteristic')\n",
    "plt.plot(fpr_lr, tpr_lr, 'b', label = 'AUC = %0.2f' % roc_auc_lr)\n",
    "plt.legend(loc = 'lower right')\n",
    "plt.plot([0, 1], [0, 1],'r--')\n",
    "plt.xlim([0, 1])\n",
    "plt.ylim([0, 1])\n",
    "plt.ylabel('True Positive Rate')\n",
    "plt.xlabel('False Positive Rate')\n",
    "plt.show()"
   ]
  },
  {
   "cell_type": "markdown",
   "metadata": {},
   "source": [
    "*pada data test*"
   ]
  },
  {
   "cell_type": "code",
   "execution_count": null,
   "metadata": {},
   "outputs": [
    {
     "data": {
      "text/plain": [
       "array([[1545,  456],\n",
       "       [  24,  374]])"
      ]
     },
     "execution_count": 108,
     "metadata": {},
     "output_type": "execute_result"
    }
   ],
   "source": [
    "# Tampilkan confusion matrix\n",
    "confusion_matrix(y_true = y_test,\n",
    "                 y_pred = y_pred_test)"
   ]
  },
  {
   "cell_type": "code",
   "execution_count": null,
   "metadata": {},
   "outputs": [
    {
     "data": {
      "text/plain": [
       "0.7999166319299709"
      ]
     },
     "execution_count": 109,
     "metadata": {},
     "output_type": "execute_result"
    }
   ],
   "source": [
    "# Tampilkan score\n",
    "accuracy_score(y_true = y_test,\n",
    "               y_pred = y_pred_test)"
   ]
  },
  {
   "cell_type": "code",
   "execution_count": null,
   "metadata": {},
   "outputs": [
    {
     "name": "stdout",
     "output_type": "stream",
     "text": [
      "              precision    recall  f1-score   support\n",
      "\n",
      "    stay (0)       0.98      0.77      0.87      2001\n",
      "    left (1)       0.45      0.94      0.61       398\n",
      "\n",
      "    accuracy                           0.80      2399\n",
      "   macro avg       0.72      0.86      0.74      2399\n",
      "weighted avg       0.90      0.80      0.82      2399\n",
      "\n"
     ]
    }
   ],
   "source": [
    "# Tampilkan score\n",
    "print(classification_report(y_true = y_test,\n",
    "                            y_pred = y_pred_test,\n",
    "                            target_names = [\"stay (0)\", \"left (1)\"]))"
   ]
  },
  {
   "cell_type": "markdown",
   "metadata": {},
   "source": [
    "- Recall bisa dinaikan hingga 88%"
   ]
  },
  {
   "cell_type": "code",
   "execution_count": null,
   "metadata": {},
   "outputs": [
    {
     "data": {
      "image/png": "[encoded data removed]",
      "text/plain": [
       "<Figure size 1000x700 with 1 Axes>"
      ]
     },
     "metadata": {},
     "output_type": "display_data"
    }
   ],
   "source": [
    "# ROC Curve\n",
    "fpr_lr, tpr_lr, threshold_lr = roc_curve(y_test,\n",
    "                                         y_pred_proba_test)\n",
    "roc_auc_lr = auc(fpr_lr, tpr_lr)\n",
    "\n",
    "plt.title('Receiver Operating Characteristic')\n",
    "plt.plot(fpr_lr, tpr_lr, 'b', label = 'AUC = %0.2f' % roc_auc_lr)\n",
    "plt.legend(loc = 'lower right')\n",
    "plt.plot([0, 1], [0, 1],'r--')\n",
    "plt.xlim([0, 1])\n",
    "plt.ylim([0, 1])\n",
    "plt.ylabel('True Positive Rate')\n",
    "plt.xlabel('False Positive Rate')\n",
    "plt.show()"
   ]
  }
 ],
 "metadata": {
  "kernelspec": {
   "display_name": "pacmann_env",
   "language": "python",
   "name": "python3"
  },
  "language_info": {
   "codemirror_mode": {
    "name": "ipython",
    "version": 3
   },
   "file_extension": ".py",
   "mimetype": "text/x-python",
   "name": "python",
   "nbconvert_exporter": "python",
   "pygments_lexer": "ipython3",
   "version": "3.9.1"
  }
 },
 "nbformat": 4,
 "nbformat_minor": 2
}
