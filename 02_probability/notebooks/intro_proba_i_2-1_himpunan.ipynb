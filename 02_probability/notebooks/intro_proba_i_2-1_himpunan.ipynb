{
 "cells": [
  {
   "cell_type": "markdown",
   "metadata": {},
   "source": [
    "# **Pertemuan 2 - Set and Counting**\n",
    "\n",
    "Introduction to Probability Course - Sekolah Data - Pacmann Academy"
   ]
  },
  {
   "cell_type": "markdown",
   "metadata": {},
   "source": [
    "---\n",
    "Sebagai pengantar materi mengenai probabilitas, perlu dipahami konsep mengenai himpunan. Himpunan merupakan elemen dasar yang sering dijumpai pada teori probabilitas."
   ]
  },
  {
   "cell_type": "markdown",
   "metadata": {},
   "source": [
    "## **Himpunan / Set**\n",
    "\n",
    "Himpunan dapat diartikan sebagai sekumpulan objek, contoh:\n",
    "* Himpunan Hewan = {anjing, kucing, elang, kakap,...}\n",
    "* Himpunan Varian Covid = {alpha, beta, delta, omicron}\n",
    "\n",
    "<center><img src=\"https://sekolahdata-assets.s3.ap-southeast-1.amazonaws.com/notebook-images/mds-probability/live_02_01.PNG\" alt=\"Drawing\" style=\"width: 200px;\"/></center>"
   ]
  },
  {
   "cell_type": "markdown",
   "metadata": {},
   "source": [
    "---\n",
    "### **Notasi Himpunan**\n",
    "\n",
    "* Penulisan himpunan digunakan kurung kurawal\n",
    "\n",
    "<center>$A = \\{1,2,3,4,5,6,7,\\ldots\\}$</center>\n",
    "\n",
    "* Himpunan dapat tidak memiliki isi.\n",
    "* Dinamakan himpunan kosong\n",
    "\n",
    "<center> $B = \\{\\}$ </center>\n",
    "<center> $B = \\emptyset$ </center>"
   ]
  },
  {
   "cell_type": "code",
   "execution_count": 1,
   "metadata": {},
   "outputs": [
    {
     "data": {
      "text/plain": [
       "set"
      ]
     },
     "execution_count": 1,
     "metadata": {},
     "output_type": "execute_result"
    }
   ],
   "source": [
    "# Himpunan dengan isi 1 s.d. 7\n",
    "A = {1,2,3,4,5,6,7}\n",
    "type(A)"
   ]
  },
  {
   "cell_type": "code",
   "execution_count": 2,
   "metadata": {},
   "outputs": [
    {
     "data": {
      "text/plain": [
       "set"
      ]
     },
     "execution_count": 2,
     "metadata": {},
     "output_type": "execute_result"
    }
   ],
   "source": [
    "# Himpunan kosong\n",
    "B = set()\n",
    "type(B)"
   ]
  },
  {
   "cell_type": "markdown",
   "metadata": {},
   "source": [
    "Set dalam Python:"
   ]
  },
  {
   "cell_type": "code",
   "execution_count": 3,
   "metadata": {},
   "outputs": [],
   "source": [
    "hewan = {'kucing','sapi','lele', 'ulat', 'ayam'}"
   ]
  },
  {
   "cell_type": "markdown",
   "metadata": {},
   "source": [
    "Elemen dalam sebuah set tidak bisa duplikat"
   ]
  },
  {
   "cell_type": "code",
   "execution_count": 4,
   "metadata": {},
   "outputs": [
    {
     "data": {
      "text/plain": [
       "{'ayam', 'kucing', 'lele', 'sapi', 'ulat'}"
      ]
     },
     "execution_count": 4,
     "metadata": {},
     "output_type": "execute_result"
    }
   ],
   "source": [
    "hewan = {'kucing', 'kucing','sapi','lele', 'ulat', 'ayam'}\n",
    "hewan"
   ]
  },
  {
   "cell_type": "markdown",
   "metadata": {},
   "source": [
    "Set tidak memperhatikan urutan"
   ]
  },
  {
   "cell_type": "code",
   "execution_count": 5,
   "metadata": {},
   "outputs": [
    {
     "data": {
      "text/plain": [
       "{'ayam', 'kucing', 'lele', 'sapi', 'ulat'}"
      ]
     },
     "execution_count": 5,
     "metadata": {},
     "output_type": "execute_result"
    }
   ],
   "source": [
    "hewan = {'ulat', 'ayam', 'kucing','sapi','lele'}\n",
    "hewan"
   ]
  },
  {
   "cell_type": "markdown",
   "metadata": {},
   "source": [
    "---\n",
    "### **Elemen pada Himpunan**\n",
    "\n",
    "* Misal terdapat sebuah himpunan nama hari\n",
    "\n",
    "$$\n",
    "\\text{Hari} = \\{\\text{Senin, Selasa, Rabu, Kamis, Jumat, Sabtu, Minggu}\\}\n",
    "$$\n",
    "\n",
    "* Hari `Senin` merupakan anggota dari set `Hari`. Secara matematis dapat ditulis\n",
    "\n",
    "$$\n",
    "\\text{Senin} \\in \\text{Hari}\n",
    "$$\n",
    "\n",
    "* Namun `Januari` bukan merupakan anggota dari set `Hari`.\n",
    "\n",
    "$$\n",
    "\\text{Januari} \\notin \\text{Hari}\n",
    "$$"
   ]
  },
  {
   "cell_type": "code",
   "execution_count": 6,
   "metadata": {},
   "outputs": [],
   "source": [
    "Hari = {'Senin','Selasa','Rabu','Kamis','Jumat','Sabtu','Minggu'}"
   ]
  },
  {
   "cell_type": "code",
   "execution_count": 7,
   "metadata": {},
   "outputs": [
    {
     "data": {
      "text/plain": [
       "True"
      ]
     },
     "execution_count": 7,
     "metadata": {},
     "output_type": "execute_result"
    }
   ],
   "source": [
    "'Senin' in Hari"
   ]
  },
  {
   "cell_type": "code",
   "execution_count": 8,
   "metadata": {},
   "outputs": [
    {
     "data": {
      "text/plain": [
       "False"
      ]
     },
     "execution_count": 8,
     "metadata": {},
     "output_type": "execute_result"
    }
   ],
   "source": [
    "'Januari' in Hari"
   ]
  },
  {
   "cell_type": "markdown",
   "metadata": {},
   "source": [
    "---\n",
    "### **Menambah Elemen Baru**\n",
    "\n",
    "Untuk menambah elemen pada set kita dapat menggunakan perintah `add()`"
   ]
  },
  {
   "cell_type": "code",
   "execution_count": 9,
   "metadata": {},
   "outputs": [
    {
     "data": {
      "text/plain": [
       "{1, 2, 3, 5}"
      ]
     },
     "execution_count": 9,
     "metadata": {},
     "output_type": "execute_result"
    }
   ],
   "source": [
    "basic_set = {1,2,3}\n",
    "basic_set.add(5)\n",
    "basic_set"
   ]
  },
  {
   "cell_type": "markdown",
   "metadata": {},
   "source": [
    "---\n",
    "### **Menghapus elemen**\n",
    "\n",
    "Untuk mengurangi elemen pada list, ada 2 perintah yang dapat kita gunakan:\n",
    "\n",
    "* `remove()`"
   ]
  },
  {
   "cell_type": "code",
   "execution_count": 10,
   "metadata": {},
   "outputs": [
    {
     "data": {
      "text/plain": [
       "{1, 2, 4, 5}"
      ]
     },
     "execution_count": 10,
     "metadata": {},
     "output_type": "execute_result"
    }
   ],
   "source": [
    "basic_set = {1,2,3,4,5}\n",
    "basic_set.remove(3)\n",
    "basic_set"
   ]
  },
  {
   "cell_type": "markdown",
   "metadata": {},
   "source": [
    "---\n",
    "### **Menghitung Jumlah Elemen**"
   ]
  },
  {
   "cell_type": "markdown",
   "metadata": {},
   "source": [
    "Notasi Jumlah Elemen:\n",
    "\n",
    "$$\n",
    "\\text{Hari} = \\{\\text{Senin, Selasa, Rabu, Kamis, Jumat, Sabtu, Minggu}\\}\n",
    "$$\n",
    "\n",
    "$$\n",
    "| \\text{Hari} | = 7\n",
    "$$"
   ]
  },
  {
   "cell_type": "code",
   "execution_count": 11,
   "metadata": {},
   "outputs": [
    {
     "data": {
      "text/plain": [
       "{'Jumat', 'Kamis', 'Minggu', 'Rabu', 'Sabtu', 'Selasa', 'Senin'}"
      ]
     },
     "execution_count": 11,
     "metadata": {},
     "output_type": "execute_result"
    }
   ],
   "source": [
    "Hari"
   ]
  },
  {
   "cell_type": "code",
   "execution_count": 12,
   "metadata": {},
   "outputs": [
    {
     "data": {
      "text/plain": [
       "7"
      ]
     },
     "execution_count": 12,
     "metadata": {},
     "output_type": "execute_result"
    }
   ],
   "source": [
    "len(Hari)"
   ]
  },
  {
   "cell_type": "code",
   "execution_count": 13,
   "metadata": {},
   "outputs": [
    {
     "data": {
      "text/plain": [
       "{'ayam', 'kucing', 'lele', 'sapi', 'ulat'}"
      ]
     },
     "execution_count": 13,
     "metadata": {},
     "output_type": "execute_result"
    }
   ],
   "source": [
    "hewan"
   ]
  },
  {
   "cell_type": "code",
   "execution_count": 15,
   "metadata": {},
   "outputs": [
    {
     "data": {
      "text/plain": [
       "5"
      ]
     },
     "execution_count": 15,
     "metadata": {},
     "output_type": "execute_result"
    }
   ],
   "source": [
    "len(hewan)"
   ]
  },
  {
   "cell_type": "markdown",
   "metadata": {},
   "source": [
    "---\n",
    "### **Diagram Venn**\n",
    "\n",
    "Diagram yang digunakan untuk menunjukkan relasi antar himpunan/set.\n",
    "\n",
    "Contoh:\n",
    "\n",
    "<center><img src=\"https://sekolahdata-assets.s3.ap-southeast-1.amazonaws.com/notebook-images/mds-probability/live_02_02.PNG\" alt=\"Drawing\" style=\"width: 500px;\"/></center>"
   ]
  },
  {
   "cell_type": "markdown",
   "metadata": {},
   "source": [
    "---\n",
    "## **Operasi Himpunan / Set**"
   ]
  },
  {
   "cell_type": "markdown",
   "metadata": {},
   "source": [
    "### **Intersection**\n",
    "\n",
    "Fungsi `intesection()` digunakan untuk menghasilkan set baru yang berisi elemen yang sama dari kedua set\n",
    "\n",
    "<center><img src=\"https://sekolahdata-assets.s3.ap-southeast-1.amazonaws.com/notebook-images/mds-probability/live_02_03.PNG\" alt=\"Drawing\" style=\"width: 500px;\"/></center>"
   ]
  },
  {
   "cell_type": "code",
   "execution_count": 16,
   "metadata": {},
   "outputs": [],
   "source": [
    "x_set = {1,2,3,4}\n",
    "y_set = {3,4,5,6,7}"
   ]
  },
  {
   "cell_type": "markdown",
   "metadata": {},
   "source": [
    "$ X = \\{1,2,3,4\\} $\n",
    "\n",
    "$ Y = \\{3,4,5,6,7\\} $\n",
    "\n",
    "$X \\cap Y = ?$"
   ]
  },
  {
   "cell_type": "code",
   "execution_count": 17,
   "metadata": {},
   "outputs": [
    {
     "data": {
      "text/plain": [
       "{3, 4}"
      ]
     },
     "execution_count": 17,
     "metadata": {},
     "output_type": "execute_result"
    }
   ],
   "source": [
    "x_set.intersection(y_set)"
   ]
  },
  {
   "cell_type": "code",
   "execution_count": 18,
   "metadata": {},
   "outputs": [
    {
     "data": {
      "text/plain": [
       "{3, 4}"
      ]
     },
     "execution_count": 18,
     "metadata": {},
     "output_type": "execute_result"
    }
   ],
   "source": [
    "x_set & y_set"
   ]
  },
  {
   "cell_type": "code",
   "execution_count": 19,
   "metadata": {},
   "outputs": [
    {
     "data": {
      "text/plain": [
       "{3, 4}"
      ]
     },
     "execution_count": 19,
     "metadata": {},
     "output_type": "execute_result"
    }
   ],
   "source": [
    "y_set.intersection(x_set)"
   ]
  },
  {
   "cell_type": "code",
   "execution_count": 20,
   "metadata": {},
   "outputs": [
    {
     "data": {
      "text/plain": [
       "{3, 4}"
      ]
     },
     "execution_count": 20,
     "metadata": {},
     "output_type": "execute_result"
    }
   ],
   "source": [
    "y_set & x_set"
   ]
  },
  {
   "cell_type": "markdown",
   "metadata": {},
   "source": [
    "### **Union**\n",
    "\n",
    "Fungsi `union()` digunakan untuk menghasilkan set yang merupakan menggabungkan dari kedua set\n",
    "\n",
    "<center><img src=\"https://sekolahdata-assets.s3.ap-southeast-1.amazonaws.com/notebook-images/mds-probability/live_02_04.PNG\" alt=\"Drawing\" style=\"width: 500px;\"/></center>"
   ]
  },
  {
   "cell_type": "code",
   "execution_count": 49,
   "metadata": {},
   "outputs": [],
   "source": [
    "mamalia = {'manusia', 'kangguru', 'paus', 'orang utan', 'sapi', 'kucing', 'anjing'}\n",
    "kaki_4 = {'buaya', 'kura-kura', 'kadal', 'kodok', 'sapi', 'kucing', 'anjing'}"
   ]
  },
  {
   "cell_type": "code",
   "execution_count": 50,
   "metadata": {},
   "outputs": [
    {
     "data": {
      "text/plain": [
       "{'kangguru', 'manusia', 'orang utan', 'paus'}"
      ]
     },
     "execution_count": 50,
     "metadata": {},
     "output_type": "execute_result"
    }
   ],
   "source": [
    "mamalia.difference(kaki_4)"
   ]
  },
  {
   "cell_type": "code",
   "execution_count": 51,
   "metadata": {},
   "outputs": [
    {
     "data": {
      "text/plain": [
       "{'buaya', 'kadal', 'kodok', 'kura-kura'}"
      ]
     },
     "execution_count": 51,
     "metadata": {},
     "output_type": "execute_result"
    }
   ],
   "source": [
    "kaki_4-mamalia"
   ]
  },
  {
   "cell_type": "code",
   "execution_count": 52,
   "metadata": {},
   "outputs": [
    {
     "data": {
      "text/plain": [
       "{'kangguru', 'manusia', 'orang utan', 'paus'}"
      ]
     },
     "execution_count": 52,
     "metadata": {},
     "output_type": "execute_result"
    }
   ],
   "source": [
    "mamalia-kaki_4"
   ]
  },
  {
   "cell_type": "code",
   "execution_count": 21,
   "metadata": {},
   "outputs": [],
   "source": [
    "x_set = {1,2,3,4}\n",
    "y_set = {3,4,5,6,7}"
   ]
  },
  {
   "cell_type": "markdown",
   "metadata": {},
   "source": [
    "$X \\cup Y = ?$"
   ]
  },
  {
   "cell_type": "code",
   "execution_count": 22,
   "metadata": {},
   "outputs": [
    {
     "data": {
      "text/plain": [
       "{1, 2, 3, 4, 5, 6, 7}"
      ]
     },
     "execution_count": 22,
     "metadata": {},
     "output_type": "execute_result"
    }
   ],
   "source": [
    "x_set.union(y_set)"
   ]
  },
  {
   "cell_type": "code",
   "execution_count": 23,
   "metadata": {},
   "outputs": [
    {
     "data": {
      "text/plain": [
       "{1, 2, 3, 4, 5, 6, 7}"
      ]
     },
     "execution_count": 23,
     "metadata": {},
     "output_type": "execute_result"
    }
   ],
   "source": [
    "x_set | y_set"
   ]
  },
  {
   "cell_type": "markdown",
   "metadata": {},
   "source": [
    "$Y \\cup X = ?$"
   ]
  },
  {
   "cell_type": "code",
   "execution_count": 24,
   "metadata": {},
   "outputs": [
    {
     "data": {
      "text/plain": [
       "{1, 2, 3, 4, 5, 6, 7}"
      ]
     },
     "execution_count": 24,
     "metadata": {},
     "output_type": "execute_result"
    }
   ],
   "source": [
    "y_set.union(x_set)"
   ]
  },
  {
   "cell_type": "code",
   "execution_count": 25,
   "metadata": {},
   "outputs": [
    {
     "data": {
      "text/plain": [
       "{1, 2, 3, 4, 5, 6, 7}"
      ]
     },
     "execution_count": 25,
     "metadata": {},
     "output_type": "execute_result"
    }
   ],
   "source": [
    "y_set | x_set"
   ]
  },
  {
   "cell_type": "markdown",
   "metadata": {},
   "source": [
    "### **Difference / Komplemen**\n",
    "\n",
    "Fungsi `diffence()` digunakan untuk menghasilkan set baru yang terdiri dari elemen yang tidak ada pada set lain\n",
    "\n",
    "<center><img src=\"https://sekolahdata-assets.s3.ap-southeast-1.amazonaws.com/notebook-images/mds-probability/live_02_05.jpg\" alt=\"Drawing\" style=\"width: 300px;\"/></center>"
   ]
  },
  {
   "cell_type": "code",
   "execution_count": 26,
   "metadata": {},
   "outputs": [],
   "source": [
    "x_set = {1,2,3,4}\n",
    "y_set = {3,4,5,6,7}"
   ]
  },
  {
   "cell_type": "markdown",
   "metadata": {},
   "source": [
    "$ X - Y = ?$"
   ]
  },
  {
   "cell_type": "code",
   "execution_count": 27,
   "metadata": {},
   "outputs": [
    {
     "data": {
      "text/plain": [
       "{1, 2}"
      ]
     },
     "execution_count": 27,
     "metadata": {},
     "output_type": "execute_result"
    }
   ],
   "source": [
    "x_set.difference(y_set)"
   ]
  },
  {
   "cell_type": "markdown",
   "metadata": {},
   "source": [
    "$ Y - X = ?$"
   ]
  },
  {
   "cell_type": "code",
   "execution_count": 28,
   "metadata": {},
   "outputs": [
    {
     "data": {
      "text/plain": [
       "{5, 6, 7}"
      ]
     },
     "execution_count": 28,
     "metadata": {},
     "output_type": "execute_result"
    }
   ],
   "source": [
    "y_set.difference(x_set)"
   ]
  },
  {
   "cell_type": "markdown",
   "metadata": {},
   "source": [
    "### **Subset & Superset**\n",
    "\n",
    "* Jika memiliki dua set: misal A dan B\n",
    "* Set B adalah subset dari A jika semua elemen B ada di A\n",
    "\n",
    "<center> $A = \\{1,2,3,4,5,6,7\\}$ </center>\n",
    "<center> $B = \\{1,3,5,7\\}$ </center>\n",
    "<center> $B \\subset A$ </center>\n",
    "<center> $A \\supset B$ </center>\n",
    "\n",
    "<br>\n",
    "<br>\n",
    "<center><img src=\"https://sekolahdata-assets.s3.ap-southeast-1.amazonaws.com/notebook-images/mds-probability/live_02_06.PNG\" alt=\"Drawing\" style=\"width: 400px;\"/></center>"
   ]
  },
  {
   "cell_type": "markdown",
   "metadata": {},
   "source": [
    "* `issubset()` mengecek apakah merupakan subset dari set lain\n",
    "* `isdisjoint()` mengecek apakah kedua set tidak memiliki elemen yang sama\n",
    "* `issuperset()` mengecek apakah set mengandung semua elemen set lain"
   ]
  },
  {
   "cell_type": "code",
   "execution_count": 29,
   "metadata": {},
   "outputs": [],
   "source": [
    "A = {1,2,3,4,5,6,7}\n",
    "B = {1,3,5}\n",
    "C = {8,9,10}"
   ]
  },
  {
   "cell_type": "markdown",
   "metadata": {},
   "source": [
    "is $B \\subset A$?"
   ]
  },
  {
   "cell_type": "code",
   "execution_count": 30,
   "metadata": {},
   "outputs": [
    {
     "data": {
      "text/plain": [
       "True"
      ]
     },
     "execution_count": 30,
     "metadata": {},
     "output_type": "execute_result"
    }
   ],
   "source": [
    "B.issubset(A)"
   ]
  },
  {
   "cell_type": "markdown",
   "metadata": {},
   "source": [
    "is $A \\cap C = \\{\\}$?"
   ]
  },
  {
   "cell_type": "code",
   "execution_count": 31,
   "metadata": {},
   "outputs": [
    {
     "data": {
      "text/plain": [
       "True"
      ]
     },
     "execution_count": 31,
     "metadata": {},
     "output_type": "execute_result"
    }
   ],
   "source": [
    "A.isdisjoint(C)"
   ]
  },
  {
   "cell_type": "markdown",
   "metadata": {},
   "source": [
    "is $A \\supset B = \\{\\}$?"
   ]
  },
  {
   "cell_type": "code",
   "execution_count": 32,
   "metadata": {},
   "outputs": [
    {
     "data": {
      "text/plain": [
       "True"
      ]
     },
     "execution_count": 32,
     "metadata": {},
     "output_type": "execute_result"
    }
   ],
   "source": [
    "A.issuperset(B)"
   ]
  },
  {
   "cell_type": "markdown",
   "metadata": {},
   "source": [
    "---\n",
    "## **CASE**: Diberikan\n",
    "\n",
    "$$S = \\{-1, 0, 1, 2, 3,4,5,20,90\\}$$\n",
    "\n",
    "$$A = \\{1, 2, 3,4,5\\}$$\n",
    "\n",
    "$$B = \\{0, 2, -1, 5,7\\}$$\n",
    "\n",
    "$$C = \\{20,90\\}$$"
   ]
  },
  {
   "cell_type": "markdown",
   "metadata": {},
   "source": [
    "### Maka temukan\n",
    "\n",
    "1. $|A|, |B|, |C|$ and $|S|$\n",
    "\n",
    "\n",
    "2. $𝐴∩𝐵, 𝐴∩C, 𝐴∩D, 𝐴∩S, 𝐴∪𝐵, 𝐴∪𝐶, 𝐴∪𝐵∪𝐶, 𝐴−𝐶,𝐴−𝐵, 𝐴 ∆ 𝐵$\n",
    "\n",
    "\n",
    "3. $|𝐴∩𝐵|, |𝐴∪𝐵∪𝐶|$\n",
    "\n",
    "\n",
    "4. $𝐴^𝑐, 𝐵^𝑐 , (𝐴∪𝐵)^𝑐,   𝐴^𝑐∩𝐵^𝑐 $\n",
    "\n",
    "\n",
    "5. Apakah $𝐴,𝐵, C, D ⊆𝑆 $ ?"
   ]
  },
  {
   "cell_type": "code",
   "execution_count": 36,
   "metadata": {},
   "outputs": [],
   "source": [
    "import matplotlib.pyplot as plt\n",
    "import matplotlib_venn as venn\n",
    "\n",
    "S = {-1, 0, 1, 2, 3, 4, 5, 7, 20, 90}\n",
    "A = {1, 2, 3, 4, 5}\n",
    "B = {0, 2, -1, 5,7}\n",
    "C = {20, 90}\n",
    "D = {100}"
   ]
  },
  {
   "cell_type": "code",
   "execution_count": 37,
   "metadata": {},
   "outputs": [
    {
     "data": {
      "image/png": "[encoded data removed]",
      "text/plain": [
       "<Figure size 640x480 with 1 Axes>"
      ]
     },
     "metadata": {},
     "output_type": "display_data"
    }
   ],
   "source": [
    "# Diagram Venn untuk Himpunan diatas\n",
    "venn.venn3([A, B, C], set_labels=('A','B', 'C'))\n",
    "plt.show()"
   ]
  },
  {
   "cell_type": "markdown",
   "metadata": {},
   "source": [
    "---\n",
    "1. $|A|$"
   ]
  },
  {
   "cell_type": "code",
   "execution_count": 38,
   "metadata": {},
   "outputs": [
    {
     "data": {
      "text/plain": [
       "5"
      ]
     },
     "execution_count": 38,
     "metadata": {},
     "output_type": "execute_result"
    }
   ],
   "source": [
    "len(A)"
   ]
  },
  {
   "cell_type": "markdown",
   "metadata": {},
   "source": [
    "$|B|$"
   ]
  },
  {
   "cell_type": "code",
   "execution_count": 39,
   "metadata": {},
   "outputs": [
    {
     "data": {
      "text/plain": [
       "5"
      ]
     },
     "execution_count": 39,
     "metadata": {},
     "output_type": "execute_result"
    }
   ],
   "source": [
    "len(B)"
   ]
  },
  {
   "cell_type": "markdown",
   "metadata": {},
   "source": [
    "$|C|$"
   ]
  },
  {
   "cell_type": "code",
   "execution_count": 40,
   "metadata": {},
   "outputs": [
    {
     "data": {
      "text/plain": [
       "2"
      ]
     },
     "execution_count": 40,
     "metadata": {},
     "output_type": "execute_result"
    }
   ],
   "source": [
    "len(C)"
   ]
  },
  {
   "cell_type": "markdown",
   "metadata": {},
   "source": [
    "$|S|$"
   ]
  },
  {
   "cell_type": "code",
   "execution_count": 41,
   "metadata": {},
   "outputs": [
    {
     "data": {
      "text/plain": [
       "10"
      ]
     },
     "execution_count": 41,
     "metadata": {},
     "output_type": "execute_result"
    }
   ],
   "source": [
    "len(S)"
   ]
  },
  {
   "cell_type": "markdown",
   "metadata": {},
   "source": [
    "---\n",
    "2. $𝐴∩𝐵, 𝐴∩C, 𝐴∩D, 𝐴∩S, 𝐴∪𝐵, 𝐴∪𝐶, 𝐴∪𝐵∪𝐶, 𝐴−𝐶,𝐴−𝐵$"
   ]
  },
  {
   "cell_type": "markdown",
   "metadata": {},
   "source": [
    "<details>\n",
    "    <summary><b>Klik untuk melihat kunci jawaban</b></summary>\n",
    "\n",
    "```python\n",
    "print(\"𝐴∩𝐵 = \", A.intersection(B))\n",
    "print(\"𝐴∩C = \", A&C)        # & = intersection\n",
    "print(\"𝐴∩D = \", A.intersection(D))\n",
    "print(\"𝐴∩S = \", A.intersection(S))\n",
    "print(\"𝐴∪B = \", A.union(B))\n",
    "print(\"𝐴∪C = \", A|C)       # | = union\n",
    "print(\"𝐴∪B∪C = \", A|B|C, \" = S\")\n",
    "print(\"𝐴-C = \", A-C)       \n",
    "print(\"𝐴-B = \", A-B)       \n",
    "print(\"𝐴∆B = \", A^B)       \n",
    "```\n",
    "$ 𝐴∩𝐵 =  \\{2, 5\\} $ <br>\n",
    "$𝐴∩C =  set()  $ <br>\n",
    "$𝐴∩D =  set()  $ <br>\n",
    "$𝐴∩S =  \\{1, 2, 3, 4, 5\\}  $ <br>\n",
    "$𝐴∪B =  \\{0, 1, 2, 3, 4, 5, 7, -1\\}  $ <br>\n",
    "$𝐴∪C =  \\{1, 2, 3, 4, 5, 20, 90\\}  $ <br>\n",
    "$𝐴∪B∪C =  \\{0, 1, 2, 3, 4, 5, 7, 20, 90, -1\\}  = S  $ <br>\n",
    "$𝐴-C =  \\{1, 2, 3, 4, 5\\} $ <br>\n",
    "$𝐴-B =  \\{1, 3, 4\\}$\n",
    "</details>\n",
    "\n",
    "---"
   ]
  },
  {
   "cell_type": "code",
   "execution_count": 48,
   "metadata": {},
   "outputs": [
    {
     "name": "stdout",
     "output_type": "stream",
     "text": [
      "𝐴∩𝐵 =  {2, 5}\n",
      "𝐴∩C =  set()\n",
      "𝐴∩D =  set()\n",
      "𝐴∩S =  {1, 2, 3, 4, 5}\n",
      "𝐴∪B =  {0, 1, 2, 3, 4, 5, 7, -1}\n",
      "𝐴∪C =  {1, 2, 3, 4, 5, 20, 90}\n",
      "𝐴∪B∪C =  {0, 1, 2, 3, 4, 5, 7, 20, 90, -1}  = S\n",
      "𝐴-C =  {1, 2, 3, 4, 5}\n",
      "𝐴-B =  {1, 3, 4}\n",
      "𝐴∆B =  {0, 1, 3, 4, 7, -1}\n"
     ]
    }
   ],
   "source": [
    "print(\"𝐴∩𝐵 = \", A.intersection(B))\n",
    "print(\"𝐴∩C = \", A&C)        # & = intersection\n",
    "print(\"𝐴∩D = \", A.intersection(D))\n",
    "print(\"𝐴∩S = \", A.intersection(S))\n",
    "print(\"𝐴∪B = \", A.union(B))\n",
    "print(\"𝐴∪C = \", A|C)       # | = union\n",
    "print(\"𝐴∪B∪C = \", A|B|C, \" = S\")\n",
    "print(\"𝐴-C = \", A-C)       \n",
    "print(\"𝐴-B = \", A-B)       \n",
    "print(\"𝐴∆B = \", A^B)"
   ]
  },
  {
   "cell_type": "markdown",
   "metadata": {},
   "source": [
    "---\n",
    "3. $|𝐴∩𝐵|, |𝐴∪𝐵∪𝐶|$"
   ]
  },
  {
   "cell_type": "markdown",
   "metadata": {},
   "source": [
    "<details>\n",
    "    <summary><b>Klik untuk melihat kunci jawaban</b></summary>\n",
    "\n",
    "```python\n",
    "print(\"|𝐴∩𝐵| = \", len(A&B))\n",
    "print(\"|𝐴∪𝐵∪𝐶| = \", len(A|B|C))\n",
    "     \n",
    "```\n",
    "</details>\n",
    "\n",
    "---"
   ]
  },
  {
   "cell_type": "code",
   "execution_count": 42,
   "metadata": {},
   "outputs": [
    {
     "name": "stdout",
     "output_type": "stream",
     "text": [
      "|𝐴∩𝐵| =  2\n",
      "|𝐴∪𝐵∪𝐶| =  10\n"
     ]
    }
   ],
   "source": [
    "print(\"|𝐴∩𝐵| = \", len(A&B))\n",
    "print(\"|𝐴∪𝐵∪𝐶| = \", len(A|B|C))"
   ]
  },
  {
   "cell_type": "code",
   "execution_count": 55,
   "metadata": {},
   "outputs": [
    {
     "data": {
      "text/plain": [
       "2"
      ]
     },
     "execution_count": 55,
     "metadata": {},
     "output_type": "execute_result"
    }
   ],
   "source": [
    "#Pakai fungsi intersection/irisan\n",
    "len(A.intersection(B))"
   ]
  },
  {
   "cell_type": "code",
   "execution_count": 61,
   "metadata": {},
   "outputs": [
    {
     "data": {
      "text/plain": [
       "10"
      ]
     },
     "execution_count": 61,
     "metadata": {},
     "output_type": "execute_result"
    }
   ],
   "source": [
    "#Pakai fungsi union\n",
    "len((A.union(B)).union(C))"
   ]
  },
  {
   "cell_type": "markdown",
   "metadata": {},
   "source": [
    "---\n",
    "4. $𝐴^𝑐, 𝐵^𝑐 , (𝐴∪𝐵)^𝑐,   𝐴^𝑐∩𝐵^𝑐 $"
   ]
  },
  {
   "cell_type": "markdown",
   "metadata": {},
   "source": [
    "<details>\n",
    "    <summary><b>Klik untuk melihat kunci jawaban</b></summary>\n",
    "\n",
    "```python\n",
    "print(\"complement of A = \", len(S-A))\n",
    "print(\"complement of B = \", len(S-B))\n",
    "print(\"complement of 𝐴∪𝐵 = \", len(S-(𝐴|𝐵)))\n",
    "print(\"(complement of 𝐴)  ∩ (complement of B) = \", len((S-A)&(S-B)))\n",
    "     \n",
    "```\n",
    "</details>\n",
    "\n",
    "---"
   ]
  },
  {
   "cell_type": "code",
   "execution_count": 43,
   "metadata": {},
   "outputs": [
    {
     "name": "stdout",
     "output_type": "stream",
     "text": [
      "complement of A =  5\n",
      "complement of B =  5\n",
      "complement of 𝐴∪𝐵 =  2\n",
      "(complement of 𝐴)  ∩ (complement of B) =  2\n"
     ]
    }
   ],
   "source": [
    "print(\"complement of A = \", len(S-A))\n",
    "print(\"complement of B = \", len(S-B))\n",
    "print(\"complement of 𝐴∪𝐵 = \", len(S-(𝐴|𝐵)))\n",
    "print(\"(complement of 𝐴)  ∩ (complement of B) = \", len((S-A)&(S-B)))"
   ]
  },
  {
   "cell_type": "code",
   "execution_count": 70,
   "metadata": {},
   "outputs": [
    {
     "data": {
      "text/plain": [
       "2"
      ]
     },
     "execution_count": 70,
     "metadata": {},
     "output_type": "execute_result"
    }
   ],
   "source": [
    "len(S-(A.union(B)))"
   ]
  },
  {
   "cell_type": "code",
   "execution_count": 72,
   "metadata": {},
   "outputs": [
    {
     "data": {
      "text/plain": [
       "{20, 90}"
      ]
     },
     "execution_count": 72,
     "metadata": {},
     "output_type": "execute_result"
    }
   ],
   "source": [
    "(S-A).intersection(S-B)"
   ]
  },
  {
   "cell_type": "markdown",
   "metadata": {},
   "source": [
    "---\n",
    "5. Apakah $𝐴,𝐵, C, D ⊆𝑆 $ ?"
   ]
  },
  {
   "cell_type": "markdown",
   "metadata": {},
   "source": [
    "<details>\n",
    "    <summary><b>Klik untuk melihat kunci jawaban</b></summary>\n",
    "\n",
    "```python\n",
    "print(\"Is 𝐴⊆S : \", A.issubset(S))\n",
    "print(\"Is S⊇A : \", S.issuperset(A))\n",
    "print(\"Is B⊆S : \", B.issubset(S))\n",
    "print(\"Is S⊇B : \", S.issuperset(B))\n",
    "print(\"Is D⊆S : \", D.issubset(S))\n",
    "print(\"Is S⊇D : \", S.issuperset(D))\n",
    "     \n",
    "```\n",
    "</details>\n",
    "\n",
    "---"
   ]
  },
  {
   "cell_type": "code",
   "execution_count": 44,
   "metadata": {},
   "outputs": [
    {
     "name": "stdout",
     "output_type": "stream",
     "text": [
      "Is 𝐴⊆S :  True\n",
      "Is S⊇A :  True\n",
      "Is B⊆S :  True\n",
      "Is S⊇B :  True\n",
      "Is D⊆S :  False\n",
      "Is S⊇D :  False\n"
     ]
    }
   ],
   "source": [
    "print(\"Is 𝐴⊆S : \", A.issubset(S))\n",
    "print(\"Is S⊇A : \", S.issuperset(A))\n",
    "print(\"Is B⊆S : \", B.issubset(S))\n",
    "print(\"Is S⊇B : \", S.issuperset(B))\n",
    "print(\"Is D⊆S : \", D.issubset(S))\n",
    "print(\"Is S⊇D : \", S.issuperset(D))"
   ]
  }
 ],
 "metadata": {
  "kernelspec": {
   "display_name": "pacmann_env",
   "language": "python",
   "name": "python3"
  },
  "language_info": {
   "codemirror_mode": {
    "name": "ipython",
    "version": 3
   },
   "file_extension": ".py",
   "mimetype": "text/x-python",
   "name": "python",
   "nbconvert_exporter": "python",
   "pygments_lexer": "ipython3",
   "version": "3.9.1"
  }
 },
 "nbformat": 4,
 "nbformat_minor": 2
}
