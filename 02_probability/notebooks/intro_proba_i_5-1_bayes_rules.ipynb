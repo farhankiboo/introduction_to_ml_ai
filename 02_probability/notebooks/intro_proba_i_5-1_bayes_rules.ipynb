{
 "cells": [
  {
   "cell_type": "markdown",
   "metadata": {},
   "source": [
    "# **Pertemuan 5 - Bayes Rules**\n",
    "\n",
    "Introduction to Probability Course - Sekolah Data - Pacmann Academy"
   ]
  },
  {
   "cell_type": "code",
   "execution_count": 2,
   "metadata": {},
   "outputs": [],
   "source": [
    "import os\n",
    "import sys\n",
    "nb_dir = os.path.split(os.getcwd())[0]\n",
    "if nb_dir not in sys.path:\n",
    "    sys.path.append(nb_dir)"
   ]
  },
  {
   "cell_type": "code",
   "execution_count": 3,
   "metadata": {},
   "outputs": [],
   "source": [
    "from src.fungsi_pertemuan_5 import hitung_probabilitas\n",
    "from src.fungsi_pertemuan_5 import hitung_total_probabilitas\n",
    "from src.fungsi_pertemuan_5 import hitung_probabilitas_posterior\n",
    "from src.fungsi_pertemuan_5 import plot_range_probabilitas_posterior\n",
    "from src.fungsi_pertemuan_5 import hitung_jumlah_kejadian\n",
    "from src.fungsi_pertemuan_5 import plot_interaktif_probabilitas_posterior\n",
    "from src.fungsi_pertemuan_5 import summary_data"
   ]
  },
  {
   "cell_type": "markdown",
   "metadata": {},
   "source": [
    "---\n",
    "## **Case Barang Rusak - Law of Total Probability**"
   ]
  },
  {
   "cell_type": "markdown",
   "metadata": {},
   "source": [
    "- Suatu pabrik menggunakan 4 mesin untuk memproduksi barang sejenis.\n",
    "- Produksi harian dari mesin pertama, kedua, ketiga dan keempat masing-masing sebesar 1.000, 1.200, 1.800, dan 2.000 buah.\n",
    "- Produksi dari mesin pertama, kedua, ketiga dan keempat masing-masing mengalami kerusakan sebanyak 1%, 0.5%, 0.5%, dan 1%. Lalu\n",
    "\n",
    "Berapa total probabilitas dari barang yang rusak?"
   ]
  },
  {
   "cell_type": "markdown",
   "metadata": {},
   "source": [
    "Misal:\n",
    "\n",
    "    - i = 1,2,3,4\n",
    "    - Mesin_i = produksi barang dari mesin ke i\n",
    "    - rusak = produksi barang yang rusak"
   ]
  },
  {
   "cell_type": "markdown",
   "metadata": {},
   "source": [
    "Kita tinjau kembali persamaan total probabilitas, dimana:\n",
    "\n",
    "$$\n",
    "\\begin{align*}\n",
    "P(A) &= P(B_{1})P(A \\ | \\ B_{1}) + P(B_{2})P(A \\ | \\ B_{2}) + \\cdots + P(B_{n})P(A \\ | \\ B_{n}) \\\\\n",
    "     &= \\sum_{i}^{n} P(B_{i})P(A \\ | \\ B_{i})\n",
    "\\end{align*}\n",
    "$$"
   ]
  },
  {
   "cell_type": "markdown",
   "metadata": {},
   "source": [
    "Maka yang dicari adalah:\n",
    "\n",
    "$$\n",
    "P(\\text{rusak}) = P(\\text{mesin}_{1}) \\cdot P(\\text{rusak} \\ | \\ \\text{mesin}_{1})  + P(\\text{mesin}_{2}) \\cdot P(\\text{rusak} \\ | \\ \\text{mesin}_{2})\n",
    "\\\\ + P(\\text{mesin}_{3}) \\cdot P(\\text{rusak} \\ | \\ \\text{mesin}_{3})\n",
    " + P(\\text{mesin}_{4}) \\cdot P(\\text{rusak} \\ | \\ \\text{mesin}_{4})\n",
    "\\\\\n",
    "$$\n",
    "\n",
    "$$\n",
    "\\\\\n",
    "P(\\text{rusak}) = \\sum_{i} P(\\text{mesin}_{i}) P(\\text{rusak} \\ | \\ \\text{mesin}_{i})\n",
    "$$"
   ]
  },
  {
   "cell_type": "markdown",
   "metadata": {},
   "source": [
    "Dalam kasus ini kita belum memiliki nilai probabilitas dari tiap mesin, sehingga kita akan mencari nilai probabilitas dari masing-masing mesin, $P(\\text{mesin}_{i})$, terlebih dahulu:"
   ]
  },
  {
   "cell_type": "code",
   "execution_count": 4,
   "metadata": {},
   "outputs": [
    {
     "name": "stdout",
     "output_type": "stream",
     "text": [
      "probabilitas produksi barang dari mesin pertama adalah 0.17\n",
      "probabilitas produksi barang dari mesin kedua adalah 0.20\n",
      "probabilitas produksi barang dari mesin ketiga adalah 0.30\n",
      "probabilitas produksi barang dari mesin keempat adalah 0.33\n"
     ]
    }
   ],
   "source": [
    "# mendapatkan ruang sample\n",
    "produksi_Mesin1 = 1000\n",
    "produksi_Mesin2 = 1200\n",
    "produksi_Mesin3 = 1800\n",
    "produksi_Mesin4 = 2000\n",
    "\n",
    "total_produksi = produksi_Mesin1 + produksi_Mesin2 + produksi_Mesin3 + produksi_Mesin4\n",
    "\n",
    "# Probabilitas barang dari masing-masing mesin\n",
    "P_Mesin1 = hitung_probabilitas(total_produksi, produksi_Mesin1)\n",
    "print(f\"probabilitas produksi barang dari mesin pertama adalah {P_Mesin1:.2f}\")\n",
    "\n",
    "P_Mesin2 = hitung_probabilitas(total_produksi, produksi_Mesin2)\n",
    "print(f\"probabilitas produksi barang dari mesin kedua adalah {P_Mesin2:.2f}\")\n",
    "\n",
    "P_Mesin3 = hitung_probabilitas(total_produksi, produksi_Mesin3)\n",
    "print(f\"probabilitas produksi barang dari mesin ketiga adalah {P_Mesin3:.2f}\")\n",
    "\n",
    "P_Mesin4 = hitung_probabilitas(total_produksi, produksi_Mesin4)\n",
    "print(f\"probabilitas produksi barang dari mesin keempat adalah {P_Mesin4:.2f}\")"
   ]
  },
  {
   "cell_type": "code",
   "execution_count": null,
   "metadata": {},
   "outputs": [],
   "source": [
    "# Langkah 2 mendefinisikan nilai probabilitas barang rusak dari masing-masing mesin\n",
    "P_Rusak_Mesin1 = 0.01\n",
    "P_Rusak_Mesin2 = 0.005\n",
    "P_Rusak_Mesin3 = 0.005\n",
    "P_Rusak_Mesin4 = 0.01"
   ]
  },
  {
   "cell_type": "markdown",
   "metadata": {},
   "source": [
    "Untuk menghitung total probabilitas barang rusak dapat digunakan:\n",
    "\n",
    "$$\n",
    "P(\\text{rusak}) = P(\\text{mesin}_{1}) \\cdot P(\\text{rusak} \\ | \\ \\text{mesin}_{1})  + P(\\text{mesin}_{2}) \\cdot P(\\text{rusak} \\ | \\ \\text{mesin}_{2})\n",
    "\\\\ + P(\\text{mesin}_{3}) \\cdot P(\\text{rusak} \\ | \\ \\text{mesin}_{3})\n",
    " + P(\\text{mesin}_{4}) \\cdot P(\\text{rusak} \\ | \\ \\text{mesin}_{4})\n",
    "$$"
   ]
  },
  {
   "cell_type": "markdown",
   "metadata": {},
   "source": [
    "Sehingga nilai total probabilitasnya:"
   ]
  },
  {
   "cell_type": "code",
   "execution_count": 5,
   "metadata": {},
   "outputs": [
    {
     "ename": "NameError",
     "evalue": "name 'P_Rusak_Mesin1' is not defined",
     "output_type": "error",
     "traceback": [
      "\u001b[1;31m---------------------------------------------------------------------------\u001b[0m",
      "\u001b[1;31mNameError\u001b[0m                                 Traceback (most recent call last)",
      "Cell \u001b[1;32mIn[5], line 2\u001b[0m\n\u001b[0;32m      1\u001b[0m \u001b[38;5;66;03m# P_Rusak = probabilitas total barang rusak\u001b[39;00m\n\u001b[1;32m----> 2\u001b[0m P_Rusak \u001b[38;5;241m=\u001b[39m P_Mesin1\u001b[38;5;241m*\u001b[39m\u001b[43mP_Rusak_Mesin1\u001b[49m \u001b[38;5;241m+\u001b[39m P_Mesin2\u001b[38;5;241m*\u001b[39mP_Rusak_Mesin2 \\\n\u001b[0;32m      3\u001b[0m           \u001b[38;5;241m+\u001b[39m P_Mesin3\u001b[38;5;241m*\u001b[39mP_Rusak_Mesin3 \u001b[38;5;241m+\u001b[39m P_Mesin4\u001b[38;5;241m*\u001b[39mP_Rusak_Mesin4\n\u001b[0;32m      5\u001b[0m \u001b[38;5;28mprint\u001b[39m(\u001b[38;5;124mf\u001b[39m\u001b[38;5;124m\"\u001b[39m\u001b[38;5;124mTotal probabilitas dari barang yang rusak adalah \u001b[39m\u001b[38;5;132;01m{\u001b[39;00mP_Rusak\u001b[38;5;132;01m:\u001b[39;00m\u001b[38;5;124m.4f\u001b[39m\u001b[38;5;132;01m}\u001b[39;00m\u001b[38;5;124m\"\u001b[39m)\n",
      "\u001b[1;31mNameError\u001b[0m: name 'P_Rusak_Mesin1' is not defined"
     ]
    }
   ],
   "source": [
    "# P_Rusak = probabilitas total barang rusak\n",
    "P_Rusak = P_Mesin1*P_Rusak_Mesin1 + P_Mesin2*P_Rusak_Mesin2 \\\n",
    "          + P_Mesin3*P_Rusak_Mesin3 + P_Mesin4*P_Rusak_Mesin4\n",
    "\n",
    "print(f\"Total probabilitas dari barang yang rusak adalah {P_Rusak:.4f}\")"
   ]
  },
  {
   "cell_type": "markdown",
   "metadata": {},
   "source": [
    "---\n",
    "## **Case Email Spam - Bayes' Rule**"
   ]
  },
  {
   "cell_type": "markdown",
   "metadata": {},
   "source": [
    "Saat ini Bobi sedang mengembangkan aplikasi pendeteksi email spam dan dia sedang mengujinya ke akun emailnya sendiri. Bobi mengasumsikan bahwa 3% dari 5000 email yang masuk ke akunnya adalah spam.\n",
    "\n",
    "<center>\n",
    "<img src=\"https://miro.medium.com/v2/resize:fit:920/1*CS-OYdiRLCBMBiOpEURy0g.png\">\n",
    "</center>\n",
    "\n",
    "[sumber gambar](https://miro.medium.com/v2/resize:fit:920/1*CS-OYdiRLCBMBiOpEURy0g.png)\n",
    "\n",
    "Setelah melakukan beberapa percobaan Bobi menyimpulkan bahwa\n",
    "- jika email tersebut adalah spam, aplikasinya dapat mendeteksinya sebagai spam dengan tingkat akurasi (sensitifity) 95%, dan\n",
    "- jika email tersebut non spam maka aplikasinya dapat mendeteksinya sebagai non spam dengan akurasi (specificity) 98%.\n",
    "\n",
    "Jika sebuah email baru masuk dan dideteksi sebagai spam, berapa probabilitas email tersebut benar-benar spam?"
   ]
  },
  {
   "cell_type": "markdown",
   "metadata": {},
   "source": [
    "Misal:\n",
    "\n",
    "    - spam = {email spam}\n",
    "    - terdeteksi = {email terdeteksi sebagai spam}"
   ]
  },
  {
   "cell_type": "markdown",
   "metadata": {},
   "source": [
    "Maka yang akan dicari adalah:\n",
    "\n",
    "$$\n",
    "P(\\text{spam|terdeteksi}) = \\cfrac{P(\\text{spam}) P(\\text{terdeteksi} \\ | \\ \\text{spam})}{P(\\text{terdeteksi})}\n",
    "$$"
   ]
  },
  {
   "cell_type": "markdown",
   "metadata": {},
   "source": [
    "Dimana:\n",
    "\n",
    "     p(spam) = prior\n",
    "     p(terdeteksi|spam) = likelihood\n",
    "     p(terdeteksi) = evidence = marginal likelihood\n",
    "     p(spam|terdeteksi) = posterior"
   ]
  },
  {
   "cell_type": "markdown",
   "metadata": {},
   "source": [
    "Diketahui bahwa persentase email spam sebanyak 3%, sehingga:\n",
    "    \n",
    "    P(spam) = 0.03"
   ]
  },
  {
   "cell_type": "markdown",
   "metadata": {},
   "source": [
    "Selain itu sensitivity dari aplikasi yaitu 95%\n",
    "    \n",
    "    P(terdeteksi | spam) = 0.95"
   ]
  },
  {
   "cell_type": "markdown",
   "metadata": {},
   "source": [
    "Aplikasi juga memiliki specificity sebesar 98%\n",
    "\n",
    "    P(tidak terdeteksi | non spam) = 0.98"
   ]
  },
  {
   "cell_type": "markdown",
   "metadata": {},
   "source": [
    "Gambaran akurasi dari aplikasinya sebagai berikut:\n",
    "\n",
    "![](https://sekolahdata-assets.s3.ap-southeast-1.amazonaws.com/notebook-images/mds-probability/live_05_04_bayes.png)"
   ]
  },
  {
   "cell_type": "markdown",
   "metadata": {},
   "source": [
    "Dari tabel diatas dapat disimpulkan:\n",
    "- Masih terdapat 5% email spam yang tidak terdeteksi sebagai spam (False Negative)\n",
    "- Masih terdapat 2% email not-spam yang terdeteksi sebagai spam (False Positive)"
   ]
  },
  {
   "cell_type": "markdown",
   "metadata": {},
   "source": [
    "Pada kasus ini belum diketahui nilai P(terdeteksi). Namun ini bisa didapatkan dengan menggunakan rumus total probabilitas:\n",
    "\n",
    "![](https://sekolahdata-assets.s3.ap-southeast-1.amazonaws.com/notebook-images/mds-probability/live_05_05_Bayes.png)\n",
    "\n",
    "dimana:\n",
    "\n",
    "$$\n",
    "\\begin{align*}\n",
    "P(\\text{terdeteksi}) &= P(\\text{terdeteksi} \\ | \\ \\text{spam}) P(\\text{spam}) +  P(\\text{terdeteksi} \\ | \\ \\text{non-spam}) P(\\text{non-spam})\\\\\n",
    " &= \\text{sensitivity} \\cdot \\text{prior} + (1-\\text{specificity}) \\cdot (1-\\text{prior})\n",
    "\\end{align*}\n",
    "$$\n",
    "\n",
    "> Note:\n",
    "> - Sensitivity merupakan akurasi detektor dalam mendeteksi positif email spam\n",
    "> - Specificity merupakan akurasi detektor dalam mendeteksi negatif email non-spam"
   ]
  },
  {
   "cell_type": "markdown",
   "metadata": {},
   "source": [
    "---\n",
    "### **2. 1 Menghitung Probabilitas dengan Bayes' Rule**"
   ]
  },
  {
   "cell_type": "code",
   "execution_count": 6,
   "metadata": {},
   "outputs": [
    {
     "name": "stdout",
     "output_type": "stream",
     "text": [
      "probabilitas email yang masuk adalah spam jika terdeteksi positif sebesar 0.59\n"
     ]
    }
   ],
   "source": [
    "p_spam = 0.03 # P(spam)\n",
    "sensitivity = 0.95 # P(terdeteksi | spam)\n",
    "specificity = 0.98 # P(tidak terdeteksi | non-spam)\n",
    "\n",
    "p_terdeteksi = hitung_total_probabilitas(sensitivity, p_spam,\n",
    "                                           (1-specificity), (1-p_spam)) # P(terdeteksi)\n",
    "\n",
    "p_spam_jika_terdeteksi = hitung_probabilitas_posterior(p_spam, sensitivity, p_terdeteksi)\n",
    "\n",
    "print(f\"probabilitas email yang masuk adalah spam jika terdeteksi positif sebesar {p_spam_jika_terdeteksi:.2f}\")"
   ]
  },
  {
   "cell_type": "markdown",
   "metadata": {},
   "source": [
    "- Hasil perhitungan di atas menunjukkan, meskipun sebuah email terdeteksi sebagai spam oleh aplikasi, Namun probabilitas bahwa email tersebut benar-benar spam tidak terlalu besar.\n",
    "\n",
    "- Dengan kata lain, dengan nilai probabilitas tersebut, kita juga tidak terlalu yakin bahwa email yang dideteksi sebagai spam, benar-benar email spam.\n",
    "\n",
    "- **Menurut Kalian, mengapa bisa demikian?**"
   ]
  },
  {
   "cell_type": "markdown",
   "metadata": {},
   "source": [
    "- Dari persamaan terlihat bahwa nilai prior (salah satu input) berbanding lurus terhadap posterior. Maka semakin besar nilai prior membuat nilai posterior juga akan meningkat."
   ]
  },
  {
   "cell_type": "markdown",
   "metadata": {},
   "source": [
    "---\n",
    "### **2.2 Pengaruh prior terhadap posterior**"
   ]
  },
  {
   "cell_type": "markdown",
   "metadata": {},
   "source": [
    "Pada kasus ini, **prior** merupakan **rasio** antara **jumlah email spam** terhadap **seluruh email** yang ada"
   ]
  },
  {
   "cell_type": "markdown",
   "metadata": {},
   "source": [
    "Kita lihat perubahan nilai posterior jika nilai prior dinaikkan menjadi **0.06, 0.09,** dan **0.12**\n",
    "> Note : kita asumsikan jumlah email, sensitivity, dan specificity tetap sama"
   ]
  },
  {
   "cell_type": "markdown",
   "metadata": {},
   "source": [
    "1. Kita buat fungsi untuk menghitung nilai posterior"
   ]
  },
  {
   "cell_type": "markdown",
   "metadata": {},
   "source": [
    "2. Hitung nilai posterior"
   ]
  },
  {
   "cell_type": "code",
   "execution_count": 1,
   "metadata": {},
   "outputs": [
    {
     "ename": "NameError",
     "evalue": "name 'hitung_total_probabilitas' is not defined",
     "output_type": "error",
     "traceback": [
      "\u001b[1;31m---------------------------------------------------------------------------\u001b[0m",
      "\u001b[1;31mNameError\u001b[0m                                 Traceback (most recent call last)",
      "Cell \u001b[1;32mIn[1], line 8\u001b[0m\n\u001b[0;32m      5\u001b[0m specificity \u001b[38;5;241m=\u001b[39m \u001b[38;5;241m0.98\u001b[39m\n\u001b[0;32m      7\u001b[0m \u001b[38;5;66;03m# Menghitung nilai posterior berdasarkan nilai prior1\u001b[39;00m\n\u001b[1;32m----> 8\u001b[0m p_terdeteksi \u001b[38;5;241m=\u001b[39m \u001b[43mhitung_total_probabilitas\u001b[49m(sensitivity, prior1,\n\u001b[0;32m      9\u001b[0m                                            (\u001b[38;5;241m1\u001b[39m\u001b[38;5;241m-\u001b[39mspecificity), (\u001b[38;5;241m1\u001b[39m\u001b[38;5;241m-\u001b[39mprior1))\n\u001b[0;32m     10\u001b[0m posterior1 \u001b[38;5;241m=\u001b[39m hitung_probabilitas_posterior(prior1, sensitivity, p_terdeteksi)\n\u001b[0;32m     11\u001b[0m \u001b[38;5;28mprint\u001b[39m(\u001b[38;5;124mf\u001b[39m\u001b[38;5;124m\"\u001b[39m\u001b[38;5;124mJika nilai prior \u001b[39m\u001b[38;5;132;01m{\u001b[39;00mprior1\u001b[38;5;132;01m}\u001b[39;00m\u001b[38;5;124m maka posteriornya \u001b[39m\u001b[38;5;132;01m{\u001b[39;00mposterior1\u001b[38;5;132;01m:\u001b[39;00m\u001b[38;5;124m.2f\u001b[39m\u001b[38;5;132;01m}\u001b[39;00m\u001b[38;5;124m\"\u001b[39m)\n",
      "\u001b[1;31mNameError\u001b[0m: name 'hitung_total_probabilitas' is not defined"
     ]
    }
   ],
   "source": [
    "prior1 = 0.06\n",
    "prior2 = 0.09\n",
    "prior3 = 0.12\n",
    "sensitivity = 0.95\n",
    "specificity = 0.98\n",
    "\n",
    "# Menghitung nilai posterior berdasarkan nilai prior1\n",
    "p_terdeteksi = hitung_total_probabilitas(sensitivity, prior1,\n",
    "                                           (1-specificity), (1-prior1))\n",
    "posterior1 = hitung_probabilitas_posterior(prior1, sensitivity, p_terdeteksi)\n",
    "print(f\"Jika nilai prior {prior1} maka posteriornya {posterior1:.2f}\")\n",
    "\n",
    "\n",
    "# Menghitung nilai posterior berdasarkan nilai prior1\n",
    "p_terdeteksi = hitung_total_probabilitas(sensitivity, prior2,\n",
    "                                           (1-specificity), (1-prior2))\n",
    "posterior2 = hitung_probabilitas_posterior(prior2, sensitivity, p_terdeteksi)\n",
    "print(f\"Jika nilai prior {prior2} maka posteriornya {posterior2:.2f}\")\n",
    "\n",
    "# Menghitung nilai posterior berdasarkan nilai prior1\n",
    "p_terdeteksi = hitung_total_probabilitas(sensitivity, prior3,\n",
    "                                           (1-specificity), (1-prior3))\n",
    "posterior3 = hitung_probabilitas_posterior(prior3, sensitivity, p_terdeteksi)\n",
    "print(f\"Jika nilai prior {prior3} maka posteriornya {posterior3:.2f}\")"
   ]
  },
  {
   "cell_type": "markdown",
   "metadata": {},
   "source": [
    "Terlihat semakin tinggi nilai prior maka akan semakin tinggi probability posteriornya"
   ]
  },
  {
   "cell_type": "markdown",
   "metadata": {},
   "source": [
    "3. Visualisasi prior-posterior"
   ]
  },
  {
   "cell_type": "markdown",
   "metadata": {},
   "source": [
    "Ingat dalam kasus ini:\n",
    "\n",
    "- P(spam) = prior\n",
    "- P(spam | terdeteksi) = posterior"
   ]
  },
  {
   "cell_type": "code",
   "execution_count": 2,
   "metadata": {},
   "outputs": [
    {
     "ename": "NameError",
     "evalue": "name 'plot_range_probabilitas_posterior' is not defined",
     "output_type": "error",
     "traceback": [
      "\u001b[1;31m---------------------------------------------------------------------------\u001b[0m",
      "\u001b[1;31mNameError\u001b[0m                                 Traceback (most recent call last)",
      "Cell \u001b[1;32mIn[2], line 7\u001b[0m\n\u001b[0;32m      4\u001b[0m batas_atas_prior \u001b[38;5;241m=\u001b[39m \u001b[38;5;241m1.001\u001b[39m\n\u001b[0;32m      5\u001b[0m step_tiap_prior \u001b[38;5;241m=\u001b[39m \u001b[38;5;241m0.001\u001b[39m\n\u001b[1;32m----> 7\u001b[0m \u001b[43mplot_range_probabilitas_posterior\u001b[49m(batas_bawah_prior,\n\u001b[0;32m      8\u001b[0m                            batas_atas_prior,\n\u001b[0;32m      9\u001b[0m                            step_tiap_prior,\n\u001b[0;32m     10\u001b[0m                            sensitivity\u001b[38;5;241m=\u001b[39msensitivity,\n\u001b[0;32m     11\u001b[0m                            specificity\u001b[38;5;241m=\u001b[39mspecificity,\n\u001b[0;32m     12\u001b[0m                            by\u001b[38;5;241m=\u001b[39m\u001b[38;5;124m\"\u001b[39m\u001b[38;5;124mprior\u001b[39m\u001b[38;5;124m\"\u001b[39m)\n",
      "\u001b[1;31mNameError\u001b[0m: name 'plot_range_probabilitas_posterior' is not defined"
     ]
    }
   ],
   "source": [
    "sensitivity = 0.95\n",
    "specificity = 0.98\n",
    "batas_bawah_prior = 0.001\n",
    "batas_atas_prior = 1.001\n",
    "step_tiap_prior = 0.001\n",
    "\n",
    "plot_range_probabilitas_posterior(batas_bawah_prior,\n",
    "                           batas_atas_prior,\n",
    "                           step_tiap_prior,\n",
    "                           sensitivity=sensitivity,\n",
    "                           specificity=specificity,\n",
    "                           by=\"prior\")"
   ]
  },
  {
   "cell_type": "markdown",
   "metadata": {},
   "source": [
    "Dari visualisasi diatas, dapat dikatakan bahwa meskipun nilai sensitivity dan specificity aplikasi sangat akurat, Namun jika proporsi dari email spam yang masuk sedikit dibanding keseluruhan email maka nilai posterior akan cenderung kecil."
   ]
  },
  {
   "cell_type": "markdown",
   "metadata": {},
   "source": [
    "Visualisasi interaktif, pengaruh prior terhadap posterior"
   ]
  },
  {
   "cell_type": "code",
   "execution_count": null,
   "metadata": {},
   "outputs": [],
   "source": [
    "sensitivity = 0.95\n",
    "specificity = 0.98\n",
    "batas_bawah_prior = 0.001\n",
    "batas_atas_prior = 1.001\n",
    "step_tiap_prior = 0.001\n",
    "plot_interaktif_probabilitas_posterior(batas_bawah_prior,\n",
    "                           batas_atas_prior,\n",
    "                           step_tiap_prior,\n",
    "                           sensitivity=sensitivity,\n",
    "                           specificity=specificity,\n",
    "                           by=\"prior\")"
   ]
  },
  {
   "cell_type": "markdown",
   "metadata": {},
   "source": [
    "---\n",
    "### **2.3 Apakah jumlah data berpengaruh?**"
   ]
  },
  {
   "cell_type": "markdown",
   "metadata": {},
   "source": [
    "Jika kita tinjau kasus sekarang, dimana:\n",
    "\n",
    "    n_email = 5000\n",
    "    P(spam) = 0.03\n",
    "    sensitivity = 0.95\n",
    "    specificity = 0.98\n",
    "\n",
    "Dalam kasus ini kita gunakan fungsi **hitung_jumlah_kejadian** untuk menghitung jumlah kejadian berdasarkan nilai probabilitasnya.\n",
    "\n",
    "Terdapat dua input yaitu:\n",
    "- sample space, dan\n",
    "- probabilitas kejadian (event)\n",
    "\n",
    "Conton Penggunaan:\n",
    "\n",
    "hitung_jumlah_kejadian(sample_space, probabilitas_event)\n",
    "\n",
    "Maka didapatkan:\n",
    "    "
   ]
  },
  {
   "cell_type": "code",
   "execution_count": null,
   "metadata": {},
   "outputs": [],
   "source": [
    "jumlah_total_email = 5000\n",
    "P_spam = 0.03\n",
    "sensitivity = 0.95\n",
    "specificity = 0.98\n",
    "\n",
    "# sehingga:\n",
    "jumlah_email_spam = hitung_jumlah_kejadian(jumlah_total_email, P_spam)\n",
    "print(f\"Jumlah email spam adalah {jumlah_email_spam}\")\n",
    "\n",
    "jumlah_email_non_spam = jumlah_total_email - jumlah_email_spam\n",
    "print(f\"Jumlah email non spam adalah {jumlah_email_non_spam}\")"
   ]
  },
  {
   "cell_type": "markdown",
   "metadata": {},
   "source": [
    "Terlihat perbandingannya cukup jauh. Hal ini mengakibatkan:"
   ]
  },
  {
   "cell_type": "code",
   "execution_count": null,
   "metadata": {},
   "outputs": [],
   "source": [
    "jumlah_spam_terdeteksi = hitung_jumlah_kejadian(jumlah_email_spam, sensitivity)\n",
    "print(f\"Jumlah email spam yang terdeteksi adalah: {jumlah_spam_terdeteksi}\")\n",
    "\n",
    "jumlah_spam_tidak_terdeteksi = hitung_jumlah_kejadian(jumlah_email_spam, 1-sensitivity)\n",
    "print(f\"Jumlah email spam yang tidak terdeteksi adalah: {jumlah_spam_tidak_terdeteksi}\")\n",
    "\n",
    "jumlah_nonspam_terdeteksi_spam = hitung_jumlah_kejadian(jumlah_email_non_spam, 1-specificity)\n",
    "print(f\"Jumlah email non spam yang terdeteksi sebagai spam adalah: {jumlah_nonspam_terdeteksi_spam}\")\n",
    "\n",
    "jumlah_nonspam_tidak_terdeteksi_spam = hitung_jumlah_kejadian(jumlah_email_non_spam, specificity)\n",
    "print(f\"Jumlah email non spam yang tidak terdeteksi sebagai spam adalah: {jumlah_nonspam_tidak_terdeteksi_spam}\")"
   ]
  },
  {
   "cell_type": "markdown",
   "metadata": {},
   "source": [
    "![](https://sekolahdata-assets.s3.ap-southeast-1.amazonaws.com/notebook-images/mds-probability/live_05_06_Bayes.png)"
   ]
  },
  {
   "cell_type": "markdown",
   "metadata": {},
   "source": [
    "\n",
    "> Note\n",
    "> - email **spam** yang **terdeteksi spam** disebut **True Positive**\n",
    "> - email **spam** yang **tidak terdeteksi spam** disebut **False Negative**\n",
    "> - email **non-spam** yang **terdeteksi spam** disebut **False Positive**\n",
    "> - email **non-spam** yang **tidak terdeteksi spam** disebut **True Negative**\n",
    "\n",
    "Reff : https://p7x7q5i4.rocketcdn.me/en/wp-content/uploads/sites/2/2020/01/false-positive-smartpedia.jpg"
   ]
  },
  {
   "cell_type": "code",
   "execution_count": null,
   "metadata": {},
   "outputs": [],
   "source": [
    "P_spam = 0.03\n",
    "sensitivity = 0.95\n",
    "specificity = 0.98\n",
    "p_terdeteksi = hitung_total_probabilitas(sensitivity, P_spam,\n",
    "                                           (1-specificity), (1-P_spam))\n",
    "\n",
    "posterior = hitung_probabilitas_posterior(P_spam, sensitivity, p_terdeteksi)\n",
    "print(f\"Pada kasus ini proporsi email spam terhadap seluruh email yang terdeteksi spam (posterior) = {posterior:.2f}\" )"
   ]
  },
  {
   "cell_type": "markdown",
   "metadata": {},
   "source": [
    "##### Bagaimana jika $P(\\text{spam}) = 0.1$?"
   ]
  },
  {
   "cell_type": "code",
   "execution_count": null,
   "metadata": {},
   "outputs": [],
   "source": [
    "jumlah_total_email = 5000\n",
    "P_spam = 0.1\n",
    "sensitivity = 0.95\n",
    "specificity = 0.98\n",
    "\n",
    "# sehingga:\n",
    "jumlah_email_spam = hitung_jumlah_kejadian(jumlah_total_email, P_spam)\n",
    "print(f\"Jumlah email spam adalah {jumlah_email_spam}\")\n",
    "\n",
    "jumlah_email_non_spam = jumlah_total_email - jumlah_email_spam\n",
    "print(f\"Jumlah email spam adalah {jumlah_email_non_spam}\")"
   ]
  },
  {
   "cell_type": "code",
   "execution_count": null,
   "metadata": {},
   "outputs": [],
   "source": [
    "jumlah_spam_terdeteksi = hitung_jumlah_kejadian(jumlah_email_spam, sensitivity)\n",
    "print(f\"Jumlah email spam yang terdeteksi adalah: {jumlah_spam_terdeteksi}\")\n",
    "\n",
    "jumlah_spam_tidak_terdeteksi = hitung_jumlah_kejadian(jumlah_email_spam, 1-sensitivity)\n",
    "print(f\"Jumlah email spam yang tidak terdeteksi adalah: {jumlah_spam_tidak_terdeteksi}\")\n",
    "\n",
    "jumlah_nonspam_terdeteksi_spam = hitung_jumlah_kejadian(jumlah_email_non_spam, 1-specificity)\n",
    "print(f\"Jumlah email non spam yang terdeteksi sebagai spam adalah: {jumlah_nonspam_terdeteksi_spam}\")\n",
    "\n",
    "jumlah_nonspam_tidak_terdeteksi_spam = hitung_jumlah_kejadian(jumlah_email_non_spam, specificity)\n",
    "print(f\"Jumlah email non spam yang tidak terdeteksi sebagai spam adalah: {jumlah_nonspam_tidak_terdeteksi_spam}\")"
   ]
  },
  {
   "cell_type": "markdown",
   "metadata": {},
   "source": [
    "![](https://sekolahdata-assets.s3.ap-southeast-1.amazonaws.com/notebook-images/mds-probability/live_05_07_Bayes.png)"
   ]
  },
  {
   "cell_type": "code",
   "execution_count": null,
   "metadata": {},
   "outputs": [],
   "source": [
    "P_spam = 0.1\n",
    "sensitivity = 0.95\n",
    "specificity = 0.98\n",
    "p_terdeteksi = hitung_total_probabilitas(sensitivity, P_spam,\n",
    "                                           (1-specificity), (1-P_spam))\n",
    "\n",
    "posterior = hitung_probabilitas_posterior(P_spam, sensitivity, p_terdeteksi)\n",
    "print(f\"Pada kasus ini proporsi email spam terhadap seluruh email yang terdeteksi spam (posterior) = {posterior:.2f}\" )"
   ]
  },
  {
   "cell_type": "markdown",
   "metadata": {},
   "source": [
    "Dari kasus ini bisa dilihat bahwa nilai prior atau proporsi email spam terhadap keseluruhan email mempengaruhi nilai posterior"
   ]
  },
  {
   "cell_type": "markdown",
   "metadata": {},
   "source": [
    "##### Bagaimana jika n_data=10000 dan $P(\\text{spam})=0.1$?"
   ]
  },
  {
   "cell_type": "markdown",
   "metadata": {},
   "source": [
    "Pada kasus ini proporsi email spam tetap sama, namun jumlah keseluruhan email berubah"
   ]
  },
  {
   "cell_type": "code",
   "execution_count": null,
   "metadata": {},
   "outputs": [],
   "source": [
    "jumlah_total_email = 10000\n",
    "P_spam = 0.1\n",
    "sensitivity = 0.95\n",
    "specificity = 0.98\n",
    "\n",
    "# sehingga:\n",
    "jumlah_email_spam = hitung_jumlah_kejadian(jumlah_total_email, P_spam)\n",
    "print(f\"Jumlah email spam adalah {jumlah_email_spam}\")\n",
    "\n",
    "jumlah_email_non_spam = jumlah_total_email - jumlah_email_spam\n",
    "print(f\"Jumlah email spam adalah {jumlah_email_non_spam}\")"
   ]
  },
  {
   "cell_type": "code",
   "execution_count": null,
   "metadata": {},
   "outputs": [],
   "source": [
    "jumlah_spam_terdeteksi = hitung_jumlah_kejadian(jumlah_email_spam, sensitivity)\n",
    "print(f\"Jumlah email spam yang terdeteksi adalah: {jumlah_spam_terdeteksi}\")\n",
    "\n",
    "jumlah_spam_tidak_terdeteksi = hitung_jumlah_kejadian(jumlah_email_spam, 1-sensitivity)\n",
    "print(f\"Jumlah email spam yang tidak terdeteksi adalah: {jumlah_spam_tidak_terdeteksi}\")\n",
    "\n",
    "jumlah_nonspam_terdeteksi_spam = hitung_jumlah_kejadian(jumlah_email_non_spam, 1-specificity)\n",
    "print(f\"Jumlah email non spam yang terdeteksi sebagai spam adalah: {jumlah_nonspam_terdeteksi_spam}\")\n",
    "\n",
    "jumlah_nonspam_tidak_terdeteksi_spam = hitung_jumlah_kejadian(jumlah_email_non_spam, specificity)\n",
    "print(f\"Jumlah email non spam yang tidak terdeteksi sebagai spam adalah: {jumlah_nonspam_tidak_terdeteksi_spam}\")"
   ]
  },
  {
   "cell_type": "markdown",
   "metadata": {},
   "source": [
    "![](https://sekolahdata-assets.s3.ap-southeast-1.amazonaws.com/notebook-images/mds-probability/live_05_08_Bayes.png)"
   ]
  },
  {
   "cell_type": "code",
   "execution_count": null,
   "metadata": {},
   "outputs": [],
   "source": [
    "P_spam = 0.1\n",
    "sensitivity = 0.95\n",
    "specificity = 0.98\n",
    "p_terdeteksi = hitung_total_probabilitas(sensitivity, P_spam,\n",
    "                                           (1-specificity), (1-P_spam))\n",
    "\n",
    "posterior = hitung_probabilitas_posterior(P_spam, sensitivity, p_terdeteksi)\n",
    "print(f\"Pada kasus ini proporsi email spam terhadap seluruh email yang terdeteksi spam (posterior) = {posterior:.2f}\" )"
   ]
  },
  {
   "cell_type": "markdown",
   "metadata": {},
   "source": [
    "Dari sini terlihat bahwa jumlah data tidak berpengaruh terhadap probability posterior"
   ]
  },
  {
   "cell_type": "markdown",
   "metadata": {},
   "source": [
    "---\n",
    "### **2.4 Pengaruh Sensitivity terhadap Posterior**"
   ]
  },
  {
   "cell_type": "markdown",
   "metadata": {},
   "source": [
    "Dalam kasus ini, Sensitivity adalah keakuratan aplikasi dalam mendeteksi positif email spam setelah diteketahui bahwa email tersebut benar-benar spam.\n",
    "    \n",
    "    Sensitivity = P(terdeteksi | spam)\n",
    "\n",
    "Jika ditinjau dari persamaan maka sensitivity berbanding lurus terhadap nilai posterior sehingga:"
   ]
  },
  {
   "cell_type": "code",
   "execution_count": null,
   "metadata": {},
   "outputs": [],
   "source": [
    "prior = 0.03\n",
    "specificity = 0.98\n",
    "batas_bawah_sensitivity = 0.001\n",
    "batas_atas_sensitivity = 1.001\n",
    "step_tiap_sensitivity = 0.001\n",
    "\n",
    "plot_range_probabilitas_posterior(batas_bawah_sensitivity,\n",
    "                           batas_atas_sensitivity,\n",
    "                           step_tiap_sensitivity,\n",
    "                           prior=prior,\n",
    "                           specificity=specificity,\n",
    "                           by=\"sensitivity\")"
   ]
  },
  {
   "cell_type": "markdown",
   "metadata": {},
   "source": [
    "Bagaimana sensitivity dapat mempengaruhi nilai posterior?\n",
    "\n",
    "Kita Coba lihat pada kasus dimana sensitivity=0.95 dan sensitivity=0.7. Dalam kasus ini:\n",
    "\n",
    "    prior = 0.03\n",
    "    specificity = 0.98"
   ]
  },
  {
   "cell_type": "markdown",
   "metadata": {},
   "source": [
    "####  2.4.1 Sensitivity = 0.95"
   ]
  },
  {
   "cell_type": "markdown",
   "metadata": {},
   "source": [
    "![](https://sekolahdata-assets.s3.ap-southeast-1.amazonaws.com/notebook-images/mds-probability/live_05_09_Bayes.png)"
   ]
  },
  {
   "cell_type": "markdown",
   "metadata": {},
   "source": [
    "Dari penjelasan pada kasus prior=0.03 sebelumnya, saat nilai sensitivity=0.95, banyak email yang benar-benar spam yang berhasil dideteksi sebagai spam."
   ]
  },
  {
   "cell_type": "code",
   "execution_count": null,
   "metadata": {},
   "outputs": [],
   "source": [
    "jumlah_total_email = 5000\n",
    "P_spam = 0.03\n",
    "sensitivity = 0.95\n",
    "specificity = 0.98\n",
    "\n",
    "# sehingga:\n",
    "jumlah_email_spam = hitung_jumlah_kejadian(jumlah_total_email, P_spam)\n",
    "print(f\"Jumlah email spam adalah {jumlah_email_spam}\")\n",
    "\n",
    "jumlah_email_non_spam = jumlah_total_email - jumlah_email_spam\n",
    "print(f\"Jumlah email spam adalah {jumlah_email_non_spam}\")"
   ]
  },
  {
   "cell_type": "code",
   "execution_count": null,
   "metadata": {},
   "outputs": [],
   "source": [
    "jumlah_spam_terdeteksi = hitung_jumlah_kejadian(jumlah_email_spam, sensitivity)\n",
    "print(f\"Jumlah email spam yang terdeteksi adalah: {jumlah_spam_terdeteksi}\")\n",
    "\n",
    "jumlah_spam_tidak_terdeteksi = hitung_jumlah_kejadian(jumlah_email_spam, 1-sensitivity)\n",
    "print(f\"Jumlah email spam yang tidak terdeteksi adalah: {jumlah_spam_tidak_terdeteksi}\")\n",
    "\n",
    "jumlah_nonspam_terdeteksi_spam = hitung_jumlah_kejadian(jumlah_email_non_spam, 1-specificity)\n",
    "print(f\"Jumlah email non spam yang terdeteksi sebagai spam adalah: {jumlah_nonspam_terdeteksi_spam}\")\n",
    "\n",
    "jumlah_nonspam_tidak_terdeteksi_spam = hitung_jumlah_kejadian(jumlah_email_non_spam, specificity)\n",
    "print(f\"Jumlah email non spam yang tidak terdeteksi sebagai spam adalah: {jumlah_nonspam_tidak_terdeteksi_spam}\")"
   ]
  },
  {
   "cell_type": "code",
   "execution_count": null,
   "metadata": {},
   "outputs": [],
   "source": [
    "P_spam = 0.03\n",
    "sensitivity = 0.95\n",
    "specificity = 0.98\n",
    "\n",
    "p_terdeteksi = hitung_total_probabilitas(sensitivity, P_spam,\n",
    "                                           (1-specificity), (1-P_spam))\n",
    "\n",
    "posterior = hitung_probabilitas_posterior(P_spam, sensitivity, p_terdeteksi)\n",
    "print(f\"Pada kasus ini proporsi email spam terhadap seluruh email yang terdeteksi spam(posterior) = {posterior:.2f}\" )"
   ]
  },
  {
   "cell_type": "markdown",
   "metadata": {},
   "source": [
    "####  2.4.2 Sensitivity = 0.7"
   ]
  },
  {
   "cell_type": "code",
   "execution_count": null,
   "metadata": {},
   "outputs": [],
   "source": [
    "jumlah_total_email = 5000\n",
    "P_spam = 0.03\n",
    "sensitivity = 0.7\n",
    "specificity = 0.98\n",
    "\n",
    "# sehingga:\n",
    "jumlah_email_spam = hitung_jumlah_kejadian(jumlah_total_email, P_spam)\n",
    "print(f\"Jumlah email spam adalah {jumlah_email_spam}\")\n",
    "\n",
    "jumlah_email_non_spam = jumlah_total_email - jumlah_email_spam\n",
    "print(f\"Jumlah email spam adalah {jumlah_email_non_spam}\")"
   ]
  },
  {
   "cell_type": "code",
   "execution_count": null,
   "metadata": {},
   "outputs": [],
   "source": [
    "jumlah_spam_terdeteksi = hitung_jumlah_kejadian(jumlah_email_spam, sensitivity)\n",
    "print(f\"Jumlah email spam yang terdeteksi adalah: {jumlah_spam_terdeteksi}\")\n",
    "\n",
    "jumlah_spam_tidak_terdeteksi = hitung_jumlah_kejadian(jumlah_email_spam, 1-sensitivity)\n",
    "print(f\"Jumlah email spam yang tidak terdeteksi adalah: {jumlah_spam_tidak_terdeteksi}\")\n",
    "\n",
    "jumlah_nonspam_terdeteksi_spam = hitung_jumlah_kejadian(jumlah_email_non_spam, 1-specificity)\n",
    "print(f\"Jumlah email non spam yang terdeteksi sebagai spam adalah: {jumlah_nonspam_terdeteksi_spam}\")\n",
    "\n",
    "jumlah_nonspam_tidak_terdeteksi_spam = hitung_jumlah_kejadian(jumlah_email_non_spam, specificity)\n",
    "print(f\"Jumlah email non spam yang tidak terdeteksi sebagai spam adalah: {jumlah_nonspam_tidak_terdeteksi_spam}\")"
   ]
  },
  {
   "cell_type": "markdown",
   "metadata": {},
   "source": [
    "![](https://sekolahdata-assets.s3.ap-southeast-1.amazonaws.com/notebook-images/mds-probability/live_05_10_Bayes.png)"
   ]
  },
  {
   "cell_type": "markdown",
   "metadata": {},
   "source": [
    "- Terlihat bahwa sensitivity rendah menyebabkan banyak email yang benar-benar spam tidak dideteksi sebagai spam.\n",
    "- Sehingga proporsi email spam di ruang sample terdeteksi berkurang."
   ]
  },
  {
   "cell_type": "code",
   "execution_count": null,
   "metadata": {},
   "outputs": [],
   "source": [
    "P_spam = 0.03\n",
    "sensitivity = 0.7\n",
    "specificity = 0.98\n",
    "\n",
    "p_terdeteksi = hitung_total_probabilitas(sensitivity, P_spam,\n",
    "                                           (1-specificity), (1-P_spam))\n",
    "\n",
    "posterior = hitung_probabilitas_posterior(P_spam, sensitivity, p_terdeteksi)\n",
    "print(f\"Pada kasus ini proporsi email spam terhadap seluruh email yang terdeteksi spam(posterior) = {posterior:.2f}\" )"
   ]
  },
  {
   "cell_type": "markdown",
   "metadata": {},
   "source": [
    "Interactive plot Sensitivity vs Posterior"
   ]
  },
  {
   "cell_type": "code",
   "execution_count": null,
   "metadata": {},
   "outputs": [],
   "source": [
    "prior = 0.03\n",
    "specificity = 0.98\n",
    "batas_bawah_prior = 0.001\n",
    "batas_atas_prior = 1.001\n",
    "step_tiap_prior = 0.001\n",
    "plot_interaktif_probabilitas_posterior(batas_bawah_prior,\n",
    "                           batas_atas_prior,\n",
    "                           step_tiap_prior,\n",
    "                           prior=prior,\n",
    "                           specificity=specificity,\n",
    "                           by=\"sensitivity\")"
   ]
  },
  {
   "cell_type": "markdown",
   "metadata": {},
   "source": [
    "---\n",
    "### **2.5 Pengaruh Evidence terhadap Posterior**"
   ]
  },
  {
   "cell_type": "markdown",
   "metadata": {},
   "source": [
    "Dalam kasus ini, probabilitas dari evidence, $P(\\text{terdeteksi})$, dipengaruhi oleh sensitivity dan specificity, dimana:"
   ]
  },
  {
   "cell_type": "markdown",
   "metadata": {},
   "source": [
    "    P(terdeteksi) = sensitivity*prior + (1-specificity)*(1-prior)"
   ]
  },
  {
   "cell_type": "markdown",
   "metadata": {},
   "source": [
    "Kita telah melihat pengaruh dari sensitivity terhadap posterior, sekarang kita akan melihat pengaruh specificity terhadap posterior"
   ]
  },
  {
   "cell_type": "markdown",
   "metadata": {},
   "source": [
    "#### 2.5.1 Pengaruh specificity terhadap posterior"
   ]
  },
  {
   "cell_type": "markdown",
   "metadata": {},
   "source": [
    "Dalam kasus sekarang, specificity adalah kemampuan aplikasi dalam mendeteksi email yang benar-benar non-spam sebagai email non-spam\n",
    "\n",
    "Dalam hal ini jika specificity sebesar 0.98, maka dapat dikatakan bahwa 98% email non-spam dideteksi sebagai non-spam.\n",
    "\n",
    "Dengan kata lain masih terdapat 2% email non-spam dideteksi sebagai spam"
   ]
  },
  {
   "cell_type": "markdown",
   "metadata": {},
   "source": [
    "Kita lihat pengaruh dari specificity. Disini kita gunakan:\n",
    "    \n",
    "    prior = 0.03\n",
    "    sensitivity=0.95"
   ]
  },
  {
   "cell_type": "code",
   "execution_count": null,
   "metadata": {},
   "outputs": [],
   "source": [
    "prior = 0.03\n",
    "sensitivity = 0.95\n",
    "batas_bawah_specificity = 0.001\n",
    "batas_atas_specificity= 1.001\n",
    "step_tiap_specificity = 0.001\n",
    "\n",
    "plot_range_probabilitas_posterior(batas_bawah_specificity,\n",
    "                           batas_atas_specificity,\n",
    "                           step_tiap_specificity,\n",
    "                           prior=prior,\n",
    "                           sensitivity=sensitivity,\n",
    "                           by=\"specificity\")"
   ]
  },
  {
   "cell_type": "markdown",
   "metadata": {},
   "source": [
    "Terlihat bahwa, Jika nilai specificity tinggi maka nilai posterior juga akan tinggi"
   ]
  },
  {
   "cell_type": "markdown",
   "metadata": {},
   "source": [
    "Mengapa demikian?"
   ]
  },
  {
   "cell_type": "markdown",
   "metadata": {},
   "source": [
    "Specificity akan mempengaruhi jumlah email non-spam yang dideteksi sebagai spam didalam ruang sample terdeteksi.\n",
    "\n",
    "Kita akan lihat pada kasus dimana specificity=0.98 dan specificity=0.7. Dalam kasus ini:\n",
    "\n",
    "    prior = 0.03\n",
    "    sensitivity = 0.95"
   ]
  },
  {
   "cell_type": "markdown",
   "metadata": {},
   "source": [
    "#### 2.5.1.1 Specificity = 0.98"
   ]
  },
  {
   "cell_type": "markdown",
   "metadata": {},
   "source": [
    "![](https://sekolahdata-assets.s3.ap-southeast-1.amazonaws.com/notebook-images/mds-probability/live_05_11_Bayes.png)"
   ]
  },
  {
   "cell_type": "markdown",
   "metadata": {},
   "source": [
    "Dari penjelasan pada kasus prior=0.03 sebelumnya, saat nilai specificity=0.98, Hanya sedikit  email non-spam yang dideteksi sebagai spam."
   ]
  },
  {
   "cell_type": "code",
   "execution_count": null,
   "metadata": {},
   "outputs": [],
   "source": [
    "jumlah_total_email = 5000\n",
    "P_spam = 0.03\n",
    "sensitivity = 0.95\n",
    "specificity = 0.98\n",
    "\n",
    "# sehingga:\n",
    "jumlah_email_spam = hitung_jumlah_kejadian(jumlah_total_email, P_spam)\n",
    "print(f\"Jumlah email spam adalah {jumlah_email_spam}\")\n",
    "\n",
    "jumlah_email_non_spam = jumlah_total_email - jumlah_email_spam\n",
    "print(f\"Jumlah email spam adalah {jumlah_email_non_spam}\")"
   ]
  },
  {
   "cell_type": "code",
   "execution_count": null,
   "metadata": {},
   "outputs": [],
   "source": [
    "jumlah_spam_terdeteksi = hitung_jumlah_kejadian(jumlah_email_spam, sensitivity)\n",
    "print(f\"Jumlah email spam yang terdeteksi adalah: {jumlah_spam_terdeteksi}\")\n",
    "\n",
    "jumlah_spam_tidak_terdeteksi = hitung_jumlah_kejadian(jumlah_email_spam, 1-sensitivity)\n",
    "print(f\"Jumlah email spam yang tidak terdeteksi adalah: {jumlah_spam_tidak_terdeteksi}\")\n",
    "\n",
    "jumlah_nonspam_terdeteksi_spam = hitung_jumlah_kejadian(jumlah_email_non_spam, 1-specificity)\n",
    "print(f\"Jumlah email non spam yang terdeteksi sebagai spam adalah: {jumlah_nonspam_terdeteksi_spam}\")\n",
    "\n",
    "jumlah_nonspam_tidak_terdeteksi_spam = hitung_jumlah_kejadian(jumlah_email_non_spam, specificity)\n",
    "print(f\"Jumlah email non spam yang tidak terdeteksi sebagai spam adalah: {jumlah_nonspam_tidak_terdeteksi_spam}\")"
   ]
  },
  {
   "cell_type": "code",
   "execution_count": null,
   "metadata": {},
   "outputs": [],
   "source": [
    "P_spam = 0.03\n",
    "sensitivity = 0.95\n",
    "specificity = 0.98\n",
    "\n",
    "p_terdeteksi = hitung_total_probabilitas(sensitivity, P_spam,\n",
    "                                           (1-specificity), (1-P_spam))\n",
    "\n",
    "posterior = hitung_probabilitas_posterior(P_spam, sensitivity, p_terdeteksi)\n",
    "print(f\"Pada kasus ini proporsi email spam terhadap seluruh email yang terdeteksi spam(posterior) = {posterior:.2f}\" )"
   ]
  },
  {
   "cell_type": "markdown",
   "metadata": {},
   "source": [
    "#### 2.5.1.1 Specificity = 0.7"
   ]
  },
  {
   "cell_type": "code",
   "execution_count": null,
   "metadata": {},
   "outputs": [],
   "source": [
    "jumlah_total_email = 5000\n",
    "P_spam = 0.03\n",
    "sensitivity = 0.95\n",
    "specificity = 0.7\n",
    "\n",
    "# sehingga:\n",
    "jumlah_email_spam = hitung_jumlah_kejadian(jumlah_total_email, P_spam)\n",
    "print(f\"Jumlah email spam adalah {jumlah_email_spam}\")\n",
    "\n",
    "jumlah_email_non_spam = jumlah_total_email - jumlah_email_spam\n",
    "print(f\"Jumlah email spam adalah {jumlah_email_non_spam}\")"
   ]
  },
  {
   "cell_type": "code",
   "execution_count": null,
   "metadata": {},
   "outputs": [],
   "source": [
    "jumlah_spam_terdeteksi = hitung_jumlah_kejadian(jumlah_email_spam, sensitivity)\n",
    "print(f\"Jumlah email spam yang terdeteksi adalah: {jumlah_spam_terdeteksi}\")\n",
    "\n",
    "jumlah_spam_tidak_terdeteksi = hitung_jumlah_kejadian(jumlah_email_spam, 1-sensitivity)\n",
    "print(f\"Jumlah email spam yang tidak terdeteksi adalah: {jumlah_spam_tidak_terdeteksi}\")\n",
    "\n",
    "jumlah_nonspam_terdeteksi_spam = hitung_jumlah_kejadian(jumlah_email_non_spam, 1-specificity)\n",
    "print(f\"Jumlah email non spam yang terdeteksi sebagai spam adalah: {jumlah_nonspam_terdeteksi_spam}\")\n",
    "\n",
    "jumlah_nonspam_tidak_terdeteksi_spam = hitung_jumlah_kejadian(jumlah_email_non_spam, specificity)\n",
    "print(f\"Jumlah email non spam yang tidak terdeteksi sebagai spam adalah: {jumlah_nonspam_tidak_terdeteksi_spam}\")"
   ]
  },
  {
   "cell_type": "markdown",
   "metadata": {},
   "source": [
    "![](https://sekolahdata-assets.s3.ap-southeast-1.amazonaws.com/notebook-images/mds-probability/live_05_12_Bayes.png)"
   ]
  },
  {
   "cell_type": "markdown",
   "metadata": {},
   "source": [
    "- Terlihat bahwa specificity yang rendah mengakibatkan meningkatnya jumlah email non-spam yang terdeteksi sebagai spam\n",
    "- Hal ini mengakibatkan ruang sample terdeteksi semakin membesar, Namun lebih banyak diisi dengan email non-spam\n",
    "\n",
    "Sehingga:"
   ]
  },
  {
   "cell_type": "code",
   "execution_count": null,
   "metadata": {},
   "outputs": [],
   "source": [
    "P_spam = 0.03\n",
    "sensitivity = 0.95\n",
    "specificity = 0.7\n",
    "\n",
    "p_terdeteksi = hitung_total_probabilitas(sensitivity, P_spam,\n",
    "                                           (1-specificity), (1-P_spam))\n",
    "\n",
    "posterior = hitung_probabilitas_posterior(P_spam, sensitivity, p_terdeteksi)\n",
    "print(f\"Pada kasus ini proporsi email spam terhadap seluruh email yang terdeteksi spam(posterior) = {posterior:.2f}\" )"
   ]
  },
  {
   "cell_type": "code",
   "execution_count": null,
   "metadata": {},
   "outputs": [],
   "source": [
    "prior = 0.03\n",
    "sensitivity = 0.95\n",
    "batas_bawah_prior = 0.001\n",
    "batas_atas_prior = 1.001\n",
    "step_tiap_prior = 0.001\n",
    "plot_interaktif_probabilitas_posterior(batas_bawah_prior,\n",
    "                           batas_atas_prior,\n",
    "                           step_tiap_prior,\n",
    "                           prior=prior,\n",
    "                           sensitivity=sensitivity,\n",
    "                           by=\"specificity\")"
   ]
  },
  {
   "cell_type": "markdown",
   "metadata": {},
   "source": [
    "----"
   ]
  },
  {
   "cell_type": "markdown",
   "metadata": {},
   "source": [
    "---\n",
    "### **Interactive Posterior Probability**"
   ]
  },
  {
   "cell_type": "markdown",
   "metadata": {},
   "source": [
    "Pada visualisasi dibawah ini, anda dapat mencoba kombinasi prior, sensitivity, dan specificity dan melihat pengaruhnya terhadap nilai posterior."
   ]
  },
  {
   "cell_type": "code",
   "execution_count": null,
   "metadata": {},
   "outputs": [],
   "source": [
    "prior = 0.03\n",
    "sensitivity = 0.95\n",
    "batas_bawah_prior = 0.001\n",
    "batas_atas_prior = 1.001\n",
    "step_tiap_prior = 0.001\n",
    "plot_interaktif_probabilitas_posterior(batas_bawah_prior,\n",
    "                           batas_atas_prior,\n",
    "                           step_tiap_prior,\n",
    "                           by=\"all\")"
   ]
  },
  {
   "cell_type": "markdown",
   "metadata": {},
   "source": [
    "---\n",
    "## **Case Transaksi Toko**"
   ]
  },
  {
   "cell_type": "markdown",
   "metadata": {},
   "source": [
    "Data berikut merupakan [data transaksi produk Pipa dan Semen](https://drive.google.com/file/d/1bioUp5WK2pc68OQtHeQXunHsHfIdeJyt/preview) di dua toko berbeda"
   ]
  },
  {
   "cell_type": "code",
   "execution_count": null,
   "metadata": {},
   "outputs": [
    {
     "ename": "NameError",
     "evalue": "name 'summary_data' is not defined",
     "output_type": "error",
     "traceback": [
      "\u001b[1;31m---------------------------------------------------------------------------\u001b[0m",
      "\u001b[1;31mNameError\u001b[0m                                 Traceback (most recent call last)",
      "Cell \u001b[1;32mIn[3], line 1\u001b[0m\n\u001b[1;32m----> 1\u001b[0m \u001b[43msummary_data\u001b[49m(\u001b[38;5;124m'\u001b[39m\u001b[38;5;124mC:/Users/farha/Documents/pacmann/02_probability/dataset/week-5-6-transaksi_toko.csv\u001b[39m\u001b[38;5;124m'\u001b[39m)\n",
      "\u001b[1;31mNameError\u001b[0m: name 'summary_data' is not defined"
     ]
    }
   ],
   "source": [
    "summary_data('C:/Users/farha/Documents/pacmann/02_probability/dataset/week-5-6-transaksi_toko.csv')"
   ]
  },
  {
   "cell_type": "markdown",
   "metadata": {},
   "source": [
    "---\n",
    "#### **1. Berapa peluang transaksi produk pipa?**"
   ]
  },
  {
   "cell_type": "code",
   "execution_count": null,
   "metadata": {},
   "outputs": [],
   "source": [
    "# Mencari ruang sample\n",
    "n_sample = 451 + 483 + 1299 + 1203\n",
    "\n",
    "print(f\"Jumlah ruang sample: {n_sample}\")"
   ]
  },
  {
   "cell_type": "code",
   "execution_count": null,
   "metadata": {},
   "outputs": [],
   "source": [
    "# mencari jumlah kejadian transaksi produk pipa\n",
    "n_A = 451 + 483\n",
    "\n",
    "print(f\"jumlah terjadi-nya transaksi produk Pipa: {n_A}\")"
   ]
  },
  {
   "cell_type": "code",
   "execution_count": null,
   "metadata": {},
   "outputs": [],
   "source": [
    "# Cari Peluang transaksi produk pipa dengan membagi n_A dengan n_sample\n",
    "peluang_A = n_A / n_sample\n",
    "\n",
    "print(f\"peluang orang membeli produk pipa adalah : {peluang_A:.2f}\")"
   ]
  },
  {
   "cell_type": "markdown",
   "metadata": {},
   "source": [
    "> Dapat disimpulkan bahwa peluang dilakukan transaksi pipa sebesar 0.27"
   ]
  },
  {
   "cell_type": "markdown",
   "metadata": {},
   "source": [
    "---\n",
    "#### **2. Berapa peluang transaksi produk pipa jika diketahui transaksi dilakukan di cabang Citayem**"
   ]
  },
  {
   "cell_type": "code",
   "execution_count": null,
   "metadata": {},
   "outputs": [],
   "source": [
    "# mencari kejadian transaksi di cabang Citayem\n",
    "n_B =  483+1203\n",
    "\n",
    "print(\"\")\n",
    "print(f\"jumlah terjadi-nya transaksi di cabang Citayem: {n_B}\")"
   ]
  },
  {
   "cell_type": "code",
   "execution_count": null,
   "metadata": {},
   "outputs": [],
   "source": [
    "# Mencari jumlah transaksi produk pipa di Cabang Citayem\n",
    "n_A_B =  483\n",
    "\n",
    "print(\"\")\n",
    "print(f\"jumlah terjadi-nya transaksi produk Pipa di cabang Citayem: {n_A_B}\")"
   ]
  },
  {
   "cell_type": "code",
   "execution_count": null,
   "metadata": {},
   "outputs": [],
   "source": [
    "# Cari Peluang envent A_dan_B dengan membagi n_A_B dengan n_B\n",
    "peluang_A_diketahui_B = n_A_B / n_B\n",
    "\n",
    "print(f\"peluang orang membeli produk Pipa di toko Citayem adalah : {peluang_A_diketahui_B:.2f}\")"
   ]
  },
  {
   "cell_type": "markdown",
   "metadata": {},
   "source": [
    "> Disini bisa dikatakan jika seseorang pergi ke toko di cabang Citayem, kemungkinan kecil mereka malakukan transaksi produk Pipa.\n",
    "\n",
    "> Hal ini dapat dilihat dari probabilitas transaksi produk pipa jika diketahui transaksi dilakukan di cabang Citayem: 0.29"
   ]
  },
  {
   "cell_type": "markdown",
   "metadata": {},
   "source": [
    "---\n",
    "#### **3. Jika barang yang beli adalah produk pipa, berapa peluang transaksi dilakukan di cabang Citayem?**"
   ]
  },
  {
   "cell_type": "code",
   "execution_count": null,
   "metadata": {},
   "outputs": [],
   "source": [
    "# Cari Peluang transaksi produk pipa dengan membagi n_B dengan n_sample\n",
    "peluang_B = n_B / n_sample\n",
    "\n",
    "print(f\"peluang orang melakukan transaksi di Citayem adalah : {peluang_B:.2f}\")"
   ]
  },
  {
   "cell_type": "code",
   "execution_count": null,
   "metadata": {},
   "outputs": [],
   "source": [
    "P_B_diketahui_A = (peluang_B * peluang_A_diketahui_B) / peluang_A\n",
    "\n",
    "print(f\"peluang transaksi dilakukan di Cabang Citayem jika diketahui produk yang dibeli adalah Pipa: {P_B_diketahui_A:.2f}\")"
   ]
  },
  {
   "cell_type": "markdown",
   "metadata": {},
   "source": [
    "> Dari hasil perhitungan diatas dapat dikatakan jika diketahui produk yang ditransaksikan adalah pipa maka kemungkinan transaksi dilakukan di cabang Citayem sebesar 0.52"
   ]
  }
 ],
 "metadata": {
  "kernelspec": {
   "display_name": "pacmann_env",
   "language": "python",
   "name": "python3"
  },
  "language_info": {
   "codemirror_mode": {
    "name": "ipython",
    "version": 3
   },
   "file_extension": ".py",
   "mimetype": "text/x-python",
   "name": "python",
   "nbconvert_exporter": "python",
   "pygments_lexer": "ipython3",
   "version": "3.9.1"
  }
 },
 "nbformat": 4,
 "nbformat_minor": 2
}
