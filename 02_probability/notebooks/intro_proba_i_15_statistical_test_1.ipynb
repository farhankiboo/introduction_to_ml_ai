{
 "cells": [
  {
   "cell_type": "markdown",
   "metadata": {},
   "source": [
    "# **Materi 15 - Statistical Test I**\n",
    "\n",
    "Introduction to Probability Course - Sekolah Data - Pacmann Academy"
   ]
  },
  {
   "cell_type": "markdown",
   "metadata": {},
   "source": [
    "# Outline\n",
    "---"
   ]
  },
  {
   "cell_type": "markdown",
   "metadata": {},
   "source": [
    "1. Review materi\n",
    "2. Case 1 - How to sample data\n",
    "3. Case 2 - Jogging dengan Sam\n",
    "4. Case 3 - Sam vs Atlet"
   ]
  },
  {
   "cell_type": "markdown",
   "metadata": {},
   "source": [
    "- Kita perlu memanggil library dan fungsi yang diperlukan untuk menjalankan code dalam notebook ini."
   ]
  },
  {
   "cell_type": "code",
   "execution_count": 1,
   "metadata": {},
   "outputs": [],
   "source": [
    "# Process data\n",
    "import pandas as pd\n",
    "import numpy as np\n",
    "\n",
    "# Visualize data\n",
    "import matplotlib.pyplot as plt\n",
    "import seaborn as sns\n",
    "sns.set_theme()"
   ]
  },
  {
   "cell_type": "markdown",
   "metadata": {},
   "source": [
    "# Review materi\n",
    "---\n",
    "\n",
    "Dari materi yang sudah dipelajari di video:"
   ]
  },
  {
   "cell_type": "markdown",
   "metadata": {},
   "source": [
    "## Population and Sample\n",
    "---"
   ]
  },
  {
   "cell_type": "markdown",
   "metadata": {},
   "source": [
    "<center>\n",
    "<img src=\"https://sekolahdata-assets.s3.ap-southeast-1.amazonaws.com/notebook-images/mds-probability/live_15_01.jpg\">\n",
    "</center>"
   ]
  },
  {
   "cell_type": "markdown",
   "metadata": {},
   "source": [
    "**Populasi** adalah semua objek yang diteliti ($N$). Angka yang diperoleh pada populasi disebut dengan **parameter**"
   ]
  },
  {
   "cell_type": "markdown",
   "metadata": {},
   "source": [
    "**Permasalahan**\n",
    "\n",
    "Saat bekerja dengan data, kita sering tidak memiliki akses ke semua kemungkinan pengamatan. Ini bisa karena berbagai alasan, Misalnya:\n",
    "- Sulit atau mahal untuk membuat lebih banyak pengamatan.\n",
    "- Sulit untuk mengumpulkan semua pengamatan bersama-sama.\n",
    "- Pengamatan lebih lanjut diharapkan akan dilakukan di masa depan."
   ]
  },
  {
   "cell_type": "markdown",
   "metadata": {},
   "source": [
    "Sehingga dalam prakteknya, peneliti akan menggunakan data **sampel**.\n",
    "- **Sampel** merupakan bagian kecil dari populasi yang diambil sebagai objek dalam sebuah pengamatan karena dianggap mampu mewakili populasi ($n$).\n",
    "- Angka yang diperoleh ketika bekerja dengan sampel disebut **statistik**."
   ]
  },
  {
   "cell_type": "markdown",
   "metadata": {},
   "source": [
    "## Hypothesis Testing\n",
    "---"
   ]
  },
  {
   "cell_type": "markdown",
   "metadata": {},
   "source": [
    "- Uji hipotesis (hypothesis testing) adalah **metode** pengambilan keputusan.\n",
    "- Hasil dari uji hipotesis adalah \"signifikansi\" secara statistik jika kejadian tersebut hampir tidak mungkin terjadi karena kebetulan.\n",
    "- Contoh: *Ingin membuktikan apakah mengirim email marketing akan meningkatkan penjualan / tidak*"
   ]
  },
  {
   "cell_type": "markdown",
   "metadata": {},
   "source": [
    "### Istilah dalam uji hipotesis\n",
    "---\n",
    "\n",
    "Berikut adalah beberapa istilah yang ditemukan dalam uji hipotesis."
   ]
  },
  {
   "cell_type": "markdown",
   "metadata": {},
   "source": [
    "**Hipotesis**\n",
    "\n",
    "---\n",
    "\n",
    "- Asumsi tentang suatu hal yang belum tentu terbukti kebenarannya.\n",
    "- Selama uji hipotesis, kita biasa untuk membuat 2 hipotesis.\n",
    "  - $H_{0}$: Hipotesis pembanding yang ingin kita tolak, *devil's advocate*\n",
    "  - $H_{1}$: Hipotesis yang ingin dibuktikan kebenarannya\n",
    "\n",
    "- Contoh kita ingin memeriksa fitur **Coba Gratis** akan meningkatkan conversion rate (CVR) dari suatu penjualan.\n",
    "\n",
    "- Maka hipotesis yang dibuat adalah\n",
    "  - $H_{0}$: $\\text{CVR}_{\\text{coba gratis}}$ = $\\text{CVR}_{\\text{lama}}$\n",
    "  - $H_{1}$: $\\text{CVR}_{\\text{coba gratis}}$ > $\\text{CVR}_{\\text{lama}}$"
   ]
  },
  {
   "cell_type": "markdown",
   "metadata": {},
   "source": [
    "**Significance Level** ($\\alpha$)\n",
    "\n",
    "---\n",
    "\n",
    "- Semakin rendah signifincance level, semakin kita percaya terhadap penelitian kita\n",
    "- Jika penelitian memiliki resiko yang tinggi, bisa set significance level serendah mungkin\n",
    "- Tingkat signifikansi yang umum adalah 0.05\n"
   ]
  },
  {
   "cell_type": "markdown",
   "metadata": {},
   "source": [
    "**Statistik Uji**\n",
    "\n",
    "---\n",
    "\n",
    "- Metode pengujian statistik (rata-rata, proporsi, varians, dan lain-lain) dalam hipotesis.\n",
    "- Ada banyak macam uji statistik bergantung kebutuhan seperti z test, t test, chi-square test, dan lain-lain.\n",
    "- Statistik uji dihitung dengan menggunakan informasi dari data sampel"
   ]
  },
  {
   "cell_type": "markdown",
   "metadata": {},
   "source": [
    "**Aturan membuat keputusan**\n",
    "\n",
    "---\n",
    "\n",
    "- Alur melakukan uji hipotesis adalah sebagai berikut:\n",
    "\n",
    "<center>\n",
    "<img src=\"https://sekolahdata-assets.s3.ap-southeast-1.amazonaws.com/notebook-images/mds-probability/live_15_02.png\">"
   ]
  },
  {
   "cell_type": "markdown",
   "metadata": {},
   "source": [
    "Aturan keputusan didasarkan tiga hal, level signifikansi, distribusi statistik uji, dan tipe uji\n",
    "- level signifikansi menentukan titik kritis, atau daerah penolakan\n",
    "- distribusi statistik uji menentukan titik kritis berdasarkan distribusi uji\n",
    "- tipe uji menentukan daerah penolakan di sebelah mana\n",
    "  - jika pada $H_1$ ada tanda '$<$,$\\leq$' maka, daerah penolakan ada di sebelah kiri\n",
    "  - jika pada $H_1$ ada tanda '$>$,$\\geq$' maka, daerah penolakan ada di sebelah kanan\n",
    "  - jika pada $H_1$ ada tanda '$\\not=$' maka, daerah penolakan ada di sebelah kanan dan kiri"
   ]
  },
  {
   "cell_type": "markdown",
   "metadata": {},
   "source": [
    "Aturan keputusan bisa dilakukan dengan 2 cara:\n",
    "  - Membandingkan nilai statistik uji dan nilai kritis\n",
    "   - Uji Pihak Kiri, stats uji $<$ nilai kritis ; tolak $H_0$\n",
    "   - Uji Pihak Kanan, stats uji $>$ nilai kritis ; tolak $H_0$\n",
    "   - Uji Dua Pihak, stats uji $>$ nilai kritis atau stats uji $<$ -nilai kritis (untuk distribusi t & z saja); tolak $H_0$\n",
    "  - Membandingkan p-value dan $\\alpha$\n",
    "   - Untuk semua uji, p-value < $\\alpha$ ; tolak $H_0$"
   ]
  },
  {
   "cell_type": "markdown",
   "metadata": {},
   "source": [
    "Cara menghitung p-value\n",
    "  - pada Uji Pihak Kiri: <br> $\\text{p}_{\\text{value}}=P(T \\leq t_{\\text{hitung}})$\n",
    "\n",
    "  - pada Uji Pihak Kanan: <br> $\\text{p}_{\\text{value}}=P(T \\geq t_{\\text{hitung}})$\n",
    "\n",
    "  - pada Uji 2 Pihak: <br> $\\text{p}_{\\text{value}}=2 \\cdot \\min (P(T \\leq t_{\\text{hitung}}), 1-P(T \\leq t_{\\text{hitung}}))$"
   ]
  },
  {
   "cell_type": "markdown",
   "metadata": {},
   "source": [
    "Dimana:\n",
    "- `T` = variable random distribusi statistik uji\n",
    "- `t_hitung` = nilai statistik uji yang didapatkan"
   ]
  },
  {
   "cell_type": "markdown",
   "metadata": {},
   "source": [
    "# Case Study 1 - How to sample data\n",
    "---\n"
   ]
  },
  {
   "cell_type": "markdown",
   "metadata": {},
   "source": [
    "- Saat melakukan penelitian, kita cenderung tidak dapat untuk mengakses seluruh data yang ingin kita teliti.\n",
    "- Contohnya jika kita ingin mengetahui berapa berat badan remaja di Indonesia?\n",
    "- Kita tidak mungkin untuk mengukur satu-satu seluruh remaja yang ada di Indonesia.\n",
    "- Untuk mengatasi itu, kita dapat melakukan penelitian terhadap sampel dari populasi."
   ]
  },
  {
   "cell_type": "markdown",
   "metadata": {},
   "source": [
    "- Mari coba lihat contoh pengambilan sample dari data berikut `california housing`"
   ]
  },
  {
   "cell_type": "code",
   "execution_count": 2,
   "metadata": {},
   "outputs": [
    {
     "data": {
      "text/html": [
       "<div>\n",
       "<style scoped>\n",
       "    .dataframe tbody tr th:only-of-type {\n",
       "        vertical-align: middle;\n",
       "    }\n",
       "\n",
       "    .dataframe tbody tr th {\n",
       "        vertical-align: top;\n",
       "    }\n",
       "\n",
       "    .dataframe thead th {\n",
       "        text-align: right;\n",
       "    }\n",
       "</style>\n",
       "<table border=\"1\" class=\"dataframe\">\n",
       "  <thead>\n",
       "    <tr style=\"text-align: right;\">\n",
       "      <th></th>\n",
       "      <th>longitude</th>\n",
       "      <th>latitude</th>\n",
       "      <th>housing_median_age</th>\n",
       "      <th>total_rooms</th>\n",
       "      <th>total_bedrooms</th>\n",
       "      <th>population</th>\n",
       "      <th>households</th>\n",
       "      <th>median_income</th>\n",
       "      <th>median_house_value</th>\n",
       "      <th>ocean_proximity</th>\n",
       "    </tr>\n",
       "  </thead>\n",
       "  <tbody>\n",
       "    <tr>\n",
       "      <th>0</th>\n",
       "      <td>-122.23</td>\n",
       "      <td>37.88</td>\n",
       "      <td>41.0</td>\n",
       "      <td>880.0</td>\n",
       "      <td>129.0</td>\n",
       "      <td>322.0</td>\n",
       "      <td>126.0</td>\n",
       "      <td>8.3252</td>\n",
       "      <td>452600.0</td>\n",
       "      <td>NEAR BAY</td>\n",
       "    </tr>\n",
       "    <tr>\n",
       "      <th>1</th>\n",
       "      <td>-122.22</td>\n",
       "      <td>37.86</td>\n",
       "      <td>21.0</td>\n",
       "      <td>7099.0</td>\n",
       "      <td>1106.0</td>\n",
       "      <td>2401.0</td>\n",
       "      <td>1138.0</td>\n",
       "      <td>8.3014</td>\n",
       "      <td>358500.0</td>\n",
       "      <td>NEAR BAY</td>\n",
       "    </tr>\n",
       "    <tr>\n",
       "      <th>2</th>\n",
       "      <td>-122.24</td>\n",
       "      <td>37.85</td>\n",
       "      <td>52.0</td>\n",
       "      <td>1467.0</td>\n",
       "      <td>190.0</td>\n",
       "      <td>496.0</td>\n",
       "      <td>177.0</td>\n",
       "      <td>7.2574</td>\n",
       "      <td>352100.0</td>\n",
       "      <td>NEAR BAY</td>\n",
       "    </tr>\n",
       "    <tr>\n",
       "      <th>3</th>\n",
       "      <td>-122.25</td>\n",
       "      <td>37.85</td>\n",
       "      <td>52.0</td>\n",
       "      <td>1274.0</td>\n",
       "      <td>235.0</td>\n",
       "      <td>558.0</td>\n",
       "      <td>219.0</td>\n",
       "      <td>5.6431</td>\n",
       "      <td>341300.0</td>\n",
       "      <td>NEAR BAY</td>\n",
       "    </tr>\n",
       "    <tr>\n",
       "      <th>4</th>\n",
       "      <td>-122.25</td>\n",
       "      <td>37.85</td>\n",
       "      <td>52.0</td>\n",
       "      <td>1627.0</td>\n",
       "      <td>280.0</td>\n",
       "      <td>565.0</td>\n",
       "      <td>259.0</td>\n",
       "      <td>3.8462</td>\n",
       "      <td>342200.0</td>\n",
       "      <td>NEAR BAY</td>\n",
       "    </tr>\n",
       "  </tbody>\n",
       "</table>\n",
       "</div>"
      ],
      "text/plain": [
       "   longitude  latitude  housing_median_age  total_rooms  total_bedrooms  \\\n",
       "0    -122.23     37.88                41.0        880.0           129.0   \n",
       "1    -122.22     37.86                21.0       7099.0          1106.0   \n",
       "2    -122.24     37.85                52.0       1467.0           190.0   \n",
       "3    -122.25     37.85                52.0       1274.0           235.0   \n",
       "4    -122.25     37.85                52.0       1627.0           280.0   \n",
       "\n",
       "   population  households  median_income  median_house_value ocean_proximity  \n",
       "0       322.0       126.0         8.3252            452600.0        NEAR BAY  \n",
       "1      2401.0      1138.0         8.3014            358500.0        NEAR BAY  \n",
       "2       496.0       177.0         7.2574            352100.0        NEAR BAY  \n",
       "3       558.0       219.0         5.6431            341300.0        NEAR BAY  \n",
       "4       565.0       259.0         3.8462            342200.0        NEAR BAY  "
      ]
     },
     "execution_count": 2,
     "metadata": {},
     "output_type": "execute_result"
    }
   ],
   "source": [
    "# Import data\n",
    "filename = 'C:/Users/farha/Documents/pacmann/02_probability/dataset/week-7-8-california_housing_train.csv'\n",
    "data = pd.read_csv(filename)\n",
    "\n",
    "data.head()"
   ]
  },
  {
   "cell_type": "markdown",
   "metadata": {},
   "source": [
    "## Parameter populasi\n",
    "---"
   ]
  },
  {
   "cell_type": "markdown",
   "metadata": {},
   "source": [
    "- Anggap data ini adalah **populasi**, maka parameter rata-rata dari populasi dapat dicari menggunakan fungsi `mean()`"
   ]
  },
  {
   "cell_type": "code",
   "execution_count": 3,
   "metadata": {},
   "outputs": [
    {
     "name": "stdout",
     "output_type": "stream",
     "text": [
      "Rata-rata populasi: 28.64\n"
     ]
    }
   ],
   "source": [
    "# Cari rata-rata populasi dari usia rumah (housing_median_age)\n",
    "mean_pop = data['housing_median_age'].mean()\n",
    "\n",
    "print(f'Rata-rata populasi: {mean_pop:.2f}')"
   ]
  },
  {
   "cell_type": "markdown",
   "metadata": {},
   "source": [
    "## Statistik sample\n",
    "---"
   ]
  },
  {
   "cell_type": "markdown",
   "metadata": {},
   "source": [
    "- Sekarang kita coba mencari statistik dari sample (yakni rata-rata `housing_median_age`).\n",
    "- Gunakan fungsi `sample()` untuk mencarinya."
   ]
  },
  {
   "cell_type": "code",
   "execution_count": 4,
   "metadata": {},
   "outputs": [
    {
     "name": "stdout",
     "output_type": "stream",
     "text": [
      "Rata-rata 10 sample: 31.10\n",
      "Rata-rata populasi: 28.64\n"
     ]
    }
   ],
   "source": [
    "# Hitung rata-rata housing_median_age dari 10 sampel\n",
    "n_sample = 10\n",
    "\n",
    "mean_sample = (\n",
    "    data['housing_median_age']\n",
    "    .sample(n = n_sample)\n",
    "    .mean()\n",
    ")\n",
    "print(f'Rata-rata {n_sample} sample: {mean_sample:.2f}')\n",
    "print(f'Rata-rata populasi: {mean_pop:.2f}')"
   ]
  },
  {
   "cell_type": "code",
   "execution_count": 5,
   "metadata": {},
   "outputs": [
    {
     "name": "stdout",
     "output_type": "stream",
     "text": [
      "Rata-rata 100 sample: 27.42\n",
      "Rata-rata populasi: 28.64\n"
     ]
    }
   ],
   "source": [
    "# Hitung rata-rata housing_median_age dari 100 sampel\n",
    "n_sample = 100\n",
    "\n",
    "mean_sample = (\n",
    "    data['housing_median_age']\n",
    "    .sample(n = n_sample)\n",
    "    .mean()\n",
    ")\n",
    "print(f'Rata-rata {n_sample} sample: {mean_sample:.2f}')\n",
    "print(f'Rata-rata populasi: {mean_pop:.2f}')"
   ]
  },
  {
   "cell_type": "code",
   "execution_count": 6,
   "metadata": {},
   "outputs": [
    {
     "name": "stdout",
     "output_type": "stream",
     "text": [
      "Rata-rata 1000 sample: 28.85\n",
      "Rata-rata populasi: 28.64\n"
     ]
    }
   ],
   "source": [
    "# Hitung rata-rata housing_median_age dari 1000 sampel\n",
    "n_sample = 1_000\n",
    "\n",
    "mean_sample = (\n",
    "    data['housing_median_age']\n",
    "    .sample(n = n_sample)\n",
    "    .mean()\n",
    ")\n",
    "print(f'Rata-rata {n_sample} sample: {mean_sample:.2f}')\n",
    "print(f'Rata-rata populasi: {mean_pop:.2f}')"
   ]
  },
  {
   "cell_type": "code",
   "execution_count": 7,
   "metadata": {},
   "outputs": [
    {
     "name": "stdout",
     "output_type": "stream",
     "text": [
      "Rata-rata 10000 sample: 28.72\n",
      "Rata-rata populasi: 28.64\n"
     ]
    }
   ],
   "source": [
    "# Hitung rata-rata housing_median_age dari 10.000 sampel\n",
    "n_sample = 10_000\n",
    "\n",
    "mean_sample = (\n",
    "    data['housing_median_age']\n",
    "    .sample(n = n_sample)\n",
    "    .mean()\n",
    ")\n",
    "print(f'Rata-rata {n_sample} sample: {mean_sample:.2f}')\n",
    "print(f'Rata-rata populasi: {mean_pop:.2f}')"
   ]
  },
  {
   "cell_type": "markdown",
   "metadata": {},
   "source": [
    "## Error dalam melakukan sampling\n",
    "---"
   ]
  },
  {
   "cell_type": "markdown",
   "metadata": {},
   "source": [
    "- Dalam setiap pengambilan sampel, kemungkinan besar peneliti akan menimbulkan error.\n",
    "- Error/kesalahan pengambilan sampel adalah penyimpangan dalam nilai sampel versus nilai populasi sebenarnya.\n",
    "- Kesalahan pengambilan sampel terjadi karena sampel tidak mewakili populasi atau bias dalam beberapa hal.\n",
    "- Bahkan sampel yang diacak pun akan memiliki beberapa tingkat kesalahan pengambilan sampel karena sampel hanya merupakan perkiraan populasi dari mana sampel itu diambil.\n",
    "- Dalam kenyataannya, kita sering kali tidak mengetahui nilai dari populasi sehingga kita tidak dapat menghitung error yang akan terjadi secara persis. (pada contoh soal berikut kita dianggap mengetahui parameter populasi)"
   ]
  },
  {
   "cell_type": "markdown",
   "metadata": {},
   "source": [
    "### Simulasi error"
   ]
  },
  {
   "cell_type": "markdown",
   "metadata": {},
   "source": [
    "- Error dapat kita dekati sebagai selisih antara parameter populasi dengan statistik sample.\n",
    "\n",
    "$$\n",
    "\\text{error} = \\mu - \\bar{x}\n",
    "$$\n",
    "\n",
    "- Dengan\n",
    "  - $\\mu$: rata-rata populasi\n",
    "  - $\\bar{x}$: rata-rata sample"
   ]
  },
  {
   "cell_type": "code",
   "execution_count": 8,
   "metadata": {},
   "outputs": [],
   "source": [
    "# JALANKAN FUNGSI INI\n",
    "def simulasi_error(data):\n",
    "    \"\"\"\n",
    "    Simulasi error dari pengambilan sample pada data.\n",
    "    Sample diambil dari ukuran 1 hingga n secara random dengan n adalah banyak data.\n",
    "    \"\"\"\n",
    "    # Cari parameter data\n",
    "    n_data = len(data)\n",
    "    mean_pop = data['housing_median_age'].mean()\n",
    "\n",
    "    # Mulai simulasi\n",
    "    list_error = []\n",
    "    for i, n_sample in enumerate(range(1, n_data+1)):\n",
    "        # Cari statistik sample\n",
    "        mean_sample = (\n",
    "            data['housing_median_age']\n",
    "            .sample(n=n_sample, random_state=i)\n",
    "            .mean()\n",
    "        )\n",
    "\n",
    "        # Cari relative error\n",
    "        error = mean_pop - mean_sample\n",
    "        rel_error = 100 * abs(error) / mean_pop\n",
    "        list_error.append(rel_error)\n",
    "\n",
    "    return pd.DataFrame(\n",
    "        {'n_sample': range(1, n_data+1),\n",
    "         'relative_error': list_error}\n",
    "    )\n"
   ]
  },
  {
   "cell_type": "code",
   "execution_count": 9,
   "metadata": {},
   "outputs": [
    {
     "data": {
      "text/html": [
       "<div>\n",
       "<style scoped>\n",
       "    .dataframe tbody tr th:only-of-type {\n",
       "        vertical-align: middle;\n",
       "    }\n",
       "\n",
       "    .dataframe tbody tr th {\n",
       "        vertical-align: top;\n",
       "    }\n",
       "\n",
       "    .dataframe thead th {\n",
       "        text-align: right;\n",
       "    }\n",
       "</style>\n",
       "<table border=\"1\" class=\"dataframe\">\n",
       "  <thead>\n",
       "    <tr style=\"text-align: right;\">\n",
       "      <th></th>\n",
       "      <th>n_sample</th>\n",
       "      <th>relative_error</th>\n",
       "    </tr>\n",
       "  </thead>\n",
       "  <tbody>\n",
       "    <tr>\n",
       "      <th>0</th>\n",
       "      <td>1</td>\n",
       "      <td>23.182980</td>\n",
       "    </tr>\n",
       "    <tr>\n",
       "      <th>1</th>\n",
       "      <td>2</td>\n",
       "      <td>32.683944</td>\n",
       "    </tr>\n",
       "    <tr>\n",
       "      <th>2</th>\n",
       "      <td>3</td>\n",
       "      <td>27.838557</td>\n",
       "    </tr>\n",
       "    <tr>\n",
       "      <th>3</th>\n",
       "      <td>4</td>\n",
       "      <td>32.785108</td>\n",
       "    </tr>\n",
       "    <tr>\n",
       "      <th>4</th>\n",
       "      <td>5</td>\n",
       "      <td>29.192261</td>\n",
       "    </tr>\n",
       "    <tr>\n",
       "      <th>...</th>\n",
       "      <td>...</td>\n",
       "      <td>...</td>\n",
       "    </tr>\n",
       "    <tr>\n",
       "      <th>20635</th>\n",
       "      <td>20636</td>\n",
       "      <td>0.003309</td>\n",
       "    </tr>\n",
       "    <tr>\n",
       "      <th>20636</th>\n",
       "      <td>20637</td>\n",
       "      <td>0.003878</td>\n",
       "    </tr>\n",
       "    <tr>\n",
       "      <th>20637</th>\n",
       "      <td>20638</td>\n",
       "      <td>0.001475</td>\n",
       "    </tr>\n",
       "    <tr>\n",
       "      <th>20638</th>\n",
       "      <td>20639</td>\n",
       "      <td>0.002260</td>\n",
       "    </tr>\n",
       "    <tr>\n",
       "      <th>20639</th>\n",
       "      <td>20640</td>\n",
       "      <td>0.000000</td>\n",
       "    </tr>\n",
       "  </tbody>\n",
       "</table>\n",
       "<p>20640 rows × 2 columns</p>\n",
       "</div>"
      ],
      "text/plain": [
       "       n_sample  relative_error\n",
       "0             1       23.182980\n",
       "1             2       32.683944\n",
       "2             3       27.838557\n",
       "3             4       32.785108\n",
       "4             5       29.192261\n",
       "...         ...             ...\n",
       "20635     20636        0.003309\n",
       "20636     20637        0.003878\n",
       "20637     20638        0.001475\n",
       "20638     20639        0.002260\n",
       "20639     20640        0.000000\n",
       "\n",
       "[20640 rows x 2 columns]"
      ]
     },
     "execution_count": 9,
     "metadata": {},
     "output_type": "execute_result"
    }
   ],
   "source": [
    "# Lakukan simulasi\n",
    "df_error = simulasi_error(data=data)\n",
    "df_error"
   ]
  },
  {
   "cell_type": "code",
   "execution_count": 10,
   "metadata": {},
   "outputs": [
    {
     "data": {
      "image/png": "[encoded data removed]",
      "text/plain": [
       "<Figure size 640x480 with 1 Axes>"
      ]
     },
     "metadata": {},
     "output_type": "display_data"
    }
   ],
   "source": [
    "# Visualkan\n",
    "plt.plot(df_error['n_sample'], df_error['relative_error'])\n",
    "\n",
    "plt.xlabel('Jumlah sample')\n",
    "plt.ylabel('Relative error, %')\n",
    "plt.show()"
   ]
  },
  {
   "cell_type": "markdown",
   "metadata": {},
   "source": [
    "### Kesimpulan\n",
    "---"
   ]
  },
  {
   "cell_type": "markdown",
   "metadata": {},
   "source": [
    "- Saat kita mengambil sampel dengan jumlah yang sedikit, error yang dihasilkan akan cukup tinggi.\n",
    "- Relative error akan berkurang bahkan mendekati 0 ketika sample size = jumlah populasi\n",
    "-Jika sampel Anda **terlalu kecil**, Anda dapat memasukkan jumlah individu yang tidak proporsional yang merupakan outlier dan anomali. Ini mencondongkan hasil dan Anda tidak mendapatkan gambaran yang adil dari seluruh populasi.\n",
    "-Jika sampelnya terlalu besar, keseluruhan penelitian menjadi rumit, mahal, dan memakan waktu untuk dijalankan, dan meskipun hasilnya lebih akurat, manfaatnya tidak lebih besar daripada biayanya."
   ]
  },
  {
   "cell_type": "markdown",
   "metadata": {},
   "source": [
    "# Case Study 2 - Jogging with Sam\n",
    "---"
   ]
  },
  {
   "cell_type": "markdown",
   "metadata": {},
   "source": [
    "- Hari ini kamu janji ingin nge-gym bareng temen kamu bernama Sam.\n",
    "- Di perjalanan menuju gym, Sam mengatakan bahwa kecepatan dia dalam berlari adalah 8 km/jam.\n",
    "- Untuk mengetahui apakah Sam berbohong atau tidak, kamu memantau kecepatan berlari Sam selama 10 hari berturut-turut.\n"
   ]
  },
  {
   "cell_type": "markdown",
   "metadata": {},
   "source": [
    "### Hipotesis\n",
    "---"
   ]
  },
  {
   "cell_type": "markdown",
   "metadata": {},
   "source": [
    "- Sam mengatakan bahwa kecepatan larinya adalah 8 km/jam\n",
    "- Dalam 10 kali gym bareng Sam, kamu mendapatkan data rata-rata larinya sebagai berikut <br>`x = [7.0, 7.5, 6.0, 7.7, 5.9, 8.0, 7.0, 7.8, 5.8, 6.6]`\n",
    "- Hipotesis kamu, Sam berlari lebih lambat dari yang dia bilang."
   ]
  },
  {
   "cell_type": "code",
   "execution_count": 11,
   "metadata": {},
   "outputs": [],
   "source": [
    "# Jalankan untuk mendapatkan data x\n",
    "x = [7.0, 7.5, 6.0, 7.7, 5.9, 8.0, 7.0, 7.8, 5.8, 6.6]"
   ]
  },
  {
   "cell_type": "markdown",
   "metadata": {},
   "source": [
    "Maka hipotesis yang ingin kita uji adalah\n",
    "- $H_{0}$: $\\bar{x} = 8 \\text{ km/jam}$\n",
    "- $H_{1}$: $\\bar{x} < 8 \\text{ km/jam}$"
   ]
  },
  {
   "cell_type": "markdown",
   "metadata": {},
   "source": [
    "### Statistik uji yang akan digunakan\n",
    "---"
   ]
  },
  {
   "cell_type": "markdown",
   "metadata": {},
   "source": [
    "- Yang kita ingin uji adalah **rata-rata**, maka z-test atau t-test\n",
    "- Sample yang kita punya kecil, maka pilih t-test.\n",
    "\n",
    "$$\n",
    "T = \\frac{\\bar{x}-\\mu_0}{\\sqrt{s^2/n}} \\sim t_{n-1}.\n",
    "$$"
   ]
  },
  {
   "cell_type": "markdown",
   "metadata": {},
   "source": [
    "- Mari kita lakukan pengujian"
   ]
  },
  {
   "cell_type": "code",
   "execution_count": 12,
   "metadata": {},
   "outputs": [
    {
     "name": "stdout",
     "output_type": "stream",
     "text": [
      "Rata-rata sample   : 6.93\n",
      "Rata-rata populasi : 8.00\n",
      "Varians sample     : 0.68\n",
      "Banyak sample      : 10\n"
     ]
    }
   ],
   "source": [
    "# Definisikan variable\n",
    "x_bar = np.mean(x)              # rata-rata sample\n",
    "mu_0 = 8.0                      # rata-rata populasi (dari Sam)\n",
    "s_square = np.var(x, ddof=1)    # varians sample\n",
    "n = len(x)                      # banyak data sample\n",
    "\n",
    "print(f'Rata-rata sample   : {x_bar:.2f}')\n",
    "print(f'Rata-rata populasi : {mu_0:.2f}')\n",
    "print(f'Varians sample     : {s_square:.2f}')\n",
    "print(f'Banyak sample      : {n}')"
   ]
  },
  {
   "cell_type": "code",
   "execution_count": 13,
   "metadata": {},
   "outputs": [
    {
     "name": "stdout",
     "output_type": "stream",
     "text": [
      "T_score : -4.0962\n"
     ]
    }
   ],
   "source": [
    "# Hitung t-test\n",
    "t_score = (x_bar-mu_0) / np.sqrt(s_square/n)\n",
    "print(f'T_score : {t_score:.4f}')"
   ]
  },
  {
   "cell_type": "markdown",
   "metadata": {},
   "source": [
    "- Nilai negatif karena $\\bar{x}$ lebih kecil dibanding $\\mu_{0}$\n",
    "- Dalam visualisasi"
   ]
  },
  {
   "cell_type": "code",
   "execution_count": 14,
   "metadata": {},
   "outputs": [],
   "source": [
    "from scipy.stats import t"
   ]
  },
  {
   "cell_type": "code",
   "execution_count": 15,
   "metadata": {},
   "outputs": [
    {
     "data": {
      "image/png": "[encoded data removed]",
      "text/plain": [
       "<Figure size 640x480 with 1 Axes>"
      ]
     },
     "metadata": {},
     "output_type": "display_data"
    }
   ],
   "source": [
    "# Visualisasi distribusi t-score\n",
    "x_ = np.arange(-5, 5, 0.01)\n",
    "pdf_ = t.pdf(x_, df=len(x_))\n",
    "\n",
    "plt.fill_between(x_, pdf_, facecolor='blue', alpha=0.35)\n",
    "\n",
    "plt.axvline(0.0, linestyle='--', color='black', label=f'Mean pop: {mu_0:.2f} km/jam')\n",
    "plt.axvline(t_score, linestyle='--', color='green', label=f'Mean sample: {x_bar:.2f} km/jam')\n",
    "\n",
    "plt.xlabel('T score')\n",
    "plt.ylabel('PDF')\n",
    "plt.legend()\n",
    "plt.show()"
   ]
  },
  {
   "cell_type": "markdown",
   "metadata": {},
   "source": [
    "### Membuat keputusan\n",
    "---"
   ]
  },
  {
   "cell_type": "markdown",
   "metadata": {},
   "source": [
    "- Definisikan significance level, misal $\\alpha = 0.05$ atau confidence level 95%"
   ]
  },
  {
   "cell_type": "code",
   "execution_count": 16,
   "metadata": {},
   "outputs": [],
   "source": [
    "alpha = 0.05"
   ]
  },
  {
   "cell_type": "markdown",
   "metadata": {},
   "source": [
    "#### Cara 1: Gunakan `t_critical`\n",
    "---"
   ]
  },
  {
   "cell_type": "markdown",
   "metadata": {},
   "source": [
    "- Informasi $\\alpha$ harus dikonversi dalam sudut pandang T-score agar bisa menjadi threshold penentu signifikansi uji.\n",
    "- **Ingat**, $\\alpha$ serupa dengan confidence level (CDF) dari distribusi T-score.\n",
    "- Maka, $\\alpha = 0.05$ atau confidence level 95% adalah `t_score` yang menyebabkan CDF = 0.95."
   ]
  },
  {
   "cell_type": "code",
   "execution_count": 17,
   "metadata": {},
   "outputs": [
    {
     "name": "stdout",
     "output_type": "stream",
     "text": [
      "Saat alpha=0.05, t_critical=-1.8331\n"
     ]
    }
   ],
   "source": [
    "# Hitung ppf\n",
    "t_critical = t.ppf(alpha, df=n-1)\n",
    "\n",
    "print(f'Saat alpha={alpha}, t_critical={t_critical:.4f}')"
   ]
  },
  {
   "cell_type": "markdown",
   "metadata": {},
   "source": [
    "- `t_critical` negative karena $\\bar{x} < \\mu_{0}$\n",
    "- Coba visualkan $\\alpha$ atau `t_critical`"
   ]
  },
  {
   "cell_type": "code",
   "execution_count": 18,
   "metadata": {},
   "outputs": [
    {
     "data": {
      "image/png": "[encoded data removed]",
      "text/plain": [
       "<Figure size 640x480 with 1 Axes>"
      ]
     },
     "metadata": {},
     "output_type": "display_data"
    }
   ],
   "source": [
    "plt.fill_between(x_, pdf_, facecolor='blue', alpha=0.35)\n",
    "\n",
    "plt.fill_between(np.arange(-5.0, t_critical, 0.01),\n",
    "                 t.pdf(np.arange(-5.0, t_critical, 0.01), df=len(x_)),\n",
    "                 facecolor='red',\n",
    "                 alpha=0.35,\n",
    "                 label='Area penolakan H0')\n",
    "\n",
    "plt.axvline(0.0, linestyle='--', color='black', label=f'Mean pop: {mu_0:.2f} km/jam')\n",
    "plt.axvline(t_score, linestyle='--', color='green', label=f'Mean sample: {x_bar:.2f} km/jam')\n",
    "plt.axvline(t_critical, linestyle='--', color='red', label=f'T_critical saat alpha: {alpha}')\n",
    "\n",
    "plt.xlabel('T score')\n",
    "plt.ylabel('PDF')\n",
    "plt.legend()\n",
    "plt.show()"
   ]
  },
  {
   "cell_type": "markdown",
   "metadata": {},
   "source": [
    "- Sekarang kita bisa buat keputusan.\n",
    "\n",
    "$$\n",
    "\\text{decision} =\n",
    "\\begin{cases}\n",
    " & \\text{H0 ditolak,} \\text{ jika } t_{\\text{test}} < t_{\\text{crit}} \\\\\n",
    " & \\text{H0 gagal ditolak,} \\text{ jika } t_{\\text{test}} \\geq t_{\\text{crit}}\n",
    "\\end{cases}\n",
    "$$"
   ]
  },
  {
   "cell_type": "code",
   "execution_count": 19,
   "metadata": {},
   "outputs": [
    {
     "name": "stdout",
     "output_type": "stream",
     "text": [
      "Pengambilan Keputusan:\n",
      "Tolak H0\n"
     ]
    }
   ],
   "source": [
    "print('Pengambilan Keputusan:')\n",
    "if t_score < t_critical:\n",
    "    print('Tolak H0')\n",
    "else:\n",
    "    print('Gagal tolak H0')"
   ]
  },
  {
   "cell_type": "markdown",
   "metadata": {},
   "source": [
    "#### Cara 2: Gunakan $\\alpha$\n",
    "---"
   ]
  },
  {
   "cell_type": "markdown",
   "metadata": {},
   "source": [
    "- $\\alpha$ analog dengan CDF dari distribusi t.\n",
    "- Maka kita bisa konversi `t_score` ke dalam CDF\n",
    "- Ini bisa didapat menggunakan fungsi `t.cdf()`\n",
    "- Hasil konversi ini disebut dengan **p_value**"
   ]
  },
  {
   "cell_type": "code",
   "execution_count": 20,
   "metadata": {},
   "outputs": [
    {
     "name": "stdout",
     "output_type": "stream",
     "text": [
      "p_value : 0.0013\n"
     ]
    }
   ],
   "source": [
    "# Hitung p_value dari t_score\n",
    "p_value = t.cdf(t_score, df=n-1)\n",
    "\n",
    "print(f'p_value : {p_value:.4f}')"
   ]
  },
  {
   "cell_type": "markdown",
   "metadata": {},
   "source": [
    "- Sekarang kita bisa buat keputusan.\n",
    "\n",
    "$$\n",
    "\\text{decision} =\n",
    "\\begin{cases}\n",
    " & \\text{H0 ditolak,} \\text{ jika } \\text{p_value} < \\alpha \\\\\n",
    " & \\text{H0 gagal ditolak,} \\text{ jika } \\text{p_value} \\geq \\alpha\n",
    "\\end{cases}\n",
    "$$"
   ]
  },
  {
   "cell_type": "code",
   "execution_count": 21,
   "metadata": {},
   "outputs": [
    {
     "name": "stdout",
     "output_type": "stream",
     "text": [
      "Pengambilan Keputusan:\n",
      "Tolak H0\n"
     ]
    }
   ],
   "source": [
    "print('Pengambilan Keputusan:')\n",
    "if p_value < alpha:\n",
    "    print('Tolak H0')\n",
    "else:\n",
    "    print('Gagal tolak H0')"
   ]
  },
  {
   "cell_type": "markdown",
   "metadata": {},
   "source": [
    "### Gunakan Library untuk uji hipotesis\n",
    "---"
   ]
  },
  {
   "cell_type": "markdown",
   "metadata": {},
   "source": [
    "Cara menggunakan perhitungan uji statistik t untuk uji rata rata 1 sampel menggunakan scipy.stats"
   ]
  },
  {
   "cell_type": "markdown",
   "metadata": {},
   "source": [
    "- Import library yang dibutuhkan `from scipy.stats import ttest_1samp`\n",
    "- Gunakan fungsi `ttest_1samp(a = ... , popmean = ... , alternative = ... )`"
   ]
  },
  {
   "cell_type": "markdown",
   "metadata": {},
   "source": [
    "Dengan memasukkan parameter:\n",
    "- `a` : data sampel yang diuji\n",
    "- `popmean` : rata rata populasi yang diklaim di $H_0$\n",
    "- `alternative` : uji pihak yang dilakukan, cek $H_1$\n",
    "  - jika pada $H_1$ ada tanda '$<$,$\\leq$' maka gunakan 'less' untuk uji pihak kiri\n",
    "  - jika pada $H_1$ ada tanda '$>$,$\\geq$' maka gunakan 'greater' : uji pihak kanan\n",
    "  - jika pada $H_1$ ada tanda '$\\not=$' maka gunakan 'two-side' : uji dua pihak"
   ]
  },
  {
   "cell_type": "markdown",
   "metadata": {},
   "source": [
    "- Fungsi tersebut akan mengeluarkan 2 output yaitu nilai statistik uji, dan p-value"
   ]
  },
  {
   "cell_type": "code",
   "execution_count": 22,
   "metadata": {},
   "outputs": [],
   "source": [
    "# Import library\n",
    "from scipy.stats import ttest_1samp"
   ]
  },
  {
   "cell_type": "code",
   "execution_count": 23,
   "metadata": {},
   "outputs": [
    {
     "name": "stdout",
     "output_type": "stream",
     "text": [
      "T score : -4.0962\n",
      "P value : 0.0013\n"
     ]
    }
   ],
   "source": [
    "# Hitung uji statistik\n",
    "t_score, p_value = ttest_1samp(\n",
    "    a = x,                  # Data dari sample\n",
    "    popmean = 8.0,          # Rata-rata populasi\n",
    "    alternative = 'less'    # Uji kiri, karena H1: sample < pop\n",
    ")\n",
    "\n",
    "print(f'T score : {t_score:.4f}')\n",
    "print(f'P value : {p_value:.4f}')"
   ]
  },
  {
   "cell_type": "markdown",
   "metadata": {},
   "source": [
    "Pengambilan keputusan"
   ]
  },
  {
   "cell_type": "code",
   "execution_count": 24,
   "metadata": {},
   "outputs": [
    {
     "name": "stdout",
     "output_type": "stream",
     "text": [
      "Pengambilan Keputusan:\n",
      "Tolak H0\n"
     ]
    }
   ],
   "source": [
    "print('Pengambilan Keputusan:')\n",
    "if t_score < t_critical:\n",
    "    print('Tolak H0')\n",
    "else:\n",
    "    print('Gagal tolak H0')"
   ]
  },
  {
   "cell_type": "code",
   "execution_count": 25,
   "metadata": {},
   "outputs": [
    {
     "name": "stdout",
     "output_type": "stream",
     "text": [
      "Pengambilan Keputusan:\n",
      "Tolak H0\n"
     ]
    }
   ],
   "source": [
    "print('Pengambilan Keputusan:')\n",
    "if p_value < alpha:\n",
    "    print('Tolak H0')\n",
    "else:\n",
    "    print('Gagal tolak H0')"
   ]
  },
  {
   "cell_type": "markdown",
   "metadata": {},
   "source": [
    "# Case Study 3 - Sam vs Atlet\n",
    "---"
   ]
  },
  {
   "cell_type": "markdown",
   "metadata": {},
   "source": [
    "- Sam mengatakan bahwa rata-rata lari dia **lebih cepat** dari pada rata-rata lari atlet.\n",
    "- Apakah pernyataan Sam tersebut benar?"
   ]
  },
  {
   "cell_type": "markdown",
   "metadata": {},
   "source": [
    "### Hipotesis\n",
    "---"
   ]
  },
  {
   "cell_type": "markdown",
   "metadata": {},
   "source": [
    "- Kamu memantau 10x percobaa lari dari Sam dan atlet. Berikut data yang didapat"
   ]
  },
  {
   "cell_type": "code",
   "execution_count": 26,
   "metadata": {},
   "outputs": [],
   "source": [
    "# Data observasi\n",
    "sam = [7.0, 7.5, 6.0, 7.7, 5.9, 8.0, 7.0, 7.8, 5.8, 6.6]\n",
    "atlet = [9.0, 7.5, 10.0, 8.0, 8.9, 8.0, 11.0, 8.8, 9.8, 7.6]"
   ]
  },
  {
   "cell_type": "markdown",
   "metadata": {},
   "source": [
    "- Karena kita kasihan dengan Sam, kita akan menguji apakah rata-rata kecepatan lari Sam dan atlet berebda.\n",
    "- Maka hipotesi yang diuji adalah\n",
    "  - $H_{0}$ : $\\mu_{\\text{sam}} = \\mu_{\\text{atlet}}$\n",
    "  - $H_{1}$ : $\\mu_{\\text{sam}} \\neq \\mu_{\\text{atlet}}$"
   ]
  },
  {
   "cell_type": "markdown",
   "metadata": {},
   "source": [
    "### Statistik uji yang digunakan\n",
    "---"
   ]
  },
  {
   "cell_type": "markdown",
   "metadata": {},
   "source": [
    "- Apa yang kita bandingkan? **Rata-rata**, maka bisa gunakan *z-test* atau *t-test*\n",
    "- Apa kita tau informasi populasi? **Tidak**, maka gunakan *t-test*\n",
    "- Apakah varians antar sample sama? **Tidak**, maka gunakan *t-test* dengan beda varians."
   ]
  },
  {
   "cell_type": "markdown",
   "metadata": {},
   "source": [
    "- Maka formula t-test yang digunakan adalah sebagai berikut\n",
    "\n",
    "$$\n",
    "t =\n",
    "\\cfrac\n",
    "{\\bar{x}_{1} - \\bar{x}_{2}}\n",
    "{\n",
    "    \\sqrt{\n",
    "        \\cfrac{s_{1}^{2}}{n_{1}}\n",
    "        +\n",
    "        \\cfrac{s_{2}^{2}}{n_{2}}\n",
    "    }\n",
    "}\n",
    "$$"
   ]
  },
  {
   "cell_type": "markdown",
   "metadata": {},
   "source": [
    "- Mari kita lakukan pengujian"
   ]
  },
  {
   "cell_type": "code",
   "execution_count": 27,
   "metadata": {},
   "outputs": [
    {
     "name": "stdout",
     "output_type": "stream",
     "text": [
      "Rata-rata\n",
      " - Sam   : 6.93\n",
      " - Atlet : 8.86\n",
      "Varians\n",
      " - Sam   : 0.68\n",
      " - Atlet : 1.30\n",
      "Banyak sample\n",
      " - Sam   : 10\n",
      " - Atlet : 10\n"
     ]
    }
   ],
   "source": [
    "# Cari statistik sam\n",
    "x1_bar = np.mean(sam)\n",
    "s1_square = np.var(sam, ddof=1)\n",
    "n1 = len(sam)\n",
    "\n",
    "# Cari statistik atlet\n",
    "x2_bar = np.mean(atlet)\n",
    "s2_square = np.var(atlet, ddof=1)\n",
    "n2 = len(atlet)\n",
    "\n",
    "print('Rata-rata')\n",
    "print(f' - Sam   : {x1_bar:.2f}')\n",
    "print(f' - Atlet : {x2_bar:.2f}')\n",
    "print('Varians')\n",
    "print(f' - Sam   : {s1_square:.2f}')\n",
    "print(f' - Atlet : {s2_square:.2f}')\n",
    "print('Banyak sample')\n",
    "print(f' - Sam   : {n1:.0f}')\n",
    "print(f' - Atlet : {n2:.0f}')"
   ]
  },
  {
   "cell_type": "markdown",
   "metadata": {},
   "source": [
    "- Maka formula t-test yang digunakan adalah sebagai berikut\n",
    "\n",
    "$$\n",
    "t =\n",
    "\\cfrac\n",
    "{\\bar{x}_{1} - \\bar{x}_{2}}\n",
    "{\n",
    "    \\sqrt{\n",
    "        \\cfrac{s_{1}^{2}}{n_{1}}\n",
    "        +\n",
    "        \\cfrac{s_{2}^{2}}{n_{2}}\n",
    "    }\n",
    "}\n",
    "$$"
   ]
  },
  {
   "cell_type": "code",
   "execution_count": 28,
   "metadata": {},
   "outputs": [
    {
     "name": "stdout",
     "output_type": "stream",
     "text": [
      "T_score : -4.3343\n"
     ]
    }
   ],
   "source": [
    "# Hitung t-test\n",
    "t_score = (x1_bar-x2_bar) / np.sqrt((s1_square/n1) + (s2_square/n2))\n",
    "print(f'T_score : {t_score:.4f}')"
   ]
  },
  {
   "cell_type": "markdown",
   "metadata": {},
   "source": [
    "- Nilai negatif karena $\\bar{x}_{1}$ lebih kecil dibanding $\\bar{x}_{2}$ (referensi)\n",
    "- Dalam visualisasi"
   ]
  },
  {
   "cell_type": "code",
   "execution_count": 29,
   "metadata": {},
   "outputs": [
    {
     "data": {
      "image/png": "[encoded data removed]",
      "text/plain": [
       "<Figure size 640x480 with 1 Axes>"
      ]
     },
     "metadata": {},
     "output_type": "display_data"
    }
   ],
   "source": [
    "# Visualisasi distribusi t-score\n",
    "x_ = np.arange(-5, 5, 0.01)\n",
    "pdf_ = t.pdf(x_, df=len(x_))\n",
    "\n",
    "plt.fill_between(x_, pdf_, facecolor='blue', alpha=0.35)\n",
    "\n",
    "plt.axvline(0.0, linestyle='--', color='black', label=f'Mean atlet: {x2_bar:.2f} km/jam')\n",
    "plt.axvline(t_score, linestyle='--', color='green', label=f'Mean Sam: {x1_bar:.2f} km/jam')\n",
    "\n",
    "plt.xlabel('T score')\n",
    "plt.ylabel('PDF')\n",
    "plt.legend()\n",
    "plt.show()"
   ]
  },
  {
   "cell_type": "markdown",
   "metadata": {},
   "source": [
    "### Membuat keputusan\n",
    "---"
   ]
  },
  {
   "cell_type": "markdown",
   "metadata": {},
   "source": [
    "- Definisikan significance level, misal $\\alpha = 0.05$ atau confidence level 95%"
   ]
  },
  {
   "cell_type": "code",
   "execution_count": 30,
   "metadata": {},
   "outputs": [],
   "source": [
    "alpha = 0.05"
   ]
  },
  {
   "cell_type": "markdown",
   "metadata": {},
   "source": [
    "#### Cara 1: Gunakan `t_critical`\n",
    "---"
   ]
  },
  {
   "cell_type": "markdown",
   "metadata": {},
   "source": [
    "- Informasi $\\alpha$ harus dikonversi dalam sudut pandang T-score agar bisa menjadi threshold penentu signifikansi uji.\n",
    "- **Ingat**, $\\alpha$ serupa dengan confidence level (CDF) dari distribusi T-score.\n",
    "- Maka, $\\alpha = 0.05$ atau confidence level 95% adalah `t_score` yang menyebabkan CDF = 0.95."
   ]
  },
  {
   "cell_type": "code",
   "execution_count": 31,
   "metadata": {},
   "outputs": [
    {
     "name": "stdout",
     "output_type": "stream",
     "text": [
      "Saat alpha = 0.05\n",
      " - t_critical_lower = -2.2622\n",
      " - t_critical_upper = 2.2622\n"
     ]
    }
   ],
   "source": [
    "# Hitung ppf\n",
    "# Akan ada 2 t_critical karena H1 bernilai !=,\n",
    "# maka alpha dibagi 2 agar CDF tetap 95%\n",
    "t_critical_lower = t.ppf(alpha/2., df=n-1)\n",
    "t_critical_upper = t.ppf(1 - (alpha/2.), df=n-1)\n",
    "\n",
    "print(f'Saat alpha = {alpha}')\n",
    "print(f' - t_critical_lower = {t_critical_lower:.4f}')\n",
    "print(f' - t_critical_upper = {t_critical_upper:.4f}')"
   ]
  },
  {
   "cell_type": "markdown",
   "metadata": {},
   "source": [
    "- Coba visualkan $\\alpha$ atau `t_critical`"
   ]
  },
  {
   "cell_type": "code",
   "execution_count": 32,
   "metadata": {},
   "outputs": [
    {
     "data": {
      "image/png": "[encoded data removed]",
      "text/plain": [
       "<Figure size 640x480 with 1 Axes>"
      ]
     },
     "metadata": {},
     "output_type": "display_data"
    }
   ],
   "source": [
    "plt.fill_between(x_, pdf_, facecolor='blue', alpha=0.35)\n",
    "\n",
    "plt.fill_between(np.arange(-5.0, t_critical_lower, 0.01),\n",
    "                 t.pdf(np.arange(-5.0, t_critical_lower, 0.01), df=len(x_)),\n",
    "                 facecolor='red',\n",
    "                 alpha=0.35,\n",
    "                 label='Area penolakan H0, lower')\n",
    "\n",
    "plt.fill_between(np.arange(t_critical_upper, 5.0, 0.01),\n",
    "                 t.pdf(np.arange(t_critical_upper, 5.0, 0.01), df=len(x_)),\n",
    "                 facecolor='orange',\n",
    "                 alpha=0.35,\n",
    "                 label='Area penolakan H0, upper')\n",
    "\n",
    "plt.axvline(0.0, linestyle='--', color='black', label=f'Mean atlet: {x2_bar:.2f} km/jam')\n",
    "plt.axvline(t_score, linestyle='--', color='green', label=f'Mean Sam: {x1_bar:.2f} km/jam')\n",
    "plt.axvline(t_critical_lower, linestyle='--', color='red', label=f'T_critical_lower saat alpha: {alpha}')\n",
    "plt.axvline(t_critical_upper, linestyle='--', color='orange', label=f'T_critical_upper saat alpha: {alpha}')\n",
    "\n",
    "plt.xlabel('T score')\n",
    "plt.ylabel('PDF')\n",
    "plt.legend()\n",
    "plt.show()"
   ]
  },
  {
   "cell_type": "markdown",
   "metadata": {},
   "source": [
    "- Sekarang kita bisa buat keputusan.\n",
    "\n",
    "$$\n",
    "\\text{decision} =\n",
    "\\begin{cases}\n",
    " & \\text{H0 ditolak,} \\text{ jika } t_{\\text{test}} < t_{\\text{crit lower}} \\\\\n",
    "  & \\text{H0 ditolak,} \\text{ jika } t_{\\text{test}} > t_{\\text{crit upper}} \\\\\n",
    " & \\text{H0 gagal ditolak,} \\text{ jika } t_{\\text{crit lower}} \\leq t_{\\text{test}} \\leq t_{\\text{crit upper}}\n",
    "\\end{cases}\n",
    "$$"
   ]
  },
  {
   "cell_type": "code",
   "execution_count": 33,
   "metadata": {},
   "outputs": [
    {
     "name": "stdout",
     "output_type": "stream",
     "text": [
      "Pengambilan Keputusan:\n",
      "Tolak H0\n"
     ]
    }
   ],
   "source": [
    "print('Pengambilan Keputusan:')\n",
    "if t_score < t_critical_lower:\n",
    "    print('Tolak H0')\n",
    "elif t_score > t_critical_upper:\n",
    "    print('Tolak H0')\n",
    "else:\n",
    "    print('Gagal tolak H0')"
   ]
  },
  {
   "cell_type": "markdown",
   "metadata": {},
   "source": [
    "#### Cara 2: Gunakan $\\alpha$\n",
    "---"
   ]
  },
  {
   "cell_type": "markdown",
   "metadata": {},
   "source": [
    "- $\\alpha$ analog dengan CDF dari distribusi t.\n",
    "- Maka kita bisa konversi `t_score` ke dalam CDF\n",
    "- Ini bisa didapat menggunakan fungsi `t.cdf()`\n",
    "- Hasil konversi ini disebut dengan **p_value**"
   ]
  },
  {
   "cell_type": "code",
   "execution_count": 34,
   "metadata": {},
   "outputs": [
    {
     "name": "stdout",
     "output_type": "stream",
     "text": [
      "p_value : 0.0005\n"
     ]
    }
   ],
   "source": [
    "# Hitung p_value dari t_score\n",
    "p_value = t.cdf(t_score, df=n-1)/2.\n",
    "\n",
    "print(f'p_value : {p_value:.4f}')"
   ]
  },
  {
   "cell_type": "markdown",
   "metadata": {},
   "source": [
    "- Sekarang kita bisa buat keputusan.\n",
    "\n",
    "$$\n",
    "\\text{decision} =\n",
    "\\begin{cases}\n",
    " & \\text{H0 ditolak,} \\text{ jika } \\text{p_value} < \\alpha \\\\\n",
    " & \\text{H0 gagal ditolak,} \\text{ jika } \\text{p_value} \\geq \\alpha\n",
    "\\end{cases}\n",
    "$$"
   ]
  },
  {
   "cell_type": "code",
   "execution_count": 35,
   "metadata": {},
   "outputs": [
    {
     "name": "stdout",
     "output_type": "stream",
     "text": [
      "Pengambilan Keputusan:\n",
      "Tolak H0\n"
     ]
    }
   ],
   "source": [
    "print('Pengambilan Keputusan:')\n",
    "if p_value < alpha:\n",
    "    print('Tolak H0')\n",
    "else:\n",
    "    print('Gagal tolak H0')"
   ]
  },
  {
   "cell_type": "markdown",
   "metadata": {},
   "source": [
    "### Gunakan Library untuk uji hipotesis\n",
    "---"
   ]
  },
  {
   "cell_type": "markdown",
   "metadata": {},
   "source": [
    "Cara menggunakan perhitungan uji statistik t untuk uji rata rata 2 sampel menggunakan scipy.stats"
   ]
  },
  {
   "cell_type": "markdown",
   "metadata": {},
   "source": [
    "- Import library yang dibutuhkan `from scipy.stats import ttest_ind`\n",
    "- Gunakan fungsi `ttest_ind(a = ... , b = ... , equal_var = ... , alternative = ... )`"
   ]
  },
  {
   "cell_type": "markdown",
   "metadata": {},
   "source": [
    "Dengan memasukkan parameter:\n",
    "- `a` : data sampel yang diuji (data1)\n",
    "- `b` : data sampel yang diuji (data2)\n",
    "- `equal_var` : kondisi apakah kedua sampel punya varians yang sama atau tidak isi dengan `True` atau `False`\n",
    "- `alternative` : uji pihak yang dilakukan, cek $H_1$\n",
    "    - jika pada $H_1$ ada tanda '$<$,$\\leq$' maka gunakan 'less' untuk uji pihak kiri\n",
    "    - jika pada $H_1$ ada tanda '$>$,$\\geq$' maka gunakan 'greater' : uji pihak kanan\n",
    "    - jika pada $H_1$ ada tanda '$\\not=$' maka gunakan 'greater' : uji pihak kanan\n",
    "        \n",
    "- fungsi tersebut akan mengeluarkan 2 output yaitu nilai statistik uji, dan p-value"
   ]
  },
  {
   "cell_type": "code",
   "execution_count": 36,
   "metadata": {},
   "outputs": [],
   "source": [
    "# Import library\n",
    "from scipy.stats import ttest_ind"
   ]
  },
  {
   "cell_type": "code",
   "execution_count": 37,
   "metadata": {},
   "outputs": [
    {
     "name": "stdout",
     "output_type": "stream",
     "text": [
      "T score : -4.3343\n",
      "P value : 0.0005\n"
     ]
    }
   ],
   "source": [
    "# Lakukan testing\n",
    "t_score, p_value = ttest_ind(\n",
    "    a = sam,\n",
    "    b = atlet,\n",
    "    equal_var = False,\n",
    "    alternative = 'two-sided'\n",
    ")\n",
    "\n",
    "print(f'T score : {t_score:.4f}')\n",
    "print(f'P value : {p_value:.4f}')"
   ]
  },
  {
   "cell_type": "markdown",
   "metadata": {},
   "source": [
    "- Pengambilan Keputusan"
   ]
  },
  {
   "cell_type": "code",
   "execution_count": 38,
   "metadata": {},
   "outputs": [
    {
     "name": "stdout",
     "output_type": "stream",
     "text": [
      "Pengambilan Keputusan:\n",
      "Tolak H0\n"
     ]
    }
   ],
   "source": [
    "print('Pengambilan Keputusan:')\n",
    "if t_score < t_critical_lower:\n",
    "    print('Tolak H0')\n",
    "elif t_score > t_critical_upper:\n",
    "    print('Tolak H0')\n",
    "else:\n",
    "    print('Gagal tolak H0')"
   ]
  },
  {
   "cell_type": "code",
   "execution_count": 39,
   "metadata": {},
   "outputs": [
    {
     "name": "stdout",
     "output_type": "stream",
     "text": [
      "Pengambilan Keputusan:\n",
      "Tolak H0\n"
     ]
    }
   ],
   "source": [
    "print('Pengambilan Keputusan:')\n",
    "if p_value < alpha:\n",
    "    print('Tolak H0')\n",
    "else:\n",
    "    print('Gagal tolak H0')"
   ]
  },
  {
   "cell_type": "markdown",
   "metadata": {},
   "source": [
    "### Latihan!\n",
    "---"
   ]
  },
  {
   "cell_type": "markdown",
   "metadata": {},
   "source": [
    "Lakukan uji hipotesis untuk memeriksa apakah Sam berlari lebih lambat dibanding Atlet!"
   ]
  }
 ],
 "metadata": {
  "kernelspec": {
   "display_name": "pacmann_env",
   "language": "python",
   "name": "python3"
  },
  "language_info": {
   "codemirror_mode": {
    "name": "ipython",
    "version": 3
   },
   "file_extension": ".py",
   "mimetype": "text/x-python",
   "name": "python",
   "nbconvert_exporter": "python",
   "pygments_lexer": "ipython3",
   "version": "3.9.1"
  }
 },
 "nbformat": 4,
 "nbformat_minor": 2
}
