{
 "cells": [
  {
   "cell_type": "markdown",
   "metadata": {},
   "source": [
    "# **Pertemuan 8 - Expectation, Meand and Variance**\n",
    "\n",
    "Introduction to Probability Course - Sekolah Data - Pacmann Academy"
   ]
  },
  {
   "cell_type": "markdown",
   "metadata": {},
   "source": [
    "**Outline**\n",
    "\n",
    "1. Review Expected Value, Mean, and Variance\n",
    "2. Case 1 - Ekspektasi Bonus Gaji Data Scientist\n",
    "3. Case 2 - Roulette Problem\n",
    "4. Case 3 - The Quiz Problem"
   ]
  },
  {
   "cell_type": "markdown",
   "metadata": {},
   "source": [
    "## **Review Variable Random**\n",
    "---"
   ]
  },
  {
   "cell_type": "markdown",
   "metadata": {},
   "source": [
    "### **Expectation**\n",
    "\n",
    "Dari materi yang sudah dipelajari di video:\n",
    "\n",
    "- Expectation atau Expected Value adalah **rata rata** nilai dari Variable Random \n",
    "- Dimana nilai Variable Random merepresentasikan **kejadian dalam ruang sampel** dalam bentuk numerik. \n",
    "- Expected Value dari Variable Random bisa dicari dengan menghitung:\n",
    "$$ \\text{E}[X] = \\sum_i{x_ip_x(x_i)}$$"
   ]
  },
  {
   "cell_type": "markdown",
   "metadata": {},
   "source": [
    "### **Variance**\n",
    "- Variance adalah nilai kuadrat dari rata rata sebaran nilai variable random dari rata-ratanya (expected value)\n",
    "- Variance adalah merepresentasikan persebaran data\n",
    "- Variance sulit untuk diinterpretasikan, gunakan standar deviasi untuk memudahkan interpretasi dalam skala data asli\n",
    "- Variance dari Variable Random bisa dicari dengan menghitung:\n",
    "$$ \\text{Var}[X] = \\text{E}[(X-\\text{E}[X])^2]$$"
   ]
  },
  {
   "cell_type": "markdown",
   "metadata": {},
   "source": [
    "### **Expectation and Variance in Variable Random Distribution**\n",
    "\n",
    "|Distribution|Expectation|Variance|\n",
    "|------------|-----------|--------|\n",
    "|Bernoulli|$$\\text{E}[X] = p$$|$$\\text{Var}[X] = p(1-p)$$|\n",
    "|Uniform|$$\\text{E}[X] = \\frac{b-a}{2}$$|$$\\text{Var}[X] = \\frac{(b-a)(b-a+2)}{12}$$|\n",
    "|Binomial|$$\\text{E}[X] = np$$|$$\\text{Var}[X] = np(1-p)$$|\n",
    "|Geometric|$$\\text{E}[X] = \\frac{1}{p}$$|$$\\text{Var}[X] = \\frac{1-p}{p^2}$$|"
   ]
  },
  {
   "cell_type": "markdown",
   "metadata": {},
   "source": [
    "## **Study Case 1: Expectasi Bonus Gaji Data Scientist**\n",
    "___"
   ]
  },
  {
   "cell_type": "markdown",
   "metadata": {},
   "source": [
    "\n",
    "Kita coba bahas kasus yang telah dijelaskan pada slide dalam video.\n",
    "\n",
    "Dalam kasus ini, Budi adalah seorang Data Scientist yang telah bekerja di Google selama 36 bulan.\n",
    "* Gaji pokok Budi adalah USD 11.000/bulan\n",
    "* Lalu, berdasarkan pengamatan ia bekerja selama 36 bulan. Peluang bonus yang ia terima adalah:\n",
    "    * USD 2000 P = 0.5\n",
    "    * USD 1000 P = 0.25\n",
    "    * USD 500 P = 1/6\n",
    "    * USD 100 P = 1/12\n",
    "\n",
    "Kira-kira berapa **total bonus** paling mungkin yang dia dapat selama setahun?\n",
    "\n",
    "\n"
   ]
  },
  {
   "cell_type": "markdown",
   "metadata": {},
   "source": [
    "Pertama, kita akan definisikan sebuah fungsi untuk menghitung jumlah kejadian di sebuah ruang sampel:"
   ]
  },
  {
   "cell_type": "code",
   "execution_count": 2,
   "metadata": {},
   "outputs": [],
   "source": [
    "import itertools\n",
    "import random\n",
    "import numpy as np\n",
    "from collections import Counter\n",
    "import matplotlib.pyplot as plt"
   ]
  },
  {
   "cell_type": "code",
   "execution_count": 3,
   "metadata": {},
   "outputs": [],
   "source": [
    "class Dist(Counter): \n",
    "    \"A Distribution of {outcome: frequency} pairs.\""
   ]
  },
  {
   "cell_type": "markdown",
   "metadata": {},
   "source": [
    "Sehingga"
   ]
  },
  {
   "cell_type": "code",
   "execution_count": 4,
   "metadata": {},
   "outputs": [
    {
     "data": {
      "text/plain": [
       "Dist({'HT': 2, 'TT': 1, 'TH': 1, 'HH': 1})"
      ]
     },
     "execution_count": 4,
     "metadata": {},
     "output_type": "execute_result"
    }
   ],
   "source": [
    "Dist(['TT','HT','TH','HH','HT'])"
   ]
  },
  {
   "cell_type": "markdown",
   "metadata": {},
   "source": [
    "Lalu, kita juga akan definisikan fungsi-fungsi berikut untuk menghitung peluang dari kejadian"
   ]
  },
  {
   "cell_type": "code",
   "execution_count": 5,
   "metadata": {},
   "outputs": [],
   "source": [
    "def cases(outcomes): \n",
    "    \"The total frequency of all the outcomes.\"\n",
    "    return sum(Dist(outcomes).values())\n",
    "\n",
    "def favorable(event, space):\n",
    "    \"A distribution of outcomes from the sample space that are in the event.\"\n",
    "    space = Dist(space)\n",
    "    return Dist({x: space[x] \n",
    "                 for x in space if x in event})\n",
    "\n",
    "def Fraction(n, d): \n",
    "    \"Calculating the probability given outcome n and sample space d\"\n",
    "    return n / d\n",
    "\n",
    "def P(event, space): \n",
    "    \"The probability of an event, given a sample space.\"\n",
    "    return Fraction(cases(favorable(event, space)), \n",
    "                    cases(space))"
   ]
  },
  {
   "cell_type": "markdown",
   "metadata": {},
   "source": [
    "Jika diketahui peluangnya seperti itu, kita dapat berasumsi bahwa:\n",
    "* Selama 36 bulan bekerja, total 18 bulan menerima bonus USD 2000 / bulan\n",
    "* Selama 36 bulan bekerja, total 9 bulan menerima bonus USD 1000 / bulan\n",
    "* Selama 36 bulan bekerja, total 6 bulan menerima bonus USD 500 / bulan\n",
    "* Selama 36 bulan bekerja, total 3 bulan menerima bonus USD 100 / bulan"
   ]
  },
  {
   "cell_type": "code",
   "execution_count": 6,
   "metadata": {},
   "outputs": [],
   "source": [
    "bonus = Dist({2000: 18, 1000:9, 500:6, 100:3})"
   ]
  },
  {
   "cell_type": "markdown",
   "metadata": {},
   "source": [
    "Lalu, kita akan buat fungsi untuk mensimulasikan jumlah total bonus yang bisa diperoleh selama setahun:"
   ]
  },
  {
   "cell_type": "code",
   "execution_count": 7,
   "metadata": {},
   "outputs": [],
   "source": [
    "def bonus_sim(n_sim, bonus_dist):\n",
    "    outcomes = []\n",
    "    for _ in range(n_sim):\n",
    "        total_bonus = 0\n",
    "        for month in range(12):\n",
    "            bonus_month = random.choices(*zip(*bonus_dist.items()))[0]\n",
    "            total_bonus += bonus_month\n",
    "        outcomes.append(total_bonus)\n",
    "    return Dist(outcomes)"
   ]
  },
  {
   "cell_type": "code",
   "execution_count": 8,
   "metadata": {},
   "outputs": [],
   "source": [
    "total_bonus_dist = bonus_sim(100000, bonus)"
   ]
  },
  {
   "cell_type": "markdown",
   "metadata": {},
   "source": [
    "Kita coba lihat, 5 nilai yang paling sering muncul beserta "
   ]
  },
  {
   "cell_type": "code",
   "execution_count": 9,
   "metadata": {},
   "outputs": [
    {
     "data": {
      "text/plain": [
       "[(16100, 3617), (16600, 3537), (15600, 3503), (17100, 3362), (17500, 3186)]"
      ]
     },
     "execution_count": 9,
     "metadata": {},
     "output_type": "execute_result"
    }
   ],
   "source": [
    "total_bonus_dist.most_common(5)"
   ]
  },
  {
   "cell_type": "markdown",
   "metadata": {},
   "source": [
    "Nilai yang paling sering muncul adalah $16100$. Sama seperti perhitungan yang kita telah lakukan di materi video.\n",
    "\n",
    "Kita lihat distribusinya:"
   ]
  },
  {
   "cell_type": "code",
   "execution_count": 10,
   "metadata": {},
   "outputs": [
    {
     "data": {
      "image/png": "[encoded data removed]",
      "text/plain": [
       "<Figure size 640x480 with 1 Axes>"
      ]
     },
     "metadata": {},
     "output_type": "display_data"
    }
   ],
   "source": [
    "list_bonus = [[labels]*values for labels, values in total_bonus_dist.items()]\n",
    "flat_bonus = [x for xs in list_bonus for x in xs]\n",
    "\n",
    "plt.hist(flat_bonus, bins=50)\n",
    "plt.show()"
   ]
  },
  {
   "cell_type": "markdown",
   "metadata": {},
   "source": [
    "## **Study Case 2: Roulette Problem**\n",
    "\n",
    "___"
   ]
  },
  {
   "cell_type": "markdown",
   "metadata": {},
   "source": [
    "John merupakan seorang pria paruh baya yang kecanduan Judi. Dia kecanduan bermain _Roulette_ dengan selalu menaruh taruhan sebesar **1 Dollar** di angka 13.\n",
    "* Smith merupakan teman John dan dia ingin \"menyembuhkan\" kecanduan John dengan berusaha memberikan rasa \"kapok\".\n",
    "* Dia ingin memberi \"pelajaran\" dengan cara yang disukai John, yaitu dia bertaruh dengan John. \n",
    "* Jika John selalu kalah pada 36 kali putaran dadu, maka John membayar Smith 20 Dollar.\n",
    "* Jika John menang pada 36 kali putaran dadu, Smith membayar John 20 Dollar.\n",
    "* Kira-kira apakah cara ini efektif?\n",
    "\n",
    "> **Note:** Pada sebuah permainan _Roulette_, terdapat 38 angka dengan peluang muncul yang sama. Jika pada sebuah putaran angka dia terpilih. Maka dia akan mendapat 35x taruhan dia. Jika dia kalah, maka dia akan kehilangan uang yang dia taruhkan."
   ]
  },
  {
   "cell_type": "markdown",
   "metadata": {},
   "source": [
    "Mari coba kita tulis apa yang diketahui \n",
    "1. Peluang John untuk menang pada 1 kali putaran adalah $\\frac{1}{38}$\n",
    "2. Jika John tidak pernah menang dalam 36 kali putaran maka dia **kehilangan** 36 dollar\n",
    "3. Jika dia menang **satu**. Dia akan mendapat 35 dollar. Namun akan kehilangan 35 dollar di putaran yang kalah. Sehingga impas.\n",
    "4. Namun, ini cukup untuk dia menang 20 dollar dari Smith.\n",
    "  \n",
    "\n"
   ]
  },
  {
   "cell_type": "markdown",
   "metadata": {},
   "source": [
    "Kita akan coba simulasikan hal ini:\n",
    "\n",
    "Untuk mensimulasikan kemenangan dari _roulette_. Kita akan menggunakan distribusi **Binomial**. Misal:"
   ]
  },
  {
   "cell_type": "code",
   "execution_count": 11,
   "metadata": {},
   "outputs": [],
   "source": [
    "np.random.seed(42)"
   ]
  },
  {
   "cell_type": "code",
   "execution_count": 12,
   "metadata": {},
   "outputs": [
    {
     "data": {
      "text/plain": [
       "array([0, 3, 1, 1, 0, 0, 0, 2, 1, 1, 0, 3, 2, 0, 0, 0, 0, 1, 1, 0, 1, 0,\n",
       "       0, 0, 1, 2, 0, 1, 1, 0, 1, 0, 0, 3, 3, 2, 0, 0, 1, 1, 0, 1, 0, 2,\n",
       "       0, 1, 0, 1, 1, 0], dtype=int32)"
      ]
     },
     "execution_count": 12,
     "metadata": {},
     "output_type": "execute_result"
    }
   ],
   "source": [
    "roulette = np.random.binomial(36, 1/38, size=50)\n",
    "roulette"
   ]
  },
  {
   "cell_type": "markdown",
   "metadata": {},
   "source": [
    "Kita dapat menginterpretasi hasilnya sebagai:\n",
    "* Pada percobaan pertama, kita putar _roulette_ sebanyak 36 kali dengan kemungkinan menang 1/38. Hasilnya adalah kita tidak pernah menang.\n",
    "* Pada percobaan kedua, kita putar _roulette_ sebanyak 36 kali dengan kemungkinan menang 1/38. Hasilnya adalah kita menang 3 kali.\n",
    "* Pada percobaan ketiga, kita putar _roulette_ sebanyak 36 kali dengan kemungkinan menang 1/38. Hasilnya adalah kita menang 1 kali.\n",
    "\n",
    "Untuk tiap percobaan akan kita hitung berapa uang yang akan diterima oleh John:"
   ]
  },
  {
   "cell_type": "code",
   "execution_count": 13,
   "metadata": {},
   "outputs": [
    {
     "data": {
      "text/plain": [
       "array([-36,  72,   0,   0, -36, -36, -36,  36,   0,   0, -36,  72,  36,\n",
       "       -36, -36, -36, -36,   0,   0, -36,   0, -36, -36, -36,   0,  36,\n",
       "       -36,   0,   0, -36,   0, -36, -36,  72,  72,  36, -36, -36,   0,\n",
       "         0, -36,   0, -36,  36, -36,   0, -36,   0,   0, -36], dtype=int32)"
      ]
     },
     "execution_count": 13,
     "metadata": {},
     "output_type": "execute_result"
    }
   ],
   "source": [
    "kerugian_roul = -36 + roulette # Jika menang 0 kali, maka akan rugi 36, menang 1 kali rugi, 35, dst.\n",
    "keuntungan_roul = 35*roulette # Jika menang 0 kali, untung 0, menang 1: 35, menang 2: 70, dst.\n",
    "total_roul = kerugian_roul + keuntungan_roul\n",
    "total_roul"
   ]
  },
  {
   "cell_type": "markdown",
   "metadata": {},
   "source": [
    "Lalu, bagaimana dengan keuntungan atau kerugian dari taruhan dengan Smith?\n",
    "* Pertama, John menang jika dia menang minimal 1 _roulette_ dalam 36 putaran."
   ]
  },
  {
   "cell_type": "code",
   "execution_count": 14,
   "metadata": {},
   "outputs": [
    {
     "data": {
      "text/plain": [
       "array([0, 1, 1, 1, 0, 0, 0, 1, 1, 1, 0, 1, 1, 0, 0, 0, 0, 1, 1, 0, 1, 0,\n",
       "       0, 0, 1, 1, 0, 1, 1, 0, 1, 0, 0, 1, 1, 1, 0, 0, 1, 1, 0, 1, 0, 1,\n",
       "       0, 1, 0, 1, 1, 0])"
      ]
     },
     "execution_count": 14,
     "metadata": {},
     "output_type": "execute_result"
    }
   ],
   "source": [
    "taruhan = (roulette > 0).astype(int)\n",
    "taruhan"
   ]
  },
  {
   "cell_type": "markdown",
   "metadata": {},
   "source": [
    "Lalu kita hitung keuntungan dan kerugiannya"
   ]
  },
  {
   "cell_type": "code",
   "execution_count": 15,
   "metadata": {},
   "outputs": [
    {
     "data": {
      "text/plain": [
       "array([-20,  20,  20,  20, -20, -20, -20,  20,  20,  20, -20,  20,  20,\n",
       "       -20, -20, -20, -20,  20,  20, -20,  20, -20, -20, -20,  20,  20,\n",
       "       -20,  20,  20, -20,  20, -20, -20,  20,  20,  20, -20, -20,  20,\n",
       "        20, -20,  20, -20,  20, -20,  20, -20,  20,  20, -20])"
      ]
     },
     "execution_count": 15,
     "metadata": {},
     "output_type": "execute_result"
    }
   ],
   "source": [
    "keuntungan_taruh = 20 * taruhan\n",
    "kerugian_taruh = -20 * (1-taruhan)\n",
    "total_taruhan = keuntungan_taruh + kerugian_taruh\n",
    "total_taruhan"
   ]
  },
  {
   "cell_type": "markdown",
   "metadata": {},
   "source": [
    "Lalu kita hitung total uang yang diterima di setiap percobaan. Dan kita rata-rata"
   ]
  },
  {
   "cell_type": "code",
   "execution_count": 16,
   "metadata": {},
   "outputs": [
    {
     "data": {
      "text/plain": [
       "array([-56,  92,  20,  20, -56, -56, -56,  56,  20,  20, -56,  92,  56,\n",
       "       -56, -56, -56, -56,  20,  20, -56,  20, -56, -56, -56,  20,  56,\n",
       "       -56,  20,  20, -56,  20, -56, -56,  92,  92,  56, -56, -56,  20,\n",
       "        20, -56,  20, -56,  56, -56,  20, -56,  20,  20, -56])"
      ]
     },
     "execution_count": 16,
     "metadata": {},
     "output_type": "execute_result"
    }
   ],
   "source": [
    "total_uang = total_roul + total_taruhan\n",
    "total_uang"
   ]
  },
  {
   "cell_type": "code",
   "execution_count": 17,
   "metadata": {},
   "outputs": [
    {
     "data": {
      "text/plain": [
       "np.float64(-7.12)"
      ]
     },
     "execution_count": 17,
     "metadata": {},
     "output_type": "execute_result"
    }
   ],
   "source": [
    "rata_pendapatan = np.mean(total_uang)\n",
    "rata_pendapatan"
   ]
  },
  {
   "cell_type": "markdown",
   "metadata": {},
   "source": [
    "secara rata-rata, John **rugi** sebesar 7.12 dollar. Namun itu adalah rata-rata dari 50 percobaan. Kita coba rangkum dan lakukan percobaan dengan jumlah yang lebih banyak. "
   ]
  },
  {
   "cell_type": "code",
   "execution_count": 18,
   "metadata": {},
   "outputs": [],
   "source": [
    "def roulette_sim(n):\n",
    "    roulette = np.random.binomial(36, 1/38, size=n)\n",
    "    kerugian_roul = -36 + roulette # Jika menang 0 kali, maka akan rugi 36, menang 1 kali rugi, 35, dst.\n",
    "    keuntungan_roul = 35*roulette # Jika menang 0 kali, untung 0, menang 1: 35, menang 2: 70, dst.\n",
    "    total_roul = kerugian_roul + keuntungan_roul\n",
    "\n",
    "    taruhan = (roulette > 0).astype(int)\n",
    "\n",
    "    keuntungan_taruh = 20 * taruhan\n",
    "    kerugian_taruh = -20 * (1-taruhan)\n",
    "    total_taruhan = keuntungan_taruh + kerugian_taruh\n",
    "\n",
    "    total_uang = total_roul + total_taruhan\n",
    "    rata_pendapatan = np.mean(total_uang)\n",
    "    return rata_pendapatan"
   ]
  },
  {
   "cell_type": "code",
   "execution_count": 19,
   "metadata": {},
   "outputs": [
    {
     "data": {
      "text/plain": [
       "np.float64(2.829988)"
      ]
     },
     "execution_count": 19,
     "metadata": {},
     "output_type": "execute_result"
    }
   ],
   "source": [
    "rata_rata = roulette_sim(1000000)\n",
    "rata_rata"
   ]
  },
  {
   "cell_type": "markdown",
   "metadata": {},
   "source": [
    "Dari sejuta kali simulasi, secara rata-rata John bisa mendapatkan uang sebanyak 2.77 dollar di setiap percobaan.\n",
    "\n",
    "Sehingga \"treatment\" yang dilakukan Smith tidak efektif!"
   ]
  },
  {
   "cell_type": "markdown",
   "metadata": {},
   "source": [
    "\n",
    "## **Study Case 3: The Quiz Problem (Decision Making Simulation)**\n",
    "---"
   ]
  },
  {
   "cell_type": "markdown",
   "metadata": {},
   "source": [
    "- Misalnya anda diberikan 2 pertanyaan dan diminta memutuskan pertanyaan mana yang harus dijawab terlebih dahulu\n",
    "  - Peluang pertanyaan 1 dijawab dengan benar adalah 0.8 dan anda akan mendapatkan hadiah $\\$100$\n",
    "  - Peluang pertanyaan 2 dijawab dengan benar adalah 0.5 dan anda akan mendapatkan hadiah $\\$200$\n",
    "- Jika pertanyaan pertama yang diambil tidak dijawab dengan benar, quiz akan diberhentikan dan anda tidak boleh menjawab pertanyaan selanjutnya.\n",
    "- Jika pertanyaan pertama yang diambil dijawab dengan benar, anda boleh menjawab pertanyaan kedua\n",
    "- Pertanyaan nomor berapa yang anda akan jawab pertama kali agar memaksimalkan harapan hadian uang yang diterima?\n",
    "___"
   ]
  },
  {
   "cell_type": "markdown",
   "metadata": {},
   "source": [
    "Untuk mejawab permasalahan diatas kita bisa melakukan pendekatan simulasi menjawab pertanyaan:\n",
    "- Generate data hasil jawaban pertanyaan 1 dengan probabilitas dapat terjawab sebesar 0.8 menggunakan Variable Random Bernoulli, manfaatkan Variable Random Binomial dengan n = 1. \n",
    "- Data yang dibuat adalah hasil jawaban dari 100000 pertanyaan 1"
   ]
  },
  {
   "cell_type": "code",
   "execution_count": 21,
   "metadata": {},
   "outputs": [
    {
     "ename": "SyntaxError",
     "evalue": "positional argument follows keyword argument (345242448.py, line 1)",
     "output_type": "error",
     "traceback": [
      "\u001b[1;36m  Cell \u001b[1;32mIn[21], line 1\u001b[1;36m\u001b[0m\n\u001b[1;33m    q1 = np.random.binomial(n = 1, p = 0.8, 100000)\u001b[0m\n\u001b[1;37m                                                  ^\u001b[0m\n\u001b[1;31mSyntaxError\u001b[0m\u001b[1;31m:\u001b[0m positional argument follows keyword argument\n"
     ]
    }
   ],
   "source": [
    "q1 = np.random.binomial(n = 1, p = 0.8, 100000)\n",
    "q1"
   ]
  },
  {
   "cell_type": "markdown",
   "metadata": {},
   "source": [
    "- Generate data hasil jawaban pertanyaan 2 dengan probabilitas dapat terjawab sebesar 0.5 menggunakan Variable Random Bernoulli, manfaatkan Variable Random Binomial dengan n = 1. \n",
    "- Data yang dibuat adalah hasil jawaban dari 100000 pertanyaan 2"
   ]
  },
  {
   "cell_type": "code",
   "execution_count": 22,
   "metadata": {},
   "outputs": [
    {
     "ename": "SyntaxError",
     "evalue": "positional argument follows keyword argument (3558706508.py, line 1)",
     "output_type": "error",
     "traceback": [
      "\u001b[1;36m  Cell \u001b[1;32mIn[22], line 1\u001b[1;36m\u001b[0m\n\u001b[1;33m    q2 = np.random.binomial(n = 1, p = 0.8, 100000)\u001b[0m\n\u001b[1;37m                                                  ^\u001b[0m\n\u001b[1;31mSyntaxError\u001b[0m\u001b[1;31m:\u001b[0m positional argument follows keyword argument\n"
     ]
    }
   ],
   "source": [
    "q2 = np.random.binomial(n = 1, p = 0.8, 100000)\n",
    "q2"
   ]
  },
  {
   "cell_type": "markdown",
   "metadata": {},
   "source": [
    "Hitung total uang yang didapatkan jika ada 2 skenario:\n",
    "\n",
    "- Skenario 1: Jika pertanyaan 1 dijawab terlebih dahulu:\n",
    " - case pertanyaan 1 salah : mendapatkan $\\$0$\n",
    " - case pertanyaan 1 benar pertanyaan 2 salah : mendapatkan $\\$100$\n",
    " - case pertanyaan 1 benar pertanyaan 2 benar : mendapatkan $\\$300$\n",
    "\n",
    "- Skenario 1: Jika pertanyaan 2 dijawab terlebih dahulu:\n",
    " - case pertanyaan 2 salah : mendapatkan $\\$0$\n",
    " - case pertanyaan 2 benar pertanyaan 1 salah : mendapatkan $\\$200$\n",
    " - case pertanyaan 2 benar pertanyaan 1 benar : mendapatkan $\\$300$"
   ]
  },
  {
   "cell_type": "code",
   "execution_count": 23,
   "metadata": {},
   "outputs": [
    {
     "ename": "NameError",
     "evalue": "name 'q1' is not defined",
     "output_type": "error",
     "traceback": [
      "\u001b[1;31m---------------------------------------------------------------------------\u001b[0m",
      "\u001b[1;31mNameError\u001b[0m                                 Traceback (most recent call last)",
      "Cell \u001b[1;32mIn[23], line 10\u001b[0m\n\u001b[0;32m      7\u001b[0m earn_ \u001b[38;5;241m=\u001b[39m \u001b[38;5;241m0\u001b[39m\n\u001b[0;32m      8\u001b[0m \u001b[38;5;28;01mfor\u001b[39;00m i \u001b[38;5;129;01min\u001b[39;00m \u001b[38;5;28mrange\u001b[39m(\u001b[38;5;241m100000\u001b[39m):  \n\u001b[0;32m      9\u001b[0m   \u001b[38;5;66;03m# Uang yang didapatkan jika pertanyaan 1 salah, pertanyaan 2 salah\u001b[39;00m\n\u001b[1;32m---> 10\u001b[0m   \u001b[38;5;28;01mif\u001b[39;00m (\u001b[43mq1\u001b[49m[i]\u001b[38;5;241m==\u001b[39m\u001b[38;5;241m0\u001b[39m \u001b[38;5;129;01mand\u001b[39;00m q2[i]\u001b[38;5;241m==\u001b[39m\u001b[38;5;241m0\u001b[39m):\n\u001b[0;32m     11\u001b[0m     earn_\u001b[38;5;241m+\u001b[39m\u001b[38;5;241m=\u001b[39m\u001b[38;5;241m0\u001b[39m\n\u001b[0;32m     12\u001b[0m   \u001b[38;5;66;03m# Uang yang didapatkan jika pertanyaan 1 benar, pertanyaan 2 salah\u001b[39;00m\n",
      "\u001b[1;31mNameError\u001b[0m: name 'q1' is not defined"
     ]
    }
   ],
   "source": [
    "#ganti summary aja\n",
    "\n",
    "earn_q1_q2 = 0\n",
    "earn_q1 = 0\n",
    "earn_q2_q1 = 0\n",
    "earn_q2 = 0\n",
    "earn_ = 0\n",
    "for i in range(100000):  \n",
    "  # Uang yang didapatkan jika pertanyaan 1 salah, pertanyaan 2 salah\n",
    "  if (q1[i]==0 and q2[i]==0):\n",
    "    earn_+=0\n",
    "  # Uang yang didapatkan jika pertanyaan 1 benar, pertanyaan 2 salah\n",
    "  elif (q1[i]==1 and q2[i]==0):\n",
    "    earn_q1+=100\n",
    "  # Uang yang didapatkan jika pertanyaan 1 benar, pertanyaan 2 benar  \n",
    "  elif (q1[i]==1 and q2[i]==1):\n",
    "    earn_q1_q2+=300\n",
    "  # Uang yang didapatkan jika pertanyaan 2 benar, pertanyaan 1 salah \n",
    "  elif (q1[i]==0 and q2[i]==1):\n",
    "    earn_q2+=200"
   ]
  },
  {
   "cell_type": "markdown",
   "metadata": {},
   "source": [
    "### Skenario pertanyaan 1 dijawab terlebih dahulu"
   ]
  },
  {
   "cell_type": "code",
   "execution_count": 24,
   "metadata": {},
   "outputs": [
    {
     "data": {
      "text/plain": [
       "0"
      ]
     },
     "execution_count": 24,
     "metadata": {},
     "output_type": "execute_result"
    }
   ],
   "source": [
    "# pendapatan uang jika memakai skenario 1\n",
    "skenario_1 = earn_ + earn_q1_q2 + earn_q1\n",
    "skenario_1"
   ]
  },
  {
   "cell_type": "code",
   "execution_count": 25,
   "metadata": {},
   "outputs": [
    {
     "data": {
      "text/plain": [
       "0.0"
      ]
     },
     "execution_count": 25,
     "metadata": {},
     "output_type": "execute_result"
    }
   ],
   "source": [
    "# rata-rata pendapatan skenario 1\n",
    "expected_earn_1 = skenario_1/100000\n",
    "expected_earn_1"
   ]
  },
  {
   "cell_type": "markdown",
   "metadata": {},
   "source": [
    "### Skenario pertanyaan 2 dijawab terlebih dahulu"
   ]
  },
  {
   "cell_type": "code",
   "execution_count": 26,
   "metadata": {},
   "outputs": [
    {
     "data": {
      "text/plain": [
       "0"
      ]
     },
     "execution_count": 26,
     "metadata": {},
     "output_type": "execute_result"
    }
   ],
   "source": [
    "# pendapatan uang jika memakai skenario 1 dari 100 ribu percobaan\n",
    "skenario_2 = earn_ + earn_q1_q2 + earn_q2\n",
    "skenario_2"
   ]
  },
  {
   "cell_type": "code",
   "execution_count": 27,
   "metadata": {},
   "outputs": [
    {
     "data": {
      "text/plain": [
       "0.0"
      ]
     },
     "execution_count": 27,
     "metadata": {},
     "output_type": "execute_result"
    }
   ],
   "source": [
    "# rata-rata pendapatan skenario 2 dari 100 ribu percobaan\n",
    "expected_earn_2 = skenario_2/100000\n",
    "expected_earn_2"
   ]
  },
  {
   "cell_type": "markdown",
   "metadata": {},
   "source": [
    "Total pendapatkan menunjukkan akan lebih untung jika kita menggunakan skenario menjawab pertanyaan 1 terlebih dahulu"
   ]
  }
 ],
 "metadata": {
  "kernelspec": {
   "display_name": "pacmann_env",
   "language": "python",
   "name": "python3"
  },
  "language_info": {
   "codemirror_mode": {
    "name": "ipython",
    "version": 3
   },
   "file_extension": ".py",
   "mimetype": "text/x-python",
   "name": "python",
   "nbconvert_exporter": "python",
   "pygments_lexer": "ipython3",
   "version": "3.9.1"
  }
 },
 "nbformat": 4,
 "nbformat_minor": 2
}
