{
 "cells": [
  {
   "cell_type": "markdown",
   "metadata": {},
   "source": [
    "# **Pertemuan 14 - Conditional Expectations and Variance**\n",
    "\n",
    "Introduction to Probability Course - Sekolah Data - Pacmann Academy"
   ]
  },
  {
   "cell_type": "markdown",
   "metadata": {},
   "source": [
    "**Outline**\n",
    "\n",
    "1. Review Conditional Expectations and Variance\n",
    "2. Sum of a Random Number of Independent Random Variables\n",
    "3. Case 1: Mengirimkan pesan\n",
    "4. Case 2: Memotong Tali\n",
    "5. Case 3: Berbelanja di Mall"
   ]
  },
  {
   "cell_type": "markdown",
   "metadata": {},
   "source": [
    "## **Conditional Expectatitions and Variance**\n",
    "---"
   ]
  },
  {
   "cell_type": "markdown",
   "metadata": {},
   "source": [
    "### **Conditional Expectation**\n",
    "\n",
    "Dari materi yang sudah dipelajari di video:\n",
    "\n",
    "- Expectation atau Expected Value adalah **rata rata** nilai dari Variable Random\n",
    "- Misal $X$ dan $Y$ adalah variabel random, **Conditional Expectation** $X$ jika diketahui $Y$ bernilai $y$ dapat dihitung dengan: \n",
    "$$\\text{E}[X | Y]= \\sum_x{p_{X | Y}(x | y)}$$\n",
    "- Unconditional expected value dapat dicari melalui **Total Expectation Theorem**\n",
    "$$\\text{E}[X]= \\sum_y{p_{Y}(y)\\text{E}[X | Y = y]}$$"
   ]
  },
  {
   "cell_type": "markdown",
   "metadata": {},
   "source": [
    "### **Conditional Variance**\n",
    "- Variance adalah nilai kuadrat dari rata rata sebaran nilai variable random dari rata-ratanya (expected value)\n",
    "- Variance merepresentasikan persebaran data\n",
    "- Variance sulit untuk diinterpretasikan, gunakan standar deviasi untuk memudahkan interpretasi dalam skala data asli\n",
    "- Variance dari Variable Random bisa dicari dengan menghitung:\n",
    "$$ \\text{Var}(X) = \\text{E}[(X-\\text{E}[X])^2]$$\n",
    "- Misal $X$ dan $Y$ adalah variabel random, **Conditional Variance** $X$ jika diketahui $Y$ bernilai $y$ dapat dihitung dengan: \n",
    "$$\\text{Var}(X | Y = y)=\\text{E}[(X-\\text{E}[X | Y = y])^2 | Y = y] $$\n",
    "- Unconditional variance dapat dicari menggunakan **Law of Conditional Variances**\n",
    "$$\\text{Var}(X) = \\text{E}[\\text{Var}(X | Y)]+\\text{Var}(\\text{E}[X | Y])$$"
   ]
  },
  {
   "cell_type": "markdown",
   "metadata": {},
   "source": [
    "### **Sum of a Random Number of Independent Random Variables**"
   ]
  },
  {
   "cell_type": "code",
   "execution_count": 1,
   "metadata": {},
   "outputs": [],
   "source": [
    "import os\n",
    "import sys\n",
    "nb_dir = os.path.split(os.getcwd())[0]\n",
    "if nb_dir not in sys.path:\n",
    "    sys.path.append(nb_dir)"
   ]
  },
  {
   "cell_type": "code",
   "execution_count": 3,
   "metadata": {},
   "outputs": [],
   "source": [
    "import pandas as pd\n",
    "import numpy as np\n",
    "import itertools\n",
    "import random\n",
    "import seaborn as sns\n",
    "import matplotlib.pyplot as plt\n",
    "import warnings\n",
    "warnings.filterwarnings(\"ignore\")\n",
    "from src.module_python_14 import expectation_visualization"
   ]
  },
  {
   "cell_type": "markdown",
   "metadata": {},
   "source": [
    "## **Study Case 1** : Mengirimkan pesan\n",
    "___"
   ]
  },
  {
   "cell_type": "markdown",
   "metadata": {},
   "source": [
    "Sebuah pesan dikirimkan oleh komputer yang berlokasi di Bandung menggunakan jaringan ditujukan ke Jakarta, Surabaya, dan Malang memiliki probabilitas secara berurutan:\n",
    "- Jakarta 0.5\n",
    "- Surabaya 0.3\n",
    "- Malang 0.2 \n",
    "\n",
    "Waktu Transit Pesan bernilai random. Rata-rata dari waktu transit: \n",
    "- Jakarta 0.05\n",
    "- Surabaya  0.1\n",
    "- Malang 0.3\n",
    "\n",
    "Berapa **expected value** dari **Waktu Transit Pesan (WTP)**?"
   ]
  },
  {
   "cell_type": "markdown",
   "metadata": {},
   "source": [
    "Pertama, kita definisikan array dari probabilitas,"
   ]
  },
  {
   "cell_type": "code",
   "execution_count": 4,
   "metadata": {},
   "outputs": [],
   "source": [
    "prob = [0.5, 0.3, 0.2]"
   ]
  },
  {
   "cell_type": "markdown",
   "metadata": {},
   "source": [
    "Kemudian, kita definisikan array rata-rata dari waktu transit pesan secara berurutan"
   ]
  },
  {
   "cell_type": "code",
   "execution_count": 5,
   "metadata": {},
   "outputs": [],
   "source": [
    "conditional_exp = [0.05, 0.1, 0.3]"
   ]
  },
  {
   "cell_type": "markdown",
   "metadata": {},
   "source": [
    "Selanjutnya, kita definisikan fungsi utk menghitung unconditional expected value menggunakan **total expectation theorem**"
   ]
  },
  {
   "cell_type": "code",
   "execution_count": 6,
   "metadata": {},
   "outputs": [],
   "source": [
    "TotalExp = (0.5*0.05)+(0.3*0.1)+(0.2*0.3)"
   ]
  },
  {
   "cell_type": "code",
   "execution_count": 7,
   "metadata": {},
   "outputs": [
    {
     "data": {
      "text/plain": [
       "0.11499999999999999"
      ]
     },
     "execution_count": 7,
     "metadata": {},
     "output_type": "execute_result"
    }
   ],
   "source": [
    "TotalExp"
   ]
  },
  {
   "cell_type": "markdown",
   "metadata": {},
   "source": [
    "Maka, **expected value dari waktu transit pesan adalah 0.115**"
   ]
  },
  {
   "cell_type": "markdown",
   "metadata": {},
   "source": [
    "Nilai yang sama akan kita dapatkan jika mencari rata rata waktu transitnya jika kita mengetahui keseluruhan datanya"
   ]
  },
  {
   "cell_type": "markdown",
   "metadata": {},
   "source": [
    "|Tujuan|Waktu Transit (s)|\n",
    "|-|-|\n",
    "|Jakarta|0.05\n",
    "|Jakarta|0.03\n",
    "|Jakarta|0.07\n",
    "|Jakarta|0.09\n",
    "|Jakarta|0.01\n",
    "|Surabaya|0.1\n",
    "|Surabaya|0.17\n",
    "|Surabaya|0.03\n",
    "|Malang|0.31\n",
    "|Malang|0.29\n"
   ]
  },
  {
   "cell_type": "code",
   "execution_count": 8,
   "metadata": {},
   "outputs": [
    {
     "data": {
      "text/plain": [
       "0.11500000000000002"
      ]
     },
     "execution_count": 8,
     "metadata": {},
     "output_type": "execute_result"
    }
   ],
   "source": [
    "mean = (0.05+0.03+0.07+0.09+0.01+0.1+0.17+0.03+0.31+0.29)/10\n",
    "mean"
   ]
  },
  {
   "cell_type": "markdown",
   "metadata": {},
   "source": [
    "## **Study Case 2: Memotong Tali**\n",
    "___"
   ]
  },
  {
   "cell_type": "markdown",
   "metadata": {},
   "source": [
    "Misalkan anda memiliki tali sepanjang *l* yang panjang nya berkisar 0 - 1000 cm.\n",
    "Teman anda, sambil menutup mata, diminta untuk memotong tali yang anda miliki.\n",
    "Sebut lokasi potongan tersebut adalah Y.\n",
    "Kemudian, tali tersebut akan diambil salah satu bagiannya. Sehingga, didapat tali sepanjang y. \n",
    "Dari sisa tali tersebut, akan dipotong kembali secara random. Lokasi potongannya adalah X."
   ]
  },
  {
   "cell_type": "markdown",
   "metadata": {},
   "source": [
    "#### Generate panjang 1 tali"
   ]
  },
  {
   "cell_type": "code",
   "execution_count": 9,
   "metadata": {},
   "outputs": [
    {
     "data": {
      "text/plain": [
       "array([548.81350393])"
      ]
     },
     "execution_count": 9,
     "metadata": {},
     "output_type": "execute_result"
    }
   ],
   "source": [
    "np.random.seed(0)\n",
    "L = np.random.uniform(0,1000,size = 1)\n",
    "L"
   ]
  },
  {
   "cell_type": "markdown",
   "metadata": {},
   "source": [
    "#### Cek panjang tali"
   ]
  },
  {
   "cell_type": "code",
   "execution_count": 10,
   "metadata": {},
   "outputs": [
    {
     "data": {
      "text/plain": [
       "np.float64(548.8135039273247)"
      ]
     },
     "execution_count": 10,
     "metadata": {},
     "output_type": "execute_result"
    }
   ],
   "source": [
    "L[0]"
   ]
  },
  {
   "cell_type": "markdown",
   "metadata": {},
   "source": [
    "#### Potong tali tersebut di titik Y"
   ]
  },
  {
   "cell_type": "code",
   "execution_count": 11,
   "metadata": {},
   "outputs": [
    {
     "data": {
      "text/plain": [
       "109.23740943556531"
      ]
     },
     "execution_count": 11,
     "metadata": {},
     "output_type": "execute_result"
    }
   ],
   "source": [
    "Y = random.uniform(0,float(L[0])) \n",
    "Y"
   ]
  },
  {
   "cell_type": "markdown",
   "metadata": {},
   "source": [
    "#### Potong tali yang di pilih di titik X"
   ]
  },
  {
   "cell_type": "code",
   "execution_count": 12,
   "metadata": {},
   "outputs": [
    {
     "data": {
      "text/plain": [
       "105.07308607503417"
      ]
     },
     "execution_count": 12,
     "metadata": {},
     "output_type": "execute_result"
    }
   ],
   "source": [
    "X = random.uniform(0,float(Y))\n",
    "X"
   ]
  },
  {
   "cell_type": "markdown",
   "metadata": {},
   "source": [
    "- panjang tali X bergantung pada tali y yang sebelumnya di potong\n",
    "- panjang tali X tidak mungkin melebihi nilai y"
   ]
  },
  {
   "cell_type": "markdown",
   "metadata": {},
   "source": [
    "Sekarang coba simulasikan jika ada 100 tali dan kita lakukan skenario yang sama pada 100 tali tersebut"
   ]
  },
  {
   "cell_type": "code",
   "execution_count": 13,
   "metadata": {},
   "outputs": [
    {
     "data": {
      "image/png": "[encoded data removed]",
      "text/plain": [
       "<Figure size 640x480 with 1 Axes>"
      ]
     },
     "metadata": {},
     "output_type": "display_data"
    }
   ],
   "source": [
    "# simulasi program\n",
    "# misal panjang l berada di angka antara 0 dan 1000 dan akan dipotong pada Y\n",
    "\n",
    "N = 100 # banyaknya tali\n",
    "\n",
    "L = np.random.uniform(0,1000,size = N) # generate nilai random yang menyatakan panjang 100 tali, dgn asumsi berdistribusi uniform\n",
    "\n",
    "sns.distplot(L, label = \"panjang tali awal\") # plot distribusi L warna biru\n",
    "\n",
    "X_list = [] # definisikan array utk X\n",
    "Y_list = [] # definisikan array utk Y\n",
    "\n",
    "for i in range(N): \n",
    "    \n",
    "    # potong tali secara random dengan panjang Y\n",
    "    Y = random.uniform(0,float(L[i]))\n",
    "    \n",
    "    # simpan nilai y untuk masing2 tali\n",
    "    Y_list.append(Y)\n",
    "    \n",
    "    # potong kembali tali secara random di X\n",
    "    X = random.uniform(0,float(Y))\n",
    "\n",
    "    # simpan nilai x untuk masing2 y\n",
    "    X_list.append(X)\n",
    "    \n",
    "# visualisasi\n",
    "sns.distplot(Y_list, label = \"setelah potongan pertama (Y)\") # warna orange\n",
    "sns.distplot(X_list, label = \"setelah potongan kedua (X)\") # warna hijau\n",
    "plt.legend()\n",
    "plt.show()"
   ]
  },
  {
   "cell_type": "markdown",
   "metadata": {},
   "source": [
    "#### Coba hitung rata rata nilai X"
   ]
  },
  {
   "cell_type": "code",
   "execution_count": 14,
   "metadata": {},
   "outputs": [
    {
     "data": {
      "text/plain": [
       "np.float64(96.55220520136507)"
      ]
     },
     "execution_count": 14,
     "metadata": {},
     "output_type": "execute_result"
    }
   ],
   "source": [
    "np.mean(X_list)"
   ]
  },
  {
   "cell_type": "markdown",
   "metadata": {},
   "source": [
    "ingat bahwa value pada X_list bergantung pada Y, maka np.mean(X_list) adalah E[E[X|Y]]"
   ]
  },
  {
   "cell_type": "markdown",
   "metadata": {},
   "source": [
    "#### Rata rata nilai Y"
   ]
  },
  {
   "cell_type": "code",
   "execution_count": 15,
   "metadata": {},
   "outputs": [
    {
     "data": {
      "text/plain": [
       "np.float64(203.29994263985546)"
      ]
     },
     "execution_count": 15,
     "metadata": {},
     "output_type": "execute_result"
    }
   ],
   "source": [
    "np.mean(Y_list)"
   ]
  },
  {
   "cell_type": "markdown",
   "metadata": {},
   "source": [
    "#### Rata rata nilai L"
   ]
  },
  {
   "cell_type": "code",
   "execution_count": 16,
   "metadata": {},
   "outputs": [
    {
     "data": {
      "text/plain": [
       "np.float64(474.0838698412066)"
      ]
     },
     "execution_count": 16,
     "metadata": {},
     "output_type": "execute_result"
    }
   ],
   "source": [
    "np.mean(L)"
   ]
  },
  {
   "cell_type": "markdown",
   "metadata": {},
   "source": [
    "Untuk menentukan expected value panjang X, kita juga dapat menggunakan **law of iterated expectation**"
   ]
  },
  {
   "cell_type": "markdown",
   "metadata": {},
   "source": [
    "Berdasarkan materi pada video, akan diperoleh nilai $E[X]=E[E[X|Y]]=\\frac{l}{4}$.\n",
    "Mari kita cocokkan"
   ]
  },
  {
   "cell_type": "code",
   "execution_count": 17,
   "metadata": {},
   "outputs": [
    {
     "data": {
      "text/plain": [
       "np.float64(118.52096746030165)"
      ]
     },
     "execution_count": 17,
     "metadata": {},
     "output_type": "execute_result"
    }
   ],
   "source": [
    "# rata rata dari panjang tali (L) dibagi 4\n",
    "mean_L = np.mean(L)\n",
    "mean_L/4"
   ]
  },
  {
   "cell_type": "code",
   "execution_count": 18,
   "metadata": {},
   "outputs": [
    {
     "name": "stdout",
     "output_type": "stream",
     "text": [
      "Hasil dari perhitungan rata rata X_list 96.55220520136507\n",
      "Hasil dari law of iterated expectation 118.52096746030165\n"
     ]
    }
   ],
   "source": [
    "print(f\"Hasil dari perhitungan rata rata X_list {np.mean(X_list)}\")\n",
    "print(f\"Hasil dari law of iterated expectation {mean_L/4}\")"
   ]
  },
  {
   "cell_type": "markdown",
   "metadata": {},
   "source": [
    "- nilai `np.mean(X_list)` dan `mean_L/4` memiliki selisih yang tipis, \n",
    "- maka terbukti bahwa law of iterated expectation digunakan untuk mencari unconditional expectation jika diketahui conditional expectationnya."
   ]
  },
  {
   "cell_type": "markdown",
   "metadata": {},
   "source": [
    "Visualisasi rata rata panjang tali X dan panjang tali awalnya"
   ]
  },
  {
   "cell_type": "code",
   "execution_count": 19,
   "metadata": {},
   "outputs": [
    {
     "data": {
      "image/png": "[encoded data removed]",
      "text/plain": [
       "<Figure size 640x480 with 1 Axes>"
      ]
     },
     "metadata": {},
     "output_type": "display_data"
    }
   ],
   "source": [
    "expectation_visualization(L, X_list)"
   ]
  },
  {
   "cell_type": "markdown",
   "metadata": {},
   "source": [
    "## **Study Case 3: Berbelanja di Mall**\n",
    "---"
   ]
  },
  {
   "cell_type": "markdown",
   "metadata": {},
   "source": [
    "Anda pergi ke sebuah mall dengan membawa sejumlah uang. \n",
    "Disana, anda ingin berkunjung ke berbagai toko. \n",
    "Anda membawa **sejumlah random uang** dan **belum memiliki daftar toko** untuk dituju maupun barang yang ingin dibeli. \n",
    "Satu hal yang pasti, anda ingin berbelanja. \n",
    "Dapatkah anda menentukan estimasi uang yang akan anda habiskan? "
   ]
  },
  {
   "cell_type": "markdown",
   "metadata": {},
   "source": [
    "Pada kasus ini, \n",
    "- Jumlah toko akan dimisalkan sebanyak $N$\n",
    "- Uang yang anda habiskan akan dimisalkan sebagai variabel random $Y$\n",
    "- Uang yang anda belanjakan pada toko ke - $N$ akan dimisalkan sebagai $X_N$"
   ]
  },
  {
   "cell_type": "code",
   "execution_count": 20,
   "metadata": {},
   "outputs": [
    {
     "name": "stdout",
     "output_type": "stream",
     "text": [
      "Anda ke 1 toko\n",
      "Dengan total uang yang anda belanjakan: 270.00797319216485\n"
     ]
    }
   ],
   "source": [
    "N = random.randint(0,100) # banyaknya toko\n",
    "\n",
    "X = np.random.uniform(0,1000,size = int(N)) # generate uang yang ingin dihabiskan diantara 0-1000 ke N toko dgn asumsi dist. uniform\n",
    "\n",
    "Y = sum(X) # y adalah jumlahan seluruh uang yang dihabiskan disetiap tokonya\n",
    "\n",
    "print(f\"Anda ke {N} toko\")\n",
    "print(f\"Dengan total uang yang anda belanjakan: {Y}\")"
   ]
  },
  {
   "cell_type": "code",
   "execution_count": 21,
   "metadata": {},
   "outputs": [
    {
     "data": {
      "text/html": [
       "<div>\n",
       "<style scoped>\n",
       "    .dataframe tbody tr th:only-of-type {\n",
       "        vertical-align: middle;\n",
       "    }\n",
       "\n",
       "    .dataframe tbody tr th {\n",
       "        vertical-align: top;\n",
       "    }\n",
       "\n",
       "    .dataframe thead th {\n",
       "        text-align: right;\n",
       "    }\n",
       "</style>\n",
       "<table border=\"1\" class=\"dataframe\">\n",
       "  <thead>\n",
       "    <tr style=\"text-align: right;\">\n",
       "      <th></th>\n",
       "      <th>Uang yang dihabiskan</th>\n",
       "    </tr>\n",
       "  </thead>\n",
       "  <tbody>\n",
       "    <tr>\n",
       "      <th>0</th>\n",
       "      <td>270.007973</td>\n",
       "    </tr>\n",
       "  </tbody>\n",
       "</table>\n",
       "</div>"
      ],
      "text/plain": [
       "   Uang yang dihabiskan\n",
       "0            270.007973"
      ]
     },
     "execution_count": 21,
     "metadata": {},
     "output_type": "execute_result"
    }
   ],
   "source": [
    "pd.DataFrame(X, columns=[\"Uang yang dihabiskan\"])"
   ]
  },
  {
   "cell_type": "code",
   "execution_count": 22,
   "metadata": {},
   "outputs": [
    {
     "name": "stdout",
     "output_type": "stream",
     "text": [
      "Rata rata uang yang anda belanjakan disetiap tokonya: 270.00797319216485\n"
     ]
    }
   ],
   "source": [
    "print(f\"Rata rata uang yang anda belanjakan disetiap tokonya: {X.mean()}\")"
   ]
  },
  {
   "cell_type": "markdown",
   "metadata": {},
   "source": [
    "Distribusi uang yang dihabiskan"
   ]
  },
  {
   "cell_type": "code",
   "execution_count": 23,
   "metadata": {},
   "outputs": [
    {
     "data": {
      "text/plain": [
       "<matplotlib.lines.Line2D at 0x299e1d56310>"
      ]
     },
     "execution_count": 23,
     "metadata": {},
     "output_type": "execute_result"
    },
    {
     "data": {
      "image/png": "[encoded data removed]",
      "text/plain": [
       "<Figure size 640x480 with 1 Axes>"
      ]
     },
     "metadata": {},
     "output_type": "display_data"
    }
   ],
   "source": [
    "sns.histplot(X) # plot distribusi X warna biru\n",
    "plt.axvline(X.mean(), color=\"k\", linestyle=\"--\") # plot nilai rata rata X "
   ]
  },
  {
   "cell_type": "markdown",
   "metadata": {},
   "source": [
    "Untuk menentukan expected value Y, berdasarkan video materi, kita dapat menggunakan **total expectation theorem** atau **law of iterated expectation**.\n",
    "Akan dibuktikan bahwa keempat value yang ada di video bernilai sama."
   ]
  },
  {
   "cell_type": "markdown",
   "metadata": {},
   "source": [
    "$$ \\text{E}[Y|N=n] = n \\times \\text{E}[X] $$"
   ]
  },
  {
   "cell_type": "code",
   "execution_count": 24,
   "metadata": {},
   "outputs": [
    {
     "data": {
      "text/plain": [
       "np.float64(270.00797319216485)"
      ]
     },
     "execution_count": 24,
     "metadata": {},
     "output_type": "execute_result"
    }
   ],
   "source": [
    "exp_y = N*np.mean(X)\n",
    "exp_y"
   ]
  },
  {
   "cell_type": "markdown",
   "metadata": {},
   "source": [
    "$$ \\text{E}[Y] = \\sum_n p_n(n) \\times \\text{E}[Y|N=n] $$\n",
    "$$ \\text{E}[Y] = \\sum_n p_n(n) \\times n \\times \\text{E}[X] $$"
   ]
  },
  {
   "cell_type": "code",
   "execution_count": 25,
   "metadata": {},
   "outputs": [],
   "source": [
    "prob_N = X/Y "
   ]
  },
  {
   "cell_type": "code",
   "execution_count": 26,
   "metadata": {},
   "outputs": [
    {
     "data": {
      "text/html": [
       "<div>\n",
       "<style scoped>\n",
       "    .dataframe tbody tr th:only-of-type {\n",
       "        vertical-align: middle;\n",
       "    }\n",
       "\n",
       "    .dataframe tbody tr th {\n",
       "        vertical-align: top;\n",
       "    }\n",
       "\n",
       "    .dataframe thead th {\n",
       "        text-align: right;\n",
       "    }\n",
       "</style>\n",
       "<table border=\"1\" class=\"dataframe\">\n",
       "  <thead>\n",
       "    <tr style=\"text-align: right;\">\n",
       "      <th></th>\n",
       "      <th>Uang yang dihabiskan</th>\n",
       "      <th>Peluang uang dihabiskan di toko ke-i (p_n)</th>\n",
       "    </tr>\n",
       "  </thead>\n",
       "  <tbody>\n",
       "    <tr>\n",
       "      <th>0</th>\n",
       "      <td>270.007973</td>\n",
       "      <td>1.0</td>\n",
       "    </tr>\n",
       "  </tbody>\n",
       "</table>\n",
       "</div>"
      ],
      "text/plain": [
       "   Uang yang dihabiskan  Peluang uang dihabiskan di toko ke-i (p_n)\n",
       "0            270.007973                                         1.0"
      ]
     },
     "execution_count": 26,
     "metadata": {},
     "output_type": "execute_result"
    }
   ],
   "source": [
    "pd.DataFrame({\"Uang yang dihabiskan\":X, \n",
    "              \"Peluang uang dihabiskan di toko ke-i (p_n)\":X/Y})"
   ]
  },
  {
   "cell_type": "code",
   "execution_count": 27,
   "metadata": {},
   "outputs": [
    {
     "data": {
      "text/plain": [
       "np.float64(270.00797319216485)"
      ]
     },
     "execution_count": 27,
     "metadata": {},
     "output_type": "execute_result"
    }
   ],
   "source": [
    "exp_y = sum(prob_N)*N*np.mean(X)\n",
    "exp_y"
   ]
  },
  {
   "cell_type": "markdown",
   "metadata": {},
   "source": [
    "Law of iterated expectation\n",
    "\n",
    "$$ \\text{E}[Y] = \\sum_n p_n(n) \\times n \\times \\text{E}[X] $$"
   ]
  },
  {
   "cell_type": "code",
   "execution_count": 28,
   "metadata": {},
   "outputs": [
    {
     "name": "stdout",
     "output_type": "stream",
     "text": [
      "270.00797319216485\n"
     ]
    }
   ],
   "source": [
    "print(np.mean(N*(np.mean(X))))"
   ]
  },
  {
   "cell_type": "markdown",
   "metadata": {},
   "source": [
    "Total Expectation Theorem"
   ]
  },
  {
   "cell_type": "markdown",
   "metadata": {},
   "source": [
    "$$\\text{E}[Y]= \\text{E}[X]\\text{E}[N]$$"
   ]
  },
  {
   "cell_type": "code",
   "execution_count": 29,
   "metadata": {},
   "outputs": [
    {
     "name": "stdout",
     "output_type": "stream",
     "text": [
      "270.00797319216485\n"
     ]
    }
   ],
   "source": [
    "print(np.mean(X)*np.mean(N))"
   ]
  },
  {
   "cell_type": "markdown",
   "metadata": {},
   "source": [
    "Sebab bernilai sama, maka kita dapat menghitung estimasi uang yang dihabiskan (expected value) baik menggunakan **total expectation theorem** atau **law of iterated expectation**."
   ]
  }
 ],
 "metadata": {
  "kernelspec": {
   "display_name": "pacmann_env",
   "language": "python",
   "name": "python3"
  },
  "language_info": {
   "codemirror_mode": {
    "name": "ipython",
    "version": 3
   },
   "file_extension": ".py",
   "mimetype": "text/x-python",
   "name": "python",
   "nbconvert_exporter": "python",
   "pygments_lexer": "ipython3",
   "version": "3.9.1"
  }
 },
 "nbformat": 4,
 "nbformat_minor": 2
}
