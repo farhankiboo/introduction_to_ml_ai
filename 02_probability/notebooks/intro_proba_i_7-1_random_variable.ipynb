{
 "cells": [
  {
   "cell_type": "markdown",
   "metadata": {},
   "source": [
    "# **Pertemuan 7 - Random Variables**\n",
    "\n",
    "Introduction to Probability Course - Sekolah Data - Pacmann Academy"
   ]
  },
  {
   "cell_type": "markdown",
   "metadata": {},
   "source": [
    "**Outline**\n",
    "\n",
    "1. Review Variable Random\n",
    "2. Case 1 - An Even Split at Coin Tossing\n",
    "3. Case 2 - Chuck-a-luck\n",
    "4. Case 3 - Defect Screw"
   ]
  },
  {
   "cell_type": "markdown",
   "metadata": {},
   "source": [
    "## Library and Function Needed"
   ]
  },
  {
   "cell_type": "markdown",
   "metadata": {},
   "source": [
    "- Kita perlu memanggil library dan fungsi yang diperlukan untuk menjalankan code dalam notebook ini, yang meliputi kebutuhan:\n",
    "  - membaca data\n",
    "  - membuat data simulasi\n",
    "  - membuat visualisasi\n",
    "- Beberapa fungsi diambil dari beberapa pertemuan yang lalu"
   ]
  },
  {
   "cell_type": "code",
   "execution_count": 1,
   "metadata": {},
   "outputs": [],
   "source": [
    "# load data\n",
    "import pandas as pd\n",
    "import numpy as np\n",
    "import itertools\n",
    "import random\n",
    "from collections import Counter\n",
    "\n",
    "# load distribution\n",
    "from scipy.stats import binom\n",
    "\n",
    "# visualization\n",
    "import matplotlib.pyplot as plt\n",
    "import matplotlib.patches as mpatches"
   ]
  },
  {
   "cell_type": "code",
   "execution_count": null,
   "metadata": {},
   "outputs": [],
   "source": [
    "class Dist(Counter): \n",
    "    \"A Distribution of {outcome: frequency} pairs.\"\n",
    "\n",
    "def cases(outcomes): \n",
    "    \"The total frequency of all the outcomes.\"\n",
    "    return sum(Dist(outcomes).values())\n",
    "\n",
    "def favorable(event, space):\n",
    "    \"A distribution of outcomes from the sample space that are in the event.\"\n",
    "    space = Dist(space)\n",
    "    return Dist({x: space[x] \n",
    "                 for x in space if x in event})\n",
    "\n",
    "def Fraction(n, d): \n",
    "    \"Calculating the probability given outcome n and sample space d\"\n",
    "    return n / d\n",
    "\n",
    "def P(event, space): \n",
    "    \"The probability of an event, given a sample space.\"\n",
    "    return Fraction(cases(favorable(event, space)), \n",
    "                    cases(space))"
   ]
  },
  {
   "cell_type": "code",
   "execution_count": null,
   "metadata": {},
   "outputs": [],
   "source": [
    "def single_coin(p):\n",
    "    return \"H\" if random.random() <= p else \"T\"\n",
    "\n",
    "def coin_tosses(n_coins, head_proba=0.5):\n",
    "    \"\"\"\n",
    "    Simulating single n_coin toss\n",
    "    \"\"\"\n",
    "    coins_face = \"\"\n",
    "    for _ in range(n_coins):\n",
    "        coin_res = single_coin(head_proba)\n",
    "        coins_face += coin_res\n",
    "    \n",
    "    return coins_face\n",
    "\n",
    "def coin_sim(n_sim, n_coins, head_proba=0.5):\n",
    "    \"\"\"\n",
    "    Simulating n_coin toss with n_sim trials\n",
    "    \"\"\"\n",
    "    outcomes = []\n",
    "    for i in range(n_sim):\n",
    "        one_toss = coin_tosses(n_coins, head_proba)\n",
    "        outcomes.append(one_toss)\n",
    "    \n",
    "    return Dist(outcomes)\n"
   ]
  },
  {
   "cell_type": "code",
   "execution_count": null,
   "metadata": {},
   "outputs": [],
   "source": [
    "def toss_exp(n, n_coin):\n",
    "    head_proba = []\n",
    "    tail_proba = []\n",
    "    n_toss = []\n",
    "    for i in range(n):\n",
    "        coin_toss = coin_sim(i+1,1)\n",
    "        p_head = P({'H'}, coin_toss)\n",
    "        p_tail = P({'T'}, coin_toss)\n",
    "        head_proba.append(p_head)\n",
    "        tail_proba.append(p_tail)\n",
    "        n_toss.append(i+1)\n",
    "\n",
    "    plt.plot(n_toss, head_proba, 'k', label='Head Probability')\n",
    "    plt.plot(n_toss, tail_proba, 'r', label='Tail Probability')\n",
    "    plt.plot(n_toss, [0.5]*n, 'b--', label='Theoretical')\n",
    "    plt.legend()\n",
    "    plt.show()"
   ]
  },
  {
   "cell_type": "code",
   "execution_count": null,
   "metadata": {},
   "outputs": [],
   "source": [
    "def probability_model_dadu(jumlah_pelemparan):\n",
    "    \"\"\"\n",
    "    Simulasi pelemparan dadu 6 sisi sebanyak n kali\n",
    "\n",
    "    Parameters\n",
    "    ----------\n",
    "    jumlah_pelemparan = masukkan ingin melakukan eksperimen pelemparan berapa kali\n",
    "    \"\"\"\n",
    "    \n",
    "    # melakukan pelemparan dadu sebanyak jumlah_pelemparan \n",
    "    hasil_pelemparan = np.random.randint(1, 7, jumlah_pelemparan)\n",
    "\n",
    "    # untuk mengetahui berapa kali kemunculan mata dadu dalam jumlah_pelemparan\n",
    "    event_yang_muncul, frekuensi_muncul = np.unique(hasil_pelemparan, return_counts=True)\n",
    "    \n",
    "    # menghitung probability\n",
    "    proba_event = frekuensi_muncul / jumlah_pelemparan\n",
    "\n",
    "    # melakukan visualisasi\n",
    "    plt.bar(event_yang_muncul, proba_event)\n",
    "    plt.title(f\"Simulasi Pelemparan Dadu sebanyak {jumlah_pelemparan} kali\")\n",
    "    plt.xticks(np.arange(1, 7))\n",
    "    plt.xlabel(\"Angka Mata Dadu\")\n",
    "    plt.ylabel(\"Probability\")\n",
    "    plt.show()"
   ]
  },
  {
   "cell_type": "markdown",
   "metadata": {},
   "source": [
    "## **Review Variable Random**\n",
    "---"
   ]
  },
  {
   "cell_type": "markdown",
   "metadata": {},
   "source": [
    "### **Definisi**\n",
    "\n",
    "Dari materi yang sudah dipelajari di video:\n",
    "\n",
    "- Variable Random merupakan sebuah **fungsi**.\n",
    "- Dimana **kejadian dalam ruang sampel dipetakan menjadi angka numerik**. \n",
    "- Baik bersifat **Diskrit** dan **Kontinu**\n",
    "- Misal, pada pelemparan 2 koin. kita ingin memetakan banyak angka yang muncul maka \n",
    "\n",
    "$$\\Omega = {HH,TH,HT,TT}$$\n",
    "- akan menjadi Variable Random $$X =\\{0,1,2\\}$$\n",
    "- dimana X menyatakan banyak angka yang muncul dari 2 koin yang dilempar"
   ]
  },
  {
   "cell_type": "markdown",
   "metadata": {},
   "source": [
    "\n",
    "### **PMF**"
   ]
  },
  {
   "cell_type": "markdown",
   "metadata": {},
   "source": [
    "- Untuk mendefinisikan peluang pada nilai di variable random, kita bisa gunakan PMF\n",
    "- PMF adalah fungsi yang memetakan nilai pada variable random diskrit menjadi nilai **peluang**\n",
    "- Misalnya, kita ingin mencari peluang tidak ada angka yang muncul dari pelemparan 2 koin \n",
    "$$P(X=0) = P(TT) = \\frac{1}{4}$$\n",
    "- Notasi PMF dapat dituliskan seperti ini $P(X=x)$ atau seperti ini $p_{x}(x)$\n",
    "- PMF memenuhi axioma probabilitas, dimana \n",
    "   - Nilai PMF harus non negatif\n",
    "   - Penjumlahan PMF pada semua nilai variable random adalah 1"
   ]
  },
  {
   "cell_type": "markdown",
   "metadata": {},
   "source": [
    "### **Distribusi Variable Random**"
   ]
  },
  {
   "cell_type": "markdown",
   "metadata": {},
   "source": [
    "- Distribusi peluang dari setiap nilai pada variable random dinamakan distribusi variable random\n",
    "- Ada banyak contoh distribusi **variable random diskrit**, diantaranya adalah: \n",
    "\n",
    "#### Variable random **Bernoulli**\n",
    "  - dipakai ketika memodelkan kejadian independen yang **hanya punya dua alternatif** sukses atau gagal\n",
    "\n",
    "#### Variable random **Binomial**\n",
    "  - dipakai ketika memodelkan kejadian independen yang **hanya punya dua alternatif** sukses atau gagal, yang dilakukan pada **n percobaan**\n",
    "\n",
    "#### Variable random **Uniform**\n",
    "  - dipakai ketika memodelkan kejadian independen yang **peluang kejadian** satu sama lainnya adalah **sama**\n",
    "\n",
    "#### Variable random Geometrik\n",
    "  - dipakai ketika memodelkan **banyak percobaan sampai** mendapatkan ke**sukses**an **pertama kali**"
   ]
  },
  {
   "cell_type": "markdown",
   "metadata": {},
   "source": [
    "## **Study Case 1: An Even Split at Coin Tossing**\n",
    "___\n"
   ]
  },
  {
   "cell_type": "markdown",
   "metadata": {},
   "source": [
    "Ketika 4 koin di lempar\n",
    "- Berapa peluang keluar 2 angka dari 4 koin?\n",
    "- Coba kita tebak, apakah peluangnya 0.5? karena bisa ada 2 angka 2 gambar\n",
    "\n",
    "Untuk menjawab pertanyaan tersebut, kita bisa menjawab dengan dua pendekatan, yaitu:\n",
    "\n",
    "- Melakukan simulasi melemparkan koin secara berkali - kali lalu menghitung proporsi kemunculannya\n",
    "- Menggunakan konsep pmf para random variables untuk mencari nilainya\n",
    "____"
   ]
  },
  {
   "cell_type": "markdown",
   "metadata": {},
   "source": [
    "### 1. Simulation"
   ]
  },
  {
   "cell_type": "markdown",
   "metadata": {},
   "source": [
    "- Mari coba selesaikan dengan simulasi untuk memodelkan kejadiannya dan hitung peluang nya berdasarkan hasil kemunculan dari simulasi"
   ]
  },
  {
   "cell_type": "markdown",
   "metadata": {},
   "source": [
    "* Kita simulasikan pelemparan 1 koin dahulu sebanyak satu juta kali, dan kita lihat hasilnya.\n",
    "* Mengapa satu juta kali? mari kita lihat ploting peluang saat 1 koin dilempar 10, 100 dan 1000 kali"
   ]
  },
  {
   "cell_type": "code",
   "execution_count": null,
   "metadata": {},
   "outputs": [],
   "source": [
    "toss_exp(10, 1)"
   ]
  },
  {
   "cell_type": "code",
   "execution_count": null,
   "metadata": {},
   "outputs": [],
   "source": [
    "toss_exp(100, 1)"
   ]
  },
  {
   "cell_type": "code",
   "execution_count": null,
   "metadata": {},
   "outputs": [],
   "source": [
    "toss_exp(1000, 1)"
   ]
  },
  {
   "cell_type": "code",
   "execution_count": null,
   "metadata": {},
   "outputs": [],
   "source": [
    "single_coin_tosses = coin_sim(1000000,1)\n",
    "single_coin_tosses"
   ]
  },
  {
   "cell_type": "code",
   "execution_count": null,
   "metadata": {},
   "outputs": [],
   "source": [
    "p_head = P({'H'}, single_coin_tosses)\n",
    "p_tail = P({'T'}, single_coin_tosses)\n",
    "\n",
    "print(f\"Head Probability: {p_head} \\n Tail Probability: {p_tail}\")"
   ]
  },
  {
   "cell_type": "markdown",
   "metadata": {},
   "source": [
    "Dari hasil diatas, semakin besar pelemparannya, kita bisa melihat bahwa nilai peluang angka atau gambar semakin dekat dengan nilai peluang secara teori yaitu $0.5$."
   ]
  },
  {
   "cell_type": "code",
   "execution_count": null,
   "metadata": {},
   "outputs": [],
   "source": [
    "plt.bar([0,1],[P({'H'}, single_coin_tosses),P({'T'}, single_coin_tosses)])\n",
    "plt.title(\"Probabilitas Hasil Pelemparan 1 Koin Satu Juta Kali\")\n",
    "plt.xticks(np.arange(0, 1))\n",
    "plt.xlabel(\"Angka atau Gambar\")\n",
    "plt.ylabel(\"Probability\")\n",
    "plt.show()"
   ]
  },
  {
   "cell_type": "markdown",
   "metadata": {},
   "source": [
    "* Selanjutnya coba simulasi melempar 4 koin sebanyak 1 juta kali"
   ]
  },
  {
   "cell_type": "code",
   "execution_count": null,
   "metadata": {},
   "outputs": [],
   "source": [
    "n_coin_tosses = coin_sim(1000000, 4)\n",
    "n_coin_tosses"
   ]
  },
  {
   "cell_type": "markdown",
   "metadata": {},
   "source": [
    "* Kemudian, kita hitung probabilitas muncul 2 angka dari 4 koin tersebut dari proporsi kemunculannya\n",
    "* Ingat kemunculan 2 angka pada 4 koin bisa dari **beberapa kombinasi** "
   ]
  },
  {
   "cell_type": "code",
   "execution_count": null,
   "metadata": {},
   "outputs": [],
   "source": [
    "p_head = P({'HHTT'}, n_coin_tosses) +  P({'HTHT'}, n_coin_tosses) + P({'THTH'}, n_coin_tosses) + \\\n",
    "          P({'TTHH'}, n_coin_tosses) + P({'HTTH'}, n_coin_tosses) + P({'THHT'}, n_coin_tosses)\n",
    "\n",
    "print(f\"Head Probability: {p_head}\")"
   ]
  },
  {
   "cell_type": "markdown",
   "metadata": {},
   "source": [
    "- Ternyata jawabannya bukan 0.5\n",
    "- Bagaimana jika yang kita lempar lebih dari 4 koin? Misalnya 100 koin \n",
    "- Mungkin bisa disimulasikan tapi perlu perubahan code untuk lebih efisien"
   ]
  },
  {
   "cell_type": "code",
   "execution_count": 2,
   "metadata": {},
   "outputs": [],
   "source": [
    "# untuk menjalankan code ini butuh lebih dari 5 menit\n",
    "# n_coin_tosses = coin_sim(1000000, 100)\n",
    "# n_coin_tosses"
   ]
  },
  {
   "cell_type": "markdown",
   "metadata": {},
   "source": [
    "\n",
    "- Apakah ada cara analitik untuk melakukan penyelesaian case ini?\n",
    "- Dari materi video kemarin kita bisa manfaatkan peluang (pmf) dari suatu distribusi variable random\n",
    "- Namun kita perlu tau termasuk variable random apa case yang kita hadapi?\n"
   ]
  },
  {
   "cell_type": "markdown",
   "metadata": {},
   "source": [
    "Kumpulkan informasi yang kita ketahui:\n",
    "- Terdapat 2 outcome dari kejadian pelemparan koin: angka dan gambar, Apakah pelemparan koin di kasus ini **Variable Random Bernouli**? \n",
    "  - Variable Random Bernouli memodelkan kejadian yang punya 2 outcome saja (Angka dan Gambar)\n",
    "  - Akan benar berdistribusi Bernouli jika hanya 1 koin saja yang dilempar, di case ini tidak sampai disitu, ada beberapa informasi lain, seperti:\n",
    "- Ada 4 koin yang dilempar : n banyak percobaan\n",
    "- Probabilitas angka keluar dari sebuah lemparan koin: 0.5\n",
    "\n",
    "Ketiga ciri ini menunjukkan ciri **Variable random Binomial**, dimana distribusi ini memodelkan situasi apapun dimana\n",
    "\n",
    "- Kita punya n percobaan yang idependen\n",
    "- Setiap percobaan dapat menghasilkan 2 kejadian yakni gagal dan sukses.\n",
    "- Dan probabilitas suksesnya adalah p.\n",
    "\n",
    "\n",
    "Dimana sukses =  muncul angka, gagal = muncul gambar\n",
    "- maka banyak angka yang muncul dari 4 pelemparan kita bisa simpan dalam variable random X yang diasumsikan berdistribusi Binomial, $$X \\sim \\text{Bin}(4, 0.5)$$\n"
   ]
  },
  {
   "cell_type": "markdown",
   "metadata": {},
   "source": [
    "- Kita bisa mencari peluang muncul nya 2 angka pada 4 koin yang dilempar adalah dengan mencari nilai PMF Variable Random X yang berdistribusi binomial dengan parameter n = 4 dan p = 0.5"
   ]
  },
  {
   "cell_type": "markdown",
   "metadata": {},
   "source": [
    "### 2. Binomial Distribution"
   ]
  },
  {
   "cell_type": "markdown",
   "metadata": {},
   "source": [
    "### Binomial PMF\n",
    "\n",
    "$$\n",
    "P(X=x)  = \\binom{n}{x} p^x (1-p)^{n-x}\n",
    "$$\n",
    "\n",
    "\n",
    "\n",
    "Koefisien Binomial\n",
    "\n",
    "$$\n",
    "\\binom{n}{k} = \\frac{n!}{(n-k)!k!} \\text{ for } k \\leq n\n",
    "$$\n"
   ]
  },
  {
   "cell_type": "markdown",
   "metadata": {},
   "source": [
    "- Selesaikan menggunakan PMF Distribusi Binomial\n",
    "- Hitung nilai PMF dari X saat x bernilai 2 \n",
    "- Probabilitas 2 angka muncul dari 4 koin yang dilempar $P(X=2)$ adalah "
   ]
  },
  {
   "cell_type": "code",
   "execution_count": null,
   "metadata": {},
   "outputs": [],
   "source": [
    "# peluang (PMF) dari bistribusi binomial saat banyak kemunculan angka x = 2 pada banyak koin n = 4 dengan peluang muncul angka p = 0.5\n",
    "\n",
    "# binom.pmf adalah fungsi untuk menghitung PMF binomial, fungsi tersebut menerima parameter x, n dan p\n",
    "binom.pmf(2, 4, 0.5)"
   ]
  },
  {
   "cell_type": "markdown",
   "metadata": {},
   "source": [
    "- Hasil perhitungan menggunakan PMF Distribusi Binomial dan hasil perhitungan peluang menggunakan [Simulasi](#scrollTo=kjCauICcqo1S) \n",
    "- Kita bisa menggunakan PMF untuk menghitung peluang dari kemunculan angka pada lebih dari 4 koin tanpa harus menggunakan simulasi yang membutuhkan cost lebih besar, misalnya 100 koin"
   ]
  },
  {
   "cell_type": "code",
   "execution_count": null,
   "metadata": {},
   "outputs": [],
   "source": [
    "# peluang (PMF) dari bistribusi binomial saat banyak kemunculan angka x = 50 pada banyak koin n = 100 dengan peluang muncul angka p = 0.5\n",
    "binom.pmf(50, 100, 0.5)"
   ]
  },
  {
   "cell_type": "markdown",
   "metadata": {},
   "source": [
    "- Visualisasi banyak kemunculan angka pada n koin yang dilempar"
   ]
  },
  {
   "cell_type": "code",
   "execution_count": null,
   "metadata": {},
   "outputs": [],
   "source": [
    "n_koin = 4 # coba ganti 5, 10 dan 100 \n",
    "all_binomial_proba = np.zeros(n_koin + 1)\n",
    "for i in range(n_koin + 1):\n",
    "    all_binomial_proba[i] = binom.pmf(i, n_koin, 0.5)\n",
    "\n",
    "plt.bar(np.arange(len(all_binomial_proba)), all_binomial_proba)\n",
    "plt.title(\"Peluang Kemunculan angka dari 100 pelemparan koin\")\n",
    "plt.xlabel(\"Banyak angka\")\n",
    "plt.ylabel(\"Probability\")\n",
    "plt.show()"
   ]
  },
  {
   "cell_type": "markdown",
   "metadata": {},
   "source": [
    "### Kesimpulan \n",
    "\n",
    "- Peluang keluar 2 angka dari 4 koin adalah 0.375\n",
    "- Nilai peluang tersebut dapat dicari dari perhitungan kemunculan dari simulasi maupun memakai rumus pmf yang memodelkan kejadian pelemparan pada distribusi binomial\n",
    "- Walaupun sekilas kemunculan 2 angka pada 4 koin probabilitasnya 0.375 terkesan kecil, namun nilai tersebut paling tinggi dari pada peluang kejadian yang lain bisa kita lihat dari hasil visualisasi\n",
    "- Lebih mungkin terjadi keluar angka dan gambar di frekuensi yang sama, daripada lebih besar frekuensi kemunculan salah satunya\n",
    "___"
   ]
  },
  {
   "cell_type": "markdown",
   "metadata": {},
   "source": [
    "### Exercise"
   ]
  },
  {
   "cell_type": "markdown",
   "metadata": {},
   "source": [
    "1. Berapa peluang keluar 1 angka dari 4 koin yang dilempar?"
   ]
  },
  {
   "cell_type": "code",
   "execution_count": 3,
   "metadata": {},
   "outputs": [],
   "source": [
    "# Code disini"
   ]
  },
  {
   "cell_type": "markdown",
   "metadata": {},
   "source": [
    "<details>\n",
    "    <summary><b>Klik untuk melihat kunci jawaban</b></summary>\n",
    "\n",
    "```python\n",
    "# Mencari nilai pmf saat x = 1 dengan n = 4 dan p = 0.5 menggunakan rumus pmf binomial\n",
    "\n",
    "p = binom.pmf(1, 4, 0.5)\n",
    "\n",
    "print(f\"peluang keluar 1 angka dari 4 koin yang dilempar adalah {p}\")\n",
    "```\n",
    "\n",
    "</details>\n",
    "\n",
    "---"
   ]
  },
  {
   "cell_type": "markdown",
   "metadata": {},
   "source": [
    "2. Berapa peluang keluar 5 angka dari 10 koin yang dilempar?"
   ]
  },
  {
   "cell_type": "code",
   "execution_count": 4,
   "metadata": {},
   "outputs": [],
   "source": [
    "# Code disini"
   ]
  },
  {
   "cell_type": "markdown",
   "metadata": {},
   "source": [
    "<details>\n",
    "    <summary><b>Klik untuk melihat kunci jawaban</b></summary>\n",
    "\n",
    "```python\n",
    "# Mencari nilai pmf saat x = 5 dengan n = 10 dan p = 0.5 menggunakan rumus pmf binomial\n",
    "\n",
    "p = binom.pmf(5, 10, 0.5)\n",
    "\n",
    "print(f\"peluang keluar 1 angka dari 4 koin yang dilempar adalah {p}\")\n",
    "```\n",
    "\n",
    "</details>\n",
    "\n",
    "---"
   ]
  },
  {
   "cell_type": "markdown",
   "metadata": {},
   "source": [
    "## **Study Case 2: Chuck-a-luck**\n",
    "____\n",
    "\n"
   ]
  },
  {
   "cell_type": "markdown",
   "metadata": {},
   "source": [
    "Mari bermain Chuck-a-luck! Chuck-a-luck adalah sebuah permainan dimana anda disuruh menebak salah satu angka dari {1,2,3,4,5,6} \n",
    "- Jika angka yang anda tebak muncul pada hasil pelemparan 3 dadu, anda akan mendapatkan i, i = 1,2,3 dolar sesuai dengan banyak angka tebakan yang keluar.\n",
    "- Jika angka yang ditebak tidak muncul sama sekali, maka pemain kalah sebesar 1\n",
    "dolar.\n",
    "- Analisis apakah permainan ini adil\n",
    "\n",
    "<img src=\"https://cdn.shopify.com/s/files/1/1279/9999/products/50-1010-5__51154.1395352777.1280.1280_8a6df156-4b73-4a7a-917a-6c4313db0223.jpeg?v=1571438918\" width=300/>\n",
    "\n",
    "Permainan adil ketika:\n",
    "- Tidak merugikan 2 belah pihak, pemain maupun bandar\n",
    "- Ketika melakukan banyak permainan, pemain atau bandar tidak rugi\n",
    "\n",
    "Untuk menjawab pertanyaan tersebut, kita bisa menjawab dengan dua pendekatan, yaitu:\n",
    "\n",
    "- Melakukan simulasi melemparkan dadu dan menebak secara berkali - kali lalu menghitung proporsi kemunculan tebakannya dan ketidak munculan tebakan\n",
    "- Menggunakan konsep expected value random variables untuk melihat kumulasi uang yang didapatkan"
   ]
  },
  {
   "cell_type": "markdown",
   "metadata": {},
   "source": [
    "### 1. Simulation\n",
    "- Mari coba simulasikan permainannya dan hitung hasil akhir uang yang kita terima berdasarkan hasil keluaran dari simulasi\n",
    "- Atur banyak percobaan permainan sebesar satu juta kali\n",
    "- Simulasikan dari setiap percobaan pilih acak angka tebakan dan lihat hasil lemparan 3 dadunya"
   ]
  },
  {
   "cell_type": "code",
   "execution_count": null,
   "metadata": {},
   "outputs": [],
   "source": [
    "np.random.seed(1)\n",
    "\n",
    "# Banyak percobaan permainan\n",
    "n_trials = 1000000\n",
    "\n",
    "# Pilihan acak 1 angka tebakan dari dadu {1,2,3,4,5,6}\n",
    "\n",
    "# np.random.randomint adalah fungsi untuk mendapatkan angka random dengan beberapa setting parameter urutan angka acak, dan banyaknya angka acak \n",
    "choice = np.random.randint(1,7, size = (n_trials,1))\n",
    "print(f\"Tebakan : \\n {choice}\")\n",
    "\n",
    "# Hasil acak pelemparan 3 dadu\n",
    "rolls = np.random.randint(1,7, size = (n_trials, 3))\n",
    "print(f\"\\n Hasil pelemparan 3 dadu : \\n {rolls}\")"
   ]
  },
  {
   "cell_type": "markdown",
   "metadata": {},
   "source": [
    "- Dari hasil tersebut bisa kita lihat di percobaan pertama yang ditebak angka 6 yang muncul 3,6,6 maka kita akan mendapatkan 2 dolar\n",
    "- Selanjutnya ditebak angka 4 yang muncul 4,5,6 maka kita akan mendapatkan 1 dolar\n",
    "- Hasil kumulatif yang kita dapatkan dari 2 percobaan permainan adalah 3 dolar\n",
    "- Hitung kumulatif uang yang kita dapatkan di akhir permainan"
   ]
  },
  {
   "cell_type": "code",
   "execution_count": null,
   "metadata": {},
   "outputs": [],
   "source": [
    "# Pengecekan banyak tebakan angka yang muncul di pelemparan 3 dadu\n",
    "count_bet = np.sum(choice==rolls, axis=1)\n",
    "print(count_bet)"
   ]
  },
  {
   "cell_type": "code",
   "execution_count": null,
   "metadata": {},
   "outputs": [],
   "source": [
    "# hitung kumulasi kemenangan dari kemunculan tebakan dan banyak kekalahan jika tebakan sama sekali tidak muncul\n",
    "\n",
    "winning_dollar = 1\n",
    "losing_dollar = -1\n",
    "number_bet_appear = np.sum(count_bet)\n",
    "number_bet_notappear = np.sum(count_bet==0)\n",
    "\n",
    "\n",
    "earn = winning_dollar*number_bet_appear + losing_dollar*number_bet_notappear\n",
    "print(earn)"
   ]
  },
  {
   "cell_type": "markdown",
   "metadata": {},
   "source": [
    "- Ternyata di akhir dari  satu juta permainan kita akan rugi 78754 dolar\n",
    "- Maka dapat disimpulkan permainan ini tidak adil, karena merugikan pemain"
   ]
  },
  {
   "cell_type": "markdown",
   "metadata": {},
   "source": [
    "- Permainan juga bisa dikatakan adil jika ekspektasi uang yang didapatkan 0 (pemain tidak rugi uang dan bandar tidak rugi) "
   ]
  },
  {
   "cell_type": "markdown",
   "metadata": {},
   "source": [
    "- Ekspektasi hasil uang yang didapatkan bisa didapatkan dari perkalian peluang menang dengan uang yang didapatkan dijumlahkan dengan peluang kalah dengan uang yang harus diberikan"
   ]
  },
  {
   "cell_type": "code",
   "execution_count": null,
   "metadata": {},
   "outputs": [],
   "source": [
    "probability_winning = number_bet_appear/n_trials\n",
    "probability_lose = number_bet_notappear/n_trials\n",
    "\n",
    "mean_winnings = winning_dollar*probability_winning+losing_dollar*probability_lose\n",
    "print(mean_winnings)"
   ]
  },
  {
   "cell_type": "markdown",
   "metadata": {},
   "source": [
    "- Mari kita coba cari cara menghitung secara analitik.\n",
    "- Cari tau variable random apa yang dapat digunakan untuk menyelesaikan case ini\n",
    "- Kumpulkan informasi yang kita ketahui:\n",
    "  - Ada 3 dadu yang dilempar : n banyak percobaan\n",
    "  - Terdapat 2 outcome dari kejadian pelemparan sebuah dadu: angka yang ditebak **muncul** dan **tidak**\n",
    "  - Probabilitas angka keluar dari sebuah lemparan dadu: 1/6\n"
   ]
  },
  {
   "cell_type": "markdown",
   "metadata": {},
   "source": [
    "\n",
    "Ketiga ciri ini menunjukkan ciri **Variable Random Binomial**, dimana distribusi ini memodelkan situasi apapun dimana\n",
    "\n",
    "- Kita punya n percobaan yang idependen\n",
    "- Setiap percobaan dapat menghasilkan 2 kejadian yakni gagal dan sukses.\n",
    "- Dan probabilitas suksesnya adalah p.\n",
    "\n",
    "Dimana sukses =  muncul angka yang ditebak, gagal = tidak muncul angka yang ditebak\n",
    "- maka jumlah uang dari angka tebakan yang muncul dari 3 pelemparan dadu, bisa disimpan dalam variable random X yang diasumsikan berdistribusi Binomial, $$X \\sim Bin(3, 1/6)$$\n",
    "\n",
    "- Ekspektasi pendapatan uang sama dengan mencari nilai $E[X]$ Variable Random X yang berdistribusi binomial dengan parameter n = 4 dan p = 0.5"
   ]
  },
  {
   "cell_type": "markdown",
   "metadata": {},
   "source": [
    "### 2. Binomial: Expected Value\n",
    "- Selesaikan dengan Perhitungan ekspektasi pada distribusi binomial\n",
    "- X adalah jumlah uang yang pemain dapatkan dari 3 kali pelemparan dadu, maka $X \\sim Bin(3, 1/6)$"
   ]
  },
  {
   "cell_type": "code",
   "execution_count": null,
   "metadata": {},
   "outputs": [],
   "source": [
    "p = 1/6\n",
    "n = 3\n",
    "\n",
    "# hitung rata rata pendapatan uang dari perkalian pendapatan uang dan peluangnya\n",
    "\n",
    "p_lose_1_dollar = binom.pmf(0, n, p)\n",
    "p_earn_1_dollar = binom.pmf(1, n, p)\n",
    "p_earn_2_dollar = binom.pmf(2, n, p)\n",
    "p_earn_3_dollar = binom.pmf(3, n, p)\n",
    "\n",
    "expected_earning = (-1*p_lose_1_dollar) + (1*p_earn_1_dollar) + (2*p_earn_2_dollar) + (3*p_earn_3_dollar)\n",
    "print(expected_earning)"
   ]
  },
  {
   "cell_type": "markdown",
   "metadata": {},
   "source": [
    "### Kesimpulan\n",
    "\n",
    "- Hasil ekspektasi pendapatan yang didapatkan dari simulasi dan rumus expected value tidak bernilai positif\n",
    "- Maka setelah melakukan banyak percobaan pemain akan cenderung kalah memberikan uang ke bandar (minus)\n",
    "- Permainan akan adil jika hasil ekspektasi kemenangannya adalah 0 \n",
    "- Dapat disimpulakn bahwa permainan ini tidak adil\n",
    "\n",
    "____"
   ]
  },
  {
   "cell_type": "markdown",
   "metadata": {},
   "source": [
    "Visualisasi kemunculan tebakan dari 3 dadu"
   ]
  },
  {
   "cell_type": "code",
   "execution_count": null,
   "metadata": {},
   "outputs": [],
   "source": [
    "n_dadu = 3\n",
    "all_binomial_proba = np.zeros(n_dadu + 1)\n",
    "for i in range(n_dadu + 1):\n",
    "    all_binomial_proba[i] = binom.pmf(i, n_dadu, 1/6)\n",
    "\n",
    "plt.bar(np.arange(len(all_binomial_proba)), all_binomial_proba, color=['red', 'blue', 'blue', 'blue'])\n",
    "\n",
    "plt.xlabel(\"Number of Winning\")\n",
    "plt.ylabel(\"Probability\")\n",
    "red_patch = mpatches.Patch(color='red', label='Lose')\n",
    "blue_patch = mpatches.Patch(color='blue', label='Win')\n",
    "plt.legend(handles=[red_patch, blue_patch])\n",
    "plt.show()"
   ]
  },
  {
   "cell_type": "markdown",
   "metadata": {},
   "source": [
    "### 3. Explore\n",
    "\n",
    "Jika anda bermain permainan tersebut, pada percobaan permainan keberapa anda akan mendapatkan uang pertama kali ?"
   ]
  },
  {
   "cell_type": "markdown",
   "metadata": {},
   "source": [
    "- Cari peluang mendapatkan uang, bisa mendapatkan 1,2, atau 3 dolar"
   ]
  },
  {
   "cell_type": "code",
   "execution_count": null,
   "metadata": {},
   "outputs": [],
   "source": [
    "p_earn_dollar = p_earn_1_dollar + p_earn_2_dollar + p_earn_3_dollar\n",
    "p_earn_dollar"
   ]
  },
  {
   "cell_type": "markdown",
   "metadata": {},
   "source": [
    "- Untuk mencari ekspektasi percobaan yang harus dilakukan untuk mendapatkan uang pertama kali, perlu kita tau distribusi apa percobaan untuk mendapatkan uang pertama kali? \n",
    "- Aplikasi Distribusi Geometrik dapat memodelkan hal tersebut\n",
    "- Dimana, mendapatkan uang = sukses "
   ]
  },
  {
   "cell_type": "markdown",
   "metadata": {},
   "source": [
    "- Maka kita bisa mencari ekspektasi banyak percobaan sampai mendapatkan kesuksesan pertaman kali $$E[X]=\\frac{1}{p}$$ dari distribusi Geometrik dimana X adalah banyak percobaan untuk mendapatkan tebakan angka yang muncul pertama kali, $$X \\sim Geo(p\\_earn\\_dollar)$$"
   ]
  },
  {
   "cell_type": "code",
   "execution_count": null,
   "metadata": {},
   "outputs": [],
   "source": [
    "# hitung ekpektasi banyak percobaan untuk mendapatkan uang dengan probabilitas p_earn_dollar pertama kali\n",
    "# gunakan expected value geometric distribution\n",
    "\n",
    "expected_trial_until_earn_dollar = 1/p_earn_dollar \n",
    "print(expected_trial_until_earn_dollar)"
   ]
  },
  {
   "cell_type": "markdown",
   "metadata": {},
   "source": [
    "### Kesimpulan\n",
    "\n",
    "- Harus melakukan 3 kali percobaan dengan 2 kali kekalahan, menyerahkan 2 dolar sebelum mendapatkan uang di percobaan ke 3 \n",
    "- Rugi kalau mendapatkan 1 dolar aja\n",
    "- Mari cek yang mana yang lebih mungkin, mendapatkan 1 dolar atau 3 dolar"
   ]
  },
  {
   "cell_type": "code",
   "execution_count": null,
   "metadata": {},
   "outputs": [],
   "source": [
    "p_earn_1_dollar"
   ]
  },
  {
   "cell_type": "code",
   "execution_count": null,
   "metadata": {},
   "outputs": [],
   "source": [
    "p_earn_3_dollar"
   ]
  },
  {
   "cell_type": "markdown",
   "metadata": {},
   "source": [
    "- Dari peluangnya lebih mungkin dapat 1 dolar aja\n",
    "-Jadi di walaupun kita akan mendapatkan kemenangan pertama kali di percobaan ke-3, kita akan lebih mungkin rugi -2\\$+1\\$ = -1\\$ daripada seri atau untung\n",
    "\n",
    "___"
   ]
  },
  {
   "cell_type": "markdown",
   "metadata": {},
   "source": [
    "### Exercise"
   ]
  },
  {
   "cell_type": "markdown",
   "metadata": {},
   "source": [
    "Berapa ekspektasi percobaan yang harus dilakukan hingga anda akan mendapatkan uang 3 dolar pertama kali ?"
   ]
  },
  {
   "cell_type": "code",
   "execution_count": 1,
   "metadata": {},
   "outputs": [],
   "source": [
    "# Code Disini"
   ]
  },
  {
   "cell_type": "markdown",
   "metadata": {},
   "source": [
    "<details>\n",
    "    <summary><b>Klik untuk melihat kunci jawaban</b></summary>\n",
    "\n",
    "```python\n",
    "# Mencari nilai E[X] saat p = peluang mendapatkan 3 dolar menggunakan rumus E[X] Geometri\n",
    "\n",
    "e = 1/p_earn_3_dollar\n",
    "\n",
    "print(f\"Ekspektasi percobaan yang harus dilakukan untuk mendapatkan 3 dolar pertama kali adalah {e}\")\n",
    "```\n",
    "\n",
    "</details>\n",
    "\n",
    "---"
   ]
  },
  {
   "cell_type": "markdown",
   "metadata": {},
   "source": [
    "## **Study Case 3: Defect Screw**\n",
    "____"
   ]
  },
  {
   "cell_type": "markdown",
   "metadata": {},
   "source": [
    "\n",
    "Sebuah perusahaan memproduksi sekrup dan melakukan inspeksi kualitas sekrup. Perusahaan tersebut menyimpan [data inspeksi sekrup cacat](https://docs.google.com/spreadsheets/d/162AhsxCHd88gxGmGZa_lPDuhFkzfpIW-/edit?usp=sharing&ouid=100608989434241589255&rtpof=true&sd=true) dalam file excel yang kita baca di bawah ini\n"
   ]
  },
  {
   "cell_type": "markdown",
   "metadata": {},
   "source": [
    "### Data"
   ]
  },
  {
   "cell_type": "code",
   "execution_count": 2,
   "metadata": {},
   "outputs": [
    {
     "ename": "NameError",
     "evalue": "name 'pd' is not defined",
     "output_type": "error",
     "traceback": [
      "\u001b[1;31m---------------------------------------------------------------------------\u001b[0m",
      "\u001b[1;31mNameError\u001b[0m                                 Traceback (most recent call last)",
      "Cell \u001b[1;32mIn[2], line 1\u001b[0m\n\u001b[1;32m----> 1\u001b[0m defect_test \u001b[38;5;241m=\u001b[39m \u001b[43mpd\u001b[49m\u001b[38;5;241m.\u001b[39mread_excel(\u001b[38;5;124m\"\u001b[39m\u001b[38;5;124mC:/Users/farha/Documents/pacmann/02_probability/dataset/week-7-8-defect_test.xlsx\u001b[39m\u001b[38;5;124m\"\u001b[39m) \u001b[38;5;66;03m# fungsi untuk membaca data excel \"defect_test.xlsx\"\u001b[39;00m\n\u001b[0;32m      2\u001b[0m defect_test\u001b[38;5;241m.\u001b[39mhead()\n",
      "\u001b[1;31mNameError\u001b[0m: name 'pd' is not defined"
     ]
    }
   ],
   "source": [
    "defect_test = pd.read_excel(\"C:/Users/farha/Documents/pacmann/02_probability/dataset/week-7-8-defect_test.xlsx\") # fungsi untuk membaca data excel \"defect_test.xlsx\"\n",
    "defect_test.head()"
   ]
  },
  {
   "cell_type": "markdown",
   "metadata": {},
   "source": [
    "- Di dua kasus sebelumnya kita mencari peluang menggunakan simulasi\n",
    "- Jika kita mempunyai data, kita bisa menghitung peluang dari data tersebut, tidak perlu melakukan simulasi untuk menghitung peluang\n"
   ]
  },
  {
   "cell_type": "markdown",
   "metadata": {},
   "source": [
    "- Coba kita hitung peluang sekrup cacat dari data inspeksi perusahaan tersebut"
   ]
  },
  {
   "cell_type": "code",
   "execution_count": null,
   "metadata": {},
   "outputs": [],
   "source": [
    "defect_condition = defect_test[defect_test[\"lolos_uji_cacat\"]==0] # data defect_test dengan kolom lolos_uji_cacat bernilai 0\n",
    "count_defect = len(defect_condition) # banyak data dengan kolom lolos_uji_cacat bernilai 0 \n",
    "count_rowdata = len(defect_test) # banyak data keseluruhan\n",
    "\n",
    "p_defect = count_defect/count_rowdata\n",
    "p_defect"
   ]
  },
  {
   "cell_type": "markdown",
   "metadata": {},
   "source": [
    "### Question\n",
    "Dari data tersebut kita dapatkan peluang cacat sebesar 0.01. Perusahaan tersebut menjual sekrup-sekrup dalam bentuk kemasan berisi 10 buah sekrup dan menawarkan jaminan uang kembali jika terdapat lebih dari 1 sekrup yang cacat. Selesaikan beberapa pertanyaan berikut: \n",
    "\n",
    "1. Berapa proporsi banyak kemasan terjual yang harus diganti oleh perusahaan?\n",
    "2. Berapa ekspektasi banyak sekrup yang rusak dalam kemasan\n",
    "3. Berapa ekspektasi banyak sekrup yang harus dicek untuk mendapatkan sekrup yang cacat pertama kali\n",
    "4. Berapa ekspektasi banyak kemasan yang harus dicek untuk mendapatkan kemasan yang harus diganti pabrik pertama kali (mendapatkan lebih dari satu sekrup yang cacat)\n",
    "\n",
    "___\n",
    "\n"
   ]
  },
  {
   "cell_type": "markdown",
   "metadata": {},
   "source": [
    "Untuk menjawab pertanyaan diatas, apakah bisa kita selesaikan dengan menggunakan data yang kita punya? \n",
    "\n",
    "Mari coba selesaikan nomer 1. karena kemasan terjual itu memiliki kondisi sekrup cacat lebih dari satu, yang bisa kita hitung dari datanya adalah peluang sekrup cacat lebih dari satu"
   ]
  },
  {
   "cell_type": "code",
   "execution_count": null,
   "metadata": {},
   "outputs": [],
   "source": [
    "p_more_than_one_defect = len(defect_test[defect_test[\"lolos_uji_cacat\"]>=1])/len(defect_test)\n",
    "p_more_than_one_defect"
   ]
  },
  {
   "cell_type": "markdown",
   "metadata": {},
   "source": [
    "Namun yang diminta oleh soal adalah kondisi lebih dari 1 sekrup cacat di dalam kemasan, maka jawaban diatas tidaklah benar"
   ]
  },
  {
   "cell_type": "markdown",
   "metadata": {},
   "source": [
    "- Untuk menjawab pertanyaan diatas, sepertinya kita bisa menggunakan bantuan peluang dari Variable Random. \n",
    "- Tapi Variable Random apa yang bisa kita gunakan untuk menyelesaikan pertanyaan tersebut?"
   ]
  },
  {
   "cell_type": "markdown",
   "metadata": {},
   "source": [
    "Apa yang kita ketahui:\n",
    "\n",
    "- Kejadian 2 outcome : cacat dan tidak\n",
    "- Ada 10 sekrup : n percobaan\n",
    "- Probabilitas sukses (cacat) p = 0.01 \n",
    "\n",
    "Tiga poin diatas sangat mirip dengan syarat aplikasi Variable Random Binomial, maka kita bisa membuat X adalah banyak sekrup yang cacat di dalam kemasan dan $$X \\sim Bin(10, 0.01)$$\n"
   ]
  },
  {
   "cell_type": "markdown",
   "metadata": {},
   "source": [
    "### Binomial PMF"
   ]
  },
  {
   "cell_type": "markdown",
   "metadata": {},
   "source": [
    "___\n",
    "#### **Pertanyaan 1**: Hitung proporsi banyak kemasan terjual yang harus diganti oleh pabrik. \n",
    "\n",
    "- Kita bisa gunakan peluang dari Variable Random Binomial\n",
    "- Hitung peluang banyak sekrup cacat lebih dari 1, $P(X>1)$"
   ]
  },
  {
   "cell_type": "markdown",
   "metadata": {},
   "source": [
    "- Dengan Axiom Probability $P(X>1)$ bisa dicari dengan\n",
    "$$P(X>1) = 1 - P(X=0) - P(X=1)$$ "
   ]
  },
  {
   "cell_type": "code",
   "execution_count": null,
   "metadata": {},
   "outputs": [],
   "source": [
    "# menghitung P(X>1)\n",
    "\n",
    "# P(X>1) = 1 - P(X=0) - (PX=1)\n",
    "\n",
    "n = 10\n",
    "p_defect = 0.01\n",
    "p_return_defect = 1 - binom.pmf(0, n, p_defect) - binom.pmf(1, n, p_defect)\n",
    "p_return_defect\n",
    "\n",
    "# Second solution\n",
    "# 1 - binom.cdf(1, n, p)"
   ]
  },
  {
   "cell_type": "markdown",
   "metadata": {},
   "source": [
    "#### **Jawaban Pertanyaan 1**\n",
    "\n",
    "Jika kita punya 1000 kemasan maka akan ada 4-5 kemasan yang harus diganti"
   ]
  },
  {
   "cell_type": "markdown",
   "metadata": {},
   "source": [
    "Visualisasi Distribusi sekrup Rusak dari 1 kemasan dan peluangnya"
   ]
  },
  {
   "cell_type": "code",
   "execution_count": null,
   "metadata": {},
   "outputs": [],
   "source": [
    "N = 10\n",
    "all_binomial_proba = np.zeros(N + 1)\n",
    "for i in range(N + 1):\n",
    "    all_binomial_proba[i] = binom.pmf(i, N, 0.01)\n",
    "\n",
    "plt.bar(np.arange(len(all_binomial_proba)), all_binomial_proba, color = [\"green\",\"green\",\"red\"])\n",
    "red_patch = mpatches.Patch(color='green', label='Kemasan Tidak Ganti')\n",
    "blue_patch = mpatches.Patch(color='red', label='Kemasan Harus Diganti')\n",
    "plt.legend(handles=[red_patch, blue_patch])\n",
    "plt.title(\"sekrup cacat per kemasan\")\n",
    "plt.xlabel(\"Banyak sekrup Cacat\")\n",
    "plt.ylabel(\"Probability\")\n",
    "plt.show()"
   ]
  },
  {
   "cell_type": "markdown",
   "metadata": {},
   "source": [
    "- paling mungkin mendapatkan sekrup yang tidak cacat"
   ]
  },
  {
   "cell_type": "markdown",
   "metadata": {},
   "source": [
    "___\n",
    "#### **Pertanyaan 2. Berapa ekspektasi banyak sekrup yang rusak dalam kemasan**\n",
    "\n",
    "- Kita bisa menggunakan perhitungan Expected Value"
   ]
  },
  {
   "cell_type": "markdown",
   "metadata": {},
   "source": [
    "$$E[X] = n\\times p$$"
   ]
  },
  {
   "cell_type": "code",
   "execution_count": null,
   "metadata": {},
   "outputs": [],
   "source": [
    "# Ekspektasi banyak sekrup rusak E[X]\n",
    "# E[X] = n x p_defect\n",
    "\n",
    "expected_screw_defect = n * p_defect\n",
    "print(10*0.01)"
   ]
  },
  {
   "cell_type": "markdown",
   "metadata": {},
   "source": [
    "#### **Jawaban Pertanyaan 2**\n",
    "- Ekspektasi sekrup yang rusak adalah 0.1 dalam kemasan\n",
    "- Kecil sekali bahkan tidak sampai 1 sekrup yang rusak"
   ]
  },
  {
   "cell_type": "markdown",
   "metadata": {},
   "source": [
    "____\n",
    "#### **Pertanyaan 3. Berapa ekspektasi banyak sekrup yang harus dicek untuk mendapatkan sekrup yang cacat pertama kali**"
   ]
  },
  {
   "cell_type": "markdown",
   "metadata": {},
   "source": [
    "\n",
    "- Berbeda dengan soal sebelumnya, konteks soal nomer 3 adalah berapa pengecekan sekrup yang dicari\n",
    "- Yang kita ketahui\n",
    "  - Kejadian 2 outcome : cacat dan tidak\n",
    "  - Probabilitas sukses (cacat) p = 0.01\n",
    "- Kita bisa menggunakan Variable Random Geometri yang memodelkan percobaan yang harus dilakukan sampai sukses pertama kali\n",
    "\n",
    "##### Geometric Expected Value\n",
    "- X adalah **banyak pengecekan sekrup** yang harus dilakukan sampai ketemu sekrup yang cacat pertama kalinya, maka $$X \\sim Geo(p = 0.01)$$\n",
    "- Soal nomer 3 mencari ekspektasi banyak pengecekan sampai ketemu sekrup yang cacat, maka kita bisa mencari $E[X]$ dari Variable Random Geometrik\n",
    "$$E[X] = \\frac{1}{p}$$\n",
    "\n"
   ]
  },
  {
   "cell_type": "code",
   "execution_count": null,
   "metadata": {},
   "outputs": [],
   "source": [
    "# Ekspektasi banyak sekrup yang dicek sampai bertemu sekrup yang cacat\n",
    "expected_sc_untillfirst_defect = 1/p_defect\n",
    "expected_sc_untillfirst_defect"
   ]
  },
  {
   "cell_type": "markdown",
   "metadata": {},
   "source": [
    "#### **Jawaban Pertanyaan 3**\n",
    "\n",
    "- Ternyata, butuh 100 sekrup yang harus dicek untuk mendapatkan sekrup cacat pertama kali"
   ]
  },
  {
   "cell_type": "markdown",
   "metadata": {},
   "source": [
    "___\n",
    "#### **Pertanyaan 4. Berapa ekspektasi banyak kemasan yang harus dicek untuk mendapatkan kemasan yang harus diganti pabrik pertama kali** (mendapatkan lebih dari satu sekrup yang cacat)\n"
   ]
  },
  {
   "cell_type": "markdown",
   "metadata": {},
   "source": [
    "\n",
    "- Berbeda dengan soal sebelumnya, konteks soal nomer 4 adalah berapa **pengecekan kemasan** yang dicari\n",
    "- Yang kita ketahui\n",
    "  - Kejadian 2 outcome : kemasan diganti dan tidak diganti\n",
    "  - Probabilitas sukses (kemasan diganti) p = p_return_defect\n",
    "- Kita bisa menggunakan Variable Random Geometri yang memodelkan percobaan yang harus dilakukan sampai sukses pertama kali\n",
    "- Namun yang dimodelkan adalah banyak pengecekan kemasan bukan pengecekan sekrup (berbeda dengan konteks nomer 3)"
   ]
  },
  {
   "cell_type": "markdown",
   "metadata": {},
   "source": [
    "- X adalah **banyak pengecekan kemasan** yang harus dilakukan **sampai** ketemu kemasan yang harus diganti pertama kalinya, maka X ~ Geo(p = p_return_defect)\n",
    "- Gunakan $E[X]$ Variable Geometri untuk mencari ekspektasi banyak pengecekan kemasan yang harus dilakukan\n",
    "\n",
    "$$E[X] = \\frac{1}{p}$$\n",
    "\n"
   ]
  },
  {
   "cell_type": "code",
   "execution_count": null,
   "metadata": {},
   "outputs": [],
   "source": [
    "expected_sachet_untillfirst_return = 1/p_return_defect\n",
    "expected_sachet_untillfirst_return"
   ]
  },
  {
   "cell_type": "markdown",
   "metadata": {},
   "source": [
    "#### **Jawaban Pertanyaan 4**\n",
    "- Perlu 234-235 pengecekan kemasan sampai mendapatkan lebih dari 1 sekrup yang cacat / kemasan harus diganti\n",
    "  - Jika dilihat dari nomer 3, kita perlu 100 sekrup (10 kemasan) yang dicek untuk mendapatkan sekrup yang cacat pertama kali\n",
    "  - Namun di pengecekan kemasan ke-10 bisa jadi 1 sekrup aja yang cacat jadi tidak perlu mengganti kemasan\n",
    "- Perlu 234-235 kemasan yang dicek untuk mendapatkan lebih dari 1 sekrup yang cacat, hal ini selaras dengan nomer 2, dari 1000 kemasan hanya ada 4-5 kemasan yang perlu diganti\n",
    "- Sekitar setiap 250 kemasan yang dicek ada 1 kemasan yang perlu diganti\n"
   ]
  },
  {
   "cell_type": "markdown",
   "metadata": {},
   "source": [
    "___\n",
    "### Explore\n",
    "- Kira kira berapa ekspektasi rentang pengecekan yang harus dilakukan?\n",
    "- Kita bisa menggunakan standar deviasi sebagai representasi sebaran dari jumlah pengecekan\n",
    "- Gunakan variance dari Variable Random Geometrik \n",
    "$$Var[X]=\\frac{1-p}{p^2}$$"
   ]
  },
  {
   "cell_type": "code",
   "execution_count": null,
   "metadata": {},
   "outputs": [],
   "source": [
    "variance_sachet_untillfirst_return = (1-p_return_defect)/p_return_defect**2\n",
    "\n",
    "# pakai standar deviasi agar unitnya sama\n",
    "std_sachet_untillfirst_return = variance_sachet_untillfirst_return**(1/2)\n",
    "std_sachet_untillfirst_return"
   ]
  },
  {
   "cell_type": "markdown",
   "metadata": {},
   "source": [
    "Ekspektasi rentang pengecekan nya adalah 233 percobaan dari rata rata untuk mendapatkan kemasan yang perlu diganti lagi"
   ]
  },
  {
   "cell_type": "markdown",
   "metadata": {},
   "source": [
    "___\n",
    "### **Exercise**\n",
    "Hitung ekspektasi banyak kemasan yang harus diganti oleh \n",
    "pabrik jika pabrik memproduksi 1500 kemasan."
   ]
  },
  {
   "cell_type": "code",
   "execution_count": 3,
   "metadata": {},
   "outputs": [],
   "source": [
    "# Code Disini"
   ]
  },
  {
   "cell_type": "markdown",
   "metadata": {},
   "source": [
    "<details>\n",
    "    <summary><b>Klik untuk melihat kunci jawaban</b></summary>\n",
    "\n",
    "- Kejadian 2 outcome : kemasan diganti dan tidak\n",
    "- Ada 1500 kemasan : n percobaan\n",
    "- Probabilitas sukses (cacat) p = p_return_defect\n",
    "\n",
    "X adalah banyak kemasan yang harus diganti dari 1500 kemasan, maka X ~ Bin(1500, p_return_defect)\n",
    "\n",
    "```python\n",
    "# Ekspektasi banyak kemasan rusak yang harus diganti jika perusahaan harus meproduksi 1500 kemasan\n",
    "# E[X] = n x p\n",
    "expected_return_defect = p_return_defect*1500\n",
    "expected_return_defect \n",
    "\n",
    "print(f\"Ekspektasi banyak kemasan rusak yang harus diganti jika perusahaan harus meproduksi 1000 kemasan {expected_return_defect}\")\n",
    "```\n",
    "- Ekspektasi ada 6-7 kemasan yang dikembalikan \n",
    "- Perusahaan harus membuat cadangan pengganti 6-7 kemasan jika target penjualannya 1500 kemasan, asumsi: selalu habis terjual\n",
    "</details>\n",
    "\n",
    "---"
   ]
  },
  {
   "cell_type": "markdown",
   "metadata": {},
   "source": [
    "## **Study Case 4: Uniform Distribution**\n",
    "\n",
    "____"
   ]
  },
  {
   "cell_type": "markdown",
   "metadata": {},
   "source": [
    "Mari coba kita simulasikan 1 koin dan 1 dadu yang dilempar beberapa kali"
   ]
  },
  {
   "cell_type": "markdown",
   "metadata": {},
   "source": [
    "### 1 Coin Tossing"
   ]
  },
  {
   "cell_type": "code",
   "execution_count": null,
   "metadata": {},
   "outputs": [],
   "source": [
    "# Plot Probabilitas kemunculan angka dan gambar pada satu koin pada beberapa kali pelemparan n\n",
    "n_coin = 1\n",
    "fig, axes = plt.subplots(nrows=2, ncols=2, figsize=(14,8), sharex=False, sharey=False)\n",
    "axes[0,0].bar([0,1],[P({'H'}, coin_sim(5,n_coin)),P({'T'}, coin_sim(5,n_coin))]); axes[0,0].set(title=\"Simulasi pelemparan 1 koin sebanyak 5 kali\")\n",
    "axes[0,1].bar([0,1],[P({'H'}, coin_sim(10,n_coin)),P({'T'}, coin_sim(10,n_coin))]); axes[0,1].set(title=\"Simulasi pelemparan 1 koin sebanyak 10 kali\")\n",
    "axes[1,0].bar([0,1],[P({'H'}, coin_sim(50,n_coin)),P({'T'}, coin_sim(50,n_coin))]); axes[1,0].set(title=\"Simulasi pelemparan 1 koin sebanyak 50 kali\")\n",
    "axes[1,1].bar([0,1],[P({'H'}, coin_sim(100,n_coin)),P({'T'}, coin_sim(100,n_coin))]); axes[1,1].set(title=\"Simulasi pelemparan 1 koin sebanyak 100 kali\")\n",
    "plt.show()"
   ]
  },
  {
   "cell_type": "markdown",
   "metadata": {},
   "source": [
    "Pada pelemparan ke 100 kali peluang dari masing masing angka dan gambar adalah sama. Kejadian pelemaparan 1 koin dapat di modelkan menggunakan distribusi Uniform, karena peluang analitisnya adalah sama "
   ]
  },
  {
   "cell_type": "markdown",
   "metadata": {},
   "source": [
    "### 1 Dice Tossing"
   ]
  },
  {
   "cell_type": "code",
   "execution_count": null,
   "metadata": {},
   "outputs": [],
   "source": [
    "probability_model_dadu(jumlah_pelemparan=10)"
   ]
  },
  {
   "cell_type": "code",
   "execution_count": null,
   "metadata": {},
   "outputs": [],
   "source": [
    "probability_model_dadu(jumlah_pelemparan=100)"
   ]
  },
  {
   "cell_type": "code",
   "execution_count": null,
   "metadata": {},
   "outputs": [],
   "source": [
    "probability_model_dadu(jumlah_pelemparan=100000)"
   ]
  },
  {
   "cell_type": "markdown",
   "metadata": {},
   "source": [
    "Pada pelemparan ke 100 kali peluang dari masing masing keluarnya angka pada adalah sama yaitu 1/6. Kejadian pelemaparan 1 dadu dapat di \n",
    "modelkan menggunakan distribusi Uniform, karena peluang analitis kejadiannya adalah sama "
   ]
  },
  {
   "cell_type": "markdown",
   "metadata": {},
   "source": [
    "### Case Uniform Distribution dari Data?"
   ]
  },
  {
   "cell_type": "markdown",
   "metadata": {},
   "source": [
    "Aplikasi Distribusi Uniform hanya berlaku jika asumsi peluang semua kejadian sama, seperti pelemaparan koin dan dadu yang tidak cacat seperti 2 contoh diatas. Contoh lainnya:\n",
    "\n",
    "1. Peluang penumpang kapal titanic survived atau tidak adalah \n",
    "sama = 0.5\n",
    "2. Peluang terjualnya menu dalam sebuah restoran adalah sama\n",
    "3. Peluang sekrup rusak dan tidak adalah sama 0.5\n",
    "4. Peluang lampu menyala merah, kuning, hijau dalam perempatan lalu lintas adalah sama = 1/3\n",
    "\n",
    "namun untuk poin 1 - 3 sepertinya sangat sulit ditemui dalam kehidupan nyata, karena probabilitas 1 kejadian pasti lebih mungkin dari salah satu kejadian yang lain. (lebih mungkin tidak selamat daripada selamat dalam kapal titanic)\n",
    "\n",
    "- Distribusi Uniform hanya bekerja pada experiment yang didalamnya peluang kejadiannya sama, \n",
    "- Saat tidak ada alasan untuk mengungkapkan kejadian tersebut ada yang paling mungkin terjadi, bisa karena kecacatan alat, bias, dan keberpihakan kejadian "
   ]
  },
  {
   "cell_type": "markdown",
   "metadata": {},
   "source": [
    "# Reference"
   ]
  },
  {
   "cell_type": "markdown",
   "metadata": {},
   "source": [
    "https://github.com/sinclam2/fifty-challenging-problems-in-probability"
   ]
  }
 ],
 "metadata": {
  "kernelspec": {
   "display_name": "pacmann_env",
   "language": "python",
   "name": "python3"
  },
  "language_info": {
   "codemirror_mode": {
    "name": "ipython",
    "version": 3
   },
   "file_extension": ".py",
   "mimetype": "text/x-python",
   "name": "python",
   "nbconvert_exporter": "python",
   "pygments_lexer": "ipython3",
   "version": "3.9.1"
  }
 },
 "nbformat": 4,
 "nbformat_minor": 2
}
