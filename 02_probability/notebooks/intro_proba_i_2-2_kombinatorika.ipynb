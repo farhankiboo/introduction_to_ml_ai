{
 "cells": [
  {
   "cell_type": "markdown",
   "metadata": {},
   "source": [
    "# **Pertemuan 2 - Set and Counting**\n",
    "\n",
    "Introduction to Probability Course - Sekolah Data - Pacmann Academy"
   ]
  },
  {
   "cell_type": "markdown",
   "metadata": {},
   "source": [
    "---\n",
    "# **Kombinatorik**\n",
    "\n",
    "Dalam pembuatan sebuah set, terkadang diperlukan pengolahan terlebih dahulu. Misal, contoh sederhana:\n",
    "* Menghitung kombinasi cara pemasangan pakaian.\n",
    "* Kombinasi penarikan kartu.\n",
    "* Ada berapa kali cara 3 kejadian sukses (barang defect, customer churn) dalam 5 observasi?\n",
    "\n",
    "Dalam kombinatorik, digunakan 2 metode dasar untuk menjawab pertanyaan tersebut:\n",
    "* Permutasi\n",
    "* Kombinasi"
   ]
  },
  {
   "cell_type": "markdown",
   "metadata": {},
   "source": [
    "---\n",
    "## **Permutasi**\n",
    "\n",
    "Permutasi adalah cara penyusunan dengan urutan pada suatu kumpulan objek.\n",
    "* Misalkan kita memiliki 4 objek huruf {A,H,L,O}\n",
    "* Jika 4 huruf ini disusun, maka dapat terbentuk:\n",
    "  * AHLO\n",
    "  * HALO\n",
    "  * OLAH\n",
    "  * HOLA\n",
    "  * dll\n",
    "  \n",
    "<center><img src=\"https://sekolahdata-assets.s3.ap-southeast-1.amazonaws.com/notebook-images/mds-probability/live_02_07.PNG\" alt=\"Drawing\" style=\"width: 400px;\"/></center>\n",
    "\n",
    "Sehingga, secara matematik dapat diekspresikan sebagai:\n",
    "<center>$n(n-1)(n-2)\\ldots 1 = n!$</center>\n",
    "\n",
    "Dalam Python:"
   ]
  },
  {
   "cell_type": "code",
   "execution_count": 1,
   "metadata": {},
   "outputs": [],
   "source": [
    "from itertools import permutations"
   ]
  },
  {
   "cell_type": "code",
   "execution_count": 2,
   "metadata": {},
   "outputs": [],
   "source": [
    "huruf = {'A','H','L','O'}"
   ]
  },
  {
   "cell_type": "code",
   "execution_count": 19,
   "metadata": {},
   "outputs": [],
   "source": [
    "perm = permutations(huruf)"
   ]
  },
  {
   "cell_type": "code",
   "execution_count": 4,
   "metadata": {},
   "outputs": [
    {
     "name": "stdout",
     "output_type": "stream",
     "text": [
      "('L', 'A', 'O', 'H')\n",
      "('L', 'A', 'H', 'O')\n",
      "('L', 'O', 'A', 'H')\n",
      "('L', 'O', 'H', 'A')\n",
      "('L', 'H', 'A', 'O')\n",
      "('L', 'H', 'O', 'A')\n",
      "('A', 'L', 'O', 'H')\n",
      "('A', 'L', 'H', 'O')\n",
      "('A', 'O', 'L', 'H')\n",
      "('A', 'O', 'H', 'L')\n",
      "('A', 'H', 'L', 'O')\n",
      "('A', 'H', 'O', 'L')\n",
      "('O', 'L', 'A', 'H')\n",
      "('O', 'L', 'H', 'A')\n",
      "('O', 'A', 'L', 'H')\n",
      "('O', 'A', 'H', 'L')\n",
      "('O', 'H', 'L', 'A')\n",
      "('O', 'H', 'A', 'L')\n",
      "('H', 'L', 'A', 'O')\n",
      "('H', 'L', 'O', 'A')\n",
      "('H', 'A', 'L', 'O')\n",
      "('H', 'A', 'O', 'L')\n",
      "('H', 'O', 'L', 'A')\n",
      "('H', 'O', 'A', 'L')\n"
     ]
    }
   ],
   "source": [
    "# Menampilkan hasil permutasi\n",
    "# code ini tidak perlu dihafal\n",
    "for i in list(perm):\n",
    "    print(i)"
   ]
  },
  {
   "cell_type": "code",
   "execution_count": 20,
   "metadata": {},
   "outputs": [
    {
     "data": {
      "text/plain": [
       "24"
      ]
     },
     "execution_count": 20,
     "metadata": {},
     "output_type": "execute_result"
    }
   ],
   "source": [
    "len(list(perm))"
   ]
  },
  {
   "cell_type": "markdown",
   "metadata": {},
   "source": [
    "* Bagaimana jika hanya diambil elemen sejumlah $k$ ?\n",
    "\n",
    "<center><img src=\"https://sekolahdata-assets.s3.ap-southeast-1.amazonaws.com/notebook-images/mds-probability/live_02_08.PNG\" alt=\"Drawing\" style=\"width: 200px;\"/></center>\n",
    "\n",
    "Secara matematis dapat ditulis:\n",
    "<center><img src=\"https://sekolahdata-assets.s3.ap-southeast-1.amazonaws.com/notebook-images/mds-probability/live_02_09.PNG\" alt=\"Drawing\" style=\"width: 100px;\"/></center>"
   ]
  },
  {
   "cell_type": "code",
   "execution_count": 17,
   "metadata": {},
   "outputs": [],
   "source": [
    "k = 2\n",
    "perm_k = permutations(huruf, k)"
   ]
  },
  {
   "cell_type": "code",
   "execution_count": 15,
   "metadata": {},
   "outputs": [
    {
     "name": "stdout",
     "output_type": "stream",
     "text": [
      "('L', 'A')\n",
      "('L', 'O')\n",
      "('L', 'H')\n",
      "('A', 'L')\n",
      "('A', 'O')\n",
      "('A', 'H')\n",
      "('O', 'L')\n",
      "('O', 'A')\n",
      "('O', 'H')\n",
      "('H', 'L')\n",
      "('H', 'A')\n",
      "('H', 'O')\n"
     ]
    }
   ],
   "source": [
    "# Menampilkan hasil permutasi\n",
    "# code ini tidak perlu dihafal\n",
    "for i in list(perm_k):\n",
    "    print(i)"
   ]
  },
  {
   "cell_type": "code",
   "execution_count": 18,
   "metadata": {},
   "outputs": [
    {
     "data": {
      "text/plain": [
       "12"
      ]
     },
     "execution_count": 18,
     "metadata": {},
     "output_type": "execute_result"
    }
   ],
   "source": [
    "len(list(perm_k))"
   ]
  },
  {
   "cell_type": "markdown",
   "metadata": {},
   "source": [
    "---\n",
    "## **Kombinasi**\n",
    "\n",
    "* Banyaknya subset yang dapat dibentuk dari suatu set awal:\n",
    "* Misal, anda memiliki 3 teman $\\{ \\text{Joko, Budi, Seno} \\}$\n",
    "* Namun, anda hanya bisa mengajak 2 dari mereka untuk naik mobil anda.\n",
    "* Kombinasi yang mungkin adalah:\n",
    "  * $\\{ \\text{Joko, Budi} \\}$\n",
    "  * $\\{ \\text{Joko, Seno} \\}$\n",
    "  * $\\{ \\text{Budi, Seno} \\}$"
   ]
  },
  {
   "cell_type": "markdown",
   "metadata": {},
   "source": [
    "---\n",
    "## **Kombinasi vs Permutasi**\n",
    "\n",
    "* Kombinasi tidak terpengaruh oleh urutan.\n",
    "* Dalam kombinasi: $\\{ \\text{Joko, Budi} \\} = \\{ \\text{Budi, Joko} \\} $\n",
    "* Dalam permutasi: $\\{ \\text{Joko, Budi} \\} \\neq \\{ \\text{Budi, Joko} \\} $"
   ]
  },
  {
   "cell_type": "code",
   "execution_count": 7,
   "metadata": {},
   "outputs": [],
   "source": [
    "from itertools import combinations"
   ]
  },
  {
   "cell_type": "code",
   "execution_count": 8,
   "metadata": {},
   "outputs": [],
   "source": [
    "teman = {'Joko', 'Budi', 'Seno'}"
   ]
  },
  {
   "cell_type": "code",
   "execution_count": 11,
   "metadata": {},
   "outputs": [],
   "source": [
    "comb = combinations(teman, 2)"
   ]
  },
  {
   "cell_type": "code",
   "execution_count": 10,
   "metadata": {},
   "outputs": [
    {
     "name": "stdout",
     "output_type": "stream",
     "text": [
      "('Seno', 'Budi')\n",
      "('Seno', 'Joko')\n",
      "('Budi', 'Joko')\n"
     ]
    }
   ],
   "source": [
    "# Menampilkan hasil kombinasi\n",
    "# code ini tidak perlu dihafal\n",
    "for i in list(comb):\n",
    "    print(i)"
   ]
  },
  {
   "cell_type": "markdown",
   "metadata": {},
   "source": [
    "Untuk menghitung jumlah kombinasi dapat digunakan ekspresi matematis:\n",
    "<center><img src=\"https://sekolahdata-assets.s3.ap-southeast-1.amazonaws.com/notebook-images/mds-probability/live_02_10.PNG\" alt=\"Drawing\" style=\"width: 300px;\"/></center>"
   ]
  }
 ],
 "metadata": {
  "kernelspec": {
   "display_name": "pacmann_env",
   "language": "python",
   "name": "python3"
  },
  "language_info": {
   "codemirror_mode": {
    "name": "ipython",
    "version": 3
   },
   "file_extension": ".py",
   "mimetype": "text/x-python",
   "name": "python",
   "nbconvert_exporter": "python",
   "pygments_lexer": "ipython3",
   "version": "3.9.1"
  }
 },
 "nbformat": 4,
 "nbformat_minor": 2
}
