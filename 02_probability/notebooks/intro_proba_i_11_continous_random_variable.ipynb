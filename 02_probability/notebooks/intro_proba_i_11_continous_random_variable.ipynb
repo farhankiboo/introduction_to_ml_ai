{
 "cells": [
  {
   "cell_type": "markdown",
   "metadata": {},
   "source": [
    "# **Pertemuan 11 - Continuous Random Variable 1**\n",
    "\n",
    "Introduction to Probability Course - Sekolah Data - Pacmann Academy"
   ]
  },
  {
   "cell_type": "markdown",
   "metadata": {},
   "source": [
    "**Outline**\n",
    "\n",
    "1. Review Continuous Random Variables 1\n",
    "2. Case 1 - Kedatangan Bus\n",
    "3. Case 2 - Berat Domba"
   ]
  },
  {
   "cell_type": "code",
   "execution_count": 3,
   "metadata": {},
   "outputs": [],
   "source": [
    "import os\n",
    "import sys\n",
    "nb_dir = os.path.split(os.getcwd())[0]\n",
    "if nb_dir not in sys.path:\n",
    "    sys.path.append(nb_dir)"
   ]
  },
  {
   "cell_type": "code",
   "execution_count": 4,
   "metadata": {},
   "outputs": [],
   "source": [
    "# Basic imports\n",
    "import numpy as np\n",
    "import matplotlib.pyplot as plt\n",
    "from scipy.stats import norm\n",
    "from scipy.stats import expon\n",
    "\n",
    "from src.module_python_11 import playground_distribusi_eksponensial\n",
    "from src.module_python_11 import playground_distribusi_normal\n",
    "from src.module_python_11 import tabel_distribusi_normal_standar"
   ]
  },
  {
   "cell_type": "markdown",
   "metadata": {},
   "source": [
    "## **Review Topik**\n",
    "---\n",
    "\n",
    "Dari materi yang sudah dipelajari di video:\n",
    "- Kita bisa menggunakan peluang dari probability density function dalam variable random continue\n",
    "- Kita bisa menggunakan CDF dalam mencari peluang kumulatif variabel random continu\n",
    "- Kita bisa mendapatkan nilai ekspektasi dan varians dari variabel random continu\n",
    "- Kita mengenal distribusi eksponensial dan distribusi normal untuk sebuah permasalahan"
   ]
  },
  {
   "cell_type": "markdown",
   "metadata": {},
   "source": [
    "## **Case Stude 1: Kedatangan Bus**\n",
    "___\n",
    "\n",
    "- Variabel Random Continue\n",
    "- PDF\n",
    "- CDF\n",
    "- Ekspektasi\n",
    "- Varians\n",
    "- Distribusi Eksponensial"
   ]
  },
  {
   "cell_type": "markdown",
   "metadata": {},
   "source": [
    "Alif melakukan pemodelan terhadap **waktu antar kedatangan bus**. Ia memperhatikan jadwal bus di halte A dalam periode waktu jam 8 pagi sampai jam 8 malam (12 jam) di Hari Senin. Selama observasi, terdapat 48 bus yang datang dalam waktu tersebut. Didapatkan data waktu kedatangan bus (dalam jam) terdapat pada variabel `points_in_time`\n",
    "\n",
    "Catatan: bus pertama datang pada 0.72 jam setelah jam 8 pagi, untuk bus kedua datang 1.11 jam setelah jam 8 pagi, dan begitu seterusnya."
   ]
  },
  {
   "cell_type": "code",
   "execution_count": 5,
   "metadata": {},
   "outputs": [
    {
     "data": {
      "text/plain": [
       "array([ 0.72,  1.11,  1.39,  2.11,  2.19,  2.72,  2.74,  3.01,  3.43,\n",
       "        3.52,  3.75,  3.81,  3.88,  4.12,  4.34,  4.71,  4.78,  4.98,\n",
       "        5.08,  5.11,  5.12,  5.17,  5.2 ,  5.26,  5.77,  5.8 ,  5.92,\n",
       "        6.02,  6.38,  6.38,  6.62,  7.33,  7.49,  7.57,  7.61,  8.22,\n",
       "        8.36,  8.63,  8.67,  8.69,  8.75,  8.86, 10.19, 10.4 , 10.72,\n",
       "       11.33, 11.77, 11.83])"
      ]
     },
     "execution_count": 5,
     "metadata": {},
     "output_type": "execute_result"
    }
   ],
   "source": [
    "np.random.seed(123)\n",
    "t = 12\n",
    "n_obs = 48\n",
    "points_in_time = np.round(np.random.uniform(0, t, n_obs),2)\n",
    "points_in_time = np.sort(points_in_time)\n",
    "points_in_time"
   ]
  },
  {
   "cell_type": "markdown",
   "metadata": {},
   "source": [
    "### Pertanyaan 1.\n",
    "Bagaimana data dari waktu antar kedatangan bus?"
   ]
  },
  {
   "cell_type": "markdown",
   "metadata": {},
   "source": [
    "Waktu antar kedatangan bus adalah selisih antara kedatangan 2 bus atau dengan persamaan\n",
    "\n",
    "$$diff = W_{t+1} - W_{t}$$"
   ]
  },
  {
   "cell_type": "code",
   "execution_count": 6,
   "metadata": {},
   "outputs": [
    {
     "data": {
      "text/plain": [
       "array([0.39, 0.28, 0.72, 0.08, 0.53, 0.02, 0.27, 0.42, 0.09, 0.23, 0.06,\n",
       "       0.07, 0.24, 0.22, 0.37, 0.07, 0.2 , 0.1 , 0.03, 0.01, 0.05, 0.03,\n",
       "       0.06, 0.51, 0.03, 0.12, 0.1 , 0.36, 0.  , 0.24, 0.71, 0.16, 0.08,\n",
       "       0.04, 0.61, 0.14, 0.27, 0.04, 0.02, 0.06, 0.11, 1.33, 0.21, 0.32,\n",
       "       0.61, 0.44, 0.06])"
      ]
     },
     "execution_count": 6,
     "metadata": {},
     "output_type": "execute_result"
    }
   ],
   "source": [
    "diff = points_in_time[1:] - points_in_time[:-1] \n",
    "diff"
   ]
  },
  {
   "cell_type": "markdown",
   "metadata": {},
   "source": [
    "Waktu antar kedatangan bus inilah yang merupakan **variabel random** yang digunakan dalam kasus ini"
   ]
  },
  {
   "cell_type": "markdown",
   "metadata": {},
   "source": [
    "### Pertanyaan 2.\n",
    "Tampilkan plot histogram dari waktu antar kedatangan bus."
   ]
  },
  {
   "cell_type": "code",
   "execution_count": 7,
   "metadata": {},
   "outputs": [
    {
     "data": {
      "image/png": "[encoded data removed]",
      "text/plain": [
       "<Figure size 640x480 with 1 Axes>"
      ]
     },
     "metadata": {},
     "output_type": "display_data"
    }
   ],
   "source": [
    "plt.hist(diff)\n",
    "plt.show()"
   ]
  },
  {
   "cell_type": "markdown",
   "metadata": {},
   "source": [
    "Dapat terlihat bahwa grafik histogram mendekati grafik PDF dari distribusi eksponensial. Sehingga kita dapat melakukan pemodelan dengan pendekatan distribusi eksponensial"
   ]
  },
  {
   "cell_type": "markdown",
   "metadata": {},
   "source": [
    "### Pertanyaan 3.\n",
    "3.1 Jika waktu antar kedatangan bus berdistribusi eksponensial, maka berapakah nilai $λ$-nya?"
   ]
  },
  {
   "cell_type": "markdown",
   "metadata": {},
   "source": [
    "Nilai lambda diketahui bahwa terdapat 48 bus yang datang dari 12 jam, sehingga mendapatkan nilai rata-rata 4 bus per jam. Sehingga nilai lambda adalah 4."
   ]
  },
  {
   "cell_type": "code",
   "execution_count": 8,
   "metadata": {},
   "outputs": [
    {
     "data": {
      "text/plain": [
       "4"
      ]
     },
     "execution_count": 8,
     "metadata": {},
     "output_type": "execute_result"
    }
   ],
   "source": [
    "lambd = 4\n",
    "lambd"
   ]
  },
  {
   "cell_type": "markdown",
   "metadata": {},
   "source": [
    "3.2 Gambarkan plot PDF distribusi eksponensial dengan lambda yang sudah didapatkan"
   ]
  },
  {
   "cell_type": "code",
   "execution_count": 9,
   "metadata": {},
   "outputs": [
    {
     "data": {
      "image/png": "[encoded data removed]",
      "text/plain": [
       "<Figure size 640x480 with 1 Axes>"
      ]
     },
     "metadata": {},
     "output_type": "display_data"
    }
   ],
   "source": [
    "#fungsi pdf eksponensial\n",
    "def pdf_exponential(x, lambd):\n",
    "    return lambd * np.exp(-lambd * x)\n",
    "\n",
    "#plot pdf eksponensial\n",
    "x_axis = np.arange(0, 1.4, 0.001)\n",
    "y_axis = pdf_exponential(x_axis, lambd)\n",
    "plt.plot(x_axis, y_axis)\n",
    "plt.xlabel(\"Waktu antar kedatangan bus\")\n",
    "plt.title('PDF distribusi Eksponensial dengan lambda = '+str(lambd))\n",
    "plt.show()"
   ]
  },
  {
   "cell_type": "markdown",
   "metadata": {},
   "source": [
    "### Pertanyaan 4.\n",
    "Berapa nilai ekspektasi dan varians dari waktu antar kedatangan bus?"
   ]
  },
  {
   "cell_type": "code",
   "execution_count": 10,
   "metadata": {},
   "outputs": [
    {
     "name": "stdout",
     "output_type": "stream",
     "text": [
      "Ekspektasi: 0.25\n",
      "Varians   : 0.16666666666666666\n"
     ]
    }
   ],
   "source": [
    "Ex = 1/lambd\n",
    "Var = 1/(lambd^2)\n",
    "print('Ekspektasi:', Ex)\n",
    "print('Varians   :', Var)"
   ]
  },
  {
   "cell_type": "markdown",
   "metadata": {},
   "source": [
    "### Pertanyaan 5.\n",
    "Berapakah peluang sebuah bus datang 15 menit setelah bus sebelumnya?"
   ]
  },
  {
   "cell_type": "code",
   "execution_count": 11,
   "metadata": {},
   "outputs": [
    {
     "data": {
      "text/plain": [
       "np.float64(0.6321205588285577)"
      ]
     },
     "execution_count": 11,
     "metadata": {},
     "output_type": "execute_result"
    }
   ],
   "source": [
    "x = 15/60\n",
    "P = 1-np.exp(-lambd * x)\n",
    "P"
   ]
  },
  {
   "cell_type": "code",
   "execution_count": 12,
   "metadata": {},
   "outputs": [
    {
     "data": {
      "text/plain": [
       "np.float64(0.6321205588285577)"
      ]
     },
     "execution_count": 12,
     "metadata": {},
     "output_type": "execute_result"
    }
   ],
   "source": [
    "# dengan cara lain\n",
    "x = 15/60\n",
    "mean = Ex\n",
    "\n",
    "from scipy.stats import expon\n",
    "expon.cdf(x=x, scale=mean)"
   ]
  },
  {
   "cell_type": "markdown",
   "metadata": {},
   "source": [
    "### Pertanyaan 6.\n",
    "Seseorang datang di jam 12.10, ternyata bus sebelumnya sudah berangkat terlebih dahulu di jam 12.00. Berapa peluang kedatangan bus jika dia menunggu hingga pukul 13.00?"
   ]
  },
  {
   "cell_type": "code",
   "execution_count": 13,
   "metadata": {},
   "outputs": [
    {
     "data": {
      "text/plain": [
       "np.float64(0.4951014801438578)"
      ]
     },
     "execution_count": 13,
     "metadata": {},
     "output_type": "execute_result"
    }
   ],
   "source": [
    "#Waktu antar bus dengan orang tersebut datang adalah 10 menit\n",
    "x1 = 10/60\n",
    "\n",
    "#Waktu antar kedatangan bus adalah 15 menit\n",
    "x2 = 60/60\n",
    "\n",
    "#Peluang menunggu\n",
    "P1 = expon.cdf(x=x1, scale=mean)\n",
    "P2 = expon.cdf(x=x2, scale=mean)\n",
    "P = P2 - P1\n",
    "P"
   ]
  },
  {
   "cell_type": "markdown",
   "metadata": {},
   "source": [
    "### Pertanyaan 7.\n",
    "\n",
    "Jika sebuah bus berangkat pada pukul 15.00, dengan peluang 80% pukul berapa bus selanjutnya datang?"
   ]
  },
  {
   "cell_type": "code",
   "execution_count": 14,
   "metadata": {},
   "outputs": [
    {
     "data": {
      "text/plain": [
       "np.float64(24.14156868651151)"
      ]
     },
     "execution_count": 14,
     "metadata": {},
     "output_type": "execute_result"
    }
   ],
   "source": [
    "P = 0.8\n",
    "#P = 1-np.exp(-lambd * x)\n",
    "x = np.log(1-P)/-lambd\n",
    "x*60"
   ]
  },
  {
   "cell_type": "markdown",
   "metadata": {},
   "source": [
    "Sehingga kemungkinan 80%, bus selanjutnya datang pada pukul 15.24"
   ]
  },
  {
   "cell_type": "markdown",
   "metadata": {},
   "source": [
    "## **Case Stude 2: Berat domba**\n",
    "___\n",
    "\n",
    "- Distribusi Normal"
   ]
  },
  {
   "cell_type": "markdown",
   "metadata": {},
   "source": [
    "Dimisalkan di suatu peternakan domba, diambil sampel sebanyak 200 domba. Keseluruhan domba yang terpilih diukur beratnya, sehingga didapatkan berat sebagai berikut."
   ]
  },
  {
   "cell_type": "code",
   "execution_count": 15,
   "metadata": {},
   "outputs": [
    {
     "data": {
      "text/plain": [
       "array([19.57184698, 29.98672723, 26.41489249, 17.46852643, 22.10699874,\n",
       "       33.25718269, 12.86660378, 22.85543686, 31.32968129, 20.66629799,\n",
       "       21.60556924, 24.52645516, 32.45694813, 21.80549002, 22.7800902 ,\n",
       "       22.82824362, 36.02965041, 35.93393044, 30.02026949, 26.930932  ,\n",
       "       28.68684288, 32.45366014, 20.32083066, 30.87914522, 18.73059666,\n",
       "       21.81124249, 29.53552598, 17.8565965 , 24.2996564 , 20.69122552,\n",
       "       23.72190315, 11.00705447, 16.14233448, 21.50061383, 29.63731216,\n",
       "       24.13182159, 25.01422958, 28.44111356, 20.60231828, 26.41813662,\n",
       "       20.97316741, 16.36165253, 23.04550103, 27.86902931, 26.69294525,\n",
       "       24.94084753, 36.96182633, 27.0645608 , 29.89368003, 36.19071669,\n",
       "       18.52957338, 19.80605895, 33.71856113, 21.00968632, 25.14841615,\n",
       "       30.34657985, 29.45353196, 33.77443091, 32.47822069, 30.34696335,\n",
       "       21.13645643, 28.97431334, 26.57135997, 18.3686727 , 32.08649523,\n",
       "       29.03618267, 25.2274504 , 23.8345397 , 19.00849428, 25.99762037,\n",
       "       27.3421956 , 20.84422508, 30.81102025, 19.51398477, 14.38449825,\n",
       "       30.19863545, 22.98316981, 24.36985207, 20.81241639, 16.9701862 ,\n",
       "       31.27618687, 21.55565508, 33.30476244, 29.03654093, 23.42620927,\n",
       "       19.57048799, 21.33769007, 18.93738434, 35.4355668 , 25.82220615,\n",
       "       30.75102771, 18.66323975, 25.90517565, 30.88930969, 23.32494619,\n",
       "       30.15557229, 19.57716044, 18.18264228, 26.89700306, 23.10411783,\n",
       "       28.21027345, 15.11056034, 28.56132318, 37.99151964, 24.87687009,\n",
       "       25.17071064, 25.89774742, 15.69012145, 27.1307332 , 16.97295128,\n",
       "       22.86160201, 31.21434775, 21.32391522, 27.50624495, 30.06369527,\n",
       "       26.39370428, 18.14525765, 23.33762362, 34.79705671, 14.87477119,\n",
       "       23.62106993, 22.23945964, 25.60373682, 28.74107809, 33.04345484,\n",
       "       23.64883804, 29.06170665, 27.49870072, 27.37173649, 22.18038034,\n",
       "       20.01339266, 19.49978444, 21.21781395, 26.60843288, 28.80474697,\n",
       "       26.61734424, 22.25522452, 34.02985055, 32.59432812, 23.22999944,\n",
       "       20.88284297, 25.65107477, 31.33649323, 26.66382489, 27.78274352,\n",
       "       23.93959939, 27.28135448, 32.72272226, 23.80165609, 25.71653866,\n",
       "       26.26908238, 26.41862678, 17.94055562, 15.61565672, 19.90172465,\n",
       "       25.83971148, 27.76928083, 22.3466272 , 31.88628741, 24.28412013,\n",
       "       25.10157999, 24.03018065, 25.67013396, 28.52237037, 28.32826719,\n",
       "       20.5078853 , 32.61831888, 19.52486771, 25.39613507, 23.62801713,\n",
       "       19.75504161, 24.62439706, 21.29593113, 25.36453622, 27.01542981,\n",
       "       32.35964684, 26.53692109, 21.9438733 , 23.04190095, 25.69989053,\n",
       "       25.46730415, 32.29794634, 31.97676465, 23.20532037, 22.25678936,\n",
       "       12.21472698, 22.25539793, 20.10971147, 23.22587771, 26.95792121,\n",
       "       25.88596165, 24.85015996, 25.99791056, 24.36941113, 25.98509466,\n",
       "        8.84472496, 23.65353255, 24.44574639, 23.29369142, 23.91026869])"
      ]
     },
     "execution_count": 15,
     "metadata": {},
     "output_type": "execute_result"
    }
   ],
   "source": [
    "#make this example reproducible\n",
    "np.random.seed(123)\n",
    "#generate sample of 100 values that follow a normal distribution \n",
    "berat_domba = np.random.normal(loc=25, scale=5, size=200)\n",
    "berat_domba"
   ]
  },
  {
   "cell_type": "markdown",
   "metadata": {},
   "source": [
    "### Pertanyaan 1.\n",
    "Lakukan plot histogram dari data tersebut."
   ]
  },
  {
   "cell_type": "code",
   "execution_count": 16,
   "metadata": {},
   "outputs": [
    {
     "data": {
      "image/png": "[encoded data removed]",
      "text/plain": [
       "<Figure size 640x480 with 1 Axes>"
      ]
     },
     "metadata": {},
     "output_type": "display_data"
    }
   ],
   "source": [
    "plt.hist(berat_domba, bins=20)\n",
    "plt.xlabel(\"berat domba\")\n",
    "plt.show()"
   ]
  },
  {
   "cell_type": "markdown",
   "metadata": {},
   "source": [
    "Hasil plot histogram"
   ]
  },
  {
   "cell_type": "markdown",
   "metadata": {},
   "source": [
    "### Pertanyaan 2.\n",
    "Berapa nilai rata-rata dan varians dari 200 berat domba?"
   ]
  },
  {
   "cell_type": "code",
   "execution_count": 17,
   "metadata": {},
   "outputs": [
    {
     "name": "stdout",
     "output_type": "stream",
     "text": [
      "mean: 25.0 , var: 28.0\n"
     ]
    }
   ],
   "source": [
    "mean = berat_domba.mean()\n",
    "var  = berat_domba.var()\n",
    "\n",
    "#bulatkan\n",
    "mean = np.round(mean,0)\n",
    "var = np.round(var,0)\n",
    "print('mean:',mean, ', var:',var)"
   ]
  },
  {
   "cell_type": "markdown",
   "metadata": {},
   "source": [
    "### Pertanyaan 3.\n",
    "Bagaimana plot PDF distribusi normal dengan mean dan varians yang telah didapatkan?"
   ]
  },
  {
   "cell_type": "code",
   "execution_count": 18,
   "metadata": {},
   "outputs": [
    {
     "data": {
      "image/png": "[encoded data removed]",
      "text/plain": [
       "<Figure size 640x480 with 1 Axes>"
      ]
     },
     "metadata": {},
     "output_type": "display_data"
    }
   ],
   "source": [
    "def pdf_normal(x, mu, var):\n",
    "    return (1 / np.sqrt(2 * np.pi * var)) *\\\n",
    "        np.exp(-(1 / (2 * var)) * (x - mu) ** 2)\n",
    "\n",
    "x_axis = np.arange(0, 50, 0.01)\n",
    "y_axis = pdf_normal(x_axis, mean, var)\n",
    "plt.plot(x_axis, y_axis)\n",
    "#plt.ylim(0,0.6)\n",
    "plt.xlabel(\"berat domba\")\n",
    "plt.title('PDF distribusi normal dengan rata-rata = '+str(mean)+' dan varians = '+str(var)+'\\n standar deviasi = ' + str(np.round(np.sqrt(var),3)))\n",
    "plt.show()"
   ]
  },
  {
   "cell_type": "markdown",
   "metadata": {},
   "source": [
    "### Pertanyaan 4.\n",
    "Berapa peluang seekor domba memiliki berat badan kurang dari 25 kg?"
   ]
  },
  {
   "cell_type": "code",
   "execution_count": 19,
   "metadata": {},
   "outputs": [
    {
     "name": "stdout",
     "output_type": "stream",
     "text": [
      "first solution: 0.5\n",
      "second solution: 0.5\n"
     ]
    }
   ],
   "source": [
    "from scipy.stats import norm\n",
    "\n",
    "#First solution:\n",
    "#menormalisasi nilai X dengan mengurangi dengan mean dan dibagi dengan standar deviasinya\n",
    "x = 25\n",
    "std = np.sqrt(var)\n",
    "X = (x-mean)/std\n",
    "P1 = norm.cdf(X,0,1)\n",
    "print('first solution:',P1)\n",
    "\n",
    "#Second solution\n",
    "#memasukkan nilai mean dan akar varians pada norm.cdf\n",
    "x = 25\n",
    "std = np.sqrt(var)\n",
    "P2 = norm.cdf(x, mean, std)\n",
    "print('second solution:',P2)"
   ]
  },
  {
   "cell_type": "markdown",
   "metadata": {},
   "source": [
    "Kedua solusi mendapatkan hasil yang sama. Perbedaannya *normalisasi* `(x-mean)/std` diharuskan untuk mengganti nilai mean dan varians menjadi `0 dan 1` atau mentransformasi menjadi *distribusi normal standar*"
   ]
  },
  {
   "cell_type": "markdown",
   "metadata": {},
   "source": [
    "### Pertanyaan 5.\n",
    "Berapa paluang seekor domba memiliki berat badan lebih dari 30 kg?"
   ]
  },
  {
   "cell_type": "code",
   "execution_count": 20,
   "metadata": {},
   "outputs": [
    {
     "name": "stdout",
     "output_type": "stream",
     "text": [
      "peluang domba memiliki berat lebih dari 30 kg adalah 0.1723521110034788\n"
     ]
    }
   ],
   "source": [
    "x = 30\n",
    "P = 1-norm.cdf(x, mean, std)\n",
    "print('peluang domba memiliki berat lebih dari 30 kg adalah',P)"
   ]
  },
  {
   "cell_type": "markdown",
   "metadata": {},
   "source": [
    "### Pertanyaan 6.\n",
    "Jika domba yang disembelih adalah yang memiliki berat diantara 20 hingga 35 kg, berapa peluang dari domba yang disembelih?"
   ]
  },
  {
   "cell_type": "code",
   "execution_count": 21,
   "metadata": {},
   "outputs": [
    {
     "name": "stdout",
     "output_type": "stream",
     "text": [
      "peluang domba memiliki berat diantara 20 hingga 35 kg adalah 0.7982570283188418\n"
     ]
    }
   ],
   "source": [
    "#mendapatkan peluang kurang dari 20 kg\n",
    "x1 = 20\n",
    "P1 = norm.cdf(x1, mean, std)\n",
    "\n",
    "#mendapatkan peluang kurang dari 35 kg\n",
    "x2 = 35\n",
    "P2 = norm.cdf(x2, mean, std)\n",
    "\n",
    "#men\n",
    "P = P2-P1\n",
    "print('peluang domba memiliki berat diantara 20 hingga 35 kg adalah',P)"
   ]
  },
  {
   "cell_type": "markdown",
   "metadata": {},
   "source": [
    "### Pertanyaan 7.\n",
    "Kurang dari berapa kg berat badan domba jika diketahui peluangnya sekitar 80%? "
   ]
  },
  {
   "cell_type": "code",
   "execution_count": 22,
   "metadata": {},
   "outputs": [
    {
     "name": "stdout",
     "output_type": "stream",
     "text": [
      "jika diketahui peluangnya sekitar 80% maka domba memiliki berat kurang dari 29.45 kg\n"
     ]
    }
   ],
   "source": [
    "#ditanyakan x nya\n",
    "P = 0.8\n",
    "x = norm.ppf(P, mean, std)\n",
    "print('jika diketahui peluangnya sekitar 80% maka domba memiliki berat kurang dari',np.round(x,2),'kg')"
   ]
  },
  {
   "cell_type": "markdown",
   "metadata": {},
   "source": [
    "## **Case Stude 3: Simulasi PDF Distribusi Eksponensial dan Distribusi Normal**\n",
    "___\n",
    "\n",
    "- Distribusi Eksponensial\n",
    "- Distribusi Normal"
   ]
  },
  {
   "cell_type": "markdown",
   "metadata": {},
   "source": [
    "### Simulasi Distribusi Eksponensial\n",
    "Distribusi eksponensial memiliki satu parameter yaitu lambda ($\\lambda$) dimana memiliki fungsi PDF sebagai berikut.\n",
    "\n",
    "$$\n",
    "\\text{Exp}(x; \\lambda) =\n",
    "\\begin{cases}\n",
    "\\lambda e^{-\\lambda x} & x \\geq 0 \\\\\\\\\n",
    "0 & x,lainnya\n",
    "\\end{cases}\n",
    "$$"
   ]
  },
  {
   "cell_type": "code",
   "execution_count": 23,
   "metadata": {},
   "outputs": [
    {
     "name": "stdout",
     "output_type": "stream",
     "text": [
      "Masukkan Nilai Lambda:\n"
     ]
    },
    {
     "data": {
      "application/vnd.jupyter.widget-view+json": {
       "model_id": "2b654e17f39e41e2bb6f66ab937200e6",
       "version_major": 2,
       "version_minor": 0
      },
      "text/plain": [
       "interactive(children=(SelectionSlider(continuous_update=False, description='mean:', index=10, options=(0.0, 0.…"
      ]
     },
     "metadata": {},
     "output_type": "display_data"
    }
   ],
   "source": [
    "playground_distribusi_eksponensial()"
   ]
  },
  {
   "cell_type": "markdown",
   "metadata": {},
   "source": [
    "### Simulasi Distribusi Normal\n",
    "\n",
    "Distribusi Normal memiliki 2 parameter yaitu rata-rata ($\\mu$) dan variance ($\\sigma^2$) dimana memiliki fungsi PDF sebagai berikut.\n",
    "\n",
    "$$\n",
    "\\mathcal{N}(x ; \\mu,\\,\\sigma^{2}) = \\frac{1}{\\sqrt{2\\pi \\sigma^2}}e^{-\\frac{1}{2\\sigma^2}(x - \\mu)^2}\n",
    "$$"
   ]
  },
  {
   "cell_type": "code",
   "execution_count": 24,
   "metadata": {},
   "outputs": [
    {
     "name": "stdout",
     "output_type": "stream",
     "text": [
      "Masukkan Nilai Rata-rata dan Varians:\n"
     ]
    },
    {
     "data": {
      "application/vnd.jupyter.widget-view+json": {
       "model_id": "bc786a684a524d0b97231e96022912e7",
       "version_major": 2,
       "version_minor": 0
      },
      "text/plain": [
       "interactive(children=(SelectionSlider(continuous_update=False, description='mean:', index=50, options=(-5.0, -…"
      ]
     },
     "metadata": {},
     "output_type": "display_data"
    }
   ],
   "source": [
    "playground_distribusi_normal()"
   ]
  },
  {
   "cell_type": "markdown",
   "metadata": {},
   "source": [
    "### Tabel Distribusi Normal Standar"
   ]
  },
  {
   "cell_type": "markdown",
   "metadata": {},
   "source": [
    "1. Tabel distribusi normal standar memerlukan nilai x yang berada diselang -4.0 hingga 4.0 yang menginformasikan peluang CDF kurang dari nilai x"
   ]
  },
  {
   "cell_type": "code",
   "execution_count": 25,
   "metadata": {},
   "outputs": [
    {
     "name": "stdout",
     "output_type": "stream",
     "text": [
      "Masukkan Nilai x:\n"
     ]
    },
    {
     "data": {
      "application/vnd.jupyter.widget-view+json": {
       "model_id": "19033e686aab4d41974e5b22d18db16d",
       "version_major": 2,
       "version_minor": 0
      },
      "text/plain": [
       "interactive(children=(SelectionSlider(continuous_update=False, description='x:', index=400, options=(-4.0, -3.…"
      ]
     },
     "metadata": {},
     "output_type": "display_data"
    }
   ],
   "source": [
    "tabel_distribusi_normal_standar()"
   ]
  },
  {
   "cell_type": "markdown",
   "metadata": {},
   "source": [
    "2. Jika diketahui nilai CDF terlebih dahulu lalu ditanyakan nilai x nya, maka dilakukan invers CDF"
   ]
  },
  {
   "cell_type": "code",
   "execution_count": 27,
   "metadata": {},
   "outputs": [
    {
     "ename": "NameError",
     "evalue": "name 'tabel_x_distribusi_normal_standar' is not defined",
     "output_type": "error",
     "traceback": [
      "\u001b[1;31m---------------------------------------------------------------------------\u001b[0m",
      "\u001b[1;31mNameError\u001b[0m                                 Traceback (most recent call last)",
      "Cell \u001b[1;32mIn[27], line 1\u001b[0m\n\u001b[1;32m----> 1\u001b[0m \u001b[43mtabel_x_distribusi_normal_standar\u001b[49m()\n",
      "\u001b[1;31mNameError\u001b[0m: name 'tabel_x_distribusi_normal_standar' is not defined"
     ]
    }
   ],
   "source": [
    "tabel_x_distribusi_normal_standar()"
   ]
  }
 ],
 "metadata": {
  "kernelspec": {
   "display_name": "pacmann_env",
   "language": "python",
   "name": "python3"
  },
  "language_info": {
   "codemirror_mode": {
    "name": "ipython",
    "version": 3
   },
   "file_extension": ".py",
   "mimetype": "text/x-python",
   "name": "python",
   "nbconvert_exporter": "python",
   "pygments_lexer": "ipython3",
   "version": "3.9.1"
  }
 },
 "nbformat": 4,
 "nbformat_minor": 2
}
