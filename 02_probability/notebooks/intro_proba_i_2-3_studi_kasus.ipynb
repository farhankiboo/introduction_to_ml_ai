{
 "cells": [
  {
   "cell_type": "markdown",
   "metadata": {},
   "source": [
    "# **Pertemuan 2 - Studi Kasus Kombinatorika**\n",
    "\n",
    "Introduction to Probability Course - Sekolah Data - Pacmann Academy"
   ]
  },
  {
   "cell_type": "markdown",
   "metadata": {},
   "source": [
    "--------\n",
    "## **Case 1**\n",
    "\n",
    "Anda adalah sebuat data analyst di sebuah cofee chain terkemuka bernama Kopi Janji Joni. \n",
    "\n",
    "Tim Product dari Kopi Janji Joni ingin membuat sebuah product baru dan memerlukan eksperimen untuk menguji apakah product baru tersebut sesuai dengan budget.\n",
    "\n",
    "Untuk product baru ini, tim product menguji beberapa ingridients untuk digabungkan. \n",
    "- Kopi Long Black\n",
    "- Creamy Foam\n",
    "- Gula 200G\n",
    "- Caramel\n",
    "- Salt\n",
    "- Boba\n",
    "-------"
   ]
  },
  {
   "cell_type": "markdown",
   "metadata": {},
   "source": [
    "\n",
    "\n",
    "**Soal 1**:<br>\n",
    "Jika kita ingin mengkombinasikan 4 bahan tersebut, berapa banyak eksperimen yang dilakukan?\n",
    "\n",
    "\n",
    "**Soal 2**:<br>\n",
    "Jika hanya tiga bahan yang dibutuhkan, berapa banyak eksperimen yang dilakukan. kemudian hitunglah berapa cost untuk percobaan kedua ini jika setiap eksperimen membutuhkan cost Rp. 150.000\n",
    "\n",
    "**Soal 3**:<br>\n",
    "Berdasarkan riset, Boba dan Kopi merupakan bahan yang sangat disukai sehingga di setiap eksperimen kedua bahan tersebut harus disertakan.\n",
    "\n",
    "Berapa eksperimen yang diperlukan jika Boba dan Kopi selalu diikutkan dalam setiap eksperimen dan hitunglah cost dari product development ini jika, setiap eksperimen memerlukan biaya Rp. 125.000"
   ]
  },
  {
   "cell_type": "markdown",
   "metadata": {},
   "source": [
    "-------\n",
    "**Answer**"
   ]
  },
  {
   "cell_type": "markdown",
   "metadata": {},
   "source": [
    "---\n",
    "**Soal 1**:<br>\n",
    "Jika kita ingin mengkombinasikan 4 bahan tersebut, berapa banyak eksperimen yang dilakukan?"
   ]
  },
  {
   "cell_type": "markdown",
   "metadata": {},
   "source": [
    "Kita gunakan library berikut untuk mensimulasikan kombinasi"
   ]
  },
  {
   "cell_type": "code",
   "execution_count": 22,
   "metadata": {},
   "outputs": [],
   "source": [
    "# Jalankan\n",
    "from itertools import combinations"
   ]
  },
  {
   "cell_type": "code",
   "execution_count": 23,
   "metadata": {},
   "outputs": [],
   "source": [
    "# Masukkan list bahan yang ingin dikombinasikan\n",
    "list_bahan = {'Kopi Long Black','Creamy Foam','Gula 200 Gram','Caramel','Salt','Boba'}"
   ]
  },
  {
   "cell_type": "code",
   "execution_count": 24,
   "metadata": {},
   "outputs": [],
   "source": [
    "# Masukkan jumlah bahan yang ingin dikombinasikan\n",
    "jumlah_kombinasi = 4"
   ]
  },
  {
   "cell_type": "code",
   "execution_count": 34,
   "metadata": {},
   "outputs": [],
   "source": [
    "comb = combinations(list_bahan, jumlah_kombinasi)"
   ]
  },
  {
   "cell_type": "code",
   "execution_count": 31,
   "metadata": {},
   "outputs": [
    {
     "data": {
      "text/plain": [
       "15"
      ]
     },
     "execution_count": 31,
     "metadata": {},
     "output_type": "execute_result"
    }
   ],
   "source": [
    "len(list(comb))"
   ]
  },
  {
   "cell_type": "code",
   "execution_count": 35,
   "metadata": {},
   "outputs": [
    {
     "name": "stdout",
     "output_type": "stream",
     "text": [
      "('Creamy Foam', 'Gula 200 Gram', 'Caramel', 'Kopi Long Black')\n",
      "('Creamy Foam', 'Gula 200 Gram', 'Caramel', 'Salt')\n",
      "('Creamy Foam', 'Gula 200 Gram', 'Caramel', 'Boba')\n",
      "('Creamy Foam', 'Gula 200 Gram', 'Kopi Long Black', 'Salt')\n",
      "('Creamy Foam', 'Gula 200 Gram', 'Kopi Long Black', 'Boba')\n",
      "('Creamy Foam', 'Gula 200 Gram', 'Salt', 'Boba')\n",
      "('Creamy Foam', 'Caramel', 'Kopi Long Black', 'Salt')\n",
      "('Creamy Foam', 'Caramel', 'Kopi Long Black', 'Boba')\n",
      "('Creamy Foam', 'Caramel', 'Salt', 'Boba')\n",
      "('Creamy Foam', 'Kopi Long Black', 'Salt', 'Boba')\n",
      "('Gula 200 Gram', 'Caramel', 'Kopi Long Black', 'Salt')\n",
      "('Gula 200 Gram', 'Caramel', 'Kopi Long Black', 'Boba')\n",
      "('Gula 200 Gram', 'Caramel', 'Salt', 'Boba')\n",
      "('Gula 200 Gram', 'Kopi Long Black', 'Salt', 'Boba')\n",
      "('Caramel', 'Kopi Long Black', 'Salt', 'Boba')\n"
     ]
    }
   ],
   "source": [
    "# Menampilkan hasil kombinasi \n",
    "# code ini tidak perlu dihafal\n",
    "for i in list(comb):\n",
    "    print(i)"
   ]
  },
  {
   "cell_type": "markdown",
   "metadata": {},
   "source": [
    "Terdapat 15 kombinasi bahan yang dapat diuji"
   ]
  },
  {
   "cell_type": "markdown",
   "metadata": {},
   "source": [
    "-------\n",
    "**Soal 2**:<br>\n",
    "Jika hanya tiga bahan yang dibutuhkan, berapa banyak eksperimen yang dilakukan. kemudian hitunglah berapa cost untuk percobaan kedua ini jika setiap eksperimen membutuhkan cost Rp. 150.000"
   ]
  },
  {
   "cell_type": "code",
   "execution_count": 36,
   "metadata": {},
   "outputs": [],
   "source": [
    "# Masukkan jumlah bahan yang ingin dikombinasikan\n",
    "jumlah_kombinasi = 3"
   ]
  },
  {
   "cell_type": "code",
   "execution_count": 40,
   "metadata": {},
   "outputs": [],
   "source": [
    "comb = combinations(list_bahan, jumlah_kombinasi)"
   ]
  },
  {
   "cell_type": "code",
   "execution_count": 38,
   "metadata": {},
   "outputs": [
    {
     "data": {
      "text/plain": [
       "20"
      ]
     },
     "execution_count": 38,
     "metadata": {},
     "output_type": "execute_result"
    }
   ],
   "source": [
    "len(list(comb))"
   ]
  },
  {
   "cell_type": "code",
   "execution_count": 41,
   "metadata": {},
   "outputs": [
    {
     "name": "stdout",
     "output_type": "stream",
     "text": [
      "('Creamy Foam', 'Gula 200 Gram', 'Caramel')\n",
      "('Creamy Foam', 'Gula 200 Gram', 'Kopi Long Black')\n",
      "('Creamy Foam', 'Gula 200 Gram', 'Salt')\n",
      "('Creamy Foam', 'Gula 200 Gram', 'Boba')\n",
      "('Creamy Foam', 'Caramel', 'Kopi Long Black')\n",
      "('Creamy Foam', 'Caramel', 'Salt')\n",
      "('Creamy Foam', 'Caramel', 'Boba')\n",
      "('Creamy Foam', 'Kopi Long Black', 'Salt')\n",
      "('Creamy Foam', 'Kopi Long Black', 'Boba')\n",
      "('Creamy Foam', 'Salt', 'Boba')\n",
      "('Gula 200 Gram', 'Caramel', 'Kopi Long Black')\n",
      "('Gula 200 Gram', 'Caramel', 'Salt')\n",
      "('Gula 200 Gram', 'Caramel', 'Boba')\n",
      "('Gula 200 Gram', 'Kopi Long Black', 'Salt')\n",
      "('Gula 200 Gram', 'Kopi Long Black', 'Boba')\n",
      "('Gula 200 Gram', 'Salt', 'Boba')\n",
      "('Caramel', 'Kopi Long Black', 'Salt')\n",
      "('Caramel', 'Kopi Long Black', 'Boba')\n",
      "('Caramel', 'Salt', 'Boba')\n",
      "('Kopi Long Black', 'Salt', 'Boba')\n"
     ]
    }
   ],
   "source": [
    "# Menampilkan hasil kombinasi \n",
    "# code ini tidak perlu dihafal\n",
    "for i in list(comb):\n",
    "    print(i)"
   ]
  },
  {
   "cell_type": "code",
   "execution_count": 10,
   "metadata": {},
   "outputs": [],
   "source": [
    "# set nilai n_eksperimen sebagai variabel tempat menyimpan banyak eksperimen.\n",
    "n_eksperimen = 20\n",
    "\n",
    "cost_per_eksperimen = 150000\n",
    "total_cost = n_eksperimen * cost_per_eksperimen"
   ]
  },
  {
   "cell_type": "code",
   "execution_count": 11,
   "metadata": {},
   "outputs": [
    {
     "data": {
      "text/plain": [
       "3000000"
      ]
     },
     "execution_count": 11,
     "metadata": {},
     "output_type": "execute_result"
    }
   ],
   "source": [
    "total_cost"
   ]
  },
  {
   "cell_type": "code",
   "execution_count": 12,
   "metadata": {},
   "outputs": [
    {
     "name": "stdout",
     "output_type": "stream",
     "text": [
      "---\n",
      "Cost yang diperlukan untuk melakukan 20 eksperimen adalah Rp 3000000\n"
     ]
    }
   ],
   "source": [
    "print(\"---\")\n",
    "print(f\"Cost yang diperlukan untuk melakukan {n_eksperimen} eksperimen adalah Rp {total_cost}\")"
   ]
  },
  {
   "cell_type": "markdown",
   "metadata": {},
   "source": [
    "--------\n",
    "**Soal 3**:<br>\n",
    "Berdasarkan riset, Boba dan Kopi merupakan bahan yang sangat disukai sehingga di setiap eksperimen kedua bahan tersebut harus disertakan.\n",
    "\n",
    "Berapa eksperimen yang diperlukan jika Boba dan Kopi selalu diikutkan dalam setiap eksperimen dan hitunglah cost dari product development ini jika, setiap eksperimen memerlukan biaya Rp. 125.000"
   ]
  },
  {
   "cell_type": "code",
   "execution_count": null,
   "metadata": {},
   "outputs": [],
   "source": [
    "# # List bahan-bahan yang ada\n",
    "# list_bahan = {'Kopi','Foam','Sugar','Caramel','Salt','Boba'}"
   ]
  },
  {
   "cell_type": "code",
   "execution_count": 42,
   "metadata": {},
   "outputs": [],
   "source": [
    "# List bahan wajib yang harus ada dalam tiap eksperimen\n",
    "bahan_wajib = {'Kopi Long Black', 'Boba'}"
   ]
  },
  {
   "cell_type": "code",
   "execution_count": 46,
   "metadata": {},
   "outputs": [],
   "source": [
    "# Masukkan jumlah bahan yang ingin dikombinasikan\n",
    "jumlah_kombinasi = 4"
   ]
  },
  {
   "cell_type": "code",
   "execution_count": 45,
   "metadata": {},
   "outputs": [],
   "source": [
    "comb = combinations(list_bahan, jumlah_kombinasi)"
   ]
  },
  {
   "cell_type": "code",
   "execution_count": 47,
   "metadata": {},
   "outputs": [
    {
     "name": "stdout",
     "output_type": "stream",
     "text": [
      "('Creamy Foam', 'Gula 200 Gram', 'Caramel', 'Kopi Long Black')\n",
      "('Creamy Foam', 'Gula 200 Gram', 'Caramel', 'Salt')\n",
      "('Creamy Foam', 'Gula 200 Gram', 'Caramel', 'Boba')\n",
      "('Creamy Foam', 'Gula 200 Gram', 'Kopi Long Black', 'Salt')\n",
      "('Creamy Foam', 'Gula 200 Gram', 'Kopi Long Black', 'Boba')\n",
      "('Creamy Foam', 'Gula 200 Gram', 'Salt', 'Boba')\n",
      "('Creamy Foam', 'Caramel', 'Kopi Long Black', 'Salt')\n",
      "('Creamy Foam', 'Caramel', 'Kopi Long Black', 'Boba')\n",
      "('Creamy Foam', 'Caramel', 'Salt', 'Boba')\n",
      "('Creamy Foam', 'Kopi Long Black', 'Salt', 'Boba')\n",
      "('Gula 200 Gram', 'Caramel', 'Kopi Long Black', 'Salt')\n",
      "('Gula 200 Gram', 'Caramel', 'Kopi Long Black', 'Boba')\n",
      "('Gula 200 Gram', 'Caramel', 'Salt', 'Boba')\n",
      "('Gula 200 Gram', 'Kopi Long Black', 'Salt', 'Boba')\n",
      "('Caramel', 'Kopi Long Black', 'Salt', 'Boba')\n"
     ]
    }
   ],
   "source": [
    "# Menampilkan hasil kombinasi \n",
    "# code ini tidak perlu dihafal\n",
    "for i in list(comb):\n",
    "    print (i) "
   ]
  },
  {
   "cell_type": "code",
   "execution_count": 18,
   "metadata": {},
   "outputs": [],
   "source": [
    "# set nilai n_eksperimen sebagai variabel tempat menyimpan banyak eksperimen dimana mengandung bahan wajib.\n",
    "n_eksperimen = 6"
   ]
  },
  {
   "cell_type": "code",
   "execution_count": 19,
   "metadata": {},
   "outputs": [],
   "source": [
    "# Hitung total cost yang dibutuhkan\n",
    "cost_per_eksperimen = 125000\n",
    "total_cost = n_eksperimen * cost_per_eksperimen"
   ]
  },
  {
   "cell_type": "code",
   "execution_count": 20,
   "metadata": {},
   "outputs": [
    {
     "data": {
      "text/plain": [
       "750000"
      ]
     },
     "execution_count": 20,
     "metadata": {},
     "output_type": "execute_result"
    }
   ],
   "source": [
    "total_cost"
   ]
  },
  {
   "cell_type": "code",
   "execution_count": 21,
   "metadata": {},
   "outputs": [
    {
     "name": "stdout",
     "output_type": "stream",
     "text": [
      "---\n",
      "Cost yang diperlukan untuk melakukan 6 eksperimen adalah Rp 750000\n"
     ]
    }
   ],
   "source": [
    "print(\"---\")\n",
    "print(f\"Cost yang diperlukan untuk melakukan {n_eksperimen} eksperimen adalah Rp {total_cost}\")"
   ]
  }
 ],
 "metadata": {
  "kernelspec": {
   "display_name": "pacmann_env",
   "language": "python",
   "name": "python3"
  },
  "language_info": {
   "codemirror_mode": {
    "name": "ipython",
    "version": 3
   },
   "file_extension": ".py",
   "mimetype": "text/x-python",
   "name": "python",
   "nbconvert_exporter": "python",
   "pygments_lexer": "ipython3",
   "version": "3.9.1"
  }
 },
 "nbformat": 4,
 "nbformat_minor": 2
}
