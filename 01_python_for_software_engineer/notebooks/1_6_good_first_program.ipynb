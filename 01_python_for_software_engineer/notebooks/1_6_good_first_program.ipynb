{
 "cells": [
  {
   "cell_type": "markdown",
   "metadata": {},
   "source": [
    "# **Pertemuan #1 - A Good First Program**\n",
    "Python Course - Sekolah Data - Pacmann Academy"
   ]
  },
  {
   "cell_type": "markdown",
   "metadata": {},
   "source": [
    "## **Outline**\n",
    "\n",
    "1. Printing\n",
    "2. Variabel\n",
    "3. More Printing\n",
    "4. Commenting\n",
    "5. Error and How to Solve!"
   ]
  },
  {
   "cell_type": "markdown",
   "metadata": {},
   "source": [
    "### **Printing**\n",
    "**Case Study 1**\n",
    "- Sebagai pengalaman ngoding awal, kita bisa menampilkan sesuatu lewat Python.\n",
    "- Kita dapat menampilkan text maupun angka menggunakan perintah print pada Python.\n",
    "- Caranya ialah dengan menggunakan perintah print melalui syntax di bawah ini:\n",
    "```python\n",
    "print(\"<TEXT YANG INGIN DITAMPILKAN>\")\n",
    "```\n",
    "```python\n",
    "print(<ANGKA YANG INGIN DITAMPILKAN>)\n",
    "```\n",
    "- Ketika kita ingin menampilkan atau print angka yang berjumlah besar, kita bisa menggunakan [underscore](https://stackoverflow.com/questions/54009778/what-do-underscores-in-a-number-mean) `(_)` untuk mempermudah orang lain atau kita sendiri ketika membaca code kita (human readable)\n",
    "\n",
    "Semisal kita ingin mengeluarkan angka 100.000.000 maka akan seperti berikut\n",
    "```python\n",
    "print(100_000_000)\n",
    "```"
   ]
  },
  {
   "cell_type": "markdown",
   "metadata": {},
   "source": [
    "#### **1a**\n",
    "Misalkan kita ingin menampilkan kalimat Halo Dunia!\n"
   ]
  },
  {
   "cell_type": "code",
   "execution_count": 1,
   "metadata": {},
   "outputs": [
    {
     "name": "stdout",
     "output_type": "stream",
     "text": [
      "Halo Dunia!\n"
     ]
    }
   ],
   "source": [
    "print(\"Halo Dunia!\")"
   ]
  },
  {
   "cell_type": "markdown",
   "metadata": {},
   "source": [
    "<details>\n",
    "    <summary><b>Klik untuk melihat kunci jawaban</b></summary>\n",
    "\n",
    "```python\n",
    "print(\"Halo Dunia!\")\n",
    "```\n",
    "\n",
    "</details>\n",
    "\n",
    "---"
   ]
  }
 ],
 "metadata": {
  "kernelspec": {
   "display_name": "pacmann_env",
   "language": "python",
   "name": "python3"
  },
  "language_info": {
   "codemirror_mode": {
    "name": "ipython",
    "version": 3
   },
   "file_extension": ".py",
   "mimetype": "text/x-python",
   "name": "python",
   "nbconvert_exporter": "python",
   "pygments_lexer": "ipython3",
   "version": "3.9.1"
  }
 },
 "nbformat": 4,
 "nbformat_minor": 2
}
