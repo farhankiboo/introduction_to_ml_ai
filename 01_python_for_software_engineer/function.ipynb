{
 "cells": [
  {
   "cell_type": "markdown",
   "metadata": {},
   "source": [
    "CASE I : Penghasilan Pegawai \n",
    "Disuatu perusahaan tempat anda bekerja, anda diminta untuk membuat fungsi yang dapat mengetahui penghasilan yang didapat seorang pegawai dalam sebulan di suatu perusahaan berdasarkan kategori pegawai dan berapa jam lembur yang dilakukan. Ketentuan yang diminta sebagai berikut :"
   ]
  },
  {
   "cell_type": "markdown",
   "metadata": {},
   "source": [
    "Buatlah sebuah fungsi penghasilan_pegawai yang dapat menampung input dari user yang berisi apakah user merupakan pegawai Tetap / Kontrak dan berapa jumlah jam lembur yang dilakukan oleh user.\n",
    "\n",
    "🔽 Ketika program dijalankan, akan menghasilkan 🔽\n",
    " Kategori Pegawai (Tetap/Kontrak) :\n",
    " Berapa jam lembur :"
   ]
  },
  {
   "cell_type": "code",
   "execution_count": 2,
   "metadata": {},
   "outputs": [],
   "source": [
    "def penghasilan_pegawai():\n",
    "    kategori = input(\"Masukan Kategori Pegawai:\")\n",
    "    lembur = int(input(\"Jam Lembur:\"))"
   ]
  },
  {
   "cell_type": "code",
   "execution_count": 4,
   "metadata": {},
   "outputs": [],
   "source": [
    "penghasilan_pegawai()"
   ]
  }
 ],
 "metadata": {
  "kernelspec": {
   "display_name": "djenv",
   "language": "python",
   "name": "djenv"
  },
  "language_info": {
   "codemirror_mode": {
    "name": "ipython",
    "version": 3
   },
   "file_extension": ".py",
   "mimetype": "text/x-python",
   "name": "python",
   "nbconvert_exporter": "python",
   "pygments_lexer": "ipython3",
   "version": "3.9.1"
  }
 },
 "nbformat": 4,
 "nbformat_minor": 2
}
